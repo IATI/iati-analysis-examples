{
  "cells": [
    {
      "cell_type": "markdown",
      "metadata": {
        "deepnote_app_block_order": 0,
        "deepnote_app_block_visible": true,
        "deepnote_app_block_group_id": null,
        "cell_id": "d9daf0c003d243069c90d7bc4c276700",
        "deepnote_cell_type": "markdown"
      },
      "source": "# Project to explore document-links in IATI data",
      "block_group": "1b7d4161f926445693632bc69bc78ad0"
    },
    {
      "cell_type": "markdown",
      "metadata": {
        "deepnote_app_block_order": 1,
        "deepnote_app_block_visible": true,
        "deepnote_app_block_group_id": null,
        "cell_id": "9299e6ba6811403785c909162935fb81",
        "deepnote_cell_type": "markdown"
      },
      "source": "# Description\n\nIATI data contains a document-links element in both the organisation and activity schemas. Reporting organisations can populate these with links to different categories of supporting documents published online in a variety of formats and languages. It also checks what lies at the end of the links\n\nThis project explores the publication of document-links in the IATI corpus and provides an interactive section at the end where the 15 organisations that report the most document-links can be summarised.\n",
      "block_group": "98c5dd82b9794cc79a4a9847dd0c9a72"
    },
    {
      "cell_type": "markdown",
      "metadata": {
        "cell_id": "a59a64f9699f4cf09a5333dc894269b3",
        "deepnote_cell_type": "markdown"
      },
      "source": "This project consists of the following sections:\n\n- Preparation: where a complete corpus of document-links data is downloaded from IATI Tables and merged \n- Analysis: where a subset of unique (by reporting organisation and URL) document-links created and analysed \n- Examine: where one of the fifteen most prolific publishers of documant-links can be selected and their publication is summarised\n- Availability - where the URL of each document is sent a HEAD request, and the response recorded. Redirections are followed.\n",
      "block_group": "0cefef8812754528bae90246a01fa282"
    },
    {
      "cell_type": "markdown",
      "metadata": {
        "cell_id": "16dee8b78d32468887d32ab3582547d8",
        "deepnote_cell_type": "markdown"
      },
      "source": "# Preparation",
      "block_group": "fd5c05dcd46341fd8d0d7e394d92b4cc"
    },
    {
      "cell_type": "markdown",
      "metadata": {
        "cell_id": "348256982ca54efe804ea86330c5c771",
        "deepnote_cell_type": "markdown"
      },
      "source": "## Set up\n\nImport the libraries used in the notebook and connect to https://iati-tables.codeforiati.org/  to pull data.",
      "block_group": "556e8d2bb8ee448b8939a63e52781014"
    },
    {
      "cell_type": "code",
      "metadata": {
        "source_hash": "b63f3c84",
        "execution_start": 1750766515481,
        "execution_millis": 1287,
        "execution_context_id": "7592b70b-482e-4e0c-8709-d6d705166c91",
        "deepnote_app_is_code_hidden": true,
        "cell_id": "65f9191f8e894320890c7186815d11b3",
        "deepnote_cell_type": "code"
      },
      "source": "import seaborn as sns\nimport pandas as pd\nimport numpy as np\nimport requests\nfrom datetime import datetime\nimport matplotlib.pyplot as plt\nimport matplotlib.patches as mpatches\nfrom collections import Counter\nimport aiohttp\nimport asyncio\nimport nest_asyncio\nfrom tqdm.notebook import tqdm\nimport os\nimport concurrent.futures\nimport re\nimport random\nimport time\nfrom datetime import datetime\n\nsns.set_context('notebook')\n\n#start noteql session\nimport noteql\n# Restart postgres to make sure any existing connections get dropped\n!sudo service postgresql restart\nsession = noteql.Session(datasette_url='https://datasette.tables.iatistandard.org/iati.json', connect_args={'connect_timeout': 1000})",
      "block_group": "9515870a3f4e41a0a65e667f1aee2d9b",
      "execution_count": 1,
      "outputs": [],
      "outputs_reference": null,
      "content_dependencies": null
    },
    {
      "cell_type": "code",
      "metadata": {
        "source_hash": "dd195d",
        "execution_start": 1750766516831,
        "execution_millis": 1,
        "is_output_hidden": true,
        "execution_context_id": "7592b70b-482e-4e0c-8709-d6d705166c91",
        "deepnote_app_is_code_hidden": true,
        "deepnote_app_is_output_hidden": true,
        "cell_id": "9eab5f9d6b654f378314b19f8ad9086b",
        "deepnote_cell_type": "code"
      },
      "source": "# Creates a variable holding the datetime when we last started running the notebook. Similar to datetime when data was accessed\nlast_run_start_time = datetime.today().strftime('%Y-%m-%d %H:%M:%S')\nlast_run_start_time",
      "block_group": "875c1ff7aa1e4933a058a918371d9a7b",
      "execution_count": 2,
      "outputs": [],
      "outputs_reference": null,
      "content_dependencies": null
    },
    {
      "cell_type": "markdown",
      "metadata": {
        "cell_id": "cef83f20441f41128ca889ec7cb706af",
        "deepnote_cell_type": "markdown"
      },
      "source": "## Downloads\n\nThere are seven places in the IATI Standard where document-links can be declared: at activity level, organisation level and in five different places within the results element. Each of these has its own table in IATI Tables. These tables are downloaded in their entirity. An additional 'source' column is added to hold the name of the table the link was accessed from for later analysis.\n\nOrganisation data downloaded from the Registry is also loaded into a DataFrame to enhance the organisation documents DataFrame and make its structure consistent with the other document-links DataFrames.",
      "block_group": "9f80991582e441b6ac3af1faa4805ae6"
    },
    {
      "cell_type": "markdown",
      "metadata": {
        "cell_id": "69f3d9c1846949f1bcb47047280df0f2",
        "deepnote_cell_type": "markdown"
      },
      "source": "### Download the documentlink table in its entirity\nThis block uses pagination by fetching data in parallel chunks to retrieve all documentlinks, including duplicated urls.",
      "block_group": "f87592959e8d482cab33526875444f12"
    },
    {
      "cell_type": "code",
      "metadata": {
        "source_hash": "fbd357e7",
        "execution_start": 1750783658401,
        "execution_millis": 74649,
        "execution_context_id": "7592b70b-482e-4e0c-8709-d6d705166c91",
        "deepnote_app_is_code_hidden": true,
        "cell_id": "8ea02519b1834fc98d447009d685a63d",
        "deepnote_cell_type": "code"
      },
      "source": "datasette_url = 'https://datasette.tables.iatistandard.org'\ncount_url = f\"{datasette_url}/iati.json?sql=SELECT+Count(*)+AS+TOTAL+FROM+documentlink\"\nresponse = requests.get(count_url)\ntotal_count = response.json()['rows'][0][0] if response.status_code == 200. else None\nprint(f\"Total rows to fetch:{total_count}\")\n\n\ndef fetch_chunk(start_offset, size):\n    query_url = f\"{datasette_url}/iati.json?sql=SELECT+*+FROM+documentlink+LIMIT+{size}+OFFSET+{start_offset}\"\n    response = requests.get(query_url, timeout=120)\n    if response.status_code == 200:\n        return response.json()['rows']\n    return []\n\n# Set up chunks\nchunk_size = 20000\noffsets = list(range(0, total_count, chunk_size))\n\n# Process in parallel\nall_data = []\nwith concurrent.futures.ThreadPoolExecutor(max_workers=4) as executor:\n    future_to_offset = {executor.submit(fetch_chunk, offset, chunk_size): offset for offset in offsets}\n    for future in tqdm(concurrent.futures.as_completed(future_to_offset), total=len(offsets)):\n        offset = future_to_offset[future]\n        try:\n            data = future.result()\n            all_data.extend(data)\n        except Exception as e:\n            print(f\"Error with offset {offset}: {e}\")",
      "block_group": "0800f058721a423fb7f4b6e3ac98ad84",
      "execution_count": 141,
      "outputs": [],
      "outputs_reference": null,
      "content_dependencies": null
    },
    {
      "cell_type": "code",
      "metadata": {
        "source_hash": "840f404f",
        "execution_start": 1750783769751,
        "execution_millis": 259,
        "execution_context_id": "7592b70b-482e-4e0c-8709-d6d705166c91",
        "deepnote_app_is_code_hidden": true,
        "cell_id": "f193136eb7874e448996213f679f6408",
        "deepnote_cell_type": "code"
      },
      "source": "if all_data:\n    column_url = f\"{datasette_url}/iati.json?sql=SELECT+*+FROM+documentlink+LIMIT+1\"\n    column_response = requests.get(column_url)\n    columns = column_response.json()['columns']",
      "block_group": "d01a382ae22d44f0ab21bdf3750edff7",
      "execution_count": 144,
      "outputs": [],
      "outputs_reference": null,
      "content_dependencies": null
    },
    {
      "cell_type": "code",
      "metadata": {
        "source_hash": "7b9af3c0",
        "execution_start": 1750783780999,
        "execution_millis": 1241,
        "execution_context_id": "7592b70b-482e-4e0c-8709-d6d705166c91",
        "deepnote_app_is_code_hidden": true,
        "cell_id": "5588aa140c3240249a38aa5fc5efae81",
        "deepnote_cell_type": "code"
      },
      "source": "df_activity_documents = pd.DataFrame(all_data, columns=columns)\ndf_activity_documents",
      "block_group": "1ae70a95ad6743c68281485e6e4af1ce",
      "execution_count": 147,
      "outputs": [],
      "outputs_reference": null,
      "content_dependencies": null
    },
    {
      "cell_type": "code",
      "metadata": {
        "source_hash": "f028bbb7",
        "execution_start": 1750783807971,
        "execution_millis": 1489,
        "deepnote_table_state": {
          "sortBy": [],
          "filters": [],
          "pageSize": 5,
          "pageIndex": 0,
          "columnOrder": [
            "dataset",
            "_link",
            "_link_activity",
            "prefix",
            "iatiidentifier",
            "reportingorg_ref",
            "url",
            "format",
            "formatname",
            "title",
            "title_narrative",
            "description_narrative",
            "category",
            "language",
            "documentdate_isodate",
            "akvo:photocredit",
            "akvo:photoid",
            "title_lang",
            "source"
          ],
          "hiddenColumnIds": [],
          "columnDisplayNames": [],
          "conditionalFilters": [],
          "cellFormattingRules": [],
          "wrappedTextColumnIds": []
        },
        "execution_context_id": "7592b70b-482e-4e0c-8709-d6d705166c91",
        "deepnote_table_loading": false,
        "deepnote_app_is_code_hidden": true,
        "cell_id": "09c1103f7f3a4d4f81c929d3922a2258",
        "deepnote_cell_type": "code"
      },
      "source": "## Add a new column, 'source' with a default value of 'documentlink'.\ndf_activity_documents = df_activity_documents.assign(source='activity')\ndf_activity_documents",
      "block_group": "ed763d4a724c4fe094742c1db768efd8",
      "execution_count": 150,
      "outputs": [],
      "outputs_reference": null,
      "content_dependencies": null
    },
    {
      "cell_type": "code",
      "metadata": {
        "source_hash": "97526f1",
        "execution_start": 1750783809543,
        "execution_millis": 3894,
        "deepnote_table_state": {
          "sortBy": [
            {
              "id": "dataset",
              "type": "desc"
            }
          ],
          "filters": [],
          "pageSize": 10,
          "pageIndex": 0,
          "columnOrder": [
            "dataset",
            "_link",
            "_link_activity",
            "prefix",
            "iatiidentifier",
            "reportingorg_ref",
            "format",
            "formatname",
            "title",
            "title_narrative",
            "description_narrative",
            "category",
            "language",
            "documentdate_isodate",
            "akvo:photocredit",
            "akvo:photoid",
            "title_lang",
            "source"
          ],
          "hiddenColumnIds": [],
          "columnDisplayNames": [],
          "conditionalFilters": [],
          "cellFormattingRules": [],
          "wrappedTextColumnIds": []
        },
        "execution_context_id": "7592b70b-482e-4e0c-8709-d6d705166c91",
        "deepnote_table_loading": false,
        "deepnote_app_is_code_hidden": true,
        "cell_id": "3be5514c83f448cb811fc5aa6888b6a8",
        "deepnote_cell_type": "code"
      },
      "source": "## Which document-links are published the most in activity files?\ndf_activity_documents.groupby(['url']).count()",
      "block_group": "082bf2aa34de4e958885ab942d0be90d",
      "execution_count": 151,
      "outputs": [],
      "outputs_reference": null,
      "content_dependencies": null
    },
    {
      "cell_type": "markdown",
      "metadata": {
        "cell_id": "a2412f211c3e43198ef3d73739b2a07c",
        "deepnote_cell_type": "markdown"
      },
      "source": "### Download the organisation_documentlink table in its entirity",
      "block_group": "012448a640a84314ae1816ba942e5046"
    },
    {
      "cell_type": "code",
      "metadata": {
        "source_hash": "e40836f4",
        "execution_start": 1750783813501,
        "execution_millis": 1995,
        "execution_context_id": "7592b70b-482e-4e0c-8709-d6d705166c91",
        "deepnote_app_is_code_hidden": true,
        "cell_id": "ecd2d43a01a4493cb5482a5758aae057",
        "deepnote_cell_type": "code"
      },
      "source": "%%nql SHOW df_org_documents=DF\nselect * from organisation_documentlink",
      "block_group": "b1865bd616d54803bd699731c59089f0",
      "execution_count": 152,
      "outputs": [],
      "outputs_reference": null,
      "content_dependencies": null
    },
    {
      "cell_type": "code",
      "metadata": {
        "source_hash": "cf65541e",
        "execution_start": 1750783815541,
        "execution_millis": 28,
        "deepnote_table_state": {
          "sortBy": [],
          "filters": [],
          "pageSize": 5,
          "pageIndex": 0,
          "columnOrder": [
            "dataset",
            "_link",
            "_link_organisation",
            "prefix",
            "description_narrative",
            "documentdate_isodate",
            "format",
            "formatname",
            "language",
            "title_narrative",
            "url",
            "source"
          ],
          "hiddenColumnIds": [],
          "columnDisplayNames": [],
          "conditionalFilters": [],
          "cellFormattingRules": [],
          "wrappedTextColumnIds": []
        },
        "execution_context_id": "7592b70b-482e-4e0c-8709-d6d705166c91",
        "deepnote_table_loading": false,
        "deepnote_app_is_code_hidden": true,
        "cell_id": "53996409673a4fd090326dc7ca2e59a5",
        "deepnote_cell_type": "code"
      },
      "source": "## Add a new column, 'source' with a default value of 'organisation'.\ndf_org_documents = df_org_documents.assign(source='organisation')\ndf_org_documents",
      "block_group": "1b3147c4edc640928a258a2aedc97a28",
      "execution_count": 153,
      "outputs": [],
      "outputs_reference": null,
      "content_dependencies": null
    },
    {
      "cell_type": "code",
      "metadata": {
        "source_hash": "c57a40eb",
        "execution_start": 1750783815621,
        "execution_millis": 8,
        "deepnote_table_state": {
          "sortBy": [
            {
              "id": "dataset",
              "type": "desc"
            }
          ],
          "filters": [],
          "pageSize": 10,
          "pageIndex": 0,
          "columnOrder": [
            "dataset",
            "_link",
            "_link_organisation",
            "prefix",
            "description_narrative",
            "documentdate_isodate",
            "format",
            "formatname",
            "language",
            "title_narrative"
          ],
          "hiddenColumnIds": [],
          "columnDisplayNames": [],
          "conditionalFilters": [],
          "cellFormattingRules": [],
          "wrappedTextColumnIds": []
        },
        "execution_context_id": "7592b70b-482e-4e0c-8709-d6d705166c91",
        "deepnote_table_loading": false,
        "deepnote_app_is_code_hidden": true,
        "cell_id": "37038fc4fe6e410fb3d038c2fa7f7757",
        "deepnote_cell_type": "code"
      },
      "source": "## Which document-links are published the most?\ndf_org_documents.groupby(['url']).count()",
      "block_group": "2d20df42beb0476fb082cbd8270a0688",
      "execution_count": 154,
      "outputs": [],
      "outputs_reference": null,
      "content_dependencies": null
    },
    {
      "cell_type": "markdown",
      "metadata": {
        "cell_id": "4156f5ad09944e919ba6ad57be015bd0",
        "deepnote_cell_type": "markdown"
      },
      "source": "### Download the result_documentlink table",
      "block_group": "d88e66a7fc1f42c3af3de458c2eb9393"
    },
    {
      "cell_type": "code",
      "metadata": {
        "source_hash": "1742e80f",
        "execution_start": 1750783815672,
        "execution_millis": 1549,
        "execution_context_id": "7592b70b-482e-4e0c-8709-d6d705166c91",
        "deepnote_app_is_code_hidden": true,
        "cell_id": "623bb33872bf46a0bf1939dfbab86d6a",
        "deepnote_cell_type": "code"
      },
      "source": "%%nql SHOW df_result_documentlink=DF\nselect * from result_documentlink",
      "block_group": "f685010bc2214e23a4475f0e49e27184",
      "execution_count": 155,
      "outputs": [],
      "outputs_reference": null,
      "content_dependencies": null
    },
    {
      "cell_type": "code",
      "metadata": {
        "source_hash": "b3303f23",
        "execution_start": 1750783817271,
        "execution_millis": 23,
        "execution_context_id": "7592b70b-482e-4e0c-8709-d6d705166c91",
        "deepnote_app_is_code_hidden": true,
        "cell_id": "f43294fdc7134ca3a4669657cefa1285",
        "deepnote_cell_type": "code"
      },
      "source": "## Add a new column, 'source' with a default value of 'result_documentlink'.\ndf_result_documentlink = df_result_documentlink.assign(source='result_documentlink')\ndf_result_documentlink",
      "block_group": "616567faac49410db13a7e46e6fa1674",
      "execution_count": 156,
      "outputs": [],
      "outputs_reference": null,
      "content_dependencies": null
    },
    {
      "cell_type": "code",
      "metadata": {
        "source_hash": "c0e865b3",
        "execution_start": 1750783817342,
        "execution_millis": 1,
        "deepnote_table_state": {
          "sortBy": [
            {
              "id": "dataset",
              "type": "desc"
            }
          ],
          "filters": [],
          "pageSize": 5,
          "pageIndex": 0,
          "columnOrder": [
            "dataset",
            "_link",
            "_link_activity",
            "_link_result",
            "prefix",
            "iatiidentifier",
            "reportingorg_ref",
            "description_narrative",
            "documentdate_isodate",
            "format",
            "formatname",
            "title_narrative",
            "source"
          ],
          "hiddenColumnIds": [],
          "columnDisplayNames": [],
          "conditionalFilters": [],
          "cellFormattingRules": [],
          "wrappedTextColumnIds": []
        },
        "execution_context_id": "7592b70b-482e-4e0c-8709-d6d705166c91",
        "deepnote_table_loading": false,
        "deepnote_app_is_code_hidden": true,
        "cell_id": "d1e6a222e04f41519d98387b744d7b2a",
        "deepnote_cell_type": "code"
      },
      "source": "## Which document-links are published the most in result_documentlink files?\ndf_result_documentlink.groupby(['url']).count()",
      "block_group": "0fcc472ffa494728ae2a6182c1299d59",
      "execution_count": 157,
      "outputs": [],
      "outputs_reference": null,
      "content_dependencies": null
    },
    {
      "cell_type": "markdown",
      "metadata": {
        "cell_id": "a2a5352c3f1741a6873b14ac59a914cb",
        "deepnote_cell_type": "markdown"
      },
      "source": "### Download the result_indicator_documentlink table",
      "block_group": "beb51168306b4f2d9b805c83ff398d95"
    },
    {
      "cell_type": "code",
      "metadata": {
        "source_hash": "bcb3b6e1",
        "execution_start": 1750783817401,
        "execution_millis": 2099,
        "execution_context_id": "7592b70b-482e-4e0c-8709-d6d705166c91",
        "deepnote_app_is_code_hidden": true,
        "cell_id": "0bab8f0b4b2a4897a0f8d0815e71e786",
        "deepnote_cell_type": "code"
      },
      "source": "%%nql SHOW df_result_indicator_documentlink=DF\nselect * from result_indicator_documentlink",
      "block_group": "c39a8615a65c45619140f20ae648d725",
      "execution_count": 158,
      "outputs": [],
      "outputs_reference": null,
      "content_dependencies": null
    },
    {
      "cell_type": "code",
      "metadata": {
        "source_hash": "af4a714d",
        "execution_start": 1750783819551,
        "execution_millis": 24,
        "execution_context_id": "7592b70b-482e-4e0c-8709-d6d705166c91",
        "deepnote_app_is_code_hidden": true,
        "cell_id": "f5de4df900fe4e7285482d41e6d60d7e",
        "deepnote_cell_type": "code"
      },
      "source": "## Add a new column, 'source' with a default value of 'result_indicator_documentlink'.\ndf_result_indicator_documentlink = df_result_indicator_documentlink.assign(source='result_indicator_documentlink')\ndf_result_indicator_documentlink",
      "block_group": "81f8a477fdae474e9b170393cd140845",
      "execution_count": 159,
      "outputs": [],
      "outputs_reference": null,
      "content_dependencies": null
    },
    {
      "cell_type": "code",
      "metadata": {
        "source_hash": "ce73e97b",
        "execution_start": 1750783819631,
        "execution_millis": 1,
        "deepnote_table_state": {
          "sortBy": [
            {
              "id": "dataset",
              "type": "desc"
            }
          ],
          "filters": [],
          "pageSize": 5,
          "pageIndex": 0,
          "columnOrder": [
            "dataset",
            "_link",
            "_link_activity",
            "_link_result",
            "_link_result_indicator",
            "prefix",
            "iatiidentifier",
            "reportingorg_ref",
            "description_narrative",
            "documentdate_isodate",
            "format",
            "formatname",
            "title_narrative",
            "source"
          ],
          "hiddenColumnIds": [],
          "columnDisplayNames": [],
          "conditionalFilters": [],
          "cellFormattingRules": [],
          "wrappedTextColumnIds": []
        },
        "execution_context_id": "7592b70b-482e-4e0c-8709-d6d705166c91",
        "deepnote_table_loading": false,
        "deepnote_app_is_code_hidden": true,
        "cell_id": "859409101f18486eb7064190e7d885e0",
        "deepnote_cell_type": "code"
      },
      "source": "## Which document-links are published the most in result_indicator_documentlink files?\ndf_result_indicator_documentlink.groupby(['url']).count()",
      "block_group": "af18f02247d44953800b7d5a76c2cb5c",
      "execution_count": 160,
      "outputs": [],
      "outputs_reference": null,
      "content_dependencies": null
    },
    {
      "cell_type": "markdown",
      "metadata": {
        "cell_id": "4103243d3e234d949a8f4be481e932c5",
        "deepnote_cell_type": "markdown"
      },
      "source": "### Download the result_indicator_baseline_documentlink table",
      "block_group": "ee79c0122e924a618fb1e578c7a21545"
    },
    {
      "cell_type": "code",
      "metadata": {
        "source_hash": "22b7a734",
        "execution_start": 1750783819691,
        "execution_millis": 401,
        "execution_context_id": "7592b70b-482e-4e0c-8709-d6d705166c91",
        "deepnote_app_is_code_hidden": true,
        "cell_id": "935c4f3cab994397ad18a2ab8895c23f",
        "deepnote_cell_type": "code"
      },
      "source": "%%nql SHOW df_result_indicator_baseline_documentlink=DF\nselect * from result_indicator_baseline_documentlink\n",
      "block_group": "bd59cd396175494aa4bc14a1fe94b8f6",
      "execution_count": 161,
      "outputs": [],
      "outputs_reference": null,
      "content_dependencies": null
    },
    {
      "cell_type": "code",
      "metadata": {
        "source_hash": "f70cd38b",
        "execution_start": 1750783820134,
        "execution_millis": 2,
        "deepnote_table_state": {
          "sortBy": [],
          "filters": [],
          "pageSize": 5,
          "pageIndex": 0,
          "columnOrder": [
            "dataset",
            "_link",
            "_link_activity",
            "_link_result",
            "_link_result_indicator",
            "_link_result_indicator_baseline",
            "prefix",
            "iatiidentifier",
            "reportingorg_ref",
            "description_narrative",
            "documentdate_isodate",
            "format",
            "formatname",
            "title_narrative",
            "url",
            "source"
          ],
          "hiddenColumnIds": [],
          "columnDisplayNames": [],
          "conditionalFilters": [],
          "cellFormattingRules": [],
          "wrappedTextColumnIds": []
        },
        "execution_context_id": "7592b70b-482e-4e0c-8709-d6d705166c91",
        "deepnote_table_loading": false,
        "deepnote_app_is_code_hidden": true,
        "cell_id": "4b673d7c0138499ca12e2bc682c621ec",
        "deepnote_cell_type": "code"
      },
      "source": "## Add a new column, 'source' with a default value of 'result_indicator_documentlink'.\ndf_result_indicator_baseline_documentlink = df_result_indicator_baseline_documentlink.assign(source='result_indicator_baseline_documentlink')\ndf_result_indicator_baseline_documentlink",
      "block_group": "407cfff4f0e345d78d8e8eb3699d4cc9",
      "execution_count": 162,
      "outputs": [],
      "outputs_reference": null,
      "content_dependencies": null
    },
    {
      "cell_type": "code",
      "metadata": {
        "source_hash": "37304cd4",
        "execution_start": 1750783820182,
        "execution_millis": 1,
        "deepnote_table_state": {
          "sortBy": [
            {
              "id": "dataset",
              "type": "desc"
            }
          ],
          "filters": [],
          "pageSize": 5,
          "pageIndex": 0,
          "columnOrder": [
            "dataset",
            "_link",
            "_link_activity",
            "_link_result",
            "_link_result_indicator",
            "_link_result_indicator_baseline",
            "prefix",
            "iatiidentifier",
            "reportingorg_ref",
            "description_narrative",
            "documentdate_isodate",
            "format",
            "formatname",
            "title_narrative"
          ],
          "hiddenColumnIds": [],
          "columnDisplayNames": [],
          "conditionalFilters": [],
          "cellFormattingRules": [],
          "wrappedTextColumnIds": []
        },
        "execution_context_id": "7592b70b-482e-4e0c-8709-d6d705166c91",
        "deepnote_table_loading": false,
        "deepnote_app_is_code_hidden": true,
        "cell_id": "e5f7442e25ee4b6595d3a5d28f3cfecf",
        "deepnote_cell_type": "code"
      },
      "source": "## Which document-links are published the most in result_indicator_baseline_documentlink files?\ndf_result_indicator_baseline_documentlink.groupby(['url']).count()",
      "block_group": "e3253a57cfbc48d9b42333a830c8e475",
      "execution_count": 163,
      "outputs": [],
      "outputs_reference": null,
      "content_dependencies": null
    },
    {
      "cell_type": "markdown",
      "metadata": {
        "cell_id": "88cf4cfdfc8147fb8a391f6fe93bc7c4",
        "deepnote_cell_type": "markdown"
      },
      "source": "### Download the result_indicator_period_actual_documentlink table",
      "block_group": "e817dcae209f49b1bfe8230f81193153"
    },
    {
      "cell_type": "code",
      "metadata": {
        "source_hash": "ad56619e",
        "execution_start": 1750783820241,
        "execution_millis": 476,
        "execution_context_id": "7592b70b-482e-4e0c-8709-d6d705166c91",
        "deepnote_app_is_code_hidden": true,
        "cell_id": "dfc56e7258104f378aeb104ee798b007",
        "deepnote_cell_type": "code"
      },
      "source": "%%nql SHOW df_result_indicator_period_actual_documentlink=DF\nselect * from result_indicator_period_actual_documentlink",
      "block_group": "149eab906ecb41c39ff846a2dcb7ad78",
      "execution_count": 164,
      "outputs": [],
      "outputs_reference": null,
      "content_dependencies": null
    },
    {
      "cell_type": "code",
      "metadata": {
        "source_hash": "9168d849",
        "execution_start": 1750783820771,
        "execution_millis": 2,
        "execution_context_id": "7592b70b-482e-4e0c-8709-d6d705166c91",
        "deepnote_app_is_code_hidden": true,
        "cell_id": "d1e47e52b91845ec9e1020dd8c807663",
        "deepnote_cell_type": "code"
      },
      "source": "## Add a new column, 'source' with a default value of 'result_indicator_period_actual_documentlink'.\ndf_result_indicator_period_actual_documentlink = df_result_indicator_period_actual_documentlink.assign(source='result_indicator_period_actual_documentlink')\ndf_result_indicator_period_actual_documentlink",
      "block_group": "4777426f67574fa58e885e1bce7c98d7",
      "execution_count": 165,
      "outputs": [],
      "outputs_reference": null,
      "content_dependencies": null
    },
    {
      "cell_type": "code",
      "metadata": {
        "source_hash": "df2ff8ce",
        "execution_start": 1750783820842,
        "execution_millis": 1,
        "deepnote_table_state": {
          "sortBy": [],
          "filters": [],
          "pageSize": 5,
          "pageIndex": 0,
          "columnOrder": [
            "dataset",
            "_link",
            "_link_activity",
            "_link_result",
            "_link_result_indicator",
            "_link_result_indicator_period",
            "_link_result_indicator_period_actual",
            "prefix",
            "iatiidentifier",
            "reportingorg_ref",
            "description_narrative",
            "documentdate_isodate",
            "format",
            "formatname",
            "title_narrative"
          ],
          "hiddenColumnIds": [],
          "columnDisplayNames": [],
          "conditionalFilters": [],
          "cellFormattingRules": [],
          "wrappedTextColumnIds": []
        },
        "execution_context_id": "7592b70b-482e-4e0c-8709-d6d705166c91",
        "deepnote_table_loading": false,
        "deepnote_app_is_code_hidden": true,
        "cell_id": "9801c262245f4865bf55e8e310e9aa74",
        "deepnote_cell_type": "code"
      },
      "source": "## Which document-links are published the most in result_indicator_period_actual_documentlink files?\ndf_result_indicator_period_actual_documentlink.groupby(['url']).count()",
      "block_group": "1fb02e30d3eb485aa1b7a0f3e1ea0336",
      "execution_count": 166,
      "outputs": [],
      "outputs_reference": null,
      "content_dependencies": null
    },
    {
      "cell_type": "markdown",
      "metadata": {
        "cell_id": "2372a23362ea442fb74070bfde50a46e",
        "deepnote_cell_type": "markdown"
      },
      "source": "### Download the result_indicator_period_target_documentlink table",
      "block_group": "f12d64fea4254b208e93ec9f5d844405"
    },
    {
      "cell_type": "code",
      "metadata": {
        "source_hash": "18407fab",
        "execution_start": 1750783820901,
        "execution_millis": 481,
        "execution_context_id": "7592b70b-482e-4e0c-8709-d6d705166c91",
        "deepnote_app_is_code_hidden": true,
        "cell_id": "d0af1e033d504b0c8fd8db473460956a",
        "deepnote_cell_type": "code"
      },
      "source": "%%nql SHOW df_result_indicator_period_target_documentlink=DF\nselect * from result_indicator_period_target_documentlink",
      "block_group": "352d773c8f664525a80eb85f8bca5628",
      "execution_count": 167,
      "outputs": [],
      "outputs_reference": null,
      "content_dependencies": null
    },
    {
      "cell_type": "code",
      "metadata": {
        "source_hash": "1ca56973",
        "execution_start": 1750783821431,
        "execution_millis": 1,
        "execution_context_id": "7592b70b-482e-4e0c-8709-d6d705166c91",
        "deepnote_app_is_code_hidden": true,
        "cell_id": "ab2f38e18cf94d219a0a94b632a315f3",
        "deepnote_cell_type": "code"
      },
      "source": "## Add a new column, 'source' with a default value of 'result_indicator_period_target_documentlink'.\ndf_result_indicator_period_target_documentlink = df_result_indicator_period_target_documentlink.assign(source='result_indicator_period_target_documentlink')\ndf_result_indicator_period_target_documentlink",
      "block_group": "bb2e1a5c584a47ce979093965b44b9ed",
      "execution_count": 168,
      "outputs": [],
      "outputs_reference": null,
      "content_dependencies": null
    },
    {
      "cell_type": "code",
      "metadata": {
        "source_hash": "35c41f4c",
        "execution_start": 1750783821482,
        "execution_millis": 0,
        "execution_context_id": "7592b70b-482e-4e0c-8709-d6d705166c91",
        "deepnote_app_is_code_hidden": true,
        "cell_id": "bafdbcf6ddf542abb4db8a9f44ec5ff8",
        "deepnote_cell_type": "code"
      },
      "source": "## Which document-links are published the most in result_indicator_period_target_documentlink files?\ndf_result_indicator_period_target_documentlink.groupby(['url']).count()",
      "block_group": "34803e028b2846a58654fde9bb2a5a69",
      "execution_count": 169,
      "outputs": [],
      "outputs_reference": null,
      "content_dependencies": null
    },
    {
      "cell_type": "markdown",
      "metadata": {
        "cell_id": "78d4e0e96b9643ca872c727b05ab2c8f",
        "deepnote_cell_type": "markdown"
      },
      "source": "### Download the organisation data from the IATI Registry \nCreate a DataFrame from the iati_publishers_list2025-04-11.csv list downloaded from the Registry. This should be rewritten when we update the registry so that it pulls the data live from the API, which doesn't return all the data we want at the moment.",
      "block_group": "e2b6ee998e7a4c5e881f1387e50ec7c5"
    },
    {
      "cell_type": "code",
      "metadata": {
        "source_hash": "64d28f8f",
        "execution_start": 1750783821531,
        "execution_millis": 119,
        "sql_integration_id": "deepnote-dataframe-sql",
        "deepnote_table_state": {
          "sortBy": [],
          "filters": [],
          "pageSize": 10,
          "pageIndex": 0,
          "columnOrder": [
            "Publisher",
            "IATI Organisation Identifier",
            "Organization Type",
            "HQ Country or Region",
            "Datasets Count",
            "Datasets Link"
          ],
          "hiddenColumnIds": [],
          "columnDisplayNames": [
            {
              "columnName": "IATI Organisation Identifier",
              "displayName": "reportingorg_ref"
            }
          ],
          "conditionalFilters": [],
          "cellFormattingRules": [],
          "wrappedTextColumnIds": []
        },
        "execution_context_id": "7592b70b-482e-4e0c-8709-d6d705166c91",
        "deepnote_table_loading": false,
        "deepnote_variable_name": "df_registry_organisations",
        "deepnote_app_is_code_hidden": true,
        "cell_id": "0ae2844a8c324ad3810ca24fa9adc9e6",
        "deepnote_cell_type": "sql",
        "deepnote_sql_source": "SELECT *\nFROM 'iati_publishers_list2025-04-11.csv'"
      },
      "source": "df_registry_organisations = _dntk.execute_sql(\n  'SELECT *\\nFROM \\'iati_publishers_list2025-04-11.csv\\'',\n  'SQL_DEEPNOTE_DATAFRAME_SQL',\n  audit_sql_comment='',\n  sql_cache_mode='cache_disabled',\n  return_variable_type='dataframe'\n)\ndf_registry_organisations",
      "block_group": "d1265d9ee04044e5b24309cdba79204b",
      "execution_count": 170,
      "outputs": [],
      "outputs_reference": null,
      "content_dependencies": null
    },
    {
      "cell_type": "code",
      "metadata": {
        "source_hash": "c9e8acec",
        "execution_start": 1750783821701,
        "execution_millis": 1,
        "execution_context_id": "7592b70b-482e-4e0c-8709-d6d705166c91",
        "deepnote_app_is_code_hidden": true,
        "cell_id": "181cad4a57dc49528c19841a60723a27",
        "deepnote_cell_type": "code"
      },
      "source": "## Rename the 'IATI Organisation Identifier' to 'reportingorg_ref' to match IATI Tables based DataFrames\ndf_registry_organisations = df_registry_organisations.rename(columns={'IATI Organisation Identifier': 'reportingorg_ref'})",
      "block_group": "277b8a706fb04063bfeb12af0885c571",
      "execution_count": 171,
      "outputs": [],
      "outputs_reference": null,
      "content_dependencies": null
    },
    {
      "cell_type": "markdown",
      "metadata": {
        "deepnote_app_block_visible": false,
        "cell_id": "0b8efec53aa04126aa7f84f7b17f7c97",
        "deepnote_cell_type": "markdown"
      },
      "source": "## Adding and Merging\nManipulate the DataFrames so they have a consistent structure.\n\nEnhance the df_org_documents DataFrame, adding a reportingorg_ref column by matching on the organisation data from the Registry. \n\nConcatenate this with df_activity_documents. Concatenate the results based DataFrames, dropping extraenous columns from the resulting DataFrame. Concatenate the two aggregate DataFrames.\n",
      "block_group": "f3756d7775184b2996cb90bf962b9340"
    },
    {
      "cell_type": "code",
      "metadata": {
        "source_hash": "eed01804",
        "execution_start": 1750783821751,
        "execution_millis": 956,
        "execution_context_id": "7592b70b-482e-4e0c-8709-d6d705166c91",
        "deepnote_app_is_code_hidden": true,
        "cell_id": "5313d5d5c23e463b869ed596c5fd4380",
        "deepnote_cell_type": "code"
      },
      "source": "## Delete the columns from df_activity_documents we won't be using. 'language' and 'category' are normalised so we drop them too\ndf_activity_documents = df_activity_documents.drop(columns=['akvo:photocredit', 'akvo:photoid', 'dataset', 'formatname', 'title', 'title_narrative','description_narrative', 'language', 'category'])\ndf_activity_documents.info()",
      "block_group": "342733fea57e4c49a939f12e011200a6",
      "execution_count": 172,
      "outputs": [],
      "outputs_reference": null,
      "content_dependencies": null
    },
    {
      "cell_type": "code",
      "metadata": {
        "source_hash": "a6f32509",
        "execution_start": 1750783822761,
        "execution_millis": 1,
        "execution_context_id": "7592b70b-482e-4e0c-8709-d6d705166c91",
        "deepnote_app_is_code_hidden": true,
        "cell_id": "99024e189eaf467e8c0df6e6820ae6d7",
        "deepnote_cell_type": "code"
      },
      "source": "## Delete the columns we won't be using from df_org_documents\ndf_org_documents = df_org_documents.drop(columns=['dataset', 'formatname', 'title_narrative','description_narrative', 'language'])\ndf_org_documents.info()",
      "block_group": "bc35ba538e654f75a66400182774b320",
      "execution_count": 173,
      "outputs": [],
      "outputs_reference": null,
      "content_dependencies": null
    },
    {
      "cell_type": "code",
      "metadata": {
        "source_hash": "fe0294a1",
        "execution_start": 1750783822821,
        "execution_millis": 1,
        "execution_context_id": "7592b70b-482e-4e0c-8709-d6d705166c91",
        "deepnote_app_is_code_hidden": true,
        "cell_id": "3e62263cf6d8495bb84913a218d697b7",
        "deepnote_cell_type": "code"
      },
      "source": "## Note: we need to add the reportingorg_ref to df_org_documents\ndf_activity_documents.columns.difference(df_org_documents.columns)",
      "block_group": "4f0fdb4bb32d47c8957b7fe8ae760ca6",
      "execution_count": 174,
      "outputs": [],
      "outputs_reference": null,
      "content_dependencies": null
    },
    {
      "cell_type": "code",
      "metadata": {
        "source_hash": "60ce7984",
        "execution_start": 1750783822891,
        "execution_millis": 1,
        "execution_context_id": "7592b70b-482e-4e0c-8709-d6d705166c91",
        "deepnote_app_is_code_hidden": true,
        "cell_id": "a942705e02254c30accefd785bffbb4f",
        "deepnote_cell_type": "code"
      },
      "source": "df_registry_organisations.info()",
      "block_group": "6767e33b4fc043e8a5989ccae24882d9",
      "execution_count": 175,
      "outputs": [],
      "outputs_reference": null,
      "content_dependencies": null
    },
    {
      "cell_type": "markdown",
      "metadata": {
        "deepnote_app_block_visible": false,
        "cell_id": "8515618a615d4288b88ae3315fb7a6cd",
        "deepnote_cell_type": "markdown"
      },
      "source": "The organisations downloaded from the Registry don't have a 'prefix' column, which we will need to match on the organisation documents DataFrame to add the reportingorg_ref column to df_org_documents\n\nDatasets Link in the df_registry_organisations DataFrame contains the prefix after the base link of 'https://iatiregistry.org/publisher/' \nWe can create a new column 'prefix' by dropping this string from the Datasets Link column.",
      "block_group": "3dd256c9b2bb4f668ea67619566f6046"
    },
    {
      "cell_type": "code",
      "metadata": {
        "source_hash": "432a92f0",
        "execution_start": 1750783822951,
        "execution_millis": 1,
        "execution_context_id": "7592b70b-482e-4e0c-8709-d6d705166c91",
        "deepnote_app_is_code_hidden": true,
        "cell_id": "3c7cb7683fb24292a8a748c4cacd3693",
        "deepnote_cell_type": "code"
      },
      "source": "df_registry_organisations['prefix'] = df_registry_organisations['Datasets Link'].apply(\n    lambda url: re.search(r'/([^/]+)$', url).group(1) if re.search(r'/([^/]+)$', url) else '')",
      "block_group": "bcb6f441b7f44249ad8b6ef9955aa72d",
      "execution_count": 176,
      "outputs": [],
      "outputs_reference": null,
      "content_dependencies": null
    },
    {
      "cell_type": "code",
      "metadata": {
        "source_hash": "8ebe0d1c",
        "execution_start": 1750783823002,
        "execution_millis": 0,
        "execution_context_id": "7592b70b-482e-4e0c-8709-d6d705166c91",
        "deepnote_app_is_code_hidden": true,
        "cell_id": "8cac59292ed94919898b168a79a03a55",
        "deepnote_cell_type": "code"
      },
      "source": "df_registry_organisations",
      "block_group": "2dd26f3f4cb0475ba3d7e1e94620e227",
      "execution_count": 177,
      "outputs": [],
      "outputs_reference": null,
      "content_dependencies": null
    },
    {
      "cell_type": "markdown",
      "metadata": {
        "cell_id": "a395fbe2df384bc5a94aef06d5493fef",
        "deepnote_cell_type": "markdown"
      },
      "source": "Update the organisation documents DataFrame to include the reportingorg_refs, matching on 'prefix'",
      "block_group": "ad295253707649cbaa78b6bbf4e494e3"
    },
    {
      "cell_type": "code",
      "metadata": {
        "source_hash": "69adc140",
        "execution_start": 1750783823061,
        "execution_millis": 14,
        "deepnote_table_state": {
          "sortBy": [],
          "filters": [],
          "pageSize": 5,
          "pageIndex": 0,
          "columnOrder": [
            "_link",
            "_link_organisation",
            "prefix",
            "documentdate_isodate",
            "format",
            "url",
            "source",
            "reportingorg_ref"
          ],
          "hiddenColumnIds": [],
          "columnDisplayNames": [],
          "conditionalFilters": [],
          "cellFormattingRules": [],
          "wrappedTextColumnIds": []
        },
        "execution_context_id": "7592b70b-482e-4e0c-8709-d6d705166c91",
        "deepnote_table_loading": false,
        "deepnote_app_is_code_hidden": true,
        "cell_id": "0a3cfdf97fac4bd09854750a4ba87b75",
        "deepnote_cell_type": "code"
      },
      "source": "df_org_documents = pd.merge(df_org_documents, df_registry_organisations[['prefix','reportingorg_ref']], on='prefix', how='left')\ndf_org_documents",
      "block_group": "66b6d8dae0dd4d6c84dc4581392d43a9",
      "execution_count": 178,
      "outputs": [],
      "outputs_reference": null,
      "content_dependencies": null
    },
    {
      "cell_type": "markdown",
      "metadata": {
        "cell_id": "948a022d31ee4b0f981e5583dead29b3",
        "deepnote_cell_type": "markdown"
      },
      "source": "Now we have updated the organisation documents DataFrame to include the reportingorg_refs we can concatenate it with the activity documents DataFrame to create the all documents DataFrame",
      "block_group": "d6937970ca1c4bb38da5cfb900048e38"
    },
    {
      "cell_type": "code",
      "metadata": {
        "source_hash": "68f383e6",
        "execution_start": 1750783823121,
        "execution_millis": 819,
        "execution_context_id": "7592b70b-482e-4e0c-8709-d6d705166c91",
        "deepnote_app_is_code_hidden": true,
        "cell_id": "f9a0ae80f23e47feb3a84e7e1692b4bc",
        "deepnote_cell_type": "code"
      },
      "source": "df_all_documents = pd.concat([df_org_documents, df_activity_documents], axis=0, join='inner', ignore_index=False)\ndf_all_documents",
      "block_group": "3007a995c972460b8145d2dde7cbdf99",
      "execution_count": 179,
      "outputs": [],
      "outputs_reference": null,
      "content_dependencies": null
    },
    {
      "cell_type": "markdown",
      "metadata": {
        "cell_id": "83ff03bd035b4348a48274f15984dabb",
        "deepnote_cell_type": "markdown"
      },
      "source": "Now we need to go through the same process for the results-based document link DFs",
      "block_group": "b29a9a723969420490b3d90a4278f379"
    },
    {
      "cell_type": "code",
      "metadata": {
        "source_hash": "d19c2c40",
        "execution_start": 1750783823992,
        "execution_millis": 23,
        "execution_context_id": "7592b70b-482e-4e0c-8709-d6d705166c91",
        "deepnote_app_is_code_hidden": true,
        "cell_id": "af5de05fbdd645f299328689f0fab112",
        "deepnote_cell_type": "code"
      },
      "source": "# Concatenate all of the result-based DataFrames\ndf_all_result_documentlink = pd.concat([\n    df_result_documentlink, \n    df_result_indicator_documentlink, \n    df_result_indicator_baseline_documentlink, \n    df_result_indicator_period_actual_documentlink, \n    df_result_indicator_period_target_documentlink\n], axis=0, join='inner', ignore_index=False)\ndf_all_result_documentlink",
      "block_group": "888c514afce942aca6a0c88a4c8baa58",
      "execution_count": 180,
      "outputs": [],
      "outputs_reference": null,
      "content_dependencies": null
    },
    {
      "cell_type": "code",
      "metadata": {
        "source_hash": "f39228e3",
        "execution_start": 1750783824062,
        "execution_millis": 1,
        "execution_context_id": "7592b70b-482e-4e0c-8709-d6d705166c91",
        "deepnote_app_is_code_hidden": true,
        "cell_id": "5b78791dd8bf4672b004f0ba950b43d4",
        "deepnote_cell_type": "code"
      },
      "source": "## Drop extraneous columns\nto_drop = df_all_result_documentlink.columns.difference(df_all_documents.columns)\nto_drop",
      "block_group": "e63e68ee1b6f4b31b3908e8632f9deb7",
      "execution_count": 181,
      "outputs": [],
      "outputs_reference": null,
      "content_dependencies": null
    },
    {
      "cell_type": "code",
      "metadata": {
        "source_hash": "ae17128b",
        "execution_start": 1750783824121,
        "execution_millis": 1,
        "execution_context_id": "7592b70b-482e-4e0c-8709-d6d705166c91",
        "deepnote_app_is_code_hidden": true,
        "cell_id": "1eac9e14ce334bb092698d9a3b54104a",
        "deepnote_cell_type": "code"
      },
      "source": "df_all_result_documentlink = df_all_result_documentlink.drop(columns=to_drop)\ndf_all_result_documentlink.info()",
      "block_group": "18bb24d56d934d6bacdd15a20eb2b536",
      "execution_count": 182,
      "outputs": [],
      "outputs_reference": null,
      "content_dependencies": null
    },
    {
      "cell_type": "code",
      "metadata": {
        "source_hash": "6a129383",
        "execution_start": 1750783824181,
        "execution_millis": 636,
        "execution_context_id": "7592b70b-482e-4e0c-8709-d6d705166c91",
        "deepnote_app_is_code_hidden": true,
        "cell_id": "07382e6e9a0c446399e957a975acc726",
        "deepnote_cell_type": "code"
      },
      "source": "df_all_documents = pd.concat([df_all_documents, df_all_result_documentlink], axis=0, join='inner', ignore_index=False)\ndf_all_documents.info()",
      "block_group": "7c09ca4f77524ca3a05a06ce5ab36e71",
      "execution_count": 183,
      "outputs": [],
      "outputs_reference": null,
      "content_dependencies": null
    },
    {
      "cell_type": "markdown",
      "metadata": {
        "source_hash": "b12ed3e8",
        "execution_start": 1748451788733,
        "execution_millis": 1,
        "execution_context_id": "bdaf535e-5a82-49f6-9c3a-ef94aabc7094",
        "deepnote_app_block_visible": false,
        "cell_id": "4f53fff4537d4ab2a784ea971fd4f921",
        "deepnote_cell_type": "markdown"
      },
      "source": "Linking on reportingorg_ref we can add the Publisher and Organisation Type from df_registry_organisations.",
      "block_group": "7c1d4488bc584378bf8b7bc7fdf5b1b0"
    },
    {
      "cell_type": "code",
      "metadata": {
        "source_hash": "3047155b",
        "execution_start": 1750783825061,
        "execution_millis": 1532,
        "execution_context_id": "7592b70b-482e-4e0c-8709-d6d705166c91",
        "deepnote_app_is_code_hidden": true,
        "cell_id": "663cce9c1bf846cc8b07cb7c244abd19",
        "deepnote_cell_type": "code"
      },
      "source": "df_all_documents = pd.DataFrame(pd.merge(df_all_documents, df_registry_organisations[['reportingorg_ref', 'Publisher', 'Organization Type']], on='reportingorg_ref', how='left'))\ndf_all_documents",
      "block_group": "adf1635ca87a4605831c9cb16d10a188",
      "execution_count": 184,
      "outputs": [],
      "outputs_reference": null,
      "content_dependencies": null
    },
    {
      "cell_type": "code",
      "metadata": {
        "source_hash": "e88d314d",
        "execution_start": 1750783826641,
        "execution_millis": 1,
        "execution_context_id": "7592b70b-482e-4e0c-8709-d6d705166c91",
        "deepnote_app_is_code_hidden": true,
        "cell_id": "601d1900204c42c18dd0323ce2d391a2",
        "deepnote_cell_type": "code"
      },
      "source": "total_document_links = df_all_documents.shape[0]\ntotal_document_links",
      "block_group": "d5ba4dd7e2694e14997373aa49bbcc4c",
      "execution_count": 185,
      "outputs": [],
      "outputs_reference": null,
      "content_dependencies": null
    },
    {
      "cell_type": "markdown",
      "metadata": {
        "cell_id": "a7870608f10b448d86277b5a321ddaed",
        "deepnote_cell_type": "markdown"
      },
      "source": "# Analysis\n\nMost, but not all,  of the analysis below is either used or duplicated in the Streamlit application. It was developed here before transferring to the application. If run, it will produce different results to those in the application which is a snapshot in time and is not updated by the running of this notebook.",
      "block_group": "94f2e0a5a699419381f1a8a2d45930e5"
    },
    {
      "cell_type": "markdown",
      "metadata": {
        "cell_id": "eda3644eda3d491b8028a49780a94fa4",
        "deepnote_cell_type": "markdown"
      },
      "source": "The next two blocks calculate the total number of activities and the number of activities that contain document-links. This is not included in the application.",
      "block_group": "1f0f036aa7554d5e8665422952016722"
    },
    {
      "cell_type": "code",
      "metadata": {
        "source_hash": "2133ecc6",
        "execution_start": 1750783826701,
        "execution_millis": 1317,
        "execution_context_id": "7592b70b-482e-4e0c-8709-d6d705166c91",
        "deepnote_app_is_code_hidden": true,
        "cell_id": "a2792e73ada54193bbaf3b17c2757f31",
        "deepnote_cell_type": "code"
      },
      "source": "%%nql \nSELECT COUNT(DISTINCT iatiidentifier) FROM activity",
      "block_group": "402a5599cd0e4e57b0fd257781fc8e45",
      "execution_count": 186,
      "outputs": [],
      "outputs_reference": null,
      "content_dependencies": null
    },
    {
      "cell_type": "code",
      "metadata": {
        "source_hash": "5d9b15fe",
        "execution_start": 1750783828071,
        "execution_millis": 1235,
        "execution_context_id": "7592b70b-482e-4e0c-8709-d6d705166c91",
        "deepnote_app_is_code_hidden": true,
        "cell_id": "0af1f32f00934ccfa73582a4d7297ccc",
        "deepnote_cell_type": "code"
      },
      "source": "%%nql \nSELECT COUNT(DISTINCT iatiidentifier) FROM documentlink",
      "block_group": "e56688d7ee4d4025b5d2e70efe841864",
      "execution_count": 187,
      "outputs": [],
      "outputs_reference": null,
      "content_dependencies": null
    },
    {
      "cell_type": "markdown",
      "metadata": {
        "deepnote_app_block_order": 7,
        "deepnote_app_block_visible": true,
        "deepnote_app_block_group_id": null,
        "cell_id": "978d956f165b4f0486c60ad4c65595f5",
        "deepnote_cell_type": "markdown"
      },
      "source": "## Who are publishing document links?\n",
      "block_group": "34b73c71b1424cbab0813e85f8adccac"
    },
    {
      "cell_type": "markdown",
      "metadata": {
        "cell_id": "d611db3cc2be4611ba12f77251ebbd77",
        "deepnote_cell_type": "markdown"
      },
      "source": "First look at all document links, then create a de-duplicated DataFrame that only contains rows with unique Publisher and url",
      "block_group": "729d54b08bd541a48e4ead509cf60aa6"
    },
    {
      "cell_type": "code",
      "metadata": {
        "source_hash": "7f5649fb",
        "execution_start": 1750783829401,
        "execution_millis": 1,
        "deepnote_table_state": {
          "sortBy": [],
          "filters": [],
          "pageSize": 5,
          "pageIndex": 0,
          "columnOrder": [
            "count"
          ],
          "hiddenColumnIds": [],
          "columnDisplayNames": [],
          "conditionalFilters": [],
          "cellFormattingRules": [],
          "wrappedTextColumnIds": []
        },
        "execution_context_id": "7592b70b-482e-4e0c-8709-d6d705166c91",
        "deepnote_table_loading": false,
        "deepnote_app_is_code_hidden": true,
        "cell_id": "82699c59f98442d7ae7d95f2182a4347",
        "deepnote_cell_type": "code"
      },
      "source": "## A group and count on publisher name across all document links, including duplicates.\ndf_org_counts = pd.DataFrame(df_all_documents['Publisher'].value_counts())\ndf_org_counts",
      "block_group": "02e756ccef2945129cc74bad41cf589b",
      "execution_count": 188,
      "outputs": [],
      "outputs_reference": null,
      "content_dependencies": null
    },
    {
      "cell_type": "code",
      "metadata": {
        "source_hash": "bb1a02d4",
        "execution_start": 1750783829451,
        "execution_millis": 0,
        "execution_context_id": "7592b70b-482e-4e0c-8709-d6d705166c91",
        "deepnote_app_is_code_hidden": true,
        "cell_id": "1655521e396743e4839dbcb12b0a7cbd",
        "deepnote_cell_type": "code"
      },
      "source": "total_reporting_orgs = df_org_counts.shape[0]\ntotal_reporting_orgs",
      "block_group": "54b1d3594b8a4906be8918261f01f2bf",
      "execution_count": 189,
      "outputs": [],
      "outputs_reference": null,
      "content_dependencies": null
    },
    {
      "cell_type": "code",
      "metadata": {
        "source_hash": "494a6ff1",
        "execution_start": 1750783829501,
        "execution_millis": 1457,
        "execution_context_id": "7592b70b-482e-4e0c-8709-d6d705166c91",
        "deepnote_app_is_code_hidden": true,
        "cell_id": "bbcac61b4a6940fc8d88869fa6fefa04",
        "deepnote_cell_type": "code"
      },
      "source": "## Before de-duplicating, sort the values so that empty dates and formats are more likely to be dropped (this doesn't appear to make any difference)\ndf_all_documents.sort_values(['documentdate_isodate', 'format'], ascending=[True, True])",
      "block_group": "f9b50928614346c58dda5176dc70a94d",
      "execution_count": 190,
      "outputs": [],
      "outputs_reference": null,
      "content_dependencies": null
    },
    {
      "cell_type": "code",
      "metadata": {
        "source_hash": "e5f69b4d",
        "execution_start": 1750783831041,
        "execution_millis": 1179,
        "deepnote_table_state": {
          "sortBy": [
            {
              "id": "documentdate_isodate",
              "type": "desc"
            }
          ],
          "filters": [],
          "pageSize": 10,
          "pageIndex": 0,
          "columnOrder": [
            "dataset",
            "_link",
            "prefix",
            "description_narrative",
            "documentdate_isodate",
            "format",
            "formatname",
            "language",
            "title_narrative",
            "url",
            "source",
            "reportingorg_ref_x",
            "iatiidentifier",
            "title",
            "category",
            "title_lang",
            "Publisher",
            "reportingorg_ref_y",
            "Organization Type",
            "HQ Country or Region",
            "Datasets Count",
            "Datasets Link"
          ],
          "hiddenColumnIds": [],
          "columnDisplayNames": [],
          "conditionalFilters": [],
          "cellFormattingRules": [],
          "wrappedTextColumnIds": []
        },
        "execution_context_id": "7592b70b-482e-4e0c-8709-d6d705166c91",
        "deepnote_table_loading": false,
        "deepnote_app_is_code_hidden": true,
        "cell_id": "e7e97252cd35487e9ce1106943d1336d",
        "deepnote_cell_type": "code"
      },
      "source": "## Create a de-duplicated DataFrame, based on a combination of Publisher and url. \ndf_unique_documents = df_all_documents.drop_duplicates(subset = ['Publisher', 'url'], keep = 'last').reset_index(drop=True)\ndf_unique_documents",
      "block_group": "158e4ae83e5c412e92b369308b5cb1a6",
      "execution_count": 191,
      "outputs": [],
      "outputs_reference": null,
      "content_dependencies": null
    },
    {
      "cell_type": "code",
      "metadata": {
        "source_hash": "7635b67a",
        "execution_start": 1750783832281,
        "execution_millis": 1,
        "execution_context_id": "7592b70b-482e-4e0c-8709-d6d705166c91",
        "deepnote_app_is_code_hidden": true,
        "cell_id": "28b500e2a70c4fb583550b171ac33c81",
        "deepnote_cell_type": "code"
      },
      "source": "# Create total_unique_document_links, a variable to hold the total unique document links.\ntotal_unique_document_links = df_unique_documents.shape[0]\ntotal_unique_document_links",
      "block_group": "184609fe9ffb4ad1bccbe78365ef0583",
      "execution_count": 192,
      "outputs": [],
      "outputs_reference": null,
      "content_dependencies": null
    },
    {
      "cell_type": "code",
      "metadata": {
        "source_hash": "bba91ae7",
        "execution_start": 1750783832351,
        "execution_millis": 2,
        "execution_context_id": "7592b70b-482e-4e0c-8709-d6d705166c91",
        "deepnote_app_is_code_hidden": true,
        "cell_id": "abacef1ab0b04c999fe18a6e71632312",
        "deepnote_cell_type": "code"
      },
      "source": "# Calculate the number of reporting organisations in each Organisation Type.\ndf_reportingorg_counts = df_unique_documents.groupby(['Publisher', 'Organization Type']).size().reset_index(name='count')\norg_type_counts = df_reportingorg_counts.groupby('Organization Type')['Publisher'].nunique().reset_index(name='Unique Reporting Organisations')\norg_type_counts = org_type_counts.sort_values('Unique Reporting Organisations', ascending=False).reset_index()\norg_type_counts",
      "block_group": "d5d625b7a9d84caabcfd1cda5ffc072d",
      "execution_count": 193,
      "outputs": [],
      "outputs_reference": null,
      "content_dependencies": null
    },
    {
      "cell_type": "code",
      "metadata": {
        "source_hash": "9dd9b343",
        "execution_start": 1750783832431,
        "execution_millis": 1,
        "deepnote_table_state": {
          "sortBy": [
            {
              "id": "Total Document Links",
              "type": "desc"
            }
          ],
          "filters": [],
          "pageSize": 10,
          "pageIndex": 0,
          "columnOrder": [
            "Organization Type",
            "Total Document Links"
          ],
          "hiddenColumnIds": [],
          "columnDisplayNames": [],
          "conditionalFilters": [],
          "cellFormattingRules": [],
          "wrappedTextColumnIds": []
        },
        "execution_context_id": "7592b70b-482e-4e0c-8709-d6d705166c91",
        "deepnote_table_loading": false,
        "deepnote_app_is_code_hidden": true,
        "cell_id": "8343df60b0194bae89d00a96b15d1f5a",
        "deepnote_cell_type": "code"
      },
      "source": "# Calculate the number of document links per Organisation Type\ndf_links_by_type = df_unique_documents.groupby('Organization Type').size().reset_index(name='Total Document Links')\ndf_links_by_type  = df_links_by_type .sort_values('Total Document Links', ascending=False).reset_index()\ndf_links_by_type ",
      "block_group": "9043ab1be5d14bcfadd5e77704467dbf",
      "execution_count": 194,
      "outputs": [],
      "outputs_reference": null,
      "content_dependencies": null
    },
    {
      "cell_type": "code",
      "metadata": {
        "source_hash": "286402e4",
        "execution_start": 1750783832521,
        "execution_millis": 1,
        "deepnote_table_state": {
          "sortBy": [],
          "filters": [],
          "pageSize": 5,
          "pageIndex": 0,
          "columnOrder": [
            "count"
          ],
          "hiddenColumnIds": [],
          "columnDisplayNames": [],
          "conditionalFilters": [],
          "cellFormattingRules": [],
          "wrappedTextColumnIds": []
        },
        "execution_context_id": "7592b70b-482e-4e0c-8709-d6d705166c91",
        "deepnote_table_loading": false,
        "deepnote_app_is_code_hidden": true,
        "cell_id": "bb527ee91b0f475b8768ade2f25d79e8",
        "deepnote_cell_type": "code"
      },
      "source": "## Calculate the number of document-links published per reporting organisation\ndf_org_counts = pd.DataFrame(df_unique_documents['Publisher'].value_counts().reset_index())\ndf_org_counts",
      "block_group": "ad5771703a64400796bb2891ecac7bf4",
      "execution_count": 195,
      "outputs": [],
      "outputs_reference": null,
      "content_dependencies": null
    },
    {
      "cell_type": "code",
      "metadata": {
        "source_hash": "d94f238f",
        "execution_start": 1750783832581,
        "execution_millis": 1,
        "execution_context_id": "7592b70b-482e-4e0c-8709-d6d705166c91",
        "deepnote_app_is_code_hidden": true,
        "cell_id": "322c90a58e2d4b538120bb2a4eee1216",
        "deepnote_cell_type": "code"
      },
      "source": "## Create a DataFrame a_top_orgs that we can use later in the Explore section. \na_top_orgs = df_org_counts.head(15)['Publisher']\na_top_orgs",
      "block_group": "d42ab7e3e0dd4b52819b9429a3434ec8",
      "execution_count": 196,
      "outputs": [],
      "outputs_reference": null,
      "content_dependencies": null
    },
    {
      "cell_type": "markdown",
      "metadata": {
        "deepnote_app_block_order": 9,
        "deepnote_app_block_visible": true,
        "deepnote_app_block_group_id": null,
        "cell_id": "074695e0c80544cea882299c8763e644",
        "deepnote_cell_type": "markdown"
      },
      "source": "## Where in the standard are document-links published?",
      "block_group": "04894d93c56b4411b4b7b951c9c95b93"
    },
    {
      "cell_type": "code",
      "metadata": {
        "source_hash": "5f2bfe2",
        "execution_start": 1750783832651,
        "execution_millis": 1,
        "execution_context_id": "7592b70b-482e-4e0c-8709-d6d705166c91",
        "deepnote_app_is_code_hidden": true,
        "cell_id": "e20e61959ff640068756315d40f742e7",
        "deepnote_cell_type": "code"
      },
      "source": "## Where are document links published?\ndf_org_source_counts = pd.DataFrame(df_unique_documents['source'].value_counts().reset_index())\ndf_org_source_counts",
      "block_group": "cca4f7fcc8b445e185e4f9dae06681f3",
      "execution_count": 197,
      "outputs": [],
      "outputs_reference": null,
      "content_dependencies": null
    },
    {
      "cell_type": "markdown",
      "metadata": {
        "deepnote_app_block_order": 11,
        "deepnote_app_block_visible": true,
        "deepnote_app_block_group_id": null,
        "cell_id": "b430e6dba00c4a339984b6e6ebe5db59",
        "deepnote_cell_type": "markdown"
      },
      "source": "## When were documents published\nThe definition of 'document-date' is \"The date of publication of the document that is being linked to.\"\n\nFirst, we want to know how many dates are published. Next we update the 'documentdate_isodate' element to yyyy-mm format and visualise the results.",
      "block_group": "8fe8c3e8198344e1b8120fd1ab7bfeb5"
    },
    {
      "cell_type": "markdown",
      "metadata": {
        "cell_id": "a85a6a41248746009f4ff355d3e769a7",
        "deepnote_cell_type": "markdown"
      },
      "source": "Next steps: investigate how many blanks there actually are. We need to fix the first query below and then test that the following block converts all of the valid dates to YYYY-MM format",
      "block_group": "6f684e4445d646ba9b111229aa444994"
    },
    {
      "cell_type": "code",
      "metadata": {
        "source_hash": "37cf127d",
        "execution_start": 1750783832711,
        "execution_millis": 85,
        "execution_context_id": "7592b70b-482e-4e0c-8709-d6d705166c91",
        "deepnote_app_is_code_hidden": true,
        "cell_id": "f278c38fc0af470ea3b77aae03449de7",
        "deepnote_cell_type": "code"
      },
      "source": "## How many document-links do not contain a document date?\nempty_date_count = (df_unique_documents['documentdate_isodate'].str.strip() == '').sum()\nempty_date_count",
      "block_group": "0185f3eaea014a149833ce6ad5187e33",
      "execution_count": 198,
      "outputs": [],
      "outputs_reference": null,
      "content_dependencies": null
    },
    {
      "cell_type": "code",
      "metadata": {
        "source_hash": "580555d7",
        "execution_start": 1750783832841,
        "execution_millis": 121,
        "execution_context_id": "7592b70b-482e-4e0c-8709-d6d705166c91",
        "deepnote_app_is_code_hidden": true,
        "cell_id": "6a5be465e2b449c4a238d5e23ffabda3",
        "deepnote_cell_type": "code"
      },
      "source": "## Convert 'documentdate_isodate' to datetime format pattern YYYY-MM format\ndf_unique_documents['documentdate_isodate'] = df_unique_documents['documentdate_isodate'].str[:10]\ndf_unique_documents['documentdate_isodate'] = pd.to_datetime(df_unique_documents['documentdate_isodate'])\ndf_unique_documents['documentdate_isodate'] = df_unique_documents['documentdate_isodate'].dt.to_period('M')",
      "block_group": "c2418159422148eea8c58b7f15cea21e",
      "execution_count": 199,
      "outputs": [],
      "outputs_reference": null,
      "content_dependencies": null
    },
    {
      "cell_type": "code",
      "metadata": {
        "source_hash": "251e3804",
        "execution_start": 1750783833011,
        "execution_millis": 1,
        "deepnote_table_state": {
          "sortBy": [
            {
              "id": "documentdate_isodate",
              "type": "asc"
            }
          ],
          "filters": [],
          "pageSize": 5,
          "pageIndex": 43,
          "columnOrder": [
            "documentdate_isodate",
            "count"
          ],
          "hiddenColumnIds": [],
          "columnDisplayNames": [],
          "conditionalFilters": [],
          "cellFormattingRules": [],
          "wrappedTextColumnIds": []
        },
        "execution_context_id": "7592b70b-482e-4e0c-8709-d6d705166c91",
        "deepnote_table_loading": false,
        "deepnote_app_is_code_hidden": true,
        "cell_id": "cd22031a0e1f44c9a4496fe692c76d42",
        "deepnote_cell_type": "code"
      },
      "source": "## create a DataFrame, 'date' that groups publication dates by month and counts the instances per month\ndf_date = pd.DataFrame(df_unique_documents.groupby(['documentdate_isodate']).size().reset_index(name='count') \\\n                             .sort_values(['documentdate_isodate'], ascending=False))\ndf_date",
      "block_group": "4cd40c33252c4e4e9f0496f6d1514e23",
      "execution_count": 200,
      "outputs": [],
      "outputs_reference": null,
      "content_dependencies": null
    },
    {
      "cell_type": "markdown",
      "metadata": {
        "deepnote_app_block_order": 14,
        "deepnote_app_block_visible": true,
        "deepnote_app_block_group_id": null,
        "cell_id": "2914e9fd4ec8477384793c4479b530db",
        "deepnote_cell_type": "markdown"
      },
      "source": "## What format are documents declared as published in?",
      "block_group": "550c22403e1e48d5a304b1d6af418df3"
    },
    {
      "cell_type": "code",
      "metadata": {
        "source_hash": "cd27de40",
        "execution_start": 1750783833121,
        "execution_millis": 127,
        "execution_context_id": "7592b70b-482e-4e0c-8709-d6d705166c91",
        "deepnote_app_is_code_hidden": true,
        "cell_id": "b7fde26187434e81a6def1fdba0e51e0",
        "deepnote_cell_type": "code"
      },
      "source": "## How many document-links do not contain a format?\nempty_format_count = (df_unique_documents['format'].str.strip() == '').sum()\nempty_format_count",
      "block_group": "e3ca6313c4b54b2ba1b62f5b77a7b56e",
      "execution_count": 201,
      "outputs": [],
      "outputs_reference": null,
      "content_dependencies": null
    },
    {
      "cell_type": "code",
      "metadata": {
        "source_hash": "68a1a646",
        "execution_start": 1750783833301,
        "execution_millis": 61,
        "deepnote_table_state": {
          "sortBy": [
            {
              "id": "0",
              "type": "desc"
            }
          ],
          "filters": [],
          "pageSize": 10,
          "pageIndex": 0,
          "columnOrder": [
            "format",
            "count"
          ],
          "hiddenColumnIds": [],
          "columnDisplayNames": [],
          "conditionalFilters": [],
          "cellFormattingRules": [],
          "wrappedTextColumnIds": []
        },
        "execution_context_id": "7592b70b-482e-4e0c-8709-d6d705166c91",
        "deepnote_table_loading": false,
        "deepnote_app_block_visible": false,
        "deepnote_app_is_code_hidden": true,
        "cell_id": "bfcfdc94a6e74e4590dcb4a90a1a7fd6",
        "deepnote_cell_type": "code"
      },
      "source": "## create a DataFrame, 'df_format' that groups publication formats and counts them\ndf_format = pd.DataFrame(df_unique_documents.groupby(['format']).size().reset_index(name='count') \\\n                             .sort_values(['count'], ascending=False))\ndf_format",
      "block_group": "d44afb37e33547cea16faa31b114e9dd",
      "execution_count": 202,
      "outputs": [],
      "outputs_reference": null,
      "content_dependencies": null
    },
    {
      "cell_type": "code",
      "metadata": {
        "source_hash": "3958cce9",
        "execution_start": 1750783833411,
        "execution_millis": 1,
        "execution_context_id": "7592b70b-482e-4e0c-8709-d6d705166c91",
        "deepnote_app_is_code_hidden": true,
        "cell_id": "3983fd06a9934a65b90ab6fc633debc2",
        "deepnote_cell_type": "code"
      },
      "source": "## How many rows declare a document format?\ndf_format['count'].sum()",
      "block_group": "65ff898b5da24ee093c4e7c573ae3218",
      "execution_count": 203,
      "outputs": [],
      "outputs_reference": null,
      "content_dependencies": null
    },
    {
      "cell_type": "markdown",
      "metadata": {
        "deepnote_app_block_order": 16,
        "deepnote_app_block_visible": true,
        "deepnote_app_block_group_id": null,
        "cell_id": "46a3fcd4108e4ca490da9384e66ef903",
        "deepnote_cell_type": "markdown"
      },
      "source": "## What language are documents declared as being written in?",
      "block_group": "28790998774d49edaddbd61a1b6cb14c"
    },
    {
      "cell_type": "markdown",
      "metadata": {
        "cell_id": "7bd7c9a7cbc142e389e751ee1c58c989",
        "deepnote_cell_type": "markdown"
      },
      "source": "Language has a one-to-many relationship with the document links element and so we will first analyse the documentlink_language table before merging it with all_unique_documents for further analysis\n\nHow many rows are there in the documentlink_language table in IATI Tables?",
      "block_group": "936b6a833af945dda6f6f25456d2abf3"
    },
    {
      "cell_type": "code",
      "metadata": {
        "source_hash": "7cbd9c45",
        "execution_start": 1750783833471,
        "execution_millis": 334,
        "execution_context_id": "7592b70b-482e-4e0c-8709-d6d705166c91",
        "deepnote_app_is_code_hidden": true,
        "cell_id": "fca2d53addf848a8ac285533a471572b",
        "deepnote_cell_type": "code"
      },
      "source": "%%nql\nselect count(*) from documentlink_language",
      "block_group": "8a9e22e7e5e94940bee573b4d952e209",
      "execution_count": 204,
      "outputs": [],
      "outputs_reference": null,
      "content_dependencies": null
    },
    {
      "cell_type": "markdown",
      "metadata": {
        "cell_id": "0927210fb22e40c3a3b9ce3795491718",
        "deepnote_cell_type": "markdown"
      },
      "source": "How many distinct document links are there in the documentlink_language table in IATI Tables?",
      "block_group": "6971e424a103490cb774e8b3b4463ac0"
    },
    {
      "cell_type": "code",
      "metadata": {
        "source_hash": "2e458e9b",
        "execution_start": 1750783833861,
        "execution_millis": 1571,
        "execution_context_id": "7592b70b-482e-4e0c-8709-d6d705166c91",
        "deepnote_app_is_code_hidden": true,
        "cell_id": "302f0febf04546769bc988c8137d3082",
        "deepnote_cell_type": "code"
      },
      "source": "%%nql\nSELECT COUNT(DISTINCT _link_documentlink) \nFROM documentlink_language",
      "block_group": "451b28ce5adc42878e3ddfa0be2832cb",
      "execution_count": 205,
      "outputs": [],
      "outputs_reference": null,
      "content_dependencies": null
    },
    {
      "cell_type": "code",
      "metadata": {
        "source_hash": "b8da2630",
        "execution_start": 1750783835491,
        "execution_millis": 47134,
        "execution_context_id": "7592b70b-482e-4e0c-8709-d6d705166c91",
        "deepnote_app_is_code_hidden": true,
        "cell_id": "36a594f4bc6d4a0c8d97d64f991eef60",
        "deepnote_cell_type": "code"
      },
      "source": "## Given the large number of rows in the documentlink_language table we will \n## use the parallel processing/batch method developed by Leila.\ndatasette_url = 'https://datasette.tables.iatistandard.org'\ncount_url = f\"{datasette_url}/iati.json?sql=SELECT+Count(*)+AS+TOTAL+FROM+documentlink_language\"\nresponse = requests.get(count_url)\ntotal_count = response.json()['rows'][0][0] if response.status_code == 200. else None\nprint(f\"Total rows to fetch:{total_count}\")\n\n\ndef fetch_chunk(start_offset, size):\n    query_url = f\"{datasette_url}/iati.json?sql=SELECT+*+FROM+documentlink_language+LIMIT+{size}+OFFSET+{start_offset}\"\n    response = requests.get(query_url, timeout=120)\n    if response.status_code == 200:\n        return response.json()['rows']\n    return []\n\n# Set up chunks\nchunk_size = 20000\noffsets = list(range(0, total_count, chunk_size))\n\n# Process in parallel\nall_data = []\nwith concurrent.futures.ThreadPoolExecutor(max_workers=4) as executor:\n    future_to_offset = {executor.submit(fetch_chunk, offset, chunk_size): offset for offset in offsets}\n    for future in tqdm(concurrent.futures.as_completed(future_to_offset), total=len(offsets)):\n        offset = future_to_offset[future]\n        try:\n            data = future.result()\n            all_data.extend(data)\n        except Exception as e:\n            print(f\"Error with offset {offset}: {e}\")",
      "block_group": "747bb49f7dc241ad9b666677fbef5184",
      "execution_count": 206,
      "outputs": [],
      "outputs_reference": null,
      "content_dependencies": null
    },
    {
      "cell_type": "code",
      "metadata": {
        "source_hash": "83d13ae6",
        "execution_start": 1750783882683,
        "execution_millis": 260,
        "execution_context_id": "7592b70b-482e-4e0c-8709-d6d705166c91",
        "deepnote_app_is_code_hidden": true,
        "cell_id": "fdb85b186d3c4084babd268ea1013aee",
        "deepnote_cell_type": "code"
      },
      "source": "## Get the column names\nif all_data:\n    column_url = f\"{datasette_url}/iati.json?sql=SELECT+*+FROM+documentlink_language+LIMIT+1\"\n    column_response = requests.get(column_url)\n    columns = column_response.json()['columns']",
      "block_group": "f70a57ee01e0497a92d8c5e54c2f00ec",
      "execution_count": 207,
      "outputs": [],
      "outputs_reference": null,
      "content_dependencies": null
    },
    {
      "cell_type": "code",
      "metadata": {
        "source_hash": "f1a07cfd",
        "execution_start": 1750783883261,
        "execution_millis": 618,
        "deepnote_table_state": {
          "sortBy": [],
          "filters": [],
          "pageSize": 5,
          "pageIndex": 0,
          "columnOrder": [
            "dataset",
            "_link",
            "_link_activity",
            "_link_documentlink",
            "prefix",
            "iatiidentifier",
            "reportingorg_ref",
            "code",
            "codename"
          ],
          "hiddenColumnIds": [],
          "columnDisplayNames": [],
          "conditionalFilters": [],
          "cellFormattingRules": [],
          "wrappedTextColumnIds": []
        },
        "execution_context_id": "7592b70b-482e-4e0c-8709-d6d705166c91",
        "deepnote_table_loading": false,
        "deepnote_app_is_code_hidden": true,
        "cell_id": "e18726c17c814a1ba8bdb13d74ad1f5d",
        "deepnote_cell_type": "code"
      },
      "source": "## Create a DataFrame from the rows in the documentlink_language table in IATI Tables\ndf_document_language = pd.DataFrame(all_data, columns=columns)\ndf_document_language",
      "block_group": "7a4305cee8ab474290c58dfe3260cfc7",
      "execution_count": 208,
      "outputs": [],
      "outputs_reference": null,
      "content_dependencies": null
    },
    {
      "cell_type": "code",
      "metadata": {
        "source_hash": "15ea19ab",
        "execution_start": 1750783884592,
        "execution_millis": 13,
        "execution_context_id": "7592b70b-482e-4e0c-8709-d6d705166c91",
        "deepnote_app_is_code_hidden": true,
        "cell_id": "d19ad6dc821b4373abbbebef693bba22",
        "deepnote_cell_type": "code"
      },
      "source": "## Check the composition of the df_document_language DataFrame\ndf_document_language.info()",
      "block_group": "6e7714a65e3a40b1869049d85c982166",
      "execution_count": 209,
      "outputs": [],
      "outputs_reference": null,
      "content_dependencies": null
    },
    {
      "cell_type": "code",
      "metadata": {
        "source_hash": "aeeca65d",
        "execution_start": 1750783884761,
        "execution_millis": 37,
        "execution_context_id": "7592b70b-482e-4e0c-8709-d6d705166c91",
        "deepnote_app_is_code_hidden": true,
        "cell_id": "d9680c753b154f208a68095c643d4095",
        "deepnote_cell_type": "code"
      },
      "source": "# Count the number of activities that have at least one language declared\nn = len(pd.unique(df_document_language['_link_activity']))\nprint(\"Number of unique values in '_link_activity':\", n)",
      "block_group": "4a3990dfcbe94aff96222ab30fe27f40",
      "execution_count": 210,
      "outputs": [],
      "outputs_reference": null,
      "content_dependencies": null
    },
    {
      "cell_type": "code",
      "metadata": {
        "source_hash": "da0e161b",
        "execution_start": 1750783884940,
        "execution_millis": 4363,
        "execution_context_id": "7592b70b-482e-4e0c-8709-d6d705166c91",
        "deepnote_app_is_code_hidden": true,
        "cell_id": "2706add509fc41e298a4ac81545dfe71",
        "deepnote_cell_type": "code"
      },
      "source": "## merge df_document_language into df_all_documents, restricting the columns merged to code, codename and _document_link. \ndf_all_documents_lang = pd.DataFrame(pd.merge(df_all_documents.set_index('_link'), df_document_language[['code','codename','_link_documentlink']], right_on='_link_documentlink', left_index=True))\ndf_all_documents_lang",
      "block_group": "ac5559a95cdc4d3892b76fa0a403ddfe",
      "execution_count": 211,
      "outputs": [],
      "outputs_reference": null,
      "content_dependencies": null
    },
    {
      "cell_type": "code",
      "metadata": {
        "source_hash": "e4a17072",
        "execution_start": 1750783890121,
        "execution_millis": 2,
        "execution_context_id": "7592b70b-482e-4e0c-8709-d6d705166c91",
        "deepnote_app_is_code_hidden": true,
        "cell_id": "ba2fe95f32f149638fc27d1c371cbd4b",
        "deepnote_cell_type": "code"
      },
      "source": "## Inspect the composition of the df_all_documents_lang DataFrame\ndf_all_documents_lang.info()",
      "block_group": "e2eb5496cd05484c864d1acc13e7ae86",
      "execution_count": 212,
      "outputs": [],
      "outputs_reference": null,
      "content_dependencies": null
    },
    {
      "cell_type": "code",
      "metadata": {
        "source_hash": "1ee9f69b",
        "execution_start": 1750783890211,
        "execution_millis": 906,
        "execution_context_id": "7592b70b-482e-4e0c-8709-d6d705166c91",
        "deepnote_app_is_code_hidden": true,
        "cell_id": "b8c48ff3ba26468c96a19a65feee37ab",
        "deepnote_cell_type": "code"
      },
      "source": "## De-duplicate df_all_documents_lang based on url and code and create a new DataFrame df_unique_languages\ndf_unique_languages = df_all_documents_lang.drop_duplicates(subset = ['url', 'code'], keep = 'last').reset_index(drop=True)\ndf_unique_languages",
      "block_group": "8b2b5486d51a4ca498211aeecdd3676f",
      "execution_count": 213,
      "outputs": [],
      "outputs_reference": null,
      "content_dependencies": null
    },
    {
      "cell_type": "code",
      "metadata": {
        "source_hash": "9a828b79",
        "execution_start": 1750783891181,
        "execution_millis": 37,
        "deepnote_table_state": {
          "sortBy": [
            {
              "id": "count",
              "type": "desc"
            }
          ],
          "filters": [],
          "pageSize": 10,
          "pageIndex": 0,
          "columnOrder": [
            "codename",
            "count"
          ],
          "hiddenColumnIds": [],
          "columnDisplayNames": [],
          "conditionalFilters": [],
          "cellFormattingRules": [],
          "wrappedTextColumnIds": []
        },
        "execution_context_id": "7592b70b-482e-4e0c-8709-d6d705166c91",
        "deepnote_table_loading": false,
        "deepnote_app_is_code_hidden": true,
        "cell_id": "714c4f2f5fab4f0b8c09c3f41cfbb7d7",
        "deepnote_cell_type": "code"
      },
      "source": "## Create a new DataFrame, df_language_count, based on a group count on the 'codename' column in the documentcategory DataFrame\ndf_language_count = pd.DataFrame(df_unique_languages.groupby(['codename']).size().reset_index(name='count') \\\n                             .sort_values(['count'], ascending=False))\ndf_language_count",
      "block_group": "a4ec4a6c544d407cbe493e838910b598",
      "execution_count": 214,
      "outputs": [],
      "outputs_reference": null,
      "content_dependencies": null
    },
    {
      "cell_type": "code",
      "metadata": {
        "source_hash": "230a4cb2",
        "execution_start": 1750783891262,
        "execution_millis": 0,
        "execution_context_id": "7592b70b-482e-4e0c-8709-d6d705166c91",
        "deepnote_app_is_code_hidden": true,
        "cell_id": "2510318256954af0a83b23aebd5ab8d6",
        "deepnote_cell_type": "code"
      },
      "source": "## Group count on count\ndf_language_url_count_meta = pd.DataFrame(df_language_url_count.groupby(['count']).size().reset_index(name='meta_count') \\\n                             .sort_values(['meta_count'], ascending=False))\ndf_language_url_count_meta",
      "block_group": "fe0ea6dbe80f4876895c09a8654c8391",
      "execution_count": 215,
      "outputs": [],
      "outputs_reference": null,
      "content_dependencies": null
    },
    {
      "cell_type": "markdown",
      "metadata": {
        "cell_id": "62f73f07ebf045e497161cce4379b678",
        "deepnote_cell_type": "markdown"
      },
      "source": "## What categories of documents are being linked to?",
      "block_group": "9d6309faff20418998d7a8a9cd30918c"
    },
    {
      "cell_type": "markdown",
      "metadata": {
        "cell_id": "99e47edaabdb4dc99b56e2f12d75be7b",
        "deepnote_cell_type": "markdown"
      },
      "source": "Category has a one-to-many relationship with the document links element and so we will first analyse the documentlink_category table before merging it with all_unique_documents for further analysis\n\nHow many rows are there in the documentlink_category table in IATI Tables?",
      "block_group": "3890db2aac2047ed843001c006f4e8e0"
    },
    {
      "cell_type": "code",
      "metadata": {
        "source_hash": "2e081fb7",
        "execution_start": 1750783891331,
        "execution_millis": 365,
        "execution_context_id": "7592b70b-482e-4e0c-8709-d6d705166c91",
        "deepnote_app_is_code_hidden": true,
        "cell_id": "a38f0db007e64037b44266a9a262df81",
        "deepnote_cell_type": "code"
      },
      "source": "%%nql\nselect count(*) from documentlink_category",
      "block_group": "841c69ceec77486d8347f8b6324b5c40",
      "execution_count": 216,
      "outputs": [],
      "outputs_reference": null,
      "content_dependencies": null
    },
    {
      "cell_type": "code",
      "metadata": {
        "source_hash": "c8a8c6e0",
        "execution_start": 1750783891761,
        "execution_millis": 2054,
        "execution_context_id": "7592b70b-482e-4e0c-8709-d6d705166c91",
        "deepnote_app_is_code_hidden": true,
        "cell_id": "81f0014a2ddf4d02b73257684df6201e",
        "deepnote_cell_type": "code"
      },
      "source": "%%nql\nSELECT COUNT(DISTINCT _link_documentlink) \nFROM documentlink_category",
      "block_group": "35f73ce6354c4d62acc54eee79201762",
      "execution_count": 217,
      "outputs": [],
      "outputs_reference": null,
      "content_dependencies": null
    },
    {
      "cell_type": "code",
      "metadata": {
        "source_hash": "59c17dfc",
        "execution_start": 1750783893881,
        "execution_millis": 67487,
        "execution_context_id": "7592b70b-482e-4e0c-8709-d6d705166c91",
        "deepnote_app_is_code_hidden": true,
        "cell_id": "171da866ad7642d6aa44d2c32cef8c0b",
        "deepnote_cell_type": "code"
      },
      "source": "## Given the large number of rows in the documentlink_category table we will \n## use the parallel processing/batch method developed by Leila.\ndatasette_url = 'https://datasette.tables.iatistandard.org'\ncount_url = f\"{datasette_url}/iati.json?sql=SELECT+Count(*)+AS+TOTAL+FROM+documentlink_category\"\nresponse = requests.get(count_url)\ntotal_count = response.json()['rows'][0][0] if response.status_code == 200. else None\nprint(f\"Total rows to fetch:{total_count}\")\n\n\ndef fetch_chunk(start_offset, size):\n    query_url = f\"{datasette_url}/iati.json?sql=SELECT+*+FROM+documentlink_category+LIMIT+{size}+OFFSET+{start_offset}\"\n    response = requests.get(query_url, timeout=120)\n    if response.status_code == 200:\n        return response.json()['rows']\n    return []\n\n# Set up chunks\nchunk_size = 20000\noffsets = list(range(0, total_count, chunk_size))\n\n# Process in parallel\nall_data = []\nwith concurrent.futures.ThreadPoolExecutor(max_workers=4) as executor:\n    future_to_offset = {executor.submit(fetch_chunk, offset, chunk_size): offset for offset in offsets}\n    for future in tqdm(concurrent.futures.as_completed(future_to_offset), total=len(offsets)):\n        offset = future_to_offset[future]\n        try:\n            data = future.result()\n            all_data.extend(data)\n        except Exception as e:\n            print(f\"Error with offset {offset}: {e}\")",
      "block_group": "86abea7f60ef4d8f949fdbd0a121c0d3",
      "execution_count": 218,
      "outputs": [],
      "outputs_reference": null,
      "content_dependencies": null
    },
    {
      "cell_type": "code",
      "metadata": {
        "source_hash": "3db99843",
        "execution_start": 1750783961422,
        "execution_millis": 271,
        "execution_context_id": "7592b70b-482e-4e0c-8709-d6d705166c91",
        "deepnote_app_is_code_hidden": true,
        "cell_id": "6543f6c0ef964d2897f0206c24e8f57c",
        "deepnote_cell_type": "code"
      },
      "source": "## Get the column names\nif all_data:\n    column_url = f\"{datasette_url}/iati.json?sql=SELECT+*+FROM+documentlink_category+LIMIT+1\"\n    column_response = requests.get(column_url)\n    columns = column_response.json()['columns']",
      "block_group": "5ff6b82f49584beda85ccbaed69a74f1",
      "execution_count": 219,
      "outputs": [],
      "outputs_reference": null,
      "content_dependencies": null
    },
    {
      "cell_type": "code",
      "metadata": {
        "source_hash": "f1378a92",
        "execution_start": 1750783962271,
        "execution_millis": 1246,
        "execution_context_id": "7592b70b-482e-4e0c-8709-d6d705166c91",
        "deepnote_app_is_code_hidden": true,
        "cell_id": "b80953b6b9074ab08c3ea5a5eb27dd58",
        "deepnote_cell_type": "code"
      },
      "source": "## Create a DataFrame from the rows in the documentlink_category table in IATI Tables\ndf_document_category = pd.DataFrame(all_data, columns=columns)\ndf_document_category",
      "block_group": "69791d4d77bc457ba1dad160d6774def",
      "execution_count": 220,
      "outputs": [],
      "outputs_reference": null,
      "content_dependencies": null
    },
    {
      "cell_type": "code",
      "metadata": {
        "source_hash": "ed6a559e",
        "execution_start": 1750783963572,
        "execution_millis": 0,
        "execution_context_id": "7592b70b-482e-4e0c-8709-d6d705166c91",
        "deepnote_app_is_code_hidden": true,
        "cell_id": "b72e7be8cafd45179afc894b46c15d1d",
        "deepnote_cell_type": "code"
      },
      "source": "## Check the composition of the df_document_category DataFrame\ndf_document_category.info()",
      "block_group": "4fe53224a79041bca886d0e6c6c3f51d",
      "execution_count": 221,
      "outputs": [],
      "outputs_reference": null,
      "content_dependencies": null
    },
    {
      "cell_type": "code",
      "metadata": {
        "source_hash": "13fe705d",
        "execution_start": 1750783963631,
        "execution_millis": 287,
        "execution_context_id": "7592b70b-482e-4e0c-8709-d6d705166c91",
        "deepnote_app_is_code_hidden": true,
        "cell_id": "c1b671b3cd3943d09b5030800d147ab9",
        "deepnote_cell_type": "code"
      },
      "source": "# Count the number of activities that have at least one category declared\nn = len(pd.unique(df_document_category['_link_activity']))\nprint(\"Number of unique values in '_link_activity':\", n)",
      "block_group": "338f907e85c64d23aeba39a0d7b966d8",
      "execution_count": 222,
      "outputs": [],
      "outputs_reference": null,
      "content_dependencies": null
    },
    {
      "cell_type": "code",
      "metadata": {
        "source_hash": "ca9a957f",
        "execution_start": 1750783964153,
        "execution_millis": 7702,
        "deepnote_table_state": {
          "sortBy": [
            {
              "id": "Publisher",
              "type": "asc"
            }
          ],
          "filters": [],
          "pageSize": 5,
          "pageIndex": 0,
          "columnOrder": [
            "dataset_x",
            "prefix_x",
            "description_narrative",
            "documentdate_isodate",
            "format",
            "formatname",
            "language",
            "title_narrative",
            "url",
            "source",
            "reportingorg_ref_x",
            "iatiidentifier_x",
            "title",
            "category",
            "title_lang",
            "Publisher",
            "reportingorg_ref_y",
            "Organization Type",
            "HQ Country or Region",
            "Datasets Count",
            "Datasets Link",
            "dataset_y",
            "_link",
            "_link_activity",
            "_link_documentlink",
            "prefix_y",
            "iatiidentifier_y",
            "reportingorg_ref",
            "code",
            "codename"
          ],
          "hiddenColumnIds": [],
          "columnDisplayNames": [],
          "conditionalFilters": [],
          "cellFormattingRules": [],
          "wrappedTextColumnIds": []
        },
        "execution_context_id": "7592b70b-482e-4e0c-8709-d6d705166c91",
        "deepnote_table_loading": false,
        "deepnote_app_is_code_hidden": true,
        "cell_id": "6072931fb11d41eca7b3cfb86ff7eddc",
        "deepnote_cell_type": "code"
      },
      "source": "## merge df_document_category into df_all_documents, restricting the columns merged to code, codename and _document_link. \ndf_all_documents_cat = pd.DataFrame(pd.merge(df_all_documents.set_index('_link'), df_document_category[['code','codename','_link_documentlink']], right_on='_link_documentlink', left_index=True))\ndf_all_documents_cat",
      "block_group": "2a321cfbe6b548d2a133bf45d2e0a257",
      "execution_count": 223,
      "outputs": [],
      "outputs_reference": null,
      "content_dependencies": null
    },
    {
      "cell_type": "code",
      "metadata": {
        "source_hash": "d6f25354",
        "execution_start": 1750783971911,
        "execution_millis": 1,
        "execution_context_id": "7592b70b-482e-4e0c-8709-d6d705166c91",
        "deepnote_app_is_code_hidden": true,
        "cell_id": "ce75e6f80c164869a3c8f02d6859c15a",
        "deepnote_cell_type": "code"
      },
      "source": "## Inspect the composition of the df_all_documents_cat DataFrame\ndf_all_documents_cat.info()",
      "block_group": "112984406fc74b62a0cff54229210006",
      "execution_count": 224,
      "outputs": [],
      "outputs_reference": null,
      "content_dependencies": null
    },
    {
      "cell_type": "code",
      "metadata": {
        "source_hash": "1eeab85c",
        "execution_start": 1750783972011,
        "execution_millis": 2349,
        "execution_context_id": "7592b70b-482e-4e0c-8709-d6d705166c91",
        "deepnote_app_is_code_hidden": true,
        "cell_id": "a3cb520ffd96427e9d3ee51da0beb8dc",
        "deepnote_cell_type": "code"
      },
      "source": "## De-duplicate df_all_documents_cat based on url and code and create a new DataFrame df_unique_categories\ndf_unique_categories = df_all_documents_cat.drop_duplicates(subset = ['url', 'code'], keep = 'last').reset_index(drop=True)\ndf_unique_categories",
      "block_group": "bdd4d5c33e9049d7a807607c73cddad8",
      "execution_count": 225,
      "outputs": [],
      "outputs_reference": null,
      "content_dependencies": null
    },
    {
      "cell_type": "markdown",
      "metadata": {
        "cell_id": "5c8ec4da31164b9180d5d8640d15f995",
        "deepnote_cell_type": "markdown"
      },
      "source": "Create a new DataFrame, df_category, based on a group count on the 'codename' column in the documentcategory DataFrame",
      "block_group": "0b1fa163f75f40a08545f844d2a18b92"
    },
    {
      "cell_type": "code",
      "metadata": {
        "source_hash": "4e74ce33",
        "execution_start": 1750783974411,
        "execution_millis": 163,
        "deepnote_table_state": {
          "sortBy": [
            {
              "id": "count",
              "type": "desc"
            }
          ],
          "filters": [],
          "pageSize": 10,
          "pageIndex": 0,
          "columnOrder": [
            "codename",
            "count"
          ],
          "hiddenColumnIds": [],
          "columnDisplayNames": [],
          "conditionalFilters": [],
          "cellFormattingRules": [],
          "wrappedTextColumnIds": []
        },
        "execution_context_id": "7592b70b-482e-4e0c-8709-d6d705166c91",
        "deepnote_table_loading": false,
        "deepnote_app_is_code_hidden": true,
        "cell_id": "18c31bc2ca084663bc7f22ad4300f1ba",
        "deepnote_cell_type": "code"
      },
      "source": "df_category = pd.DataFrame(df_unique_categories.groupby(['codename']).size().reset_index(name='count') \\\n                             .sort_values(['count'], ascending=False))\ndf_category",
      "block_group": "83e416bc4adb4f60882521ded588cf9b",
      "execution_count": 226,
      "outputs": [],
      "outputs_reference": null,
      "content_dependencies": null
    },
    {
      "cell_type": "code",
      "metadata": {
        "source_hash": "4c9f3e3c",
        "execution_start": 1750783974621,
        "execution_millis": 1,
        "deepnote_table_state": {
          "sortBy": [],
          "filters": [],
          "pageSize": 10,
          "pageIndex": 0,
          "columnOrder": [
            "count",
            "meta_count"
          ],
          "hiddenColumnIds": [],
          "columnDisplayNames": [],
          "conditionalFilters": [],
          "cellFormattingRules": [],
          "wrappedTextColumnIds": []
        },
        "execution_context_id": "7592b70b-482e-4e0c-8709-d6d705166c91",
        "deepnote_table_loading": false,
        "deepnote_app_is_code_hidden": true,
        "cell_id": "4cc440f413674b0d8941ae7c249bd6c6",
        "deepnote_cell_type": "code"
      },
      "source": "## Group count on count\ndf_category_url_count_meta = pd.DataFrame(df_category_url_count.groupby(['count']).size().reset_index(name='meta_count') \\\n                             .sort_values(['meta_count'], ascending=False))\ndf_category_url_count_meta",
      "block_group": "817f005c02624b98b2898262aaf4e257",
      "execution_count": 227,
      "outputs": [],
      "outputs_reference": null,
      "content_dependencies": null
    },
    {
      "cell_type": "markdown",
      "metadata": {
        "deepnote_app_block_order": 18,
        "deepnote_app_block_visible": true,
        "deepnote_app_block_group_id": null,
        "cell_id": "5b004f5808fe4b769a13efc9d850cea9",
        "deepnote_cell_type": "markdown"
      },
      "source": "# Examine\n\nLook up an organisation's statistics",
      "block_group": "ee8cdba04add4a74bae5e238746140de"
    },
    {
      "cell_type": "markdown",
      "metadata": {
        "deepnote_app_block_order": 19,
        "deepnote_app_block_visible": true,
        "deepnote_app_block_group_id": null,
        "cell_id": "214184cbfd834c74906c803aa62c0cca",
        "deepnote_cell_type": "markdown"
      },
      "source": "The top 15 organisations who report document links are in the dropdown below. Choose one to generate statistics for that organisation.",
      "block_group": "71603f31a1fe488ab8994c936d8847da"
    },
    {
      "cell_type": "code",
      "metadata": {
        "source_hash": "2cdcb318",
        "execution_start": 1750783974671,
        "execution_millis": 1,
        "deepnote_input_label": "Reporting Organisation",
        "execution_context_id": "7592b70b-482e-4e0c-8709-d6d705166c91",
        "deepnote_variable_name": "reporting_organisation",
        "deepnote_variable_value": "United Nations Development Programme (UNDP)",
        "deepnote_app_block_order": 20,
        "deepnote_variable_options": [
          "United Nations Development Programme (UNDP)",
          "United Nations Children's Fund (UNICEF)",
          "Inter-American Development Bank",
          "The World Bank",
          "World Bank Trust Funds",
          "African Development Bank",
          "Canada - Global Affairs Canada | Affaires mondiales Canada",
          "UK - Foreign, Commonwealth and Development Office",
          "Netherlands - Ministry of Foreign Affairs",
          "World Health Organization (WHO)",
          "Germany - Ministry for Economic Cooperation and Development",
          "Gavi, the vaccine alliance",
          "The Global Fund to Fight AIDS, Tuberculosis and Malaria",
          "Asian Development Bank",
          "International Finance Corporation"
        ],
        "deepnote_app_block_visible": true,
        "deepnote_app_block_group_id": null,
        "deepnote_variable_select_type": "from-variable",
        "deepnote_variable_default_value": "United Nations Development Programme (UNDP)",
        "deepnote_variable_custom_options": [
          "Option 1",
          "Option 2"
        ],
        "deepnote_variable_selected_variable": "a_top_orgs",
        "cell_id": "1d361c76000e4741adc393cbb8f0a33e",
        "deepnote_cell_type": "input-select"
      },
      "source": "reporting_organisation = 'United Nations Development Programme (UNDP)'",
      "block_group": "eda6cb3d666a4a4d9a8a14f7a83f0d07",
      "execution_count": 228,
      "outputs": [],
      "outputs_reference": null
    },
    {
      "cell_type": "code",
      "metadata": {
        "source_hash": "f9ca17c4",
        "execution_start": 1750783974721,
        "execution_millis": 1,
        "execution_context_id": "7592b70b-482e-4e0c-8709-d6d705166c91",
        "deepnote_app_is_code_hidden": true,
        "cell_id": "e64ebe14abd845498d5fdc24989ac016",
        "deepnote_cell_type": "code"
      },
      "source": "reporting_organisation ",
      "block_group": "0273563c99ed47deb89df265a65e4577",
      "execution_count": 229,
      "outputs": [],
      "outputs_reference": null,
      "content_dependencies": null
    },
    {
      "cell_type": "code",
      "metadata": {
        "source_hash": "eeb6b048",
        "execution_start": 1750783974771,
        "execution_millis": 1,
        "execution_context_id": "7592b70b-482e-4e0c-8709-d6d705166c91",
        "deepnote_app_is_code_hidden": true,
        "cell_id": "d07aba43468c488192af096e11098a45",
        "deepnote_cell_type": "code"
      },
      "source": "reporting_organisation_reference = df_registry_organisations.loc[df_registry_organisations['Publisher'] == reporting_organisation,'reportingorg_ref'].item()\nreporting_organisation_reference",
      "block_group": "53afe783cbae423695d8990988e928f9",
      "execution_count": 230,
      "outputs": [],
      "outputs_reference": null,
      "content_dependencies": null
    },
    {
      "cell_type": "code",
      "metadata": {
        "source_hash": "bd59ccfa",
        "execution_start": 1750783974841,
        "execution_millis": 51,
        "deepnote_table_state": {
          "sortBy": [
            {
              "id": "documentdate_isodate",
              "type": "desc"
            }
          ],
          "filters": [],
          "pageSize": 5,
          "pageIndex": 0,
          "columnOrder": [
            "_link",
            "prefix",
            "documentdate_isodate",
            "format",
            "url",
            "source",
            "reportingorg_ref",
            "Publisher",
            "Organization Type"
          ],
          "hiddenColumnIds": [],
          "columnDisplayNames": [],
          "conditionalFilters": [],
          "cellFormattingRules": [],
          "wrappedTextColumnIds": []
        },
        "execution_context_id": "7592b70b-482e-4e0c-8709-d6d705166c91",
        "deepnote_table_loading": false,
        "deepnote_app_is_code_hidden": true,
        "cell_id": "fb2d8e7c76c444a1899ec908d50b6049",
        "deepnote_cell_type": "code"
      },
      "source": "df_one_org = df_unique_documents.loc[df_unique_documents['Publisher'] == reporting_organisation]\ndf_one_org",
      "block_group": "981a11297628416e813d8d49a68fa891",
      "execution_count": 231,
      "outputs": [],
      "outputs_reference": null,
      "content_dependencies": null
    },
    {
      "cell_type": "code",
      "metadata": {
        "source_hash": "af131f15",
        "execution_start": 1750783974941,
        "execution_millis": 1,
        "execution_context_id": "7592b70b-482e-4e0c-8709-d6d705166c91",
        "deepnote_app_block_order": 21,
        "deepnote_app_block_visible": true,
        "deepnote_app_block_group_id": null,
        "deepnote_app_is_code_hidden": true,
        "deepnote_app_is_output_hidden": false,
        "cell_id": "1a567c4595354792992e9603b228734e",
        "deepnote_cell_type": "code"
      },
      "source": "print(\"Where do {} declare their document-links?\".format(reporting_organisation))",
      "block_group": "db52a877170448cc9f753461da585a86",
      "execution_count": 232,
      "outputs": [],
      "outputs_reference": null,
      "content_dependencies": null
    },
    {
      "cell_type": "code",
      "metadata": {
        "source_hash": "dd9781c",
        "execution_start": 1750783975011,
        "execution_millis": 1,
        "execution_context_id": "7592b70b-482e-4e0c-8709-d6d705166c91",
        "deepnote_app_is_code_hidden": true,
        "cell_id": "bcab708eab724a6ea3c4e7f3232fe0b4",
        "deepnote_cell_type": "code"
      },
      "source": "df_one_org_source = pd.DataFrame(df_one_org['source'].value_counts().reset_index())\ndf_one_org_source",
      "block_group": "d9000625a37f44598d10a1fedd222908",
      "execution_count": 233,
      "outputs": [],
      "outputs_reference": null,
      "content_dependencies": null
    },
    {
      "cell_type": "code",
      "metadata": {
        "source_hash": "4ee6deb9",
        "execution_start": 1750783975061,
        "execution_millis": 1,
        "execution_context_id": "7592b70b-482e-4e0c-8709-d6d705166c91",
        "deepnote_app_block_order": 23,
        "deepnote_app_block_visible": true,
        "deepnote_app_block_group_id": null,
        "deepnote_app_is_code_hidden": true,
        "deepnote_app_is_output_hidden": false,
        "cell_id": "123ebc21767448f6ae2dfe55c9914d51",
        "deepnote_cell_type": "code"
      },
      "source": "print(\"When do {} declare they published their document-links?\".format(reporting_organisation))",
      "block_group": "a235fc5f4b3847dc90ebe5aa6865f95d",
      "execution_count": 234,
      "outputs": [],
      "outputs_reference": null,
      "content_dependencies": null
    },
    {
      "cell_type": "code",
      "metadata": {
        "source_hash": "893b68af",
        "execution_start": 1750783975122,
        "execution_millis": 0,
        "execution_context_id": "7592b70b-482e-4e0c-8709-d6d705166c91",
        "deepnote_app_is_code_hidden": true,
        "cell_id": "4edf1d07e46640b18cd0998d1574aa45",
        "deepnote_cell_type": "code"
      },
      "source": "df_date = pd.DataFrame(df_one_org.groupby(['documentdate_isodate']).size().reset_index(name='count') \\\n                             .sort_values(['documentdate_isodate'], ascending=False))\ndf_date",
      "block_group": "36103784263d4316978816c270f80b03",
      "execution_count": 235,
      "outputs": [],
      "outputs_reference": null,
      "content_dependencies": null
    },
    {
      "cell_type": "code",
      "metadata": {
        "source_hash": "534fafaf",
        "execution_start": 1750783975182,
        "execution_millis": 0,
        "execution_context_id": "7592b70b-482e-4e0c-8709-d6d705166c91",
        "deepnote_app_block_order": 25,
        "deepnote_app_block_visible": true,
        "deepnote_app_block_group_id": null,
        "deepnote_app_is_code_hidden": true,
        "deepnote_app_is_output_hidden": false,
        "cell_id": "737a49b866524db2b462dfeb0fd93dd5",
        "deepnote_cell_type": "code"
      },
      "source": "print(\"In what formats do {} publish their document-links?\".format(reporting_organisation))",
      "block_group": "bff1400adafa4aca98d5fbcc4a612d99",
      "execution_count": 236,
      "outputs": [],
      "outputs_reference": null,
      "content_dependencies": null
    },
    {
      "cell_type": "code",
      "metadata": {
        "source_hash": "e4bcaf17",
        "execution_start": 1750783975231,
        "execution_millis": 1,
        "execution_context_id": "7592b70b-482e-4e0c-8709-d6d705166c91",
        "deepnote_app_is_code_hidden": true,
        "cell_id": "f03f05b978214786bcd7373ea8c0af5a",
        "deepnote_cell_type": "code"
      },
      "source": "df_format = df_one_org.groupby(['format']).size().reset_index(name='count').sort_values(['count'], ascending=False)\ndf_format",
      "block_group": "2cfd84cbd27240c0948deeb4e4742a69",
      "execution_count": 237,
      "outputs": [],
      "outputs_reference": null,
      "content_dependencies": null
    },
    {
      "cell_type": "code",
      "metadata": {
        "source_hash": "7a10007b",
        "execution_start": 1750783975281,
        "execution_millis": 1,
        "execution_context_id": "7592b70b-482e-4e0c-8709-d6d705166c91",
        "deepnote_app_block_order": 27,
        "deepnote_app_block_visible": true,
        "deepnote_app_block_group_id": null,
        "deepnote_app_is_code_hidden": true,
        "deepnote_app_is_output_hidden": false,
        "cell_id": "0783a916eb6a4987966a8b124804c0ff",
        "deepnote_cell_type": "code"
      },
      "source": "print(\"In what languages do {} publish their document-links?\".format(reporting_organisation))",
      "block_group": "43b46af5faf04046b8f2200786573e4b",
      "execution_count": 238,
      "outputs": [],
      "outputs_reference": null,
      "content_dependencies": null
    },
    {
      "cell_type": "code",
      "metadata": {
        "source_hash": "361311ea",
        "execution_start": 1750783975401,
        "execution_millis": 58,
        "deepnote_table_state": {
          "sortBy": [],
          "filters": [],
          "pageSize": 5,
          "pageIndex": 0,
          "columnOrder": [
            "dataset",
            "_link",
            "_link_activity",
            "_link_documentlink",
            "prefix",
            "iatiidentifier",
            "reportingorg_ref",
            "code",
            "codename"
          ],
          "hiddenColumnIds": [],
          "columnDisplayNames": [],
          "conditionalFilters": [],
          "cellFormattingRules": [],
          "wrappedTextColumnIds": []
        },
        "execution_context_id": "7592b70b-482e-4e0c-8709-d6d705166c91",
        "deepnote_table_loading": false,
        "deepnote_app_is_code_hidden": true,
        "cell_id": "f29630230a2c4b79978f8a40e560563d",
        "deepnote_cell_type": "code"
      },
      "source": "df_top_org_language = pd.DataFrame(df_unique_languages.loc[df_unique_languages['reportingorg_ref'] == reporting_organisation_reference])\ndf_top_org_language",
      "block_group": "008e2abe3eb741e7982b36f6a4146e78",
      "execution_count": 239,
      "outputs": [],
      "outputs_reference": null,
      "content_dependencies": null
    },
    {
      "cell_type": "code",
      "metadata": {
        "source_hash": "1b9af53f",
        "execution_start": 1750783975502,
        "execution_millis": 0,
        "execution_context_id": "7592b70b-482e-4e0c-8709-d6d705166c91",
        "deepnote_app_is_code_hidden": true,
        "cell_id": "0d944508e6a24ee6959db4406bb89cd3",
        "deepnote_cell_type": "code"
      },
      "source": "df_org_language = df_top_org_language.groupby(['codename']).size().reset_index(name='count').sort_values(['count'], ascending=False)\ndf_org_language",
      "block_group": "31a8be316853494992d8bc4df9e88f9e",
      "execution_count": 240,
      "outputs": [],
      "outputs_reference": null,
      "content_dependencies": null
    },
    {
      "cell_type": "code",
      "metadata": {
        "source_hash": "16e9440e",
        "execution_start": 1750783975551,
        "execution_millis": 1,
        "execution_context_id": "7592b70b-482e-4e0c-8709-d6d705166c91",
        "deepnote_app_block_order": 29,
        "deepnote_app_block_visible": true,
        "deepnote_app_block_group_id": null,
        "deepnote_app_is_code_hidden": true,
        "deepnote_app_is_output_hidden": false,
        "cell_id": "732a7af41b254fa985ffe680f459de16",
        "deepnote_cell_type": "code"
      },
      "source": "print(\"What category of documents do {} publish?\".format(reporting_organisation))",
      "block_group": "8e9044ff228a458f99929591b721189b",
      "execution_count": 241,
      "outputs": [],
      "outputs_reference": null,
      "content_dependencies": null
    },
    {
      "cell_type": "code",
      "metadata": {
        "source_hash": "1d62ad08",
        "execution_start": 1750783975711,
        "execution_millis": 55,
        "execution_context_id": "7592b70b-482e-4e0c-8709-d6d705166c91",
        "deepnote_app_is_code_hidden": true,
        "cell_id": "9c995b8d1b424ecaab70b2c163b012b2",
        "deepnote_cell_type": "code"
      },
      "source": "df_top_org_cat = pd.DataFrame(df_unique_categories.loc[df_unique_categories['reportingorg_ref'] == reporting_organisation_reference])\ndf_top_org_cat",
      "block_group": "25e4df80165443e487a7b6b13adf25ff",
      "execution_count": 242,
      "outputs": [],
      "outputs_reference": null,
      "content_dependencies": null
    },
    {
      "cell_type": "code",
      "metadata": {
        "source_hash": "bc4c14c6",
        "execution_start": 1750783975812,
        "execution_millis": 0,
        "execution_context_id": "7592b70b-482e-4e0c-8709-d6d705166c91",
        "deepnote_app_is_code_hidden": true,
        "cell_id": "2a31037902e44e168b74c8c616550ea4",
        "deepnote_cell_type": "code"
      },
      "source": "df_top_org_cat_group = df_top_org_cat.groupby(['codename']).size().reset_index(name='count').sort_values(['count'], ascending=False)\ndf_top_org_cat_group",
      "block_group": "64e6771324d143fabdfc9306aa3394e3",
      "execution_count": 243,
      "outputs": [],
      "outputs_reference": null,
      "content_dependencies": null
    },
    {
      "cell_type": "markdown",
      "metadata": {
        "cell_id": "3a1a61000ca243cdb339f506e0d4e023",
        "deepnote_cell_type": "markdown"
      },
      "source": "# Availability",
      "block_group": "84a55df4d07749df91048fd768e3c3f8"
    },
    {
      "cell_type": "markdown",
      "metadata": {
        "formattedRanges": [],
        "cell_id": "615bafd4ac2749aab0070f56539968ee",
        "deepnote_cell_type": "text-cell-h3"
      },
      "source": "### Asynchronous URL Status Checker with Redirect Tracking",
      "block_group": "376f2a3075de4a16abc0fc8f52a797c2"
    },
    {
      "cell_type": "markdown",
      "metadata": {
        "formattedRanges": [
          {
            "type": "marks",
            "marks": {
              "bold": true
            },
            "toCodePoint": 12,
            "fromCodePoint": 0
          }
        ],
        "cell_id": "877efdc8697c49bd859fea63702381a4",
        "deepnote_cell_type": "text-cell-p"
      },
      "source": "Description:\nThis script efficiently validates large batches of URLs using asynchronous aiohttp and asyncio. It performs non-blocking HTTP HEAD requests to quickly check URL statuses, with support for retrying on transient errors and handling rate limits (e.g., HTTP 429). The check_urls() function takes a DataFrame of URLs and returns detailed results, including HTTP status codes, final resolved URLs, and redirect behavior. It also detects domain changes and upgrades from HTTP to HTTPS, making the tool ideal for validating and auditing links in publishing, SEO, archiving, and data integrity workflows.",
      "block_group": "79bf02f9445b449eaef24f959ce1cef2"
    },
    {
      "cell_type": "markdown",
      "metadata": {
        "formattedRanges": [
          {
            "type": "marks",
            "marks": {
              "bold": true
            },
            "toCodePoint": 27,
            "fromCodePoint": 0
          }
        ],
        "cell_id": "b32ce7aec5e54f51909863b8cea7a688",
        "deepnote_cell_type": "text-cell-p"
      },
      "source": "Head only without the delay",
      "block_group": "cb05d84f2a90463eba48a7407e03e663"
    },
    {
      "cell_type": "code",
      "metadata": {
        "source_hash": "99e54c11",
        "execution_start": 1750783975871,
        "execution_millis": 1,
        "execution_context_id": "7592b70b-482e-4e0c-8709-d6d705166c91",
        "deepnote_app_is_code_hidden": true,
        "cell_id": "346f5ce81ab243ee876043126c92837d",
        "deepnote_cell_type": "code"
      },
      "source": "# nest_asyncio.apply()\n\n# async def fetch_status_head_only(session, url, follow_redirects=True, max_retries=2):\n#     for attempt in range(max_retries + 1):  # Allow retries\n#         try:\n#             async with session.head(url, timeout=10, allow_redirects=follow_redirects) as response:\n#                 return url, response.status, str(response.url)\n\n#         except aiohttp.ClientResponseError as e:\n#             if e.status == 429:\n#                 retry_after = int(e.headers.get(\"Retry-After\", \"5\"))\n#                 await asyncio.sleep(retry_after)\n#                 continue  # Retry\n#             else:\n#                 return url, e.status, f\"HTTP {e.status}: {str(e)[:80]}\"\n\n#         except Exception as e:\n#             return url, None, str(e)[:100]\n\n#     return url, 429, \"Too Many Requests after retries\"\n\n# async def fetch_all_statuses(urls, batch_size=50, follow_redirects=True):\n#     results = []\n#     connector = aiohttp.TCPConnector(limit_per_host=batch_size)\n#     async with aiohttp.ClientSession(connector=connector) as session:\n#         tasks = []\n#         for url in urls:\n#             task = fetch_status_head_only(session, url, follow_redirects)\n#             tasks.append(task)\n#             if len(tasks) == batch_size:\n#                 batch_results = await asyncio.gather(*tasks)\n#                 results.extend(batch_results)\n#                 tasks = []\n#         if tasks:\n#             batch_results = await asyncio.gather(*tasks)\n#             results.extend(batch_results)\n#     return results\n\n# def check_urls(df, url_column='url', follow_redirects=True, batch_size=50):\n#     urls = df[url_column].tolist()\n\n#     print(f\"Checking {len(urls)} URLs (HEAD requests only, follow_redirects={follow_redirects})...\")\n#     start_time = time.time()\n#     results = asyncio.run(fetch_all_statuses(urls, batch_size, follow_redirects))\n#     elapsed = time.time() - start_time\n\n#     status_df = pd.DataFrame(results, columns=['url', 'HTTP_Response', 'Final_URL'])\n#     status_df['url'] = status_df['url'].astype(str)\n#     status_df['Final_URL'] = status_df['Final_URL'].astype(str)\n\n#     result_df = df.merge(status_df, on=url_column, how=\"left\")\n#     result_df['Is_Redirect'] = result_df['url'] != result_df['Final_URL']\n\n#     print(f\"Completed in {elapsed:.2f} seconds\")\n#     print(f\"Status code distribution:\")\n#     print(result_df['HTTP_Response'].value_counts().sort_index())\n\n#     redirect_count = result_df['Is_Redirect'].sum()\n#     print(f\"Redirects: {redirect_count} / {len(result_df)}\")\n\n#     if redirect_count > 0:\n#         redirected = result_df[result_df['Is_Redirect']].copy()\n\n#         try:\n#             redirected['original_domain'] = redirected['url'].apply(\n#                 lambda x: x.split('/')[2] if isinstance(x, str) and len(x.split('/')) > 2 else '')\n#             redirected['final_domain'] = redirected['Final_URL'].apply(\n#                 lambda x: x.split('/')[2] if isinstance(x, str) and len(x.split('/')) > 2 else '')\n#             redirected['domain_changed'] = redirected['original_domain'] != redirected['final_domain']\n#             domain_changes = redirected['domain_changed'].sum()\n\n#             print(f\"Redirects to different domains: {domain_changes}\")\n#             print(f\"Redirects within same domain: {len(redirected) - domain_changes}\")\n\n#             http_to_https = sum(\n#                 (redirected['url'].str.startswith('http://')) &\n#                 (redirected['Final_URL'].str.startswith('https://'))\n#             )\n#             print(f\"HTTP to HTTPS upgrades: {http_to_https}\")\n\n#         except Exception as e:\n#             print(f\"Could not analyse domain changes: {str(e)}\")\n\n#     return result_df",
      "block_group": "cb5ed969605c405586fe48ddb1ff202f",
      "execution_count": 244,
      "outputs": [],
      "outputs_reference": null,
      "content_dependencies": null
    },
    {
      "cell_type": "markdown",
      "metadata": {
        "deepnote_app_block_visible": false,
        "cell_id": "8f463166777a46718acd51eeb0607094",
        "deepnote_cell_type": "markdown"
      },
      "source": "(Head only without the delay with some modifications)",
      "block_group": "73b7ff2d4bf04fb3a309b29b3eb299a8"
    },
    {
      "cell_type": "markdown",
      "metadata": {
        "formattedRanges": [],
        "cell_id": "9e5edf5c44ca432db311d6c96463809a",
        "deepnote_cell_type": "text-cell-p"
      },
      "source": "This script is a simplified version of the original async URL checker in the block above. It uses HEAD requests without delay, adds URL deduplication, and improves reporting with clearer logging and domain-level redirect analysis. The status checks are done on unique URLs, then merged back to the original DataFrame",
      "block_group": "c0bac86aea4f46fea5701c6701fc6d72"
    },
    {
      "cell_type": "code",
      "metadata": {
        "source_hash": "2baa8027",
        "execution_start": 1750783975921,
        "execution_millis": 0,
        "execution_context_id": "7592b70b-482e-4e0c-8709-d6d705166c91",
        "deepnote_app_is_code_hidden": true,
        "cell_id": "cd73e197610a48969924783f3d363ed0",
        "deepnote_cell_type": "code"
      },
      "source": "# nest_asyncio.apply()\n# async def fetch_status_head_only(session, url, follow_redirects=True, max_retries=2):\n#     for attempt in range(max_retries + 1):\n#         try:\n#             async with session.head(url, timeout=10, allow_redirects=follow_redirects) as response:\n#                 return url, response.status, str(response.url)\n#         except aiohttp.ClientResponseError as e:\n#             if e.status == 429:\n#                 retry_after = int(e.headers.get(\"Retry-After\", \"5\"))\n#                 await asyncio.sleep(retry_after)\n#                 continue\n#             else:\n#                 return url, e.status, f\"HTTP {e.status}: {str(e)[:80]}\"\n#         except Exception as e:\n#             return url, None, str(e)[:100]\n#     return url, 429, \"Too Many Requests after retries\"\n\n# async def fetch_all_statuses(urls, batch_size=50, follow_redirects=True):\n#     results = []\n#     connector = aiohttp.TCPConnector(limit_per_host=batch_size)\n#     async with aiohttp.ClientSession(connector=connector) as session:\n#         tasks = []\n#         for url in urls:\n#             task = fetch_status_head_only(session, url, follow_redirects)\n#             tasks.append(task)\n#             if len(tasks) == batch_size:\n#                 batch_results = await asyncio.gather(*tasks)\n#                 results.extend(batch_results)\n#                 tasks = []\n#         if tasks:\n#             batch_results = await asyncio.gather(*tasks)\n#             results.extend(batch_results)\n#     return results\n\n# def check_urls(df, url_column='url', follow_redirects=True, batch_size=50):\n#     print(f\"\\nInitial DataFrame size: {len(df):,}\")\n\n#     # 1. Deduplicate URLs before checking\n#     unique_urls_df = df[[url_column]].drop_duplicates().copy()\n#     urls = unique_urls_df[url_column].tolist()\n#     print(f\"Unique URLs to check: {len(urls):,}\")\n\n#     # 2. Fetch status codes\n#     print(f\"Checking {len(urls):,} URLs (HEAD requests only, follow_redirects={follow_redirects})...\")\n#     start_time = time.time()\n#     results = asyncio.run(fetch_all_statuses(urls, batch_size, follow_redirects))\n#     elapsed = time.time() - start_time\n#     print(f\"Completed in {elapsed:.2f} seconds\")\n\n#     # 3. Create status DataFrame\n#     status_df = pd.DataFrame(results, columns=['url', 'HTTP_Response', 'Final_URL'])\n#     status_df['url'] = status_df['url'].astype(str)\n#     status_df['Final_URL'] = status_df['Final_URL'].astype(str)\n#     print(f\"Status DataFrame created: {len(status_df):,} rows\")\n\n#     # 4. Merge back to original\n#     merged_df = df.merge(status_df, on=url_column, how=\"left\")\n#     print(f\"Merged result shape: {len(merged_df):,} rows (should match original df)\")\n#     merged_df['Is_Redirect'] = merged_df['url'] != merged_df['Final_URL']\n\n#     # 5. Status breakdown\n#     print(\"\\nStatus code distribution:\")\n#     print(merged_df['HTTP_Response'].value_counts().sort_index())\n\n#     redirect_count = merged_df['Is_Redirect'].sum()\n#     print(f\"\\nRedirects found: {redirect_count:,} / {len(merged_df):,}\")\n\n#     # 6. redirect domain analysis\n#     if redirect_count > 0:\n#         redirected = merged_df[merged_df['Is_Redirect']].copy()\n\n#         try:\n#             redirected['original_domain'] = redirected['url'].apply(\n#                 lambda x: x.split('/')[2] if isinstance(x, str) and len(x.split('/')) > 2 else '')\n#             redirected['final_domain'] = redirected['Final_URL'].apply(\n#                 lambda x: x.split('/')[2] if isinstance(x, str) and len(x.split('/')) > 2 else '')\n#             redirected['domain_changed'] = redirected['original_domain'] != redirected['final_domain']\n#             domain_changes = redirected['domain_changed'].sum()\n\n#             print(f\"Redirects to different domains: {domain_changes:,}\")\n#             print(f\"Redirects within same domain: {len(redirected) - domain_changes:,}\")\n\n#             http_to_https = sum(\n#                 (redirected['url'].str.startswith('http://')) &\n#                 (redirected['Final_URL'].str.startswith('https://'))\n#             )\n#             print(f\"HTTP to HTTPS upgrades: {http_to_https:,}\")\n\n#         except Exception as e:\n#             print(f\"Could not analyse domain changes: {str(e)}\")\n\n#     return merged_df",
      "block_group": "c33a2b068e5e4a4ca5530245ba85ff2e",
      "execution_count": 245,
      "outputs": [],
      "outputs_reference": null,
      "content_dependencies": null
    },
    {
      "cell_type": "code",
      "metadata": {
        "source_hash": "17cf01e8",
        "execution_start": 1750783975971,
        "execution_millis": 0,
        "execution_context_id": "7592b70b-482e-4e0c-8709-d6d705166c91",
        "deepnote_app_is_code_hidden": true,
        "cell_id": "12f70e5f67cc4561ba7399a2b5fd0aad",
        "deepnote_cell_type": "code"
      },
      "source": "# df_status_all = check_urls(df_unique_documents, follow_redirects=True, batch_size=50)",
      "block_group": "cd836b03b79a4781807039b23c0b86e6",
      "execution_count": 246,
      "outputs": [],
      "outputs_reference": null,
      "content_dependencies": null
    },
    {
      "cell_type": "markdown",
      "metadata": {
        "formattedRanges": [
          {
            "type": "marks",
            "marks": {
              "bold": true
            },
            "toCodePoint": 15,
            "fromCodePoint": 0
          }
        ],
        "cell_id": "03c1699677d746f39f7e86581fbd6d9f",
        "deepnote_cell_type": "text-cell-p"
      },
      "source": "Storing results",
      "block_group": "368b75be3a2044aabe1418a4474d35d3"
    },
    {
      "cell_type": "code",
      "metadata": {
        "source_hash": "68690af1",
        "execution_start": 1750783976021,
        "execution_millis": 1,
        "execution_context_id": "7592b70b-482e-4e0c-8709-d6d705166c91",
        "deepnote_app_is_code_hidden": true,
        "cell_id": "92f72002724e41cda20c91b33ea3b84f",
        "deepnote_cell_type": "code"
      },
      "source": "# Creates a variable to include in the app informing people when we the last running of the notebook finished. Similar to datetime when urls were checked.\nlast_run_finish_time = datetime.today().strftime('%Y-%m-%d %H:%M:%S')\nlast_run_finish_time",
      "block_group": "5109f65d0fac43f493c842c58e3023aa",
      "execution_count": 247,
      "outputs": [],
      "outputs_reference": null,
      "content_dependencies": null
    },
    {
      "cell_type": "code",
      "metadata": {
        "source_hash": "3e85fa97",
        "execution_start": 1750783976081,
        "execution_millis": 1,
        "execution_context_id": "7592b70b-482e-4e0c-8709-d6d705166c91",
        "deepnote_app_is_code_hidden": true,
        "cell_id": "33d6e7532d3d49e99da303b0af5b04c3",
        "deepnote_cell_type": "code"
      },
      "source": "## Create a DataFrame to hold the Big Numbers we will use at the top of the app\ndf_big_numbers = pd.DataFrame({\n    'total': ['total_document_links', 'total_reporting_orgs', 'total_unique_document_links', 'empty_date_count', 'last_run_start_time', 'last_run_finish_time'],\n    'count': [total_document_links, total_reporting_orgs, total_unique_document_links, empty_date_count, last_run_start_time, last_run_finish_time]\n})\ndf_big_numbers",
      "block_group": "7f5114136b6d4e80a07c368fa9fcb0f3",
      "execution_count": 248,
      "outputs": [],
      "outputs_reference": null,
      "content_dependencies": null
    },
    {
      "cell_type": "code",
      "metadata": {
        "source_hash": "5ec4a894",
        "execution_start": 1750783976141,
        "execution_millis": 0,
        "execution_context_id": "7592b70b-482e-4e0c-8709-d6d705166c91",
        "deepnote_app_block_order": 2,
        "deepnote_app_block_width": 33.333333333333336,
        "deepnote_big_number_title": "Total number of document links published",
        "deepnote_big_number_value": "total_document_links",
        "deepnote_app_block_visible": true,
        "deepnote_big_number_format": "number",
        "deepnote_app_block_group_id": "41b486f2-173e-4a58-a1cc-e7f183ff4aef",
        "deepnote_big_number_comparison_type": "",
        "deepnote_big_number_comparison_title": "",
        "deepnote_big_number_comparison_value": "",
        "deepnote_big_number_comparison_format": "",
        "deepnote_big_number_comparison_enabled": false,
        "cell_id": "440741cadb8b498088d843e9981598af",
        "deepnote_cell_type": "big-number"
      },
      "source": "\ndef __deepnote_big_number__():\n    import json\n    import jinja2\n    from jinja2 import meta\n\n    def render_template(template):\n        parsed_content = jinja2.Environment().parse(template)\n\n        required_variables = meta.find_undeclared_variables(parsed_content)\n\n        context = {\n            variable_name: globals().get(variable_name)\n            for variable_name in required_variables\n        }\n\n        result = jinja2.Environment().from_string(template).render(context)\n\n        return result\n\n    rendered_title = render_template(\"Total number of document links published\")\n    rendered_comparison_title = render_template(\"\")\n\n    return json.dumps({\n        \"comparisonTitle\": rendered_comparison_title,\n        \"comparisonValue\": \"\",\n        \"title\": rendered_title,\n        \"value\": f\"{total_document_links}\"\n    })\n\n__deepnote_big_number__()\n",
      "block_group": "0c779792f8244cb9a618befdc2f8503f",
      "execution_count": 249,
      "outputs": [],
      "outputs_reference": null
    },
    {
      "cell_type": "code",
      "metadata": {
        "source_hash": "2c80587d",
        "execution_start": 1750783976191,
        "execution_millis": 1,
        "execution_context_id": "7592b70b-482e-4e0c-8709-d6d705166c91",
        "deepnote_app_block_order": 4,
        "deepnote_app_block_width": 33.333333333333336,
        "deepnote_big_number_title": "Total number of reporting organisations who publish document links",
        "deepnote_big_number_value": "total_reporting_orgs",
        "deepnote_app_block_visible": true,
        "deepnote_big_number_format": "number",
        "deepnote_app_block_group_id": "41b486f2-173e-4a58-a1cc-e7f183ff4aef",
        "deepnote_big_number_comparison_type": "",
        "deepnote_big_number_comparison_title": "",
        "deepnote_big_number_comparison_value": "",
        "deepnote_big_number_comparison_format": "",
        "deepnote_big_number_comparison_enabled": false,
        "cell_id": "22a6293db186449ea8e2c20e425804bd",
        "deepnote_cell_type": "big-number"
      },
      "source": "\ndef __deepnote_big_number__():\n    import json\n    import jinja2\n    from jinja2 import meta\n\n    def render_template(template):\n        parsed_content = jinja2.Environment().parse(template)\n\n        required_variables = meta.find_undeclared_variables(parsed_content)\n\n        context = {\n            variable_name: globals().get(variable_name)\n            for variable_name in required_variables\n        }\n\n        result = jinja2.Environment().from_string(template).render(context)\n\n        return result\n\n    rendered_title = render_template(\"Total number of reporting organisations who publish document links\")\n    rendered_comparison_title = render_template(\"\")\n\n    return json.dumps({\n        \"comparisonTitle\": rendered_comparison_title,\n        \"comparisonValue\": \"\",\n        \"title\": rendered_title,\n        \"value\": f\"{total_reporting_orgs}\"\n    })\n\n__deepnote_big_number__()\n",
      "block_group": "0c779792f8244cb9a618befdc2f8503f",
      "execution_count": 250,
      "outputs": [],
      "outputs_reference": null
    },
    {
      "cell_type": "code",
      "metadata": {
        "source_hash": "9417bf35",
        "execution_start": 1750783976261,
        "execution_millis": 1,
        "execution_context_id": "7592b70b-482e-4e0c-8709-d6d705166c91",
        "deepnote_app_block_order": 3,
        "deepnote_app_block_width": 33.333333333333336,
        "deepnote_big_number_title": "Total number of unique document links published",
        "deepnote_big_number_value": "total_unique_document_links",
        "deepnote_app_block_visible": true,
        "deepnote_big_number_format": "number",
        "deepnote_app_block_group_id": "41b486f2-173e-4a58-a1cc-e7f183ff4aef",
        "deepnote_big_number_comparison_type": "",
        "deepnote_big_number_comparison_title": "",
        "deepnote_big_number_comparison_value": "",
        "deepnote_big_number_comparison_format": "",
        "deepnote_big_number_comparison_enabled": false,
        "cell_id": "bfef3153a9e14fa280d578c543307b0b",
        "deepnote_cell_type": "big-number"
      },
      "source": "\ndef __deepnote_big_number__():\n    import json\n    import jinja2\n    from jinja2 import meta\n\n    def render_template(template):\n        parsed_content = jinja2.Environment().parse(template)\n\n        required_variables = meta.find_undeclared_variables(parsed_content)\n\n        context = {\n            variable_name: globals().get(variable_name)\n            for variable_name in required_variables\n        }\n\n        result = jinja2.Environment().from_string(template).render(context)\n\n        return result\n\n    rendered_title = render_template(\"Total number of unique document links published\")\n    rendered_comparison_title = render_template(\"\")\n\n    return json.dumps({\n        \"comparisonTitle\": rendered_comparison_title,\n        \"comparisonValue\": \"\",\n        \"title\": rendered_title,\n        \"value\": f\"{total_unique_document_links}\"\n    })\n\n__deepnote_big_number__()\n",
      "block_group": "0c779792f8244cb9a618befdc2f8503f",
      "execution_count": 251,
      "outputs": [],
      "outputs_reference": null
    },
    {
      "cell_type": "code",
      "metadata": {
        "source_hash": "40869c86",
        "execution_start": 1750783976311,
        "execution_millis": 0,
        "execution_context_id": "7592b70b-482e-4e0c-8709-d6d705166c91",
        "deepnote_app_is_code_hidden": true,
        "cell_id": "f1dcff91865b438e9895040eb1349490",
        "deepnote_cell_type": "code"
      },
      "source": "# ## Write data to file\n# df_unique_documents.to_csv('/work/data/unique.csv')\n# df_big_numbers.to_csv('/work/data/big_numbers.csv')\n# a_top_orgs.to_csv('/work/data/top_orgs.csv')\n# df_status_all.to_csv('/work/data/unique_status.csv')\n# df_unique_languages.to_csv('/work/data/unique_languages.csv')\n# df_unique_categories.to_csv('/work/data/unique_categories.csv')",
      "block_group": "3be14b8353bf4586a93f200bb9dda4d6",
      "execution_count": 252,
      "outputs": [],
      "outputs_reference": null,
      "content_dependencies": null
    },
    {
      "cell_type": "markdown",
      "source": "<a style='text-decoration:none;line-height:16px;display:flex;color:#5B5B62;padding:10px;justify-content:end;' href='https://deepnote.com?utm_source=created-in-deepnote-cell&projectId=a4a779ab-3f0e-431e-9e2f-034dcb7b14b1' target=\"_blank\">\n<img alt='Created in deepnote.com' style='display:inline;max-height:16px;margin:0px;margin-right:7.5px;' src='data:image/svg+xml;base64,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' > </img>\nCreated in <span style='font-weight:600;margin-left:4px;'>Deepnote</span></a>",
      "metadata": {
        "created_in_deepnote_cell": true,
        "deepnote_cell_type": "markdown"
      }
    }
  ],
  "nbformat": 4,
  "nbformat_minor": 0,
  "metadata": {
    "deepnote_app_clear_outputs": false,
    "deepnote_app_layout": "powerful-article",
    "deepnote_app_table_of_contents_enabled": true,
    "deepnote_app_execution_enabled": true,
    "deepnote_app_hide_all_code_blocks_enabled": true,
    "deepnote_app_run_on_input_enabled": true,
    "deepnote_app_reactivity_enabled": true,
    "deepnote_app_run_on_load_enabled": false,
    "deepnote_notebook_id": "eec28a180978420c8de1679f0ea39b27"
  }
}