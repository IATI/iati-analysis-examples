{
  "cells": [
    {
      "cell_type": "code",
      "source": "#Set up\nimport seaborn as sns\nimport pandas as pd\nfrom datetime import datetime\nimport ast\nimport os\nimport noteql\nimport matplotlib.pyplot as plt",
      "metadata": {
        "source_hash": "ed64ec88",
        "execution_start": 1729007686241,
        "execution_millis": 1159,
        "execution_context_id": "721ba4dc-6334-42e6-b5db-e95c18f0f3ab",
        "deepnote_to_be_reexecuted": false,
        "deepnote_app_block_visible": false,
        "deepnote_app_is_code_hidden": true,
        "deepnote_app_is_output_hidden": true,
        "cell_id": "8f4992a7d4e1442684b43d7c9099c9c0",
        "deepnote_cell_type": "code"
      },
      "outputs": [],
      "outputs_reference": null,
      "execution_count": 3,
      "block_group": "129576965a4e41368890f6968143cd96",
      "content_dependencies": null
    },
    {
      "cell_type": "markdown",
      "source": "# Organisation-Identifier Networking",
      "metadata": {
        "formattedRanges": [],
        "deepnote_app_block_visible": true,
        "cell_id": "b548477ee1414dafacec3ed1f1b9751a",
        "deepnote_cell_type": "text-cell-h1"
      },
      "block_group": "d738a9de9257435f9004220b01c2ece3"
    },
    {
      "cell_type": "markdown",
      "source": "> Organisations publishing IATI data declare participating organisations, which have various roles in their activities. By using Organisation-Identifiers, participating organisations can be uniquely identified, allowing us to create a network.",
      "metadata": {
        "formattedRanges": [
          {
            "url": "https://iatistandard.org/en/iati-standard/203/activity-standard/iati-activities/iati-activity/participating-org/",
            "type": "link",
            "ranges": [],
            "toCodePoint": 70,
            "fromCodePoint": 43
          },
          {
            "url": "https://iatistandard.org/en/iati-standard/203/codelists/organisationrole/",
            "type": "link",
            "ranges": [],
            "toCodePoint": 96,
            "fromCodePoint": 91
          }
        ],
        "deepnote_app_block_visible": true,
        "cell_id": "d27fc6e350de415cb462f43b69671f95",
        "deepnote_cell_type": "text-cell-callout"
      },
      "block_group": "c817c5d4b0dc40978dcac2b2fffa28d5"
    },
    {
      "cell_type": "markdown",
      "source": "> This application visualises the network of shared organisation references in IATI data, based on the participating-org/@ref element. You can create your own visualisation based on type of reporting organisation, specific countries, or using a list of specific organisations. ",
      "metadata": {
        "formattedRanges": [],
        "deepnote_app_block_visible": true,
        "cell_id": "8d013457fe564fc9b3c409764576ed65",
        "deepnote_cell_type": "text-cell-callout"
      },
      "block_group": "9ca0c3baff8f4b8dbfbac2c49fca56d9"
    },
    {
      "cell_type": "markdown",
      "source": "Example network:",
      "metadata": {
        "formattedRanges": [
          {
            "type": "marks",
            "marks": {
              "bold": true
            },
            "toCodePoint": 16,
            "fromCodePoint": 0
          }
        ],
        "deepnote_app_block_visible": true,
        "cell_id": "2fcd3604a6dc4b1d8255fc44333c12fe",
        "deepnote_cell_type": "text-cell-p"
      },
      "block_group": "d8096e53e82a42dd8bdccb3f061f32d7"
    },
    {
      "cell_type": "code",
      "source": "from IPython.core.display import HTML\nHTML('<div class=\"flourish-embed flourish-chord\" data-src=\"visualisation/17570004\" data-width=\"29%\"><script src=\"https://public.flourish.studio/resources/embed.js\"></script></div>')",
      "metadata": {
        "source_hash": "86cfbf11",
        "execution_start": 1729007687452,
        "execution_millis": 29,
        "execution_context_id": "721ba4dc-6334-42e6-b5db-e95c18f0f3ab",
        "deepnote_app_block_visible": true,
        "deepnote_app_is_code_hidden": true,
        "deepnote_app_is_output_hidden": false,
        "cell_id": "93cc45b96e8943dd9b542b43edddaad2",
        "deepnote_cell_type": "code"
      },
      "outputs": [],
      "outputs_reference": null,
      "execution_count": 4,
      "block_group": "a364483cdfca4501972b27da0f14289c",
      "content_dependencies": null
    },
    {
      "cell_type": "markdown",
      "source": "<hr>",
      "metadata": {
        "deepnote_app_block_visible": true,
        "cell_id": "e5d933a5f7404866be045f71e820abde",
        "deepnote_cell_type": "separator"
      },
      "block_group": "72f5e8e4e52848ef9e88eb5d9ca314ca"
    },
    {
      "cell_type": "markdown",
      "source": "## Running the application:",
      "metadata": {
        "formattedRanges": [],
        "deepnote_app_block_visible": true,
        "cell_id": "0a6e60c3366d4ff09bb804143922c412",
        "deepnote_cell_type": "text-cell-h2"
      },
      "block_group": "9572c98d3b3e47efbb33ca55c5050d19"
    },
    {
      "cell_type": "markdown",
      "source": "1. Select the type of visualisation you want to create from the dropdown menu: A. Reporting organisation type, B. Country, or C. A list of reporting organisations.",
      "metadata": {
        "formattedRanges": [
          {
            "type": "marks",
            "marks": {
              "bold": true
            },
            "toCodePoint": 2,
            "fromCodePoint": 0
          },
          {
            "type": "marks",
            "marks": {
              "bold": true
            },
            "toCodePoint": 81,
            "fromCodePoint": 79
          },
          {
            "type": "marks",
            "marks": {
              "bold": true
            },
            "toCodePoint": 109,
            "fromCodePoint": 82
          },
          {
            "type": "marks",
            "marks": {
              "bold": true
            },
            "toCodePoint": 121,
            "fromCodePoint": 111
          },
          {
            "type": "marks",
            "marks": {
              "bold": true
            },
            "toCodePoint": 162,
            "fromCodePoint": 126
          }
        ],
        "deepnote_app_block_visible": true,
        "cell_id": "eb810b0bc5564f8daefdd825d315dc22",
        "deepnote_cell_type": "text-cell-p"
      },
      "block_group": "7c34471488a2411086bb7525de0f247e"
    },
    {
      "cell_type": "code",
      "source": "vis_type = 'Organisations by Type'",
      "metadata": {
        "source_hash": "ea0fe06b",
        "execution_start": 1729007687529,
        "execution_millis": 0,
        "deepnote_input_label": "Visualisation Type",
        "execution_context_id": "721ba4dc-6334-42e6-b5db-e95c18f0f3ab",
        "deepnote_variable_name": "vis_type",
        "deepnote_variable_value": "Organisations by Type",
        "deepnote_to_be_reexecuted": false,
        "deepnote_variable_options": [
          "Organisations by Type",
          "Country",
          "Specific Organisations"
        ],
        "deepnote_app_block_visible": true,
        "deepnote_variable_select_type": "from-options",
        "deepnote_variable_custom_options": [
          "Organisations by Type",
          "Country",
          "Specific Organisations"
        ],
        "deepnote_variable_selected_variable": "",
        "cell_id": "ef3d05e63fd140969f22494ebea8de42",
        "deepnote_cell_type": "input-select"
      },
      "outputs": [],
      "outputs_reference": null,
      "execution_count": 5,
      "block_group": "7c34471488a2411086bb7525de0f247e"
    },
    {
      "cell_type": "markdown",
      "source": "",
      "metadata": {
        "formattedRanges": [],
        "deepnote_app_block_visible": true,
        "cell_id": "72baf18221ff4a4a9d4af6beb2f913b9",
        "deepnote_cell_type": "text-cell-p"
      },
      "block_group": "b3a82e237d62484caaa2d0467de10c4a"
    },
    {
      "cell_type": "markdown",
      "source": "2A. If you are interested in specific organisation types, select them using the dropdown menu. Selecting a large amount of organisation types may cause this application to run slowly or fail.",
      "metadata": {
        "formattedRanges": [
          {
            "type": "marks",
            "marks": {
              "bold": true
            },
            "toCodePoint": 3,
            "fromCodePoint": 0
          },
          {
            "url": "https://iatistandard.org/en/iati-standard/203/codelists/organisationtype/ ",
            "type": "link",
            "ranges": [
              {
                "type": "marks",
                "marks": {
                  "bold": true
                },
                "toCodePoint": 18,
                "fromCodePoint": 0
              }
            ],
            "toCodePoint": 56,
            "fromCodePoint": 38
          }
        ],
        "deepnote_app_block_visible": true,
        "cell_id": "99f77422f2a54e7c83568a455db5af00",
        "deepnote_cell_type": "text-cell-p"
      },
      "block_group": "0e03582dbbfd4d6395f90248f9502ef5"
    },
    {
      "cell_type": "code",
      "source": "rep_org_type = ['10']",
      "metadata": {
        "source_hash": "dbee6f3e",
        "execution_start": 1729007687580,
        "execution_millis": 1,
        "deepnote_input_label": "Reporting Organisation Type",
        "execution_context_id": "721ba4dc-6334-42e6-b5db-e95c18f0f3ab",
        "deepnote_variable_name": "rep_org_type",
        "deepnote_variable_value": "10",
        "deepnote_to_be_reexecuted": false,
        "deepnote_variable_options": [
          "10",
          "11",
          "15",
          "21",
          "22",
          "23",
          "24",
          "30",
          "40",
          "60",
          "70",
          "71",
          "73",
          "80",
          "90"
        ],
        "deepnote_app_block_visible": true,
        "deepnote_variable_select_type": "from-options",
        "deepnote_allow_multiple_values": true,
        "deepnote_variable_custom_options": [
          "10",
          "11",
          "15",
          "21",
          "22",
          "23",
          "24",
          "30",
          "40",
          "60",
          "70",
          "71",
          "73",
          "80",
          "90"
        ],
        "deepnote_variable_selected_variable": "",
        "cell_id": "98c5e3f4e3454079bbf5c8ae10accd38",
        "deepnote_cell_type": "input-select"
      },
      "outputs": [],
      "outputs_reference": null,
      "execution_count": 6,
      "block_group": "0e03582dbbfd4d6395f90248f9502ef5"
    },
    {
      "cell_type": "markdown",
      "source": "**Organisation Types:**\n\n**Code** | **Name**     |\n|---------|---------------------------------|\n| 10 | Government |\n| 11 | Local Government |\n| 15 | Other Public Sector |\n| 21 | International NGO |\n| 22 | National NGO |\n| 23 | Regional NGO |\n| 24 | Partner Country based NGO | \n| 30 | Public Private Partnership |\t\n| 40 | Multilateral |\n| 60 | Foundation |\n| 70 | Private Sector |\n| 71 | Private Sector in Provider Country |\n| 72 | Private Sector in Aid Recipient Country |\n| 73 | Private Sector in Third Country |\n| 80 | Academic, Training and Research | \t\n| 90 | Other \n",
      "metadata": {
        "deepnote_app_block_visible": true,
        "cell_id": "abbc94802b35433990c7c5adc4d3d9b9",
        "deepnote_cell_type": "markdown"
      },
      "block_group": "9539aa1b578e4d8abef520bdb458b222"
    },
    {
      "cell_type": "markdown",
      "source": "Get info country selector dropdown.",
      "metadata": {
        "formattedRanges": [],
        "deepnote_app_block_visible": false,
        "cell_id": "af2b9cfa52f84407a9572a41ddc96b0c",
        "deepnote_cell_type": "text-cell-p"
      },
      "block_group": "4a1e9da4340d4781b7ab79ff884fae99"
    },
    {
      "cell_type": "code",
      "source": "#download latest registry info\n!wget https://iatiregistry.org/publisher/download/csv\nregistry = pd.read_csv(\"csv\")\n!rm -rf \"csv\" \n\ncountries = sorted(registry['HQ Country or Region'].unique())",
      "metadata": {
        "source_hash": "3032c19b",
        "execution_start": 1729007687632,
        "execution_millis": 4395,
        "execution_context_id": "721ba4dc-6334-42e6-b5db-e95c18f0f3ab",
        "deepnote_to_be_reexecuted": false,
        "deepnote_app_block_visible": false,
        "deepnote_app_is_code_hidden": true,
        "deepnote_app_is_output_hidden": true,
        "cell_id": "211b2a269df74411ad7a6affbf49682c",
        "deepnote_cell_type": "code"
      },
      "outputs": [],
      "outputs_reference": null,
      "execution_count": 7,
      "block_group": "426c6e1f56264ee58159573a49c458dc",
      "content_dependencies": null
    },
    {
      "cell_type": "markdown",
      "source": " ",
      "metadata": {
        "formattedRanges": [],
        "deepnote_app_block_visible": true,
        "cell_id": "6df85d5ef1f24510802116c83ea7099f",
        "deepnote_cell_type": "text-cell-p"
      },
      "block_group": "3731f30355a748b38c21c8e9fe734867"
    },
    {
      "cell_type": "markdown",
      "source": "2B.  If you are interested in reporting organisations based in a specific country or countries, select them using the dropdown menu. You can find out where an organisation is based using the registry. Selecting a large number of countries may cause this application to run slowly or fail.",
      "metadata": {
        "formattedRanges": [
          {
            "type": "marks",
            "marks": {
              "bold": true
            },
            "toCodePoint": 4,
            "fromCodePoint": 0
          },
          {
            "url": "https://iatiregistry.org/publisher/. ",
            "type": "link",
            "ranges": [],
            "toCodePoint": 199,
            "fromCodePoint": 191
          }
        ],
        "deepnote_app_block_visible": true,
        "cell_id": "5619699951eb401384083346b36d86a5",
        "deepnote_cell_type": "text-cell-p"
      },
      "block_group": "026fd0a504cd4f22a2e70fb840b52868"
    },
    {
      "cell_type": "code",
      "source": "country_query = ['(No country assigned)']",
      "metadata": {
        "source_hash": "a600038a",
        "execution_start": 1729007692072,
        "execution_millis": 1,
        "deepnote_input_label": "Country",
        "execution_context_id": "721ba4dc-6334-42e6-b5db-e95c18f0f3ab",
        "deepnote_variable_name": "country_query",
        "deepnote_variable_value": "(No country assigned)",
        "deepnote_to_be_reexecuted": false,
        "deepnote_variable_options": [
          "(No country assigned)",
          "Afghanistan",
          "Argentina",
          "Armenia",
          "Australia",
          "Austria",
          "Bangladesh",
          "Belgium",
          "Benin",
          "Bilateral, unspecified",
          "Bolivia",
          "Botswana",
          "Brazil",
          "Burkina Faso",
          "Burundi",
          "Cambodia",
          "Canada",
          "Central African Republic",
          "China",
          "Colombia",
          "Congo (Democratic Republic of the)",
          "Costa Rica",
          "Czechia",
          "Côte D'Ivoire",
          "Denmark",
          "Egypt",
          "Ethiopia",
          "Europe, regional",
          "Finland",
          "France",
          "Georgia",
          "Germany",
          "Ghana",
          "Greece",
          "Hong Kong",
          "India",
          "Indonesia",
          "Iraq",
          "Ireland",
          "Isle of Man",
          "Israel",
          "Italy",
          "Japan",
          "Jordan",
          "Kenya",
          "Korea (Republic of)",
          "Lebanon",
          "Liberia",
          "Lithuania",
          "Madagascar",
          "Malawi",
          "Malaysia",
          "Mali",
          "Mauritius",
          "Mexico",
          "Mozambique",
          "Myanmar",
          "Namibia",
          "Nepal",
          "Netherlands",
          "New Zealand",
          "Nicaragua",
          "Niger",
          "Nigeria",
          "Norway",
          "Pakistan",
          "Palestine, State of",
          "Panama",
          "Paraguay",
          "Peru",
          "Philippines",
          "Romania",
          "Rwanda",
          "Saudi Arabia",
          "Senegal",
          "Sierra Leone",
          "Singapore",
          "Slovakia",
          "Slovenia",
          "Somalia",
          "South Africa",
          "South Sudan",
          "Spain",
          "Sri Lanka",
          "Sudan",
          "Sweden",
          "Switzerland",
          "Taiwan (Province of China)",
          "Tanzania, United Republic of",
          "Thailand",
          "Togo",
          "Tunisia",
          "Turkey",
          "Uganda",
          "Ukraine",
          "United Arab Emirates",
          "United Kingdom",
          "United States",
          "Venezuela (Bolivarian Republic of)",
          "Viet Nam",
          "Yemen",
          "Zambia",
          "Zimbabwe",
          "eSwatini"
        ],
        "deepnote_app_block_visible": true,
        "deepnote_variable_select_type": "from-variable",
        "deepnote_allow_multiple_values": true,
        "deepnote_variable_custom_options": [
          "Option 1",
          "Option 2"
        ],
        "deepnote_variable_selected_variable": "countries",
        "cell_id": "a6ee3f3f636945e59edf24a36c981c6a",
        "deepnote_cell_type": "input-select"
      },
      "outputs": [],
      "outputs_reference": null,
      "execution_count": 8,
      "block_group": "026fd0a504cd4f22a2e70fb840b52868"
    },
    {
      "cell_type": "markdown",
      "source": " ",
      "metadata": {
        "formattedRanges": [],
        "deepnote_app_block_visible": true,
        "cell_id": "51ab7f1674c84995962f173cd4c16dd1",
        "deepnote_cell_type": "text-cell-p"
      },
      "block_group": "da9e366074a7479d9bffd760126569d8"
    },
    {
      "cell_type": "markdown",
      "source": "2C.  If you are interested in a list of specific reporting organisations, enter the Organisation Identifiers of the IATI Publishers you want to select into the text box, copying this formatting exactly: 'AU-5', '44000'.  You can find these identifiers using the registry.",
      "metadata": {
        "formattedRanges": [
          {
            "type": "marks",
            "marks": {
              "bold": true
            },
            "toCodePoint": 4,
            "fromCodePoint": 0
          },
          {
            "type": "marks",
            "marks": {
              "bold": true
            },
            "toCodePoint": 72,
            "fromCodePoint": 32
          },
          {
            "type": "marks",
            "marks": {
              "bold": true
            },
            "toCodePoint": 218,
            "fromCodePoint": 170
          },
          {
            "url": "https://iatiregistry.org/publisher/. ",
            "type": "link",
            "ranges": [],
            "toCodePoint": 270,
            "fromCodePoint": 262
          }
        ],
        "deepnote_app_block_visible": true,
        "cell_id": "3845d68fd7ec4f0c818f9e2bd4fc65bc",
        "deepnote_cell_type": "text-cell-p"
      },
      "block_group": "0c6fc6e90f5a4bd3912ba0b05d2933bf"
    },
    {
      "cell_type": "code",
      "source": "pub_org_id = ''",
      "metadata": {
        "source_hash": "7de31db",
        "execution_start": 1729007692121,
        "execution_millis": 0,
        "deepnote_input_label": "Organisation Identifiers",
        "execution_context_id": "721ba4dc-6334-42e6-b5db-e95c18f0f3ab",
        "deepnote_variable_name": "pub_org_id",
        "deepnote_variable_value": "",
        "deepnote_to_be_reexecuted": false,
        "deepnote_app_block_visible": true,
        "cell_id": "97a1ff1d6fb846518a423418e85dea0b",
        "deepnote_cell_type": "input-text"
      },
      "outputs": [],
      "outputs_reference": null,
      "execution_count": 9,
      "block_group": "0c6fc6e90f5a4bd3912ba0b05d2933bf"
    },
    {
      "cell_type": "markdown",
      "source": "Reporting organisation identifiers:",
      "metadata": {
        "formattedRanges": [
          {
            "type": "marks",
            "marks": {
              "bold": true
            },
            "toCodePoint": 35,
            "fromCodePoint": 0
          }
        ],
        "deepnote_app_block_visible": true,
        "cell_id": "8b46a0846c0647eba3eb54e12b846e5d",
        "deepnote_cell_type": "text-cell-p"
      },
      "block_group": "2b7b10eeb4fd4b07ac8a9e8eaaf690bf"
    },
    {
      "cell_type": "code",
      "source": "registry[['Publisher', 'IATI Organisation Identifier','HQ Country or Region']]",
      "metadata": {
        "source_hash": "31cd5d0",
        "execution_start": 1729007692173,
        "execution_millis": 0,
        "execution_context_id": "721ba4dc-6334-42e6-b5db-e95c18f0f3ab",
        "deepnote_to_be_reexecuted": false,
        "deepnote_app_block_visible": true,
        "deepnote_app_is_code_hidden": true,
        "cell_id": "3a5c0091dbe447c2ab56c32401f51325",
        "deepnote_cell_type": "code"
      },
      "outputs": [],
      "outputs_reference": null,
      "execution_count": 10,
      "block_group": "860d8f993d8b4980af2607f7b3faf6a2",
      "content_dependencies": null
    },
    {
      "cell_type": "markdown",
      "source": " ",
      "metadata": {
        "formattedRanges": [],
        "deepnote_app_block_visible": true,
        "cell_id": "1e3c989c3b2a4e7f8b2c42dd6e0201f2",
        "deepnote_cell_type": "text-cell-p"
      },
      "block_group": "106f06055319475fbf14f081ea77ffa7"
    },
    {
      "cell_type": "markdown",
      "source": "3. Click the \"Run\" button.",
      "metadata": {
        "formattedRanges": [
          {
            "type": "marks",
            "marks": {
              "bold": true
            },
            "toCodePoint": 3,
            "fromCodePoint": 0
          },
          {
            "type": "marks",
            "marks": {
              "bold": true
            },
            "toCodePoint": 17,
            "fromCodePoint": 14
          }
        ],
        "deepnote_app_block_visible": true,
        "cell_id": "df765779ea334a6b9b56c5fe49da59aa",
        "deepnote_cell_type": "text-cell-p"
      },
      "block_group": "aeb856ba56ae493d8059003c7e9c4f6e"
    },
    {
      "cell_type": "markdown",
      "source": "<button>Run</button>",
      "metadata": {
        "deepnote_button_title": "Run",
        "deepnote_button_behavior": "run",
        "deepnote_app_block_visible": true,
        "deepnote_button_color_scheme": "blue",
        "cell_id": "f54dba5c77c343fa828d0bf01a70e7e3",
        "deepnote_cell_type": "button"
      },
      "block_group": "aeb856ba56ae493d8059003c7e9c4f6e"
    },
    {
      "cell_type": "code",
      "source": "if vis_type in ['Organisations by Type']:\n    print(f\"Last run on organisation types:\",*rep_org_type)\nelif vis_type in ['Country']:\n    print(f\"Last run on organisations with headquarters in:\",*country_query)\nelif vis_type in ['Specific Organisations']:\n    print(f\"Last run on reporting organisations:\",*pub_org_id)",
      "metadata": {
        "source_hash": "b40d4ca7",
        "execution_start": 1729007692221,
        "execution_millis": 0,
        "execution_context_id": "721ba4dc-6334-42e6-b5db-e95c18f0f3ab",
        "deepnote_to_be_reexecuted": false,
        "deepnote_app_block_visible": true,
        "deepnote_app_is_code_hidden": true,
        "cell_id": "533c19326b464796a71bd472efc60ed2",
        "deepnote_cell_type": "code"
      },
      "outputs": [],
      "outputs_reference": null,
      "execution_count": 11,
      "block_group": "d411ea0a743640ff92fd031955217da4",
      "content_dependencies": null
    },
    {
      "cell_type": "markdown",
      "source": "# Download data",
      "metadata": {
        "formattedRanges": [],
        "deepnote_app_block_visible": false,
        "cell_id": "b3fb15811d284e9885fb4fa6e42af144",
        "deepnote_cell_type": "text-cell-h1"
      },
      "block_group": "0a33704390ba45418df2b9048c98154d"
    },
    {
      "cell_type": "markdown",
      "source": "## Setup",
      "metadata": {
        "formattedRanges": [],
        "deepnote_app_block_visible": false,
        "cell_id": "5d3b360ce07c4a43a7787ee29a83440c",
        "deepnote_cell_type": "text-cell-h2"
      },
      "block_group": "7eeb4012776b439b8ae68e447401e054"
    },
    {
      "cell_type": "markdown",
      "source": "Using https://iati-tables.opendata.coop/. The following cell sets up the basic libraries needed for analysis and makes a connection to the database. ",
      "metadata": {
        "formattedRanges": [],
        "deepnote_app_block_visible": false,
        "cell_id": "0a226c5e2bae4ce1a6a01ea586e0f32b",
        "deepnote_cell_type": "text-cell-p"
      },
      "block_group": "bb39d93e6d47480eaf0092cee05acc0a"
    },
    {
      "cell_type": "code",
      "source": "sns.set_context('notebook')\n\n#start noteql session\nsession = noteql.local_db_session()\n# Restart postgres to make sure any existing connections get dropped\n!sudo service postgresql restart\nsession = noteql.Session(datasette_url='https://datasette.codeforiati.org/iati.json', connect_args={'connect_timeout': 1000})",
      "metadata": {
        "source_hash": "a73d9cc9",
        "execution_start": 1729004093253,
        "execution_millis": 22293,
        "execution_context_id": "78cbc6bf-5a46-4fd4-84f4-0bf0fa32fe3b",
        "deepnote_to_be_reexecuted": false,
        "deepnote_app_block_visible": true,
        "deepnote_app_is_code_hidden": true,
        "deepnote_app_is_output_hidden": true,
        "cell_id": "8e70a19c2a3447c8bce8b0150c4fd348",
        "deepnote_cell_type": "code"
      },
      "outputs": [],
      "outputs_reference": null,
      "execution_count": 9,
      "block_group": "2571d7cc97124c3cb85c5c529a5868f0",
      "content_dependencies": null
    },
    {
      "cell_type": "markdown",
      "source": "## IATI-tables Queries",
      "metadata": {
        "formattedRanges": [],
        "deepnote_app_block_visible": false,
        "cell_id": "825c77f981aa4f26814ff00356b7e243",
        "deepnote_cell_type": "text-cell-h2"
      },
      "block_group": "a1183a0c39854b5d95d19254c131c716"
    },
    {
      "cell_type": "markdown",
      "source": "Downloading all participating organisations reported by selected reporting org type, countries, or ids.",
      "metadata": {
        "formattedRanges": [],
        "deepnote_app_block_visible": false,
        "cell_id": "c2f0d0f4863f4879b1713321e6ba5c39",
        "deepnote_cell_type": "text-cell-p"
      },
      "block_group": "68d2fced3a20499488906ecc4e06a291"
    },
    {
      "cell_type": "markdown",
      "source": "Prepare country filter - based on ISO code as much as possible.",
      "metadata": {
        "formattedRanges": [],
        "deepnote_app_block_visible": false,
        "cell_id": "ae95a32064bc4e0d8ccb9b6d0f441ff6",
        "deepnote_cell_type": "text-cell-p"
      },
      "block_group": "7b0f8fce7c1745ca86cf1efdc03ff848"
    },
    {
      "cell_type": "code",
      "source": "#find country iso codes\niso_codes = pd.read_csv(\"Country.csv\")\niso_codes = iso_codes[iso_codes['name'].isin(country_query)]\niso_codes['code']",
      "metadata": {
        "source_hash": "43695b03",
        "execution_start": 1729004115593,
        "execution_millis": 139,
        "execution_context_id": "78cbc6bf-5a46-4fd4-84f4-0bf0fa32fe3b",
        "deepnote_to_be_reexecuted": false,
        "deepnote_app_block_visible": false,
        "deepnote_app_is_code_hidden": true,
        "deepnote_app_is_output_hidden": true,
        "cell_id": "8adc53da107f4057b79f974531215374",
        "deepnote_cell_type": "code"
      },
      "outputs": [],
      "outputs_reference": null,
      "execution_count": 10,
      "block_group": "ef3b9a24428a4bd384161f428230e7a8",
      "content_dependencies": null
    },
    {
      "cell_type": "code",
      "source": "#filter reporting orgs to countries of interest\n#should I include filtering to org-id with prefix too??\nfilt_reg = registry[registry['HQ Country or Region'].isin(country_query)]\n#split iso codes from IDs\nsplit_id = filt_reg['IATI Organisation Identifier'].str.split('-',n=1, expand=True)\ncountry_orgs = pd.concat([filt_reg , split_id], axis=1)\ncountry_orgs",
      "metadata": {
        "source_hash": "97feaeec",
        "execution_start": 1729004115778,
        "execution_millis": 1,
        "execution_context_id": "78cbc6bf-5a46-4fd4-84f4-0bf0fa32fe3b",
        "deepnote_to_be_reexecuted": false,
        "deepnote_app_block_visible": false,
        "deepnote_app_is_code_hidden": true,
        "deepnote_app_is_output_hidden": true,
        "cell_id": "0dcd10c3ec0e4b1abdd273423616520f",
        "deepnote_cell_type": "code"
      },
      "outputs": [],
      "outputs_reference": null,
      "execution_count": 11,
      "block_group": "b44929328854454f8aeb9de571cca05b",
      "content_dependencies": null
    },
    {
      "cell_type": "markdown",
      "source": "Format input text",
      "metadata": {
        "formattedRanges": [],
        "deepnote_app_block_visible": false,
        "cell_id": "a659bb34dd404076869c2dc49951592e",
        "deepnote_cell_type": "text-cell-p"
      },
      "block_group": "a6bd46f6d4d84b38b05f1f240795912f"
    },
    {
      "cell_type": "code",
      "source": "pub_orgs = ast.literal_eval(pub_org_id)\npub_orgs = [n.strip() for n in pub_orgs] \npub_orgs",
      "metadata": {
        "source_hash": "855699a4",
        "execution_start": 1729004115829,
        "execution_millis": 0,
        "execution_context_id": "78cbc6bf-5a46-4fd4-84f4-0bf0fa32fe3b",
        "deepnote_to_be_reexecuted": false,
        "deepnote_app_block_visible": false,
        "deepnote_app_is_code_hidden": true,
        "deepnote_app_is_output_hidden": true,
        "cell_id": "9b9a1c33f8544b269b7a5bc965fef57c",
        "deepnote_cell_type": "code"
      },
      "outputs": [],
      "outputs_reference": null,
      "execution_count": 12,
      "block_group": "2930940cc15c41739579d30fbdca1078",
      "content_dependencies": null
    },
    {
      "cell_type": "code",
      "source": "outputs = {}\n\nif vis_type in ['Organisations by Type']:\n    for i in rep_org_type:\n        #tables query \n        df = %nql SELECT DISTINCT a.prefix, a.reportingorg_ref, b.reportingorg_type, b.reportingorg_typename, a.ref, a.type, a.typename, a.narrative FROM participatingorg as a LEFT JOIN activity as b on (b._link = a._link_activity) WHERE (b.reportingorg_type = {{i}}) ORDER BY a.narrative\n        outputs[i] = df\nelif vis_type in ['Country']:\n    for i in country_orgs['IATI Organisation Identifier']:\n        #tables query \n        df = %nql SELECT DISTINCT a.prefix, a.reportingorg_ref, a.ref, a.type, a.typename, a.narrative FROM participatingorg as a WHERE (a.reportingorg_ref = {{i}}) \n        outputs[i] = df\nelif vis_type in ['Specific Organisations']:\n    for i in pub_org_id :\n        #tables query \n        df = %nql SELECT DISTINCT a.prefix, a.reportingorg_ref, a.ref, a.type, a.typename, a.narrative FROM participatingorg as a WHERE (a.reportingorg_ref = {{i}})\n        outputs[i] = df",
      "metadata": {
        "source_hash": "a1215073",
        "execution_start": 1729004115885,
        "execution_millis": 279564,
        "execution_context_id": "78cbc6bf-5a46-4fd4-84f4-0bf0fa32fe3b",
        "deepnote_app_block_visible": false,
        "deepnote_app_is_code_hidden": true,
        "deepnote_app_is_output_hidden": true,
        "cell_id": "54e8e73d4946423c83adea62aa40adaf",
        "deepnote_cell_type": "code"
      },
      "outputs": [],
      "outputs_reference": null,
      "execution_count": 13,
      "block_group": "0eb40d6f72234ebab414a27de09af861",
      "content_dependencies": null
    },
    {
      "cell_type": "code",
      "source": "part_orgs =  pd.concat(outputs.values(), ignore_index=True)\npart_orgs",
      "metadata": {
        "source_hash": "15bf1c94",
        "execution_start": 1729004395513,
        "execution_millis": 30,
        "deepnote_table_state": {
          "sortBy": [],
          "filters": [],
          "pageSize": 10,
          "pageIndex": 0,
          "conditionalFilters": [],
          "wrappedTextColumnIds": []
        },
        "execution_context_id": "78cbc6bf-5a46-4fd4-84f4-0bf0fa32fe3b",
        "deepnote_table_loading": false,
        "deepnote_app_block_visible": false,
        "deepnote_app_is_code_hidden": true,
        "deepnote_app_is_output_hidden": true,
        "cell_id": "20ab121fc10c46d4b464eef08ca954f1",
        "deepnote_cell_type": "code"
      },
      "outputs": [],
      "outputs_reference": null,
      "execution_count": 14,
      "block_group": "347d71eb50dc4096b85810fc59a5f20c",
      "content_dependencies": null
    },
    {
      "cell_type": "code",
      "source": "!rm -rf part_orgs.xlsx\npart_orgs.to_excel(\"part_orgs.xlsx\",sheet_name=\"part_orgs\", index=False)",
      "metadata": {
        "source_hash": "5d396695",
        "execution_start": 1729004395589,
        "execution_millis": 2157,
        "deepnote_table_state": {
          "sortBy": [],
          "filters": [],
          "pageSize": 10,
          "pageIndex": 0
        },
        "execution_context_id": "78cbc6bf-5a46-4fd4-84f4-0bf0fa32fe3b",
        "deepnote_table_loading": false,
        "deepnote_app_block_visible": true,
        "deepnote_app_is_code_hidden": true,
        "deepnote_app_is_output_hidden": true,
        "cell_id": "c52cb2395c284b33b26f94053ad18b3d",
        "deepnote_cell_type": "code"
      },
      "outputs": [],
      "outputs_reference": null,
      "execution_count": 15,
      "block_group": "90f30358abc1411585d4639bbd9cbc39",
      "content_dependencies": null
    },
    {
      "cell_type": "markdown",
      "source": "# Clean data",
      "metadata": {
        "formattedRanges": [],
        "deepnote_app_block_visible": false,
        "cell_id": "5fca6e346add4685a01bf9171f60d165",
        "deepnote_cell_type": "text-cell-h1"
      },
      "block_group": "6fe86cebb63d46f591a468efc6b7de49"
    },
    {
      "cell_type": "markdown",
      "source": "## Setup",
      "metadata": {
        "formattedRanges": [],
        "deepnote_app_block_visible": false,
        "cell_id": "1db470b213a24c89b33aa5e42cfe66c5",
        "deepnote_cell_type": "text-cell-h2"
      },
      "block_group": "0432e97a3f5143dfbb5e52d611fe3490"
    },
    {
      "cell_type": "code",
      "source": "session2 = noteql.local_db_session()\n# Restart postgres to make sure any existing connections get dropped\n!sudo service postgresql restart\n# We can't get the noteql session to do these, because it wraps sql in a transaction, which isn't allowed for DROP/CREATE\n!sudo -u postgres psql -c \"DROP DATABASE IF EXISTS pa\"\n!sudo -u postgres psql -c \"CREATE DATABASE pa\"\nsession2 = noteql.Session(\"postgresql+psycopg2://root@/pa\", \"public\")",
      "metadata": {
        "source_hash": "53a1547c",
        "execution_start": 1729004397797,
        "execution_millis": 3438,
        "execution_context_id": "78cbc6bf-5a46-4fd4-84f4-0bf0fa32fe3b",
        "deepnote_app_block_visible": true,
        "deepnote_app_is_code_hidden": true,
        "deepnote_app_is_output_hidden": true,
        "cell_id": "72dadb0325dc4b969f0160281016479f",
        "deepnote_cell_type": "code"
      },
      "outputs": [],
      "outputs_reference": null,
      "execution_count": 16,
      "block_group": "25c78c0868824a91896154ccf1004813",
      "content_dependencies": null
    },
    {
      "cell_type": "markdown",
      "source": "## Load data",
      "metadata": {
        "formattedRanges": [],
        "deepnote_app_block_visible": false,
        "cell_id": "ae2680a223974d10a22b5cdd4c5ac536",
        "deepnote_cell_type": "text-cell-h2"
      },
      "block_group": "94d6625089854aad9b30a9361ba05ccd"
    },
    {
      "cell_type": "code",
      "source": "part_orgs = pd.read_excel('part_orgs.xlsx',sheet_name=None)\n\nfor key in part_orgs.keys():\n    table_name = key.replace(' ','')\n    table_name = table_name.lower()\n    print(table_name)\n    %nql DROP TABLE IF EXISTS {{table_name | ident}}; SELECT ''\n    # Convert to a DataFrame and render\n    df = pd.DataFrame.from_dict(part_orgs[key])\n    session2.load_dataframe(df, table_name, index=False)",
      "metadata": {
        "source_hash": "c63b4ee7",
        "execution_start": 1729004401285,
        "execution_millis": 2445,
        "execution_context_id": "78cbc6bf-5a46-4fd4-84f4-0bf0fa32fe3b",
        "deepnote_app_block_visible": false,
        "deepnote_app_is_code_hidden": true,
        "deepnote_app_is_output_hidden": true,
        "cell_id": "5963b26a9fca47edaed05b89e18c10d9",
        "deepnote_cell_type": "code"
      },
      "outputs": [],
      "outputs_reference": null,
      "execution_count": 17,
      "block_group": "96b1b1ea7d2d421489fbcb122b6b1c7d",
      "content_dependencies": null
    },
    {
      "cell_type": "code",
      "source": "!wget https://iatistandard.org/reference_downloads/203/codelists/downloads/clv3/csv/en/OrganisationRegistrationAgency.csv\n!wget https://iatistandard.org/reference_downloads/203/codelists/downloads/clv3/csv/en/OrganisationIdentifier.csv \n\nreg_agency = pd.read_csv(\"OrganisationRegistrationAgency.csv\")\nold_orgid = pd.read_csv(\"OrganisationIdentifier.csv\")\nrefs = pd.read_csv(\"Generic_XM-DACs_Jul24.csv\")\n\nsession2.load_dataframe(registry, \"registry\", index=False)\nsession2.load_dataframe(reg_agency, \"reg_agency\", index=False)\nsession2.load_dataframe(old_orgid, \"old_orgid\", index=False)\nsession2.load_dataframe(refs,\"refs\",index=False)\n\n!rm -rf \"OrganisationRegistrationAgency.csv\" \"OrganisationIdentifier.csv\" ",
      "metadata": {
        "source_hash": "58160d0f",
        "execution_start": 1729004403781,
        "execution_millis": 4407,
        "execution_context_id": "78cbc6bf-5a46-4fd4-84f4-0bf0fa32fe3b",
        "deepnote_app_block_visible": false,
        "deepnote_app_is_code_hidden": true,
        "deepnote_app_is_output_hidden": true,
        "cell_id": "c451b997a112481799a9ce27b5822558",
        "deepnote_cell_type": "code"
      },
      "outputs": [],
      "outputs_reference": null,
      "execution_count": 18,
      "block_group": "b331e5f9303e498d9bc5c2424b7e3b7b",
      "content_dependencies": null
    },
    {
      "cell_type": "markdown",
      "source": "- Remove obvious issues such as blank references ",
      "metadata": {
        "formattedRanges": [],
        "cell_id": "05c87dd6cc8b43a4b983efa7efd78397",
        "deepnote_cell_type": "text-cell-bullet"
      },
      "block_group": "9503d1b982c94f2f835740eeafd61eb8"
    },
    {
      "cell_type": "markdown",
      "source": "- Remove all/part of the data from reporting orgs with known issues which mean a participating organisation could not be identified. ",
      "metadata": {
        "formattedRanges": [],
        "cell_id": "9401b6f456434d54b8aa9d6b5fcfcd5d",
        "deepnote_cell_type": "text-cell-bullet"
      },
      "block_group": "ae9b732397e24bb492df86fc0e8a8d05"
    },
    {
      "cell_type": "markdown",
      "source": "- Trim leading/trailing whitespace from narratives.",
      "metadata": {
        "formattedRanges": [],
        "cell_id": "b2e2aa04455c4b728cfcd09aee2cf718",
        "deepnote_cell_type": "text-cell-bullet"
      },
      "block_group": "12e2487f1ea941cdba52f3f9064bb659"
    },
    {
      "cell_type": "markdown",
      "source": "- Remove generic XM-DAC codes.",
      "metadata": {
        "formattedRanges": [],
        "cell_id": "74b69e1454bc42b08fa03d2a56946fe5",
        "deepnote_cell_type": "text-cell-bullet"
      },
      "block_group": "c57405fac80f475c9547cc818eae0fe9"
    },
    {
      "cell_type": "markdown",
      "source": "Other issues will be caught by the filter data section, which checks for valid organisation-ids with a format of {RegistrationAgency}-{RegistrationNumber}.",
      "metadata": {
        "formattedRanges": [
          {
            "url": "https://github.com/pwyf/aid-transparency-tracker/blob/main/beta/excluded_xm_dac.py",
            "type": "link",
            "ranges": [],
            "toCodePoint": 155,
            "fromCodePoint": 155
          }
        ],
        "cell_id": "2fe5f016267a4d11be7e3e6e3c0ba4fc",
        "deepnote_cell_type": "text-cell-p"
      },
      "block_group": "3d0717d213fa4272b2bead11ca9c6875"
    },
    {
      "cell_type": "code",
      "source": "refs['code'] = refs['code'].astype(str) \nrefs['XMDAC'] = \"XM-DAC-\"+refs['code']\nrefs",
      "metadata": {
        "source_hash": "3658bb81",
        "execution_start": 1729004408237,
        "execution_millis": 1,
        "execution_context_id": "78cbc6bf-5a46-4fd4-84f4-0bf0fa32fe3b",
        "deepnote_app_block_visible": false,
        "deepnote_app_is_code_hidden": true,
        "deepnote_app_is_output_hidden": true,
        "cell_id": "2f33b782f50e40ea8074d56eb9019f69",
        "deepnote_cell_type": "code"
      },
      "outputs": [],
      "outputs_reference": null,
      "execution_count": 19,
      "block_group": "ede7557be6c44e98b68793f650494aa1",
      "content_dependencies": null
    },
    {
      "cell_type": "code",
      "source": "%%nql SHOW CREATE cleaned_part_orgs\n\nSELECT DISTINCT\n    prefix,\n    reportingorg_ref,\n    ref,\n    type,\n    typename,\n    CASE\n        WHEN\n            SPLIT_PART(ref,'-',2) = '' THEN ''\n            ELSE CONCAT(SPLIT_PART(ref,'-',1),'-',SPLIT_PART(ref,'-',2))\n    END as \"reg_agency\",\n    TRIM(REGEXP_REPLACE(narrative, E'\\n', '')) as \"narrative\"\nFROM part_orgs\nWHERE NOT narrative in ('',' ','EN: ','Odefinierat','EN: IP not published','Not applicable',\n                        'Confidential',\n                        'USAID redacted this field in accordance with the exceptions outlined in the Foreign Aid Transparency and Accountability Act of 2016.')\n    AND NOT POSITION('Private donors' IN narrative) > 0\n    AND NOT POSITION('Övrigt' IN narrative) > 0\n    AND NOT POSITION('Övriga' IN narrative) > 0\n    AND CASE\n        WHEN prefix='unicef' THEN NOT POSITION('XM-DAC-41122-VN-' IN ref) > 0 \n        ELSE true\n    END\n    AND NOT ref in (' ','Not registered in IATI','0')\n    AND NOT ref in {{ refs['code'] | inclause }}\n    AND NOT ref in {{ refs['XMDAC'] | inclause }}",
      "metadata": {
        "source_hash": "3c479736",
        "execution_start": 1729004408297,
        "execution_millis": 76,
        "execution_context_id": "78cbc6bf-5a46-4fd4-84f4-0bf0fa32fe3b",
        "deepnote_app_block_visible": false,
        "deepnote_app_is_code_hidden": true,
        "deepnote_app_is_output_hidden": true,
        "cell_id": "c54ac1d25a9d49d8804ea56dd181d3c2",
        "deepnote_cell_type": "code"
      },
      "outputs": [],
      "outputs_reference": null,
      "execution_count": 20,
      "block_group": "1b5f42ab526e452691cda3cca6ce01e2",
      "content_dependencies": null
    },
    {
      "cell_type": "markdown",
      "source": "## Add other data sources",
      "metadata": {
        "formattedRanges": [],
        "deepnote_app_block_visible": false,
        "cell_id": "b1d541f2f8534ce39df0e6411dd06768",
        "deepnote_cell_type": "text-cell-h2"
      },
      "block_group": "08aaf67e59db44b6b211f44e4b6cd8b2"
    },
    {
      "cell_type": "markdown",
      "source": "- Join to registry IDs, registration agency, and old IATI codelist. ",
      "metadata": {
        "formattedRanges": [],
        "deepnote_app_block_visible": false,
        "cell_id": "e5559fc8acc24e67a300ac4d64f4f60a",
        "deepnote_cell_type": "text-cell-bullet"
      },
      "block_group": "658cb0d71a00407394a492f0de4137f7"
    },
    {
      "cell_type": "markdown",
      "source": "- Add name of reporting-org from registry. If the reporting org reference does not match the registry, it will be removed. ",
      "metadata": {
        "formattedRanges": [],
        "deepnote_app_block_visible": false,
        "cell_id": "99543de6ebcf4fb5a8b26583d4f58989",
        "deepnote_cell_type": "text-cell-bullet"
      },
      "block_group": "e3eb92c7601d42f5a4738ec028eda6d7"
    },
    {
      "cell_type": "code",
      "source": "%%nql SHOW CREATE joined_part_orgs \nSELECT \n    e.\"Publisher\" as \"reportingorg_name\",\n    a.*,\n    b.\"Publisher\" as \"registry_narrative\",\n    c.name as \"reg_agency_narrative\",\n    d.name as \"v1_orgid\"\nFROM cleaned_part_orgs as a\n    LEFT JOIN registry as b ON a.ref = b.\"IATI Organisation Identifier\"\n    LEFT JOIN reg_agency as c ON a.reg_agency = c.code\n    LEFT JOIN old_orgid as d ON a.ref = d.code\n    LEFT JOIN registry as e ON a.reportingorg_ref = e.\"IATI Organisation Identifier\"\nWHERE NOT e.\"Publisher\" = 'None'\nORDER BY a.prefix",
      "metadata": {
        "source_hash": "97b05a27",
        "execution_start": 1729004408429,
        "execution_millis": 694,
        "execution_context_id": "78cbc6bf-5a46-4fd4-84f4-0bf0fa32fe3b",
        "deepnote_app_block_visible": false,
        "deepnote_app_is_code_hidden": true,
        "deepnote_app_is_output_hidden": true,
        "cell_id": "8d7da9cc0ebc44ecad4e40cb8e85d759",
        "deepnote_cell_type": "code"
      },
      "outputs": [],
      "outputs_reference": null,
      "execution_count": 21,
      "block_group": "832d31497f3c415ba48424f915bcaaa1",
      "content_dependencies": null
    },
    {
      "cell_type": "markdown",
      "source": "## Filter data",
      "metadata": {
        "formattedRanges": [],
        "deepnote_app_block_visible": false,
        "cell_id": "a6ac1efeb0de4d4dabc6f07ccfe8ea59",
        "deepnote_cell_type": "text-cell-h2"
      },
      "block_group": "aa28f921f57c43bdb8b76d9a3bf8d56d"
    },
    {
      "cell_type": "markdown",
      "source": "Check that the participating organisation references:",
      "metadata": {
        "formattedRanges": [],
        "cell_id": "818c67bd11a647f59c2979fde00f25a3",
        "deepnote_cell_type": "text-cell-p"
      },
      "block_group": "dc1cb1f3605343208a7a1325ff55ccb6"
    },
    {
      "cell_type": "markdown",
      "source": "- Are a valid reporting org ID from the registry OR",
      "metadata": {
        "formattedRanges": [
          {
            "type": "marks",
            "marks": {
              "bold": true
            },
            "toCodePoint": 49,
            "fromCodePoint": 47
          }
        ],
        "cell_id": "aa151fbc4d8449288d8e7ec961c130a5",
        "deepnote_cell_type": "text-cell-bullet"
      },
      "block_group": "80bd5592106645ed966c04f9a74f2cf1"
    },
    {
      "cell_type": "markdown",
      "source": "- Have a valid prefix from org-id UNLESS",
      "metadata": {
        "formattedRanges": [
          {
            "type": "marks",
            "marks": {
              "bold": true
            },
            "toCodePoint": 38,
            "fromCodePoint": 32
          }
        ],
        "cell_id": "f492fa52e7d94bb995ea5f00da773046",
        "deepnote_cell_type": "text-cell-bullet"
      },
      "block_group": "5611956a0b81466d8b10c59cbf1d8352"
    },
    {
      "cell_type": "markdown",
      "source": "- They are a v1 org id",
      "metadata": {
        "formattedRanges": [],
        "cell_id": "1f355973944e4d5ebb557bc1c85f01e8",
        "deepnote_cell_type": "text-cell-bullet"
      },
      "block_group": "43949e0ed1794d68b5ced5e32a766b48"
    },
    {
      "cell_type": "code",
      "source": "%%nql SHOW CREATE filtered_orgs output=DF\nSELECT\n    *\nFROM joined_part_orgs \nWHERE NOT reg_agency_narrative = 'None'\n    OR NOT registry_narrative = 'None'\n    OR NOT v1_orgid = 'None'\nORDER BY prefix",
      "metadata": {
        "source_hash": "22fee8d9",
        "execution_start": 1729004409173,
        "execution_millis": 35,
        "execution_context_id": "78cbc6bf-5a46-4fd4-84f4-0bf0fa32fe3b",
        "deepnote_app_block_visible": false,
        "deepnote_app_is_code_hidden": true,
        "deepnote_app_is_output_hidden": true,
        "cell_id": "1d05c9f881ef4d0b81c425a04102e177",
        "deepnote_cell_type": "code"
      },
      "outputs": [],
      "outputs_reference": null,
      "execution_count": 22,
      "block_group": "5ed7569afb5b44b497cd67dc05fa7d60",
      "content_dependencies": null
    },
    {
      "cell_type": "code",
      "source": "!rm -rf output.xlsx\noutput.to_excel(\"output.xlsx\",sheet_name=\"output\", index=False)\n\noutput_file_url = f\"https://deepnote.com/publish/{os.environ['DEEPNOTE_PROJECT_ID']}/file?path=output.xlsx\"\nprint(output_file_url)",
      "metadata": {
        "deepnote_app_block_visible": false,
        "deepnote_app_is_code_hidden": true,
        "deepnote_app_is_output_hidden": true,
        "cell_id": "e05f9b6188514585aafde3ee4afa8d1b",
        "deepnote_cell_type": "code"
      },
      "outputs": [],
      "outputs_reference": null,
      "execution_count": null,
      "block_group": "f2a135173adb405681cf0b618af2151d",
      "content_dependencies": null
    },
    {
      "cell_type": "markdown",
      "source": "# Summarise",
      "metadata": {
        "formattedRanges": [],
        "deepnote_app_block_visible": false,
        "cell_id": "e0ada1ca088f41dc94d73b5307da5c44",
        "deepnote_cell_type": "text-cell-h1"
      },
      "block_group": "b26281b1431c4f8c8d3b25e03eced39c"
    },
    {
      "cell_type": "markdown",
      "source": "<hr>",
      "metadata": {
        "deepnote_app_block_visible": true,
        "cell_id": "4b389a39f65d4be0a62f83223cc45ec5",
        "deepnote_cell_type": "separator"
      },
      "block_group": "6fa57958f01544a18ca7536aadba5cb4"
    },
    {
      "cell_type": "markdown",
      "source": "## Chord counts - to download",
      "metadata": {
        "formattedRanges": [],
        "deepnote_app_block_visible": false,
        "cell_id": "4a867c59f4cb4c769f852d93be271761",
        "deepnote_cell_type": "text-cell-h2"
      },
      "block_group": "c257e29f39314f3183f77903d019b328"
    },
    {
      "cell_type": "markdown",
      "source": "Code source: https://stackoverflow.com/questions/64689296/counting-shared-elements-within-groups-with-condition?rq=3 ",
      "metadata": {
        "formattedRanges": [
          {
            "url": "https://stackoverflow.com/questions/64689296/counting-shared-elements-within-groups-with-condition?rq=3",
            "type": "link",
            "ranges": [],
            "toCodePoint": 116,
            "fromCodePoint": 13
          }
        ],
        "deepnote_app_block_visible": false,
        "cell_id": "079416b9cd2d487ca659469659853283",
        "deepnote_cell_type": "text-cell-p"
      },
      "block_group": "4f620ffe13b447da93c6505c978eb163"
    },
    {
      "cell_type": "markdown",
      "source": "Chord output for use with bokeh:",
      "metadata": {
        "formattedRanges": [],
        "deepnote_app_block_visible": false,
        "cell_id": "069d7893c8f54c308f91ba4f06f7de4d",
        "deepnote_cell_type": "text-cell-p"
      },
      "block_group": "2a397bd9733d4be29176bf97f150a1b6"
    },
    {
      "cell_type": "code",
      "source": "#Get unique reporting org name and participating org reference combinations\ndf = output[[\"reportingorg_name\",\"ref\"]].drop_duplicates()\n\nresult = df.merge(df, on='ref').groupby(['reportingorg_name_x','reportingorg_name_y']).count().reset_index()\nresult.columns = ['source', 'target', 'value']\nmask = result.source!=result.target\n\nchord_df = result[mask].reset_index(drop='True')\nchord_df  = chord_df.sort_values(by=\"value\", ascending=False)\nchord_df",
      "metadata": {
        "source_hash": "14f3d866",
        "execution_start": 1729004411445,
        "execution_millis": 63,
        "execution_context_id": "78cbc6bf-5a46-4fd4-84f4-0bf0fa32fe3b",
        "deepnote_app_block_visible": false,
        "deepnote_app_is_code_hidden": true,
        "deepnote_app_is_output_hidden": true,
        "cell_id": "f9f6b0e0a7de451287909ef922cd0713",
        "deepnote_cell_type": "code"
      },
      "outputs": [],
      "outputs_reference": null,
      "execution_count": 28,
      "block_group": "edd2dedddb9941f186bf0291603e9dd7",
      "content_dependencies": null
    },
    {
      "cell_type": "markdown",
      "source": "## Networking Visualisation",
      "metadata": {
        "formattedRanges": [],
        "deepnote_app_block_visible": true,
        "cell_id": "0604cec544514dd18cb9f220ada68f20",
        "deepnote_cell_type": "text-cell-h2"
      },
      "block_group": "a51fcb3ebecb400baa0bd8964fa1c117"
    },
    {
      "cell_type": "markdown",
      "source": "Use Bokeh to create a chord diagram",
      "metadata": {
        "formattedRanges": [],
        "deepnote_app_block_visible": false,
        "cell_id": "0ff778cfe9784ae28f3735f2412e265d",
        "deepnote_cell_type": "text-cell-p"
      },
      "block_group": "0f3037d85ab745fa8b41ef85151a8fad"
    },
    {
      "cell_type": "code",
      "source": "import holoviews as hv\nimport numpy as np\nfrom holoviews import opts, dim\nfrom bokeh.plotting import figure, output_file, save, show\nfrom IPython.display import IFrame\nfrom IPython.core.display import display, HTML\nimport tempfile",
      "metadata": {
        "source_hash": "af2f20e",
        "execution_start": 1729004411554,
        "execution_millis": 2231,
        "execution_context_id": "78cbc6bf-5a46-4fd4-84f4-0bf0fa32fe3b",
        "deepnote_app_block_visible": false,
        "deepnote_app_is_code_hidden": true,
        "deepnote_app_is_output_hidden": true,
        "cell_id": "d79c2e05753e4408b33e5dfc37d30e9f",
        "deepnote_cell_type": "code"
      },
      "outputs": [],
      "outputs_reference": null,
      "execution_count": 29,
      "block_group": "bc4f185cdb8249229b2e842e146e7dde",
      "content_dependencies": null
    },
    {
      "cell_type": "markdown",
      "source": "Workaround to use Bokeh in Deepnote",
      "metadata": {
        "formattedRanges": [],
        "deepnote_app_block_visible": false,
        "cell_id": "5cf3f69c32d742c8a6bb33e51138774b",
        "deepnote_cell_type": "text-cell-p"
      },
      "block_group": "44a441ae28c04c88992269b25cd9db54"
    },
    {
      "cell_type": "code",
      "source": "def bokeh_deepnote_show(plot):\n    tmp_output_filename = tempfile.NamedTemporaryFile(suffix='.html').name\n    output_file(tmp_output_filename)\n    save(plot)\n\n    f = open(tmp_output_filename, \"r\")\n    display(HTML(f.read()))",
      "metadata": {
        "source_hash": "521d2b1a",
        "execution_start": 1729004413833,
        "execution_millis": 0,
        "execution_context_id": "78cbc6bf-5a46-4fd4-84f4-0bf0fa32fe3b",
        "deepnote_app_block_visible": false,
        "deepnote_app_is_code_hidden": true,
        "deepnote_app_is_output_hidden": true,
        "cell_id": "083a81d40e1640f9999191b5717c5e11",
        "deepnote_cell_type": "code"
      },
      "outputs": [],
      "outputs_reference": null,
      "execution_count": 30,
      "block_group": "06b7ccb4df3943d2ba87ddb7740304c1",
      "content_dependencies": null
    },
    {
      "cell_type": "markdown",
      "source": "Adjust the minimum number of shared participating organisation references by using the slider. Use the \"visualise\" button to refresh the diagram. Note: currently the whole application must re-run to recreate this diagram, so this may take some time.",
      "metadata": {
        "formattedRanges": [
          {
            "type": "marks",
            "marks": {
              "bold": true
            },
            "toCodePoint": 114,
            "fromCodePoint": 102
          }
        ],
        "deepnote_app_block_visible": true,
        "cell_id": "625f206b317e4e77836dc801467feff3",
        "deepnote_cell_type": "text-cell-p"
      },
      "block_group": "4da03b6876954a4e950c9de57d68a633"
    },
    {
      "cell_type": "code",
      "source": "filter = 0",
      "metadata": {
        "source_hash": "158ed2b1",
        "execution_start": 1729004413881,
        "execution_millis": 1,
        "deepnote_input_label": "Minimum Shared References",
        "deepnote_slider_step": 1,
        "execution_context_id": "78cbc6bf-5a46-4fd4-84f4-0bf0fa32fe3b",
        "deepnote_variable_name": "filter",
        "deepnote_variable_value": "0",
        "deepnote_slider_max_value": 50,
        "deepnote_slider_min_value": 0,
        "deepnote_app_block_visible": true,
        "cell_id": "20d8f0a4fcb24902824a9563cb1d4e6f",
        "deepnote_cell_type": "input-slider"
      },
      "outputs": [],
      "outputs_reference": null,
      "execution_count": 31,
      "block_group": "4da03b6876954a4e950c9de57d68a633"
    },
    {
      "cell_type": "markdown",
      "source": "<button>Visualise</button>",
      "metadata": {
        "deepnote_button_title": "Visualise",
        "deepnote_button_behavior": "run",
        "deepnote_app_block_visible": true,
        "deepnote_button_color_scheme": "blue",
        "cell_id": "3e555b9f6edd45ed913fd3d0e097190b",
        "deepnote_cell_type": "button"
      },
      "block_group": "4da03b6876954a4e950c9de57d68a633"
    },
    {
      "cell_type": "code",
      "source": "mask = np.logical_and(result.source<result.target, result.value>0)\n\nbokeh_df = result[mask].reset_index(drop='True')\nbokeh_df  = bokeh_df.sort_values(by=\"source\")\nbokeh_df",
      "metadata": {
        "source_hash": "f22d1170",
        "execution_start": 1729004413937,
        "execution_millis": 20,
        "execution_context_id": "78cbc6bf-5a46-4fd4-84f4-0bf0fa32fe3b",
        "deepnote_app_block_visible": false,
        "deepnote_app_is_code_hidden": true,
        "deepnote_app_is_output_hidden": true,
        "cell_id": "3e86006643084b1f8432c7d42ce7f23f",
        "deepnote_cell_type": "code"
      },
      "outputs": [],
      "outputs_reference": null,
      "execution_count": 32,
      "block_group": "8336071746794d49b6e17d8db08d561a",
      "content_dependencies": null
    },
    {
      "cell_type": "code",
      "source": "# Should the diagram be plotted with 'bokeh' or 'matplotlib'?\nhv.extension('bokeh')\n\n#filter out orgs with few in common\nfiltered_data = bokeh_df[bokeh_df['value'] >= filter]\n\n#Create chord labels\norgs = list(set(filtered_data [\"source\"].unique().tolist() + filtered_data [\"target\"].unique().tolist()))\norgs_dataset = hv.Dataset(pd.DataFrame(orgs, columns=[\"Organisation\"]))\n\nchord = hv.Chord((filtered_data,orgs_dataset))\n\nchord.opts(cmap = 'Category20',  \n          edge_cmap = 'Category20',  \n          labels = 'Organisation',\n          node_color = hv.dim('Organisation').str(),\n          #edge_color = hv.dim('source').str(), \n          title = 'Shared Participating Organisation References',\n          width = 900,\n          height = 900)\n\nbokeh_deepnote_show(hv.render(chord))",
      "metadata": {
        "source_hash": "196a7675",
        "execution_start": 1729004414004,
        "execution_millis": 1850,
        "execution_context_id": "78cbc6bf-5a46-4fd4-84f4-0bf0fa32fe3b",
        "deepnote_app_block_visible": true,
        "deepnote_app_is_code_hidden": true,
        "deepnote_app_is_output_hidden": false,
        "cell_id": "48989340b460460baacc13645af4b4a8",
        "deepnote_cell_type": "code"
      },
      "outputs": [],
      "outputs_reference": null,
      "execution_count": 33,
      "block_group": "9081c4a9216842698e17e0e5c2d25b90",
      "content_dependencies": null
    },
    {
      "cell_type": "markdown",
      "source": "# Output",
      "metadata": {
        "formattedRanges": [],
        "deepnote_app_block_visible": false,
        "cell_id": "5c77a8822fa64207b1cec74d4417e2c4",
        "deepnote_cell_type": "text-cell-h1"
      },
      "block_group": "7959daf1293b42f2adc7c5e7b9a19e86"
    },
    {
      "cell_type": "code",
      "source": "!rm -rf chord_df.xlsx\nchord_df.to_excel(\"chord_df.xlsx\",sheet_name=\"chord_df\", index=False)\n\nchord_file_url = f\"https://deepnote.com/publish/{os.environ['DEEPNOTE_PROJECT_ID']}/file?path=chord_df.xlsx\"\nprint(chord_file_url)",
      "metadata": {
        "source_hash": "e1433510",
        "execution_start": 1729004415917,
        "execution_millis": 6918,
        "execution_context_id": "78cbc6bf-5a46-4fd4-84f4-0bf0fa32fe3b",
        "deepnote_app_block_visible": false,
        "deepnote_app_is_code_hidden": true,
        "deepnote_app_is_output_hidden": true,
        "cell_id": "53f92dabeec94f6ab8e0232804aca998",
        "deepnote_cell_type": "code"
      },
      "outputs": [],
      "outputs_reference": null,
      "execution_count": 34,
      "block_group": "cf6f5902157543448aa745cb92505314",
      "content_dependencies": null
    },
    {
      "cell_type": "markdown",
      "source": "<hr>",
      "metadata": {
        "deepnote_app_block_visible": true,
        "cell_id": "59af3b93884b45a59a1aca48de60b8f2",
        "deepnote_cell_type": "separator"
      },
      "block_group": "243f711d1d374410bc70c377852b00c0"
    },
    {
      "cell_type": "markdown",
      "source": "# Further visualisation",
      "metadata": {
        "formattedRanges": [],
        "deepnote_app_block_visible": true,
        "cell_id": "ce6d1550a93144d19d4385b15e0b2802",
        "deepnote_cell_type": "text-cell-h1"
      },
      "block_group": "56000165eb2248e9b7771f22b33ce955"
    },
    {
      "cell_type": "markdown",
      "source": "To create and edit your own diagram, you may wish to use the data visualisation tool \"Flourish\". ",
      "metadata": {
        "formattedRanges": [
          {
            "url": "https://flourish.studio/",
            "type": "link",
            "ranges": [],
            "toCodePoint": 94,
            "fromCodePoint": 86
          }
        ],
        "deepnote_app_block_visible": true,
        "cell_id": "70c42c39365c4cd3b21643bc0b65af93",
        "deepnote_cell_type": "text-cell-p"
      },
      "block_group": "819522b63e0048acb7989618c4567f55"
    },
    {
      "cell_type": "markdown",
      "source": "You can download the chord data produced by this application here: Download.",
      "metadata": {
        "formattedRanges": [
          {
            "url": "https://deepnote.com/publish/240fcfd1-8557-41e6-8271-b13ecef554c3/file?path=chord_df.xlsx",
            "type": "link",
            "ranges": [],
            "toCodePoint": 75,
            "fromCodePoint": 67
          }
        ],
        "deepnote_app_block_visible": true,
        "cell_id": "ea943754069f40829716b09ef5b75573",
        "deepnote_cell_type": "text-cell-p"
      },
      "block_group": "3cb2bef00c7b43b29c76ee418458bb62"
    },
    {
      "cell_type": "markdown",
      "source": "Example flourish chord diagram:",
      "metadata": {
        "formattedRanges": [
          {
            "type": "marks",
            "marks": {
              "bold": true
            },
            "toCodePoint": 31,
            "fromCodePoint": 0
          }
        ],
        "deepnote_app_block_visible": true,
        "cell_id": "564aad89ebc8473b9295f7eb2932e0b9",
        "deepnote_cell_type": "text-cell-p"
      },
      "block_group": "16206ab3d2d24b5cbd3f5c81c433883d"
    },
    {
      "cell_type": "code",
      "source": "from IPython.core.display import HTML\nHTML('<div class=\"flourish-embed flourish-chord\" data-src=\"visualisation/17570004\" data-width=\"29%\"><script src=\"https://public.flourish.studio/resources/embed.js\"></script></div>')",
      "metadata": {
        "source_hash": "86cfbf11",
        "execution_start": 1729004422889,
        "execution_millis": 10,
        "execution_context_id": "78cbc6bf-5a46-4fd4-84f4-0bf0fa32fe3b",
        "deepnote_app_block_visible": true,
        "deepnote_app_is_code_hidden": true,
        "deepnote_app_is_output_hidden": false,
        "cell_id": "9bd57f46ca8f49e3a3518a6e08ecd664",
        "deepnote_cell_type": "code"
      },
      "outputs": [],
      "outputs_reference": null,
      "execution_count": 35,
      "block_group": "a8c89feb0e9d4bb8a9a79459dc902103",
      "content_dependencies": null
    },
    {
      "cell_type": "markdown",
      "source": "<hr>",
      "metadata": {
        "deepnote_app_block_visible": true,
        "cell_id": "e036e1c1fb684e7d9ad935001c70adf5",
        "deepnote_cell_type": "separator"
      },
      "block_group": "7e3af52d56ad49e08ad466c9a389706a"
    },
    {
      "cell_type": "markdown",
      "source": "## How is the data cleaned?",
      "metadata": {
        "formattedRanges": [],
        "deepnote_app_block_visible": true,
        "cell_id": "0ffd85d7a7dd4316800605c6350d9383",
        "deepnote_cell_type": "text-cell-h2"
      },
      "block_group": "bd4a167a0c234143aeefce0a09f462fd"
    },
    {
      "cell_type": "markdown",
      "source": "Organisation identifiers with known issues are removed - these include redacted or blank narratives, and internal or generic references, as they cannot be used for the networking of IATI data. This is not an exhaustive list and is subject to change.  ",
      "metadata": {
        "formattedRanges": [],
        "deepnote_app_block_visible": true,
        "cell_id": "e44097dc62d44c689af2172ec458d4cc",
        "deepnote_cell_type": "text-cell-p"
      },
      "block_group": "c5b5182986ff43dfbd62aed2aeba5a39"
    },
    {
      "cell_type": "markdown",
      "source": "Blank/internal/generic references",
      "metadata": {
        "formattedRanges": [
          {
            "type": "marks",
            "marks": {
              "bold": true
            },
            "toCodePoint": 33,
            "fromCodePoint": 0
          }
        ],
        "deepnote_app_block_visible": true,
        "cell_id": "1431f663a5d84b2092b20a9d7438bdf1",
        "deepnote_cell_type": "text-cell-p"
      },
      "block_group": "0b7367c9d0a3482cab47256c6b14eb8d"
    },
    {
      "cell_type": "markdown",
      "source": " Blank/redacted narratives",
      "metadata": {
        "formattedRanges": [
          {
            "type": "marks",
            "marks": {
              "bold": true
            },
            "toCodePoint": 26,
            "fromCodePoint": 0
          }
        ],
        "deepnote_app_block_visible": true,
        "cell_id": "44e81433c44744d2a53c2207f162ced7",
        "deepnote_cell_type": "text-cell-p"
      },
      "block_group": "0b7367c9d0a3482cab47256c6b14eb8d"
    },
    {
      "cell_type": "markdown",
      "source": "| **Organisation** | **Redaction message/Issue**     |\n|---------|---------------------------------|\n| iom     | Confidential                    |\n| sida | Övriga/Övrigt ... (Other) |\n| unicef  | EN: IP not published            |\n| unhcr   | Private donors in...             |\n|usaid | USAID redacted this field in accordance with the exceptions outlined in the Foreign Aid Transparency and Accountability Act of 2016.|",
      "metadata": {
        "deepnote_app_block_visible": true,
        "cell_id": "6da40862be19400184ec903301d67eca",
        "deepnote_cell_type": "markdown"
      },
      "block_group": "5a0f98187df64f07aba4c88e01a1e38b"
    },
    {
      "cell_type": "markdown",
      "source": "| **Organisation** | **Redaction message/Issue**     |\n|------------------|---------------------------------|\n| unicef            | Internal ID eg XM-DAC-41122-VN-242363 |\n| Multiple orgs | Generic XM-DAC- codes used |",
      "metadata": {
        "deepnote_app_block_visible": true,
        "cell_id": "2b1ff549ae2f4f848595865ac68e81ca",
        "deepnote_cell_type": "markdown"
      },
      "block_group": "5a0f98187df64f07aba4c88e01a1e38b"
    },
    {
      "cell_type": "markdown",
      "source": "TO DO - compare DAC codes to https://github.com/pwyf/aid-transparency-tracker/blob/main/beta/excluded_xm_dac.py",
      "metadata": {
        "formattedRanges": [
          {
            "type": "marks",
            "marks": {
              "bold": true
            },
            "toCodePoint": 5,
            "fromCodePoint": 0
          },
          {
            "url": "https://github.com/pwyf/aid-transparency-tracker/blob/main/beta/excluded_xm_dac.py",
            "type": "link",
            "ranges": [],
            "toCodePoint": 111,
            "fromCodePoint": 29
          }
        ],
        "deepnote_app_block_visible": false,
        "cell_id": "085b0de6938e4d869b909e6439e20b7b",
        "deepnote_cell_type": "text-cell-p"
      },
      "block_group": "9f92b7c9d9734e458b5540e9d3a43a40"
    },
    {
      "cell_type": "markdown",
      "source": "Participating organisation identifiers must have a valid format of {RegistrationAgency}-{RegistrationNumber}, or match a known organisation-identifier as recorded in the registry.",
      "metadata": {
        "formattedRanges": [
          {
            "type": "marks",
            "marks": {
              "bold": true
            },
            "toCodePoint": 108,
            "fromCodePoint": 66
          }
        ],
        "deepnote_app_block_visible": true,
        "cell_id": "fe96f0681b1742848e93aea71fda210d",
        "deepnote_cell_type": "text-cell-p"
      },
      "block_group": "86ad658f3baf4fb98fb1d80fff4d58da"
    },
    {
      "cell_type": "markdown",
      "source": "You can download the cleaned data here: Download",
      "metadata": {
        "formattedRanges": [
          {
            "url": "https://deepnote.com/publish/240fcfd1-8557-41e6-8271-b13ecef554c3/file?path=output.xlsx",
            "type": "link",
            "ranges": [],
            "toCodePoint": 48,
            "fromCodePoint": 40
          }
        ],
        "deepnote_app_block_visible": true,
        "cell_id": "cdc235ddde83410faa0f0f451f51b9ba",
        "deepnote_cell_type": "text-cell-p"
      },
      "block_group": "370f2722d68d4e7ca88859384bb6b470"
    },
    {
      "cell_type": "markdown",
      "source": "<hr>",
      "metadata": {
        "deepnote_app_block_visible": true,
        "cell_id": "a8261d813b1b4b9f9eec4d695f1f4cfe",
        "deepnote_cell_type": "separator"
      },
      "block_group": "7f84b205c8cc4c5f8d565018eb21f687"
    },
    {
      "cell_type": "markdown",
      "source": "## Data Snapshots",
      "metadata": {
        "formattedRanges": [],
        "deepnote_app_block_visible": true,
        "cell_id": "9e6572d8b3a8434bb72de8212747816c",
        "deepnote_cell_type": "text-cell-h2"
      },
      "block_group": "9184dd5e93874db2bdc1a15cb55feb86"
    },
    {
      "cell_type": "markdown",
      "source": "Number of reporting organisations referencing each participating organisation identifier :",
      "metadata": {
        "formattedRanges": [
          {
            "type": "marks",
            "marks": {
              "bold": true
            },
            "toCodePoint": 90,
            "fromCodePoint": 0
          }
        ],
        "deepnote_app_block_visible": true,
        "cell_id": "b08234b3fd7943e1b55d4148fe44a283",
        "deepnote_cell_type": "text-cell-p"
      },
      "block_group": "5698b30549f741458f5b43344337f8fb"
    },
    {
      "cell_type": "code",
      "source": "%%nql SHOW CREATE ref_count ref_count=DF\n\nSELECT \n    ref as \"Participating Organisation Identifier\",\n    COUNT(DISTINCT(reportingorg_ref)) as \"Count\" \nFROM filtered_orgs \nGROUP BY ref\nORDER BY \"Count\" DESC",
      "metadata": {
        "source_hash": "3e54afdf",
        "execution_start": 1729004410709,
        "execution_millis": 3,
        "execution_context_id": "78cbc6bf-5a46-4fd4-84f4-0bf0fa32fe3b",
        "deepnote_app_block_visible": true,
        "deepnote_app_is_code_hidden": true,
        "cell_id": "00d3d9badf784836a37ca89fe993481e",
        "deepnote_cell_type": "code"
      },
      "outputs": [],
      "outputs_reference": null,
      "execution_count": 24,
      "block_group": "68c2f96e1bde4126ab590fddea0e99df",
      "content_dependencies": null
    },
    {
      "cell_type": "markdown",
      "source": "Most commonly referenced participating organisation identifiers - Top 25",
      "metadata": {
        "formattedRanges": [
          {
            "type": "marks",
            "marks": {
              "bold": true
            },
            "toCodePoint": 72,
            "fromCodePoint": 0
          }
        ],
        "deepnote_app_block_visible": true,
        "cell_id": "380042ba5fbb4527bbb3b98ebc41b445",
        "deepnote_cell_type": "text-cell-p"
      },
      "block_group": "1c07710365564742b7d7311a68205f0f"
    },
    {
      "cell_type": "code",
      "source": "plt.barh(\"Participating Organisation Identifier\", \"Count\", data = ref_count.loc[0:24])\nplt.xlabel('Count of reporting organisations')\nplt.ylabel('Participating Organistion Reference')\nplt.show()",
      "metadata": {
        "source_hash": "e0f4dc0a",
        "execution_start": 1729004410761,
        "execution_millis": 270,
        "execution_context_id": "78cbc6bf-5a46-4fd4-84f4-0bf0fa32fe3b",
        "deepnote_app_block_visible": true,
        "deepnote_app_is_code_hidden": true,
        "cell_id": "d90d5267cb7346b79b998894bf3f618b",
        "deepnote_cell_type": "code"
      },
      "outputs": [],
      "outputs_reference": null,
      "execution_count": 25,
      "block_group": "3060238e5213462980d5c03f1522b853",
      "content_dependencies": null
    },
    {
      "cell_type": "markdown",
      "source": "Count of unique valid participating organisation identifiers referenced by each reporting organisation:",
      "metadata": {
        "formattedRanges": [
          {
            "type": "marks",
            "marks": {
              "bold": true
            },
            "toCodePoint": 103,
            "fromCodePoint": 0
          }
        ],
        "deepnote_app_block_visible": true,
        "cell_id": "ce925bfa9d2a4f3ba8675d92d1548d7f",
        "deepnote_cell_type": "text-cell-p"
      },
      "block_group": "440571b9409f4807ab37024ad3d25513"
    },
    {
      "cell_type": "code",
      "source": "%%nql SHOW CREATE reporg_count reporg_count=DF\n\nSELECT\n    reportingorg_name as \"Reporting Organisation\",\n    COUNT(DISTINCT(ref)) as \"Count of Participating Organisation Identifiers\"\nFROM filtered_orgs \nGROUP BY reportingorg_name\nORDER BY \"Count of Participating Organisation Identifiers\" DESC",
      "metadata": {
        "source_hash": "fa6eee9f",
        "execution_start": 1729004411089,
        "execution_millis": 1,
        "execution_context_id": "78cbc6bf-5a46-4fd4-84f4-0bf0fa32fe3b",
        "deepnote_app_block_visible": true,
        "deepnote_app_is_code_hidden": true,
        "cell_id": "4b767cc3e1a240d785f7979850307212",
        "deepnote_cell_type": "code"
      },
      "outputs": [],
      "outputs_reference": null,
      "execution_count": 26,
      "block_group": "231e447fde0a4e148562422da5f704d8",
      "content_dependencies": null
    },
    {
      "cell_type": "markdown",
      "source": "Reporting organisations with most valid participating organisation identifiers - Top 25",
      "metadata": {
        "formattedRanges": [
          {
            "type": "marks",
            "marks": {
              "bold": true
            },
            "toCodePoint": 87,
            "fromCodePoint": 0
          }
        ],
        "deepnote_app_block_visible": true,
        "cell_id": "b4565be917aa48b3a28513222e193a64",
        "deepnote_cell_type": "text-cell-p"
      },
      "block_group": "2fb67da2a61548409c7e5070dbeb9a41"
    },
    {
      "cell_type": "code",
      "source": "plt.barh('Reporting Organisation', 'Count of Participating Organisation Identifiers', \n            data = reporg_count.loc[0:24])\nplt.xlabel('Count of Participating Organisation References')\nplt.ylabel('Reporting Organistion')\nplt.show()",
      "metadata": {
        "source_hash": "81150aba",
        "execution_start": 1729004411141,
        "execution_millis": 253,
        "execution_context_id": "78cbc6bf-5a46-4fd4-84f4-0bf0fa32fe3b",
        "deepnote_app_block_visible": true,
        "deepnote_app_is_code_hidden": true,
        "cell_id": "7ca55603082b4438b91c85537aea1021",
        "deepnote_cell_type": "code"
      },
      "outputs": [],
      "outputs_reference": null,
      "execution_count": 27,
      "block_group": "0155f0d533d84e5ebf82f812b86dd275",
      "content_dependencies": null
    },
    {
      "cell_type": "markdown",
      "source": "<hr>",
      "metadata": {
        "deepnote_app_block_visible": true,
        "cell_id": "b791f564f67444ce99eb1c9c8b12ac37",
        "deepnote_cell_type": "separator"
      },
      "block_group": "1ac3c75c7fc4487fb7e34feb387d9f60"
    },
    {
      "cell_type": "markdown",
      "source": "### Footnote",
      "metadata": {
        "formattedRanges": [],
        "deepnote_app_block_visible": true,
        "cell_id": "b1a62ceaa01344528d6bd894c3009c65",
        "deepnote_cell_type": "text-cell-h3"
      },
      "block_group": "86c339c4dcde4fa88d9c4a106c17fb3d"
    },
    {
      "cell_type": "markdown",
      "source": "The code behind this application is hidden to improve usability. You are welcome to view this code at: Notebook.",
      "metadata": {
        "formattedRanges": [
          {
            "url": "https://deepnote.com/workspace/Open-Data-Services-Cooperative-46a54078-1c9e-4c25-b08c-69c3957de83a/project/Org-ID-networking-240fcfd1-8557-41e6-8271-b13ecef554c3/notebook/1.%20Org-ID%20Networking-e87d041ca45a4b1e9103bd497dcaea5d",
            "type": "link",
            "ranges": [],
            "toCodePoint": 112,
            "fromCodePoint": 103
          }
        ],
        "deepnote_app_block_visible": true,
        "cell_id": "049a045dc6e7428e8b9c75809d2a0c6f",
        "deepnote_cell_type": "text-cell-p"
      },
      "block_group": "f285875532b442688205999fad9054dc"
    },
    {
      "cell_type": "markdown",
      "source": "<a style='text-decoration:none;line-height:16px;display:flex;color:#5B5B62;padding:10px;justify-content:end;' href='https://deepnote.com?utm_source=created-in-deepnote-cell&projectId=240fcfd1-8557-41e6-8271-b13ecef554c3' target=\"_blank\">\n<img alt='Created in deepnote.com' style='display:inline;max-height:16px;margin:0px;margin-right:7.5px;' src='data:image/svg+xml;base64,PD94bWwgdmVyc2lvbj0iMS4wIiBlbmNvZGluZz0iVVRGLTgiPz4KPHN2ZyB3aWR0aD0iODBweCIgaGVpZ2h0PSI4MHB4IiB2aWV3Qm94PSIwIDAgODAgODAiIHZlcnNpb249IjEuMSIgeG1sbnM9Imh0dHA6Ly93d3cudzMub3JnLzIwMDAvc3ZnIiB4bWxuczp4bGluaz0iaHR0cDovL3d3dy53My5vcmcvMTk5OS94bGluayI+CiAgICA8IS0tIEdlbmVyYXRvcjogU2tldGNoIDU0LjEgKDc2NDkwKSAtIGh0dHBzOi8vc2tldGNoYXBwLmNvbSAtLT4KICAgIDx0aXRsZT5Hcm91cCAzPC90aXRsZT4KICAgIDxkZXNjPkNyZWF0ZWQgd2l0aCBTa2V0Y2guPC9kZXNjPgogICAgPGcgaWQ9IkxhbmRpbmciIHN0cm9rZT0ibm9uZSIgc3Ryb2tlLXdpZHRoPSIxIiBmaWxsPSJub25lIiBmaWxsLXJ1bGU9ImV2ZW5vZGQiPgogICAgICAgIDxnIGlkPSJBcnRib2FyZCIgdHJhbnNmb3JtPSJ0cmFuc2xhdGUoLTEyMzUuMDAwMDAwLCAtNzkuMDAwMDAwKSI+CiAgICAgICAgICAgIDxnIGlkPSJHcm91cC0zIiB0cmFuc2Zvcm09InRyYW5zbGF0ZSgxMjM1LjAwMDAwMCwgNzkuMDAwMDAwKSI+CiAgICAgICAgICAgICAgICA8cG9seWdvbiBpZD0iUGF0aC0yMCIgZmlsbD0iIzAyNjVCNCIgcG9pbnRzPSIyLjM3NjIzNzYyIDgwIDM4LjA0NzY2NjcgODAgNTcuODIxNzgyMiA3My44MDU3NTkyIDU3LjgyMTc4MjIgMzIuNzU5MjczOSAzOS4xNDAyMjc4IDMxLjY4MzE2ODMiPjwvcG9seWdvbj4KICAgICAgICAgICAgICAgIDxwYXRoIGQ9Ik0zNS4wMDc3MTgsODAgQzQyLjkwNjIwMDcsNzYuNDU0OTM1OCA0Ny41NjQ5MTY3LDcxLjU0MjI2NzEgNDguOTgzODY2LDY1LjI2MTk5MzkgQzUxLjExMjI4OTksNTUuODQxNTg0MiA0MS42NzcxNzk1LDQ5LjIxMjIyODQgMjUuNjIzOTg0Niw0OS4yMTIyMjg0IEMyNS40ODQ5Mjg5LDQ5LjEyNjg0NDggMjkuODI2MTI5Niw0My4yODM4MjQ4IDM4LjY0NzU4NjksMzEuNjgzMTY4MyBMNzIuODcxMjg3MSwzMi41NTQ0MjUgTDY1LjI4MDk3Myw2Ny42NzYzNDIxIEw1MS4xMTIyODk5LDc3LjM3NjE0NCBMMzUuMDA3NzE4LDgwIFoiIGlkPSJQYXRoLTIyIiBmaWxsPSIjMDAyODY4Ij48L3BhdGg+CiAgICAgICAgICAgICAgICA8cGF0aCBkPSJNMCwzNy43MzA0NDA1IEwyNy4xMTQ1MzcsMC4yNTcxMTE0MzYgQzYyLjM3MTUxMjMsLTEuOTkwNzE3MDEgODAsMTAuNTAwMzkyNyA4MCwzNy43MzA0NDA1IEM4MCw2NC45NjA0ODgyIDY0Ljc3NjUwMzgsNzkuMDUwMzQxNCAzNC4zMjk1MTEzLDgwIEM0Ny4wNTUzNDg5LDc3LjU2NzA4MDggNTMuNDE4MjY3Nyw3MC4zMTM2MTAzIDUzLjQxODI2NzcsNTguMjM5NTg4NSBDNTMuNDE4MjY3Nyw0MC4xMjg1NTU3IDM2LjMwMzk1NDQsMzcuNzMwNDQwNSAyNS4yMjc0MTcsMzcuNzMwNDQwNSBDMTcuODQzMDU4NiwzNy43MzA0NDA1IDkuNDMzOTE5NjYsMzcuNzMwNDQwNSAwLDM3LjczMDQ0MDUgWiIgaWQ9IlBhdGgtMTkiIGZpbGw9IiMzNzkzRUYiPjwvcGF0aD4KICAgICAgICAgICAgPC9nPgogICAgICAgIDwvZz4KICAgIDwvZz4KPC9zdmc+' > </img>\nCreated in <span style='font-weight:600;margin-left:4px;'>Deepnote</span></a>",
      "metadata": {
        "created_in_deepnote_cell": true,
        "deepnote_cell_type": "markdown"
      }
    }
  ],
  "nbformat": 4,
  "nbformat_minor": 0,
  "metadata": {
    "deepnote_app_clear_outputs": false,
    "deepnote_app_layout": "powerful-article",
    "deepnote_app_hide_all_code_blocks_enabled": false,
    "deepnote_app_width": "full-width",
    "deepnote_app_run_on_input_enabled": false,
    "deepnote_app_reactivity_enabled": false,
    "deepnote_notebook_id": "e87d041ca45a4b1e9103bd497dcaea5d",
    "deepnote_execution_queue": []
  }
}