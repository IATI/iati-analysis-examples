{
  "cells": [
    {
      "cell_type": "code",
      "metadata": {
        "source_hash": "bf16a541",
        "execution_start": 1734955371162,
        "execution_millis": 930,
        "execution_context_id": "ed73e792-2777-466b-b5a9-dcd3258f88ac",
        "deepnote_to_be_reexecuted": false,
        "deepnote_app_block_visible": false,
        "deepnote_app_is_code_hidden": true,
        "deepnote_app_is_output_hidden": true,
        "cell_id": "8f4992a7d4e1442684b43d7c9099c9c0",
        "deepnote_cell_type": "code"
      },
      "source": "#Set up\nimport seaborn as sns\nimport pandas as pd\nfrom datetime import datetime\nimport ast\nimport os\nimport noteql\nimport matplotlib.pyplot as plt\nfrom time import sleep\nfrom IPython.core.display import HTML",
      "outputs": [],
      "outputs_reference": null,
      "execution_count": 1,
      "block_group": "129576965a4e41368890f6968143cd96",
      "content_dependencies": null
    },
    {
      "cell_type": "markdown",
      "source": "# Organisation-Identifier Networking",
      "metadata": {
        "formattedRanges": [],
        "deepnote_app_block_visible": true,
        "cell_id": "b548477ee1414dafacec3ed1f1b9751a",
        "deepnote_cell_type": "text-cell-h1"
      },
      "block_group": "b1a18e022f00442fbb8dce8131f01d12"
    },
    {
      "cell_type": "markdown",
      "source": "> Organisations publishing IATI data declare participating organisations, which have various roles in their activities. By using Organisation-Identifiers, participating organisations can be uniquely identified, allowing us to create a network.",
      "metadata": {
        "formattedRanges": [
          {
            "url": "https://iatistandard.org/en/iati-standard/203/activity-standard/iati-activities/iati-activity/participating-org/",
            "type": "link",
            "ranges": [],
            "toCodePoint": 70,
            "fromCodePoint": 43
          },
          {
            "url": "https://iatistandard.org/en/iati-standard/203/codelists/organisationrole/",
            "type": "link",
            "ranges": [],
            "toCodePoint": 96,
            "fromCodePoint": 91
          }
        ],
        "deepnote_app_block_visible": true,
        "cell_id": "d27fc6e350de415cb462f43b69671f95",
        "deepnote_cell_type": "text-cell-callout"
      },
      "block_group": "dbbad495e8be4e5392f193aeebd17082"
    },
    {
      "cell_type": "markdown",
      "source": "> This application visualises the network of shared organisation references in IATI data, based on the participating-org/@ref element. You can create your own visualisation based on type of reporting organisation, specific countries, or using a list of specific organisations. ",
      "metadata": {
        "formattedRanges": [],
        "deepnote_app_block_visible": true,
        "cell_id": "8d013457fe564fc9b3c409764576ed65",
        "deepnote_cell_type": "text-cell-callout"
      },
      "block_group": "15233c2d58244a9fb373359c95a07472"
    },
    {
      "cell_type": "markdown",
      "source": "Example network:",
      "metadata": {
        "formattedRanges": [
          {
            "type": "marks",
            "marks": {
              "bold": true
            },
            "toCodePoint": 16,
            "fromCodePoint": 0
          }
        ],
        "deepnote_app_block_visible": true,
        "cell_id": "2fcd3604a6dc4b1d8255fc44333c12fe",
        "deepnote_cell_type": "text-cell-p"
      },
      "block_group": "d24aa864469642158d1f42072fa29594"
    },
    {
      "cell_type": "markdown",
      "source": "<hr>",
      "metadata": {
        "deepnote_app_block_visible": true,
        "cell_id": "e5d933a5f7404866be045f71e820abde",
        "deepnote_cell_type": "separator"
      },
      "block_group": "72f5e8e4e52848ef9e88eb5d9ca314ca"
    },
    {
      "cell_type": "code",
      "metadata": {
        "source_hash": "3bfc7695",
        "execution_start": 1734955372142,
        "execution_millis": 1,
        "execution_context_id": "64c0a9d9-f93e-4df5-9f02-d81e8a3039ed",
        "deepnote_app_block_visible": true,
        "deepnote_app_is_code_hidden": true,
        "cell_id": "05f01abf574f422d85670ef8a0cfa06e",
        "deepnote_cell_type": "code"
      },
      "source": "# function to add flexibility to change width and viz_id and also error handling\n\ndef show_flourish(viz_id=\"17570004\", width=\"28%\"): # defult values \n    try:\n        html = f'<div class=\"flourish-embed flourish-chord\" data-src=\"visualisation/{viz_id}\" data-width=\"{width}\"><script src=\"https://public.flourish.studio/resources/embed.js\"></script></div>'\n        return HTML(html)\n    except Exception as e:\n        print(f\"Failed to load visualization: {e}\")\n        return None\n\n\nshow_flourish()  # Uses defaults (17570004, 28%)\n",
      "outputs": [],
      "outputs_reference": null,
      "execution_count": 2,
      "block_group": "93afd1f483e14c6ba5e02310bb25e9fc",
      "content_dependencies": null
    },
    {
      "cell_type": "markdown",
      "source": "## Running the application:",
      "metadata": {
        "formattedRanges": [],
        "deepnote_app_block_visible": true,
        "cell_id": "0a6e60c3366d4ff09bb804143922c412",
        "deepnote_cell_type": "text-cell-h2"
      },
      "block_group": "a5351b0ff83b46da95eb1f5d14ee3304"
    },
    {
      "cell_type": "markdown",
      "source": "1. Select the type of visualisation you want to create from the dropdown menu: A. Reporting organisation type, B. Country, or C. A list of reporting organisations.",
      "metadata": {
        "formattedRanges": [
          {
            "type": "marks",
            "marks": {
              "bold": true
            },
            "toCodePoint": 2,
            "fromCodePoint": 0
          },
          {
            "type": "marks",
            "marks": {
              "bold": true
            },
            "toCodePoint": 81,
            "fromCodePoint": 79
          },
          {
            "type": "marks",
            "marks": {
              "bold": true
            },
            "toCodePoint": 109,
            "fromCodePoint": 82
          },
          {
            "type": "marks",
            "marks": {
              "bold": true
            },
            "toCodePoint": 121,
            "fromCodePoint": 111
          },
          {
            "type": "marks",
            "marks": {
              "bold": true
            },
            "toCodePoint": 162,
            "fromCodePoint": 126
          }
        ],
        "deepnote_app_block_visible": true,
        "cell_id": "eb810b0bc5564f8daefdd825d315dc22",
        "deepnote_cell_type": "text-cell-p"
      },
      "block_group": "26edbf02af2040f1a3c7e05a0a53147a"
    },
    {
      "cell_type": "code",
      "metadata": {
        "source_hash": "dc79fda3",
        "execution_start": 1734955372190,
        "execution_millis": 1,
        "deepnote_input_label": "Visualisation Type",
        "execution_context_id": "ce9d9233-d91e-4f42-9d3b-dcbf79e83162",
        "deepnote_variable_name": "vis_type",
        "deepnote_variable_value": "Organisations by Type",
        "deepnote_variable_options": [
          "Organisations by Type",
          "Country",
          "Specific Organisations"
        ],
        "deepnote_app_block_visible": true,
        "deepnote_variable_select_type": "from-options",
        "deepnote_variable_custom_options": [
          "Organisations by Type",
          "Country",
          "Specific Organisations"
        ],
        "deepnote_variable_selected_variable": "",
        "cell_id": "ef3d05e63fd140969f22494ebea8de42",
        "deepnote_cell_type": "input-select"
      },
      "source": "vis_type = 'Organisations by Type'",
      "outputs": [],
      "outputs_reference": null,
      "execution_count": 3,
      "block_group": "7c34471488a2411086bb7525de0f247e"
    },
    {
      "cell_type": "markdown",
      "source": "",
      "metadata": {
        "formattedRanges": [],
        "deepnote_app_block_visible": true,
        "cell_id": "72baf18221ff4a4a9d4af6beb2f913b9",
        "deepnote_cell_type": "text-cell-p"
      },
      "block_group": "7a9fca2cee574966bc8d7aafc1f57bd5"
    },
    {
      "cell_type": "markdown",
      "source": "2A. If you are interested in specific organisation types, select them using the dropdown menu. Selecting a large amount of organisation types may cause this application to run slowly or fail.",
      "metadata": {
        "formattedRanges": [
          {
            "type": "marks",
            "marks": {
              "bold": true
            },
            "toCodePoint": 3,
            "fromCodePoint": 0
          },
          {
            "url": "https://iatistandard.org/en/iati-standard/203/codelists/organisationtype/ ",
            "type": "link",
            "ranges": [
              {
                "type": "marks",
                "marks": {
                  "bold": true
                },
                "toCodePoint": 18,
                "fromCodePoint": 0
              }
            ],
            "toCodePoint": 56,
            "fromCodePoint": 38
          }
        ],
        "deepnote_app_block_visible": true,
        "cell_id": "99f77422f2a54e7c83568a455db5af00",
        "deepnote_cell_type": "text-cell-p"
      },
      "block_group": "f2cd8ea5990d4b35a8fa9a06ccbd71f3"
    },
    {
      "cell_type": "code",
      "metadata": {
        "source_hash": "7b90f441",
        "execution_start": 1734955372238,
        "execution_millis": 0,
        "deepnote_input_label": "Reporting Organisation Type",
        "execution_context_id": "f58cd27f-e552-4061-aeb4-4d6d3104a12b",
        "deepnote_variable_name": "rep_org_type",
        "deepnote_variable_value": "10",
        "deepnote_variable_options": [
          "10",
          "11",
          "15",
          "21",
          "22",
          "23",
          "24",
          "30",
          "40",
          "60",
          "70",
          "71",
          "73",
          "80",
          "90"
        ],
        "deepnote_app_block_visible": true,
        "deepnote_variable_select_type": "from-options",
        "deepnote_allow_multiple_values": true,
        "deepnote_variable_custom_options": [
          "10",
          "11",
          "15",
          "21",
          "22",
          "23",
          "24",
          "30",
          "40",
          "60",
          "70",
          "71",
          "73",
          "80",
          "90"
        ],
        "deepnote_variable_selected_variable": "",
        "cell_id": "98c5e3f4e3454079bbf5c8ae10accd38",
        "deepnote_cell_type": "input-select"
      },
      "source": "rep_org_type = ['10']",
      "outputs": [],
      "outputs_reference": null,
      "execution_count": 4,
      "block_group": "0e03582dbbfd4d6395f90248f9502ef5"
    },
    {
      "cell_type": "markdown",
      "source": "**Organisation Types:**\n\n**Code** | **Name**     |\n|---------|---------------------------------|\n| 10 | Government |\n| 11 | Local Government |\n| 15 | Other Public Sector |\n| 21 | International NGO |\n| 22 | National NGO |\n| 23 | Regional NGO |\n| 24 | Partner Country based NGO | \n| 30 | Public Private Partnership |\t\n| 40 | Multilateral |\n| 60 | Foundation |\n| 70 | Private Sector |\n| 71 | Private Sector in Provider Country |\n| 72 | Private Sector in Aid Recipient Country |\n| 73 | Private Sector in Third Country |\n| 80 | Academic, Training and Research | \t\n| 90 | Other \n",
      "metadata": {
        "deepnote_app_block_visible": true,
        "cell_id": "abbc94802b35433990c7c5adc4d3d9b9",
        "deepnote_cell_type": "markdown"
      },
      "block_group": "9539aa1b578e4d8abef520bdb458b222"
    },
    {
      "cell_type": "markdown",
      "source": "Get info country selector dropdown.",
      "metadata": {
        "formattedRanges": [],
        "deepnote_app_block_visible": false,
        "cell_id": "af2b9cfa52f84407a9572a41ddc96b0c",
        "deepnote_cell_type": "text-cell-p"
      },
      "block_group": "f1e7c09f1f774c459c5dce66d52d7594"
    },
    {
      "cell_type": "code",
      "metadata": {
        "source_hash": "37b14a2c",
        "execution_start": 1734955372290,
        "execution_millis": 4660,
        "execution_context_id": "ed73e792-2777-466b-b5a9-dcd3258f88ac",
        "deepnote_app_block_visible": true,
        "deepnote_app_is_code_hidden": true,
        "deepnote_app_is_output_hidden": true,
        "cell_id": "235776ffda0845309a306deff98c66bf",
        "deepnote_cell_type": "code"
      },
      "source": "try:\n    !wget https://iatiregistry.org/publisher/download/csv\n    registry = pd.read_csv(\"csv\")\n    countries = sorted(registry['HQ Country or Region'].unique())\nexcept Exception as e:\n    print(f\"Error downloading or processing registry: {e}\")\nfinally:\n    !rm -rf \"csv\"  # Clean up regardless of success/failure",
      "outputs": [],
      "outputs_reference": null,
      "execution_count": 5,
      "block_group": "6f317fb5025e49479983a1a2f99b30d0",
      "content_dependencies": null
    },
    {
      "cell_type": "markdown",
      "source": " ",
      "metadata": {
        "formattedRanges": [],
        "deepnote_app_block_visible": true,
        "cell_id": "6df85d5ef1f24510802116c83ea7099f",
        "deepnote_cell_type": "text-cell-p"
      },
      "block_group": "049b688264fa4be99bbbeea55fa682db"
    },
    {
      "cell_type": "markdown",
      "source": "2B.  If you are interested in reporting organisations based in a specific country or countries, select them using the dropdown menu. You can find out where an organisation is based using the registry. Selecting a large number of countries may cause this application to run slowly or fail.",
      "metadata": {
        "formattedRanges": [
          {
            "type": "marks",
            "marks": {
              "bold": true
            },
            "toCodePoint": 4,
            "fromCodePoint": 0
          },
          {
            "url": "https://iatiregistry.org/publisher/. ",
            "type": "link",
            "ranges": [],
            "toCodePoint": 199,
            "fromCodePoint": 191
          }
        ],
        "deepnote_app_block_visible": true,
        "cell_id": "5619699951eb401384083346b36d86a5",
        "deepnote_cell_type": "text-cell-p"
      },
      "block_group": "3c586e79f5c84b159710038952096192"
    },
    {
      "cell_type": "code",
      "metadata": {
        "source_hash": "346cbb35",
        "execution_start": 1734955377002,
        "execution_millis": 0,
        "deepnote_input_label": "Country",
        "execution_context_id": "64c0a9d9-f93e-4df5-9f02-d81e8a3039ed",
        "deepnote_variable_name": "country_query",
        "deepnote_variable_value": "(No country assigned)",
        "deepnote_variable_options": [
          "(No country assigned)",
          "Afghanistan",
          "Argentina",
          "Armenia",
          "Australia",
          "Austria",
          "Bangladesh",
          "Belgium",
          "Benin",
          "Bilateral, unspecified",
          "Bolivia",
          "Botswana",
          "Brazil",
          "Burkina Faso",
          "Burundi",
          "Cambodia",
          "Canada",
          "Central African Republic",
          "China",
          "Colombia",
          "Congo (Democratic Republic of the)",
          "Costa Rica",
          "Czechia",
          "Côte D'Ivoire",
          "Denmark",
          "Egypt",
          "Ethiopia",
          "Europe, regional",
          "Finland",
          "France",
          "Georgia",
          "Germany",
          "Ghana",
          "Greece",
          "Hong Kong",
          "India",
          "Indonesia",
          "Iraq",
          "Ireland",
          "Isle of Man",
          "Israel",
          "Italy",
          "Japan",
          "Jordan",
          "Kenya",
          "Korea (Republic of)",
          "Lebanon",
          "Liberia",
          "Lithuania",
          "Madagascar",
          "Malawi",
          "Malaysia",
          "Mali",
          "Mauritius",
          "Mexico",
          "Mozambique",
          "Myanmar",
          "Namibia",
          "Nepal",
          "Netherlands",
          "New Zealand",
          "Nicaragua",
          "Niger",
          "Nigeria",
          "Norway",
          "Pakistan",
          "Palestine, State of",
          "Panama",
          "Paraguay",
          "Peru",
          "Philippines",
          "Romania",
          "Rwanda",
          "Saudi Arabia",
          "Senegal",
          "Sierra Leone",
          "Singapore",
          "Slovakia",
          "Slovenia",
          "Somalia",
          "South Africa",
          "South Sudan",
          "Spain",
          "Sri Lanka",
          "Sudan",
          "Sweden",
          "Switzerland",
          "Taiwan (Province of China)",
          "Tanzania, United Republic of",
          "Thailand",
          "Togo",
          "Tunisia",
          "Turkey",
          "Uganda",
          "Ukraine",
          "United Arab Emirates",
          "United Kingdom",
          "United States",
          "Venezuela (Bolivarian Republic of)",
          "Viet Nam",
          "Yemen",
          "Zambia",
          "Zimbabwe",
          "eSwatini"
        ],
        "deepnote_app_block_visible": true,
        "deepnote_variable_select_type": "from-variable",
        "deepnote_allow_multiple_values": true,
        "deepnote_variable_custom_options": [
          "Option 1",
          "Option 2"
        ],
        "deepnote_variable_selected_variable": "countries",
        "cell_id": "a6ee3f3f636945e59edf24a36c981c6a",
        "deepnote_cell_type": "input-select"
      },
      "source": "country_query = ['(No country assigned)']",
      "outputs": [],
      "outputs_reference": null,
      "execution_count": 6,
      "block_group": "026fd0a504cd4f22a2e70fb840b52868"
    },
    {
      "cell_type": "markdown",
      "source": " ",
      "metadata": {
        "formattedRanges": [],
        "deepnote_app_block_visible": true,
        "cell_id": "51ab7f1674c84995962f173cd4c16dd1",
        "deepnote_cell_type": "text-cell-p"
      },
      "block_group": "46705c1b26d04c0784151c8f4fd5badf"
    },
    {
      "cell_type": "markdown",
      "source": "2C.  If you are interested in a list of specific reporting organisations, enter the Organisation Identifiers of the IATI Publishers you want to select into the text box, copying this formatting exactly: 'AU-5', '44000'.  You can find these identifiers using the registry.",
      "metadata": {
        "formattedRanges": [
          {
            "type": "marks",
            "marks": {
              "bold": true
            },
            "toCodePoint": 4,
            "fromCodePoint": 0
          },
          {
            "type": "marks",
            "marks": {
              "bold": true
            },
            "toCodePoint": 72,
            "fromCodePoint": 32
          },
          {
            "type": "marks",
            "marks": {
              "bold": true
            },
            "toCodePoint": 218,
            "fromCodePoint": 170
          },
          {
            "url": "https://iatiregistry.org/publisher/. ",
            "type": "link",
            "ranges": [],
            "toCodePoint": 270,
            "fromCodePoint": 262
          }
        ],
        "deepnote_app_block_visible": true,
        "cell_id": "3845d68fd7ec4f0c818f9e2bd4fc65bc",
        "deepnote_cell_type": "text-cell-p"
      },
      "block_group": "ec69fd7264324759a69411c389deaefa"
    },
    {
      "cell_type": "code",
      "metadata": {
        "source_hash": "bdff6e8e",
        "execution_start": 1734955377050,
        "execution_millis": 1,
        "deepnote_input_label": "Organisation Identifiers",
        "execution_context_id": "64c0a9d9-f93e-4df5-9f02-d81e8a3039ed",
        "deepnote_variable_name": "pub_org_id",
        "deepnote_variable_value": "",
        "deepnote_app_block_visible": true,
        "cell_id": "97a1ff1d6fb846518a423418e85dea0b",
        "deepnote_cell_type": "input-text"
      },
      "source": "pub_org_id = ''",
      "outputs": [],
      "outputs_reference": null,
      "execution_count": 7,
      "block_group": "0c6fc6e90f5a4bd3912ba0b05d2933bf"
    },
    {
      "cell_type": "markdown",
      "source": "Reporting organisation identifiers:",
      "metadata": {
        "formattedRanges": [
          {
            "type": "marks",
            "marks": {
              "bold": true
            },
            "toCodePoint": 35,
            "fromCodePoint": 0
          }
        ],
        "deepnote_app_block_visible": true,
        "cell_id": "8b46a0846c0647eba3eb54e12b846e5d",
        "deepnote_cell_type": "text-cell-p"
      },
      "block_group": "d5578939c8b940a391d9398ca0624b56"
    },
    {
      "cell_type": "code",
      "metadata": {
        "source_hash": "31cd5d0",
        "execution_start": 1734955377106,
        "execution_millis": 1,
        "execution_context_id": "64c0a9d9-f93e-4df5-9f02-d81e8a3039ed",
        "deepnote_app_block_visible": true,
        "deepnote_app_is_code_hidden": true,
        "cell_id": "3a5c0091dbe447c2ab56c32401f51325",
        "deepnote_cell_type": "code"
      },
      "source": "registry[['Publisher', 'IATI Organisation Identifier','HQ Country or Region']]",
      "outputs": [],
      "outputs_reference": null,
      "execution_count": 8,
      "block_group": "860d8f993d8b4980af2607f7b3faf6a2",
      "content_dependencies": null
    },
    {
      "cell_type": "markdown",
      "source": " ",
      "metadata": {
        "formattedRanges": [],
        "deepnote_app_block_visible": true,
        "cell_id": "1e3c989c3b2a4e7f8b2c42dd6e0201f2",
        "deepnote_cell_type": "text-cell-p"
      },
      "block_group": "431fdb4f66e6472db543f2b066e49ace"
    },
    {
      "cell_type": "markdown",
      "source": "3. Click the \"Run\" button.",
      "metadata": {
        "formattedRanges": [
          {
            "type": "marks",
            "marks": {
              "bold": true
            },
            "toCodePoint": 3,
            "fromCodePoint": 0
          },
          {
            "type": "marks",
            "marks": {
              "bold": true
            },
            "toCodePoint": 17,
            "fromCodePoint": 14
          }
        ],
        "deepnote_app_block_visible": true,
        "cell_id": "df765779ea334a6b9b56c5fe49da59aa",
        "deepnote_cell_type": "text-cell-p"
      },
      "block_group": "ba635ed2c6a340b1b109a9b0916bd89a"
    },
    {
      "cell_type": "markdown",
      "source": "",
      "metadata": {
        "source_hash": "b623e53d",
        "execution_start": 1734955377154,
        "execution_millis": 1,
        "execution_context_id": "ed73e792-2777-466b-b5a9-dcd3258f88ac",
        "deepnote_button_title": "Run",
        "deepnote_button_behavior": "run",
        "deepnote_app_block_visible": true,
        "deepnote_button_color_scheme": "blue",
        "cell_id": "f54dba5c77c343fa828d0bf01a70e7e3",
        "deepnote_cell_type": "button"
      },
      "outputs": [],
      "outputs_reference": null,
      "execution_count": 9,
      "block_group": "aeb856ba56ae493d8059003c7e9c4f6e"
    },
    {
      "cell_type": "code",
      "metadata": {
        "source_hash": "b40d4ca7",
        "execution_start": 1734955377202,
        "execution_millis": 1,
        "execution_context_id": "64c0a9d9-f93e-4df5-9f02-d81e8a3039ed",
        "deepnote_app_block_visible": true,
        "deepnote_app_is_code_hidden": true,
        "deepnote_app_is_output_hidden": false,
        "cell_id": "94355df1f8bd47079a32ba2fdc5fe1a9",
        "deepnote_cell_type": "code"
      },
      "source": "if vis_type in ['Organisations by Type']:\n    print(f\"Last run on organisation types:\",*rep_org_type)\nelif vis_type in ['Country']:\n    print(f\"Last run on organisations with headquarters in:\",*country_query)\nelif vis_type in ['Specific Organisations']:\n    print(f\"Last run on reporting organisations:\",*pub_org_id)",
      "outputs": [],
      "outputs_reference": null,
      "execution_count": 9,
      "block_group": "885a6ac8d79e401891acb136d3d0003f",
      "content_dependencies": null
    },
    {
      "cell_type": "markdown",
      "source": "# Download data",
      "metadata": {
        "formattedRanges": [],
        "deepnote_app_block_visible": false,
        "cell_id": "b3fb15811d284e9885fb4fa6e42af144",
        "deepnote_cell_type": "text-cell-h1"
      },
      "block_group": "04464c1c52d847bf981b3a0a668ff9a7"
    },
    {
      "cell_type": "markdown",
      "source": "## Setup",
      "metadata": {
        "formattedRanges": [],
        "deepnote_app_block_visible": false,
        "cell_id": "5d3b360ce07c4a43a7787ee29a83440c",
        "deepnote_cell_type": "text-cell-h2"
      },
      "block_group": "2254b2c1c44041a4aad29665b08ac266"
    },
    {
      "cell_type": "markdown",
      "source": "Using https://iati-tables.opendata.coop/. The following cell sets up the basic libraries needed for analysis and makes a connection to the database. ",
      "metadata": {
        "formattedRanges": [],
        "deepnote_app_block_visible": false,
        "cell_id": "0a226c5e2bae4ce1a6a01ea586e0f32b",
        "deepnote_cell_type": "text-cell-p"
      },
      "block_group": "647b88f4958747278c0343fb1b5bb9fc"
    },
    {
      "cell_type": "code",
      "metadata": {
        "source_hash": "9b2ec20",
        "execution_start": 1734955377254,
        "execution_millis": 1,
        "execution_context_id": "64c0a9d9-f93e-4df5-9f02-d81e8a3039ed",
        "deepnote_app_block_visible": true,
        "deepnote_app_is_code_hidden": true,
        "deepnote_app_is_output_hidden": true,
        "cell_id": "d523657b6ff1414bb47c665f85573b60",
        "deepnote_cell_type": "code"
      },
      "source": "def setup_database_connection(timeout=1000):\n    try:\n        sns.set_context('notebook')\n        \n        print(\"Initializing database connection...\")\n        \n        # Restarting PostgreSQL safely\n        try:\n            !sudo service postgresql restart\n            sleep(2)  # Giving PostgreSQL time to restart\n            print(\"PostgreSQL restarted successfully\")\n        except Exception as e:\n            print(f\"Warning: PostgreSQL restart failed: {e}\")\n        \n        # Creating new session\n        session = noteql.Session(\n            datasette_url='https://datasette.tables.iatistandard.org/iati.json',\n            connect_args={'connect_timeout': timeout}\n        )\n        \n        print(\"Database connection established successfully\")\n        return session\n        \n    except Exception as e:\n        print(f\"Error setting up database connection: {e}\")\n        return None",
      "outputs": [],
      "outputs_reference": null,
      "execution_count": 10,
      "block_group": "713b7062041942ccb21203222a16b09f",
      "content_dependencies": null
    },
    {
      "cell_type": "code",
      "metadata": {
        "source_hash": "2c89a74d",
        "execution_start": 1734955377302,
        "execution_millis": 4681,
        "execution_context_id": "ed73e792-2777-466b-b5a9-dcd3258f88ac",
        "deepnote_app_block_visible": true,
        "deepnote_app_is_code_hidden": true,
        "deepnote_app_is_output_hidden": true,
        "cell_id": "6c96ede767f647dbac9886de5f4b6ccc",
        "deepnote_cell_type": "code"
      },
      "source": "session = setup_database_connection()",
      "outputs": [],
      "outputs_reference": null,
      "execution_count": 11,
      "block_group": "2ec307cdff37464db409318b29c35c44",
      "content_dependencies": null
    },
    {
      "cell_type": "markdown",
      "source": "## IATI-tables Queries",
      "metadata": {
        "formattedRanges": [],
        "deepnote_app_block_visible": false,
        "cell_id": "825c77f981aa4f26814ff00356b7e243",
        "deepnote_cell_type": "text-cell-h2"
      },
      "block_group": "57044be593614bc7883bcc5f1e7ef344"
    },
    {
      "cell_type": "markdown",
      "source": "Downloading all participating organisations reported by selected reporting org type, countries, or ids.",
      "metadata": {
        "formattedRanges": [],
        "deepnote_app_block_visible": false,
        "cell_id": "c2f0d0f4863f4879b1713321e6ba5c39",
        "deepnote_cell_type": "text-cell-p"
      },
      "block_group": "f198b616a5c84d2eb5c37374f0fbba4e"
    },
    {
      "cell_type": "markdown",
      "source": "For country based search: find organisations.",
      "metadata": {
        "formattedRanges": [
          {
            "type": "marks",
            "marks": {
              "bold": true
            },
            "toCodePoint": 26,
            "fromCodePoint": 0
          }
        ],
        "deepnote_app_block_visible": false,
        "cell_id": "ae95a32064bc4e0d8ccb9b6d0f441ff6",
        "deepnote_cell_type": "text-cell-p"
      },
      "block_group": "3f5ce2d45a604e6991d135fbfd69cd2d"
    },
    {
      "cell_type": "code",
      "metadata": {
        "source_hash": "408a757e",
        "execution_start": 1734955382038,
        "execution_millis": 0,
        "execution_context_id": "64c0a9d9-f93e-4df5-9f02-d81e8a3039ed",
        "deepnote_app_block_visible": true,
        "deepnote_app_is_code_hidden": true,
        "deepnote_app_is_output_hidden": true,
        "cell_id": "b1b774255e7a4c889afb86e0e8fe17b8",
        "deepnote_cell_type": "code"
      },
      "source": "def get_country_iso_codes(country_query, csv_path=\"Country.csv\"):\n    try:\n        # Reading country codes\n        print(f\"Loading country codes from {csv_path}...\")\n        iso_codes = pd.read_csv(csv_path)\n        \n        # Filtering based on country query\n        filtered_codes = iso_codes[iso_codes['name'].isin(country_query)]\n        \n        if filtered_codes.empty:\n            print(f\"Warning: No ISO codes found for countries: {', '.join(country_query)}\")\n            return None\n            \n        print(f\"Found ISO codes for {len(filtered_codes)} countries\")\n        return filtered_codes['code']\n        \n    except FileNotFoundError:\n        print(f\"Error: Country code file '{csv_path}' not found\")\n        return None\n    except Exception as e:\n        print(f\"Error processing country codes: {e}\")\n        return None",
      "outputs": [],
      "outputs_reference": null,
      "execution_count": 12,
      "block_group": "cdd460e2368a41758c56e410f0bf6888",
      "content_dependencies": null
    },
    {
      "cell_type": "code",
      "metadata": {
        "source_hash": "c57d11b4",
        "execution_start": 1734955382090,
        "execution_millis": 57,
        "execution_context_id": "64c0a9d9-f93e-4df5-9f02-d81e8a3039ed",
        "deepnote_app_block_visible": true,
        "deepnote_app_is_code_hidden": true,
        "deepnote_app_is_output_hidden": true,
        "cell_id": "ba2deec244614b008fba038cda0e09c5",
        "deepnote_cell_type": "code"
      },
      "source": "iso_codes = get_country_iso_codes(country_query)",
      "outputs": [],
      "outputs_reference": null,
      "execution_count": 13,
      "block_group": "72eb81b22e114728aa7ad5146cd2e9e9",
      "content_dependencies": null
    },
    {
      "cell_type": "code",
      "metadata": {
        "source_hash": "3135a9ec",
        "execution_start": 1734955382190,
        "execution_millis": 1,
        "execution_context_id": "64c0a9d9-f93e-4df5-9f02-d81e8a3039ed",
        "deepnote_app_block_visible": true,
        "deepnote_app_is_code_hidden": true,
        "deepnote_app_is_output_hidden": true,
        "cell_id": "1c7c93923bd642a1a3d994e641cd5ca0",
        "deepnote_cell_type": "code"
      },
      "source": "iso_codes",
      "outputs": [],
      "outputs_reference": null,
      "execution_count": 14,
      "block_group": "64dae8ad8a904b08878face8cc5c8757",
      "content_dependencies": null
    },
    {
      "cell_type": "code",
      "metadata": {
        "source_hash": "f15e8149",
        "execution_start": 1734955382238,
        "execution_millis": 1,
        "execution_context_id": "64c0a9d9-f93e-4df5-9f02-d81e8a3039ed",
        "deepnote_app_block_visible": true,
        "deepnote_app_is_code_hidden": true,
        "deepnote_app_is_output_hidden": true,
        "cell_id": "441f049b7d094ac4a1cab4e3809e3ced",
        "deepnote_cell_type": "code"
      },
      "source": "def process_country_organisations(registry, country_query):\n    try:\n        # Filtering organizations by country\n        print(f\"Filtering organisations for countries: {', '.join(country_query)}\")\n        filtered_orgs = registry[registry['HQ Country or Region'].isin(country_query)]\n        \n        if filtered_orgs.empty:\n            print(\"No organisations found for specified countries\")\n            return None\n            \n        # Split IATI identifiers into prefix and ID \n        # May wish to use org-id prefix to filter in future\n        split_identifiers = filtered_orgs['IATI Organisation Identifier'].str.split('-', n=1, expand=True)\n        \n        # Combining original data with split identifiers\n        result = pd.concat([filtered_orgs, split_identifiers], axis=1)\n        \n        print(f\"Found {len(result)} organisations\")\n        return result\n        \n    except Exception as e:\n        print(f\"Error processing organisations: {e}\")\n        return None",
      "outputs": [],
      "outputs_reference": null,
      "execution_count": 15,
      "block_group": "b626ef31ad2048cca4cd6d6e8781b54b",
      "content_dependencies": null
    },
    {
      "cell_type": "code",
      "metadata": {
        "source_hash": "57099208",
        "execution_start": 1734955382287,
        "execution_millis": 1,
        "execution_context_id": "64c0a9d9-f93e-4df5-9f02-d81e8a3039ed",
        "deepnote_app_block_visible": true,
        "deepnote_app_is_code_hidden": true,
        "deepnote_app_is_output_hidden": true,
        "cell_id": "8c1dfb449a864a27a79d812473c60f52",
        "deepnote_cell_type": "code"
      },
      "source": "country_orgs = process_country_organisations(registry, country_query)",
      "outputs": [],
      "outputs_reference": null,
      "execution_count": 16,
      "block_group": "d46ad3bb4e2a4c578c9f930b86e9b933",
      "content_dependencies": null
    },
    {
      "cell_type": "code",
      "metadata": {
        "source_hash": "1c854382",
        "execution_start": 1734955382366,
        "execution_millis": 1,
        "execution_context_id": "64c0a9d9-f93e-4df5-9f02-d81e8a3039ed",
        "deepnote_app_block_visible": true,
        "deepnote_app_is_code_hidden": true,
        "deepnote_app_is_output_hidden": true,
        "cell_id": "eaf579bcdb7b4f4e9b2677d67c897161",
        "deepnote_cell_type": "code"
      },
      "source": "country_orgs",
      "outputs": [],
      "outputs_reference": null,
      "execution_count": 17,
      "block_group": "fccda5595f604f7e908067227f710d70",
      "content_dependencies": null
    },
    {
      "cell_type": "markdown",
      "source": "For org-id based search:  format input text",
      "metadata": {
        "formattedRanges": [
          {
            "type": "marks",
            "marks": {
              "bold": true
            },
            "toCodePoint": 26,
            "fromCodePoint": 0
          }
        ],
        "deepnote_app_block_visible": false,
        "cell_id": "a659bb34dd404076869c2dc49951592e",
        "deepnote_cell_type": "text-cell-p"
      },
      "block_group": "5827752bba6346c4b4a2fcaecef8a8fc"
    },
    {
      "cell_type": "code",
      "metadata": {
        "source_hash": "5e809f37",
        "execution_start": 1734955382422,
        "execution_millis": 0,
        "execution_context_id": "64c0a9d9-f93e-4df5-9f02-d81e8a3039ed",
        "deepnote_app_block_visible": true,
        "deepnote_app_is_code_hidden": true,
        "deepnote_app_is_output_hidden": true,
        "cell_id": "56c11f4815174900867be04f4f92b938",
        "deepnote_cell_type": "code"
      },
      "source": "def process_org_ids(pub_org_id):\n    try:\n        org_list = ast.literal_eval(pub_org_id)\n        \n        cleaned_orgs = [org.strip() for org in org_list]\n        \n        print(f\"Processed {len(cleaned_orgs)} organisation IDs\")\n        return cleaned_orgs\n        \n    except ValueError as ve:\n        print(f\"Invalid format for organisation IDs: {ve}\")\n        return None\n    except SyntaxError as se:\n        print(\"Invalid syntax in organisation IDs string\")\n        return None\n    except Exception as e:\n        print(f\"Error processing organisation IDs: {e}\")\n        return None",
      "outputs": [],
      "outputs_reference": null,
      "execution_count": 18,
      "block_group": "997467142bd54fef9669f9d8c21f6379",
      "content_dependencies": null
    },
    {
      "cell_type": "code",
      "metadata": {
        "source_hash": "7b851865",
        "execution_start": 1734955382470,
        "execution_millis": 1,
        "execution_context_id": "64c0a9d9-f93e-4df5-9f02-d81e8a3039ed",
        "deepnote_app_block_visible": false,
        "deepnote_app_is_code_hidden": true,
        "deepnote_app_is_output_hidden": true,
        "cell_id": "1d01805a818c41b481a32e3dbc4bc1d8",
        "deepnote_cell_type": "code"
      },
      "source": "pub_orgs = process_org_ids(pub_org_id)",
      "outputs": [],
      "outputs_reference": null,
      "execution_count": 19,
      "block_group": "9392603485f744b98ce75620abec5e1a",
      "content_dependencies": null
    },
    {
      "cell_type": "code",
      "metadata": {
        "source_hash": "d1a24329",
        "execution_start": 1734955382522,
        "execution_millis": 0,
        "execution_context_id": "64c0a9d9-f93e-4df5-9f02-d81e8a3039ed",
        "deepnote_app_block_visible": true,
        "deepnote_app_is_code_hidden": true,
        "deepnote_app_is_output_hidden": true,
        "cell_id": "a94291dd83954026967693dcc5932c5b",
        "deepnote_cell_type": "code"
      },
      "source": "pub_orgs ",
      "outputs": [],
      "outputs_reference": null,
      "execution_count": 20,
      "block_group": "688e53daa5ef4d0580c7bd9a0b3f157b",
      "content_dependencies": null
    },
    {
      "cell_type": "markdown",
      "source": "Download data from iati-tables",
      "metadata": {
        "formattedRanges": [
          {
            "type": "marks",
            "marks": {
              "bold": true
            },
            "toCodePoint": 30,
            "fromCodePoint": 0
          }
        ],
        "cell_id": "8290d295eeb5437792c4d69db6c7f096",
        "deepnote_cell_type": "text-cell-p"
      },
      "block_group": "d945b340671449d89f55ba9a5acd9150"
    },
    {
      "cell_type": "code",
      "metadata": {
        "source_hash": "c3c050ed",
        "execution_start": 1734955382570,
        "execution_millis": 8868,
        "deepnote_table_state": {
          "sortBy": [],
          "filters": [],
          "pageSize": 10,
          "pageIndex": 1,
          "columnOrder": [
            "prefix",
            "reportingorg_ref",
            "reportingorg_type",
            "reportingorg_typename",
            "ref",
            "type",
            "typename",
            "narrative"
          ],
          "hiddenColumnIds": [],
          "columnDisplayNames": [],
          "conditionalFilters": [],
          "cellFormattingRules": [],
          "wrappedTextColumnIds": []
        },
        "execution_context_id": "ed73e792-2777-466b-b5a9-dcd3258f88ac",
        "deepnote_table_loading": false,
        "deepnote_app_block_visible": false,
        "deepnote_app_is_code_hidden": true,
        "deepnote_app_is_output_hidden": true,
        "cell_id": "6a3a7b76a4e04e3fad3a84047eb97045",
        "deepnote_cell_type": "code"
      },
      "source": "outputs = {}\nif vis_type in ['Organisations by Type']:\n   for i in rep_org_type:\n       df = %nql SELECT DISTINCT a.prefix, a.reportingorg_ref, b.reportingorg_type, b.reportingorg_typename, a.ref, a.type, a.typename, a.narrative FROM participatingorg as a LEFT JOIN activity as b on (b._link = a._link_activity) WHERE (b.reportingorg_type = {{i}}) ORDER BY a.narrative\n       outputs[i] = df\nelif vis_type in ['Country']:\n   for i in country_orgs['IATI Organisation Identifier']:\n       df = %nql SELECT DISTINCT a.prefix, a.reportingorg_ref, a.ref, a.type, a.typename, a.narrative FROM participatingorg as a WHERE (a.reportingorg_ref = {{i}})\n       outputs[i] = df\nelif vis_type in ['Specific Organisations']:\n   for i in pub_org_id:\n       df = %nql SELECT DISTINCT a.prefix, a.reportingorg_ref, a.ref, a.type, a.typename, a.narrative FROM participatingorg as a WHERE (a.reportingorg_ref = {{i}})\n       outputs[i] = df\n\npart_orgs = pd.concat(outputs.values(), ignore_index=True)\npart_orgs",
      "outputs": [],
      "outputs_reference": null,
      "execution_count": 21,
      "block_group": "b970542690a446fab275264a201283e5",
      "content_dependencies": null
    },
    {
      "cell_type": "code",
      "metadata": {
        "source_hash": "5d396695",
        "execution_start": 1734955391486,
        "execution_millis": 10403,
        "deepnote_table_state": {
          "sortBy": [],
          "filters": [],
          "pageSize": 10,
          "pageIndex": 0
        },
        "execution_context_id": "ed73e792-2777-466b-b5a9-dcd3258f88ac",
        "deepnote_table_loading": false,
        "deepnote_app_block_visible": true,
        "deepnote_app_is_code_hidden": true,
        "deepnote_app_is_output_hidden": true,
        "cell_id": "c52cb2395c284b33b26f94053ad18b3d",
        "deepnote_cell_type": "code"
      },
      "source": "!rm -rf part_orgs.xlsx\npart_orgs.to_excel(\"part_orgs.xlsx\",sheet_name=\"part_orgs\", index=False)",
      "outputs": [],
      "outputs_reference": null,
      "execution_count": 22,
      "block_group": "90f30358abc1411585d4639bbd9cbc39",
      "content_dependencies": null
    },
    {
      "cell_type": "markdown",
      "source": "# Clean data",
      "metadata": {
        "formattedRanges": [],
        "deepnote_app_block_visible": false,
        "cell_id": "5fca6e346add4685a01bf9171f60d165",
        "deepnote_cell_type": "text-cell-h1"
      },
      "block_group": "0fec5127026b4e1db35c8d39a4eebeb8"
    },
    {
      "cell_type": "markdown",
      "source": "## Setup",
      "metadata": {
        "formattedRanges": [],
        "deepnote_app_block_visible": false,
        "cell_id": "1db470b213a24c89b33aa5e42cfe66c5",
        "deepnote_cell_type": "text-cell-h2"
      },
      "block_group": "eb728684de8243179f69e5b0567397e3"
    },
    {
      "cell_type": "code",
      "metadata": {
        "source_hash": "53a1547c",
        "execution_start": 1734955401936,
        "execution_millis": 11531,
        "execution_context_id": "ed73e792-2777-466b-b5a9-dcd3258f88ac",
        "deepnote_app_block_visible": true,
        "deepnote_app_is_code_hidden": true,
        "deepnote_app_is_output_hidden": true,
        "cell_id": "e900898832924879bc859acd64b9513e",
        "deepnote_cell_type": "code"
      },
      "source": "session2 = noteql.local_db_session()\n# Restart postgres to make sure any existing connections get dropped\n!sudo service postgresql restart\n# We can't get the noteql session to do these, because it wraps sql in a transaction, which isn't allowed for DROP/CREATE\n!sudo -u postgres psql -c \"DROP DATABASE IF EXISTS pa\"\n!sudo -u postgres psql -c \"CREATE DATABASE pa\"\nsession2 = noteql.Session(\"postgresql+psycopg2://root@/pa\", \"public\")",
      "outputs": [],
      "outputs_reference": null,
      "execution_count": 23,
      "block_group": "8efb12b5ad85448196307009d229bc20",
      "content_dependencies": null
    },
    {
      "cell_type": "markdown",
      "source": "## Load data",
      "metadata": {
        "formattedRanges": [],
        "deepnote_app_block_visible": false,
        "cell_id": "ae2680a223974d10a22b5cdd4c5ac536",
        "deepnote_cell_type": "text-cell-h2"
      },
      "block_group": "ce9c618048fc402f9c204a78d07e4fd2"
    },
    {
      "cell_type": "code",
      "metadata": {
        "source_hash": "bf272f04",
        "execution_start": 1734955413514,
        "execution_millis": 9871,
        "execution_context_id": "ed73e792-2777-466b-b5a9-dcd3258f88ac",
        "cell_id": "535bc10e12a74cf89063f5abfe27ebef",
        "deepnote_cell_type": "code"
      },
      "source": "part_orgs = pd.read_excel('part_orgs.xlsx',sheet_name=None)",
      "outputs": [],
      "outputs_reference": null,
      "execution_count": 24,
      "block_group": "964ef53e5d4a4f8ca8498d93ec07349b",
      "content_dependencies": null
    },
    {
      "cell_type": "code",
      "metadata": {
        "source_hash": "56eca3f0",
        "execution_start": 1734955423438,
        "execution_millis": 1513,
        "execution_context_id": "ed73e792-2777-466b-b5a9-dcd3258f88ac",
        "cell_id": "adbebe5e87044ed99317a614536bde01",
        "deepnote_cell_type": "code"
      },
      "source": "for key in part_orgs.keys():\n    table_name = key.replace(' ','')\n    table_name = table_name.lower()\n    print(table_name)\n    \n    %nql DROP TABLE IF EXISTS {{table_name | ident}}; SELECT ''\n    \n    # Convert to a DataFrame and render\n    df = pd.DataFrame.from_dict(part_orgs[key])\n    session2.load_dataframe(df, table_name, index=False)",
      "outputs": [],
      "outputs_reference": null,
      "execution_count": 25,
      "block_group": "619ad079c2bf4593b2651bc9fc7a54a9",
      "content_dependencies": null
    },
    {
      "cell_type": "code",
      "metadata": {
        "source_hash": "16599462",
        "execution_start": 1734955425010,
        "execution_millis": 3975,
        "execution_context_id": "ed73e792-2777-466b-b5a9-dcd3258f88ac",
        "cell_id": "030daacd14314eed8d3740bf78170459",
        "deepnote_cell_type": "code"
      },
      "source": "!wget https://iatistandard.org/reference_downloads/203/codelists/downloads/clv3/csv/en/OrganisationRegistrationAgency.csv\n!wget https://iatistandard.org/reference_downloads/203/codelists/downloads/clv3/csv/en/OrganisationIdentifier.csv\nreg_agency = pd.read_csv(\"OrganisationRegistrationAgency.csv\")\nold_orgid = pd.read_csv(\"OrganisationIdentifier.csv\")\nrefs = pd.read_csv(\"Generic_XM-DACs_Jul24.csv\")\nsession2.load_dataframe(registry, \"registry\", index=False)\nsession2.load_dataframe(reg_agency, \"reg_agency\", index=False)\nsession2.load_dataframe(old_orgid, \"old_orgid\", index=False)\nsession2.load_dataframe(refs,\"refs\",index=False)\n!rm -rf \"OrganisationRegistrationAgency.csv\" \"OrganisationIdentifier.csv\"",
      "outputs": [],
      "outputs_reference": null,
      "execution_count": 26,
      "block_group": "21507599c52042b78b3af0c2f33dd1d6",
      "content_dependencies": null
    },
    {
      "cell_type": "markdown",
      "source": "- Remove obvious issues such as blank references ",
      "metadata": {
        "formattedRanges": [],
        "cell_id": "05c87dd6cc8b43a4b983efa7efd78397",
        "deepnote_cell_type": "text-cell-bullet"
      },
      "block_group": "9435f7ec97134c4baf46ac24e84354ec"
    },
    {
      "cell_type": "markdown",
      "source": "- Remove all/part of the data from reporting orgs with known issues which mean a participating organisation could not be identified. ",
      "metadata": {
        "formattedRanges": [],
        "cell_id": "9401b6f456434d54b8aa9d6b5fcfcd5d",
        "deepnote_cell_type": "text-cell-bullet"
      },
      "block_group": "6897fe395bef4f7cbe9be5d1e7a2196d"
    },
    {
      "cell_type": "markdown",
      "source": "- Trim leading/trailing whitespace from narratives.",
      "metadata": {
        "formattedRanges": [],
        "cell_id": "b2e2aa04455c4b728cfcd09aee2cf718",
        "deepnote_cell_type": "text-cell-bullet"
      },
      "block_group": "a1c3088956a74939babf19cf75aea007"
    },
    {
      "cell_type": "markdown",
      "source": "- Remove generic XM-DAC codes.",
      "metadata": {
        "formattedRanges": [],
        "cell_id": "74b69e1454bc42b08fa03d2a56946fe5",
        "deepnote_cell_type": "text-cell-bullet"
      },
      "block_group": "88c05f3180fb4d63a7f3e0584070d2da"
    },
    {
      "cell_type": "markdown",
      "source": "Other issues will be caught by the filter data section, which checks for valid organisation-ids with a format of {RegistrationAgency}-{RegistrationNumber}.",
      "metadata": {
        "formattedRanges": [],
        "cell_id": "2fe5f016267a4d11be7e3e6e3c0ba4fc",
        "deepnote_cell_type": "text-cell-p"
      },
      "block_group": "e3d70d9119bd414aab5b84c0618f3850"
    },
    {
      "cell_type": "code",
      "metadata": {
        "source_hash": "a280dfd3",
        "execution_start": 1734955429038,
        "execution_millis": 0,
        "execution_context_id": "64c0a9d9-f93e-4df5-9f02-d81e8a3039ed",
        "deepnote_app_block_visible": true,
        "deepnote_app_is_code_hidden": true,
        "deepnote_app_is_output_hidden": true,
        "cell_id": "209e626873bd485fad585f74eccabcda",
        "deepnote_cell_type": "code"
      },
      "source": "def prep_generic_dac(refs_df):\n    try:\n        print(\"Creating org-ids from generic DAC codes\")\n        \n        # Converting codes to string and create XM-DAC format\n        refs_df['code'] = refs_df['code'].astype(str)\n        refs_df['XMDAC'] = \"XM-DAC-\" + refs_df['code']\n        \n        # Removing blank references\n        refs_df = refs_df.dropna(subset=['code'])\n        \n        # Triming whitespace from narratives if they exist\n        narrative_columns = [col for col in refs_df.columns if 'narrative' in col.lower()]\n        for col in narrative_columns:\n            refs_df[col] = refs_df[col].astype(str).str.strip()\n            \n        print(f\"Prepped {len(refs_df)} generic references\")\n        return refs_df\n        \n    except Exception as e:\n        print(f\"Error preparing generic refs: {e}\")\n        return None",
      "outputs": [],
      "outputs_reference": null,
      "execution_count": 27,
      "block_group": "8eda3f47f6464b78a595ad589a1988e9",
      "content_dependencies": null
    },
    {
      "cell_type": "code",
      "metadata": {
        "source_hash": "de16464",
        "execution_start": 1734955429090,
        "execution_millis": 1,
        "execution_context_id": "64c0a9d9-f93e-4df5-9f02-d81e8a3039ed",
        "deepnote_app_block_visible": true,
        "deepnote_app_is_code_hidden": true,
        "deepnote_app_is_output_hidden": true,
        "cell_id": "09aac2735ec342da96a01fddd13119fb",
        "deepnote_cell_type": "code"
      },
      "source": "refs = prep_generic_dac(refs)",
      "outputs": [],
      "outputs_reference": null,
      "execution_count": 28,
      "block_group": "d47d0c6f4e1c4562bdd486f99c713ddf",
      "content_dependencies": null
    },
    {
      "cell_type": "code",
      "metadata": {
        "source_hash": "fb1133f9",
        "execution_start": 1734955429146,
        "execution_millis": 1,
        "execution_context_id": "64c0a9d9-f93e-4df5-9f02-d81e8a3039ed",
        "deepnote_app_block_visible": true,
        "deepnote_app_is_code_hidden": true,
        "deepnote_app_is_output_hidden": true,
        "cell_id": "11c99633826f4111a6fc18c183b6b7db",
        "deepnote_cell_type": "code"
      },
      "source": "refs",
      "outputs": [],
      "outputs_reference": null,
      "execution_count": 29,
      "block_group": "9815887ec71e45e3bade7f30c3e28ae5",
      "content_dependencies": null
    },
    {
      "cell_type": "markdown",
      "source": "Clean data",
      "metadata": {
        "formattedRanges": [],
        "cell_id": "675f446a42434f239d5cf42d86440397",
        "deepnote_cell_type": "text-cell-p"
      },
      "block_group": "dc5b55697e27481185c5fba2ae5af283"
    },
    {
      "cell_type": "code",
      "metadata": {
        "source_hash": "3c479736",
        "execution_start": 1734955429194,
        "execution_millis": 431,
        "execution_context_id": "ed73e792-2777-466b-b5a9-dcd3258f88ac",
        "deepnote_app_block_visible": false,
        "deepnote_app_is_code_hidden": true,
        "deepnote_app_is_output_hidden": true,
        "cell_id": "c54ac1d25a9d49d8804ea56dd181d3c2",
        "deepnote_cell_type": "code"
      },
      "source": "%%nql SHOW CREATE cleaned_part_orgs\n\nSELECT DISTINCT\n    prefix,\n    reportingorg_ref,\n    ref,\n    type,\n    typename,\n    CASE\n        WHEN\n            SPLIT_PART(ref,'-',2) = '' THEN ''\n            ELSE CONCAT(SPLIT_PART(ref,'-',1),'-',SPLIT_PART(ref,'-',2))\n    END as \"reg_agency\",\n    TRIM(REGEXP_REPLACE(narrative, E'\\n', '')) as \"narrative\"\nFROM part_orgs\nWHERE NOT narrative in ('',' ','EN: ','Odefinierat','EN: IP not published','Not applicable',\n                        'Confidential',\n                        'USAID redacted this field in accordance with the exceptions outlined in the Foreign Aid Transparency and Accountability Act of 2016.')\n    AND NOT POSITION('Private donors' IN narrative) > 0\n    AND NOT POSITION('Övrigt' IN narrative) > 0\n    AND NOT POSITION('Övriga' IN narrative) > 0\n    AND CASE\n        WHEN prefix='unicef' THEN NOT POSITION('XM-DAC-41122-VN-' IN ref) > 0 \n        ELSE true\n    END\n    AND NOT ref in (' ','Not registered in IATI','0')\n    AND NOT ref in {{ refs['code'] | inclause }}\n    AND NOT ref in {{ refs['XMDAC'] | inclause }}",
      "outputs": [],
      "outputs_reference": null,
      "execution_count": 30,
      "block_group": "1b5f42ab526e452691cda3cca6ce01e2",
      "content_dependencies": null
    },
    {
      "cell_type": "markdown",
      "source": "## Add other data sources",
      "metadata": {
        "formattedRanges": [],
        "deepnote_app_block_visible": false,
        "cell_id": "b1d541f2f8534ce39df0e6411dd06768",
        "deepnote_cell_type": "text-cell-h2"
      },
      "block_group": "699fb58a30d04bab8556ae1292c4f522"
    },
    {
      "cell_type": "markdown",
      "source": "- Join to registry IDs, registration agency, and old IATI codelist. ",
      "metadata": {
        "formattedRanges": [],
        "deepnote_app_block_visible": false,
        "cell_id": "e5559fc8acc24e67a300ac4d64f4f60a",
        "deepnote_cell_type": "text-cell-bullet"
      },
      "block_group": "547796929c194ba294bd025081121060"
    },
    {
      "cell_type": "markdown",
      "source": "- Add name of reporting-org from registry. If the reporting org reference does not match the registry, it will be removed. ",
      "metadata": {
        "formattedRanges": [],
        "deepnote_app_block_visible": false,
        "cell_id": "99543de6ebcf4fb5a8b26583d4f58989",
        "deepnote_cell_type": "text-cell-bullet"
      },
      "block_group": "f05eda4d70854ed4b3a3b2d718f39bc4"
    },
    {
      "cell_type": "code",
      "metadata": {
        "source_hash": "97b05a27",
        "execution_start": 1734955429690,
        "execution_millis": 1456,
        "execution_context_id": "ed73e792-2777-466b-b5a9-dcd3258f88ac",
        "deepnote_app_block_visible": false,
        "deepnote_app_is_code_hidden": true,
        "deepnote_app_is_output_hidden": true,
        "cell_id": "8d7da9cc0ebc44ecad4e40cb8e85d759",
        "deepnote_cell_type": "code"
      },
      "source": "%%nql SHOW CREATE joined_part_orgs \nSELECT \n    e.\"Publisher\" as \"reportingorg_name\",\n    a.*,\n    b.\"Publisher\" as \"registry_narrative\",\n    c.name as \"reg_agency_narrative\",\n    d.name as \"v1_orgid\"\nFROM cleaned_part_orgs as a\n    LEFT JOIN registry as b ON a.ref = b.\"IATI Organisation Identifier\"\n    LEFT JOIN reg_agency as c ON a.reg_agency = c.code\n    LEFT JOIN old_orgid as d ON a.ref = d.code\n    LEFT JOIN registry as e ON a.reportingorg_ref = e.\"IATI Organisation Identifier\"\nWHERE NOT e.\"Publisher\" = 'None'\nORDER BY a.prefix",
      "outputs": [],
      "outputs_reference": null,
      "execution_count": 31,
      "block_group": "832d31497f3c415ba48424f915bcaaa1",
      "content_dependencies": null
    },
    {
      "cell_type": "markdown",
      "source": "## Filter data",
      "metadata": {
        "formattedRanges": [],
        "deepnote_app_block_visible": false,
        "cell_id": "a6ac1efeb0de4d4dabc6f07ccfe8ea59",
        "deepnote_cell_type": "text-cell-h2"
      },
      "block_group": "c135ed38f36d44bdae43b2c7c8d1fa11"
    },
    {
      "cell_type": "markdown",
      "source": "Check that the participating organisation references:",
      "metadata": {
        "formattedRanges": [],
        "cell_id": "818c67bd11a647f59c2979fde00f25a3",
        "deepnote_cell_type": "text-cell-p"
      },
      "block_group": "b5af40c56edf48b095a83cd4bae6a681"
    },
    {
      "cell_type": "markdown",
      "source": "- Are a valid reporting org ID from the registry OR",
      "metadata": {
        "formattedRanges": [
          {
            "type": "marks",
            "marks": {
              "bold": true
            },
            "toCodePoint": 49,
            "fromCodePoint": 47
          }
        ],
        "cell_id": "aa151fbc4d8449288d8e7ec961c130a5",
        "deepnote_cell_type": "text-cell-bullet"
      },
      "block_group": "65d6a589ca4b4113b28f882ffe59bd6c"
    },
    {
      "cell_type": "markdown",
      "source": "- Have a valid prefix from org-id UNLESS",
      "metadata": {
        "formattedRanges": [
          {
            "type": "marks",
            "marks": {
              "bold": true
            },
            "toCodePoint": 38,
            "fromCodePoint": 32
          }
        ],
        "cell_id": "f492fa52e7d94bb995ea5f00da773046",
        "deepnote_cell_type": "text-cell-bullet"
      },
      "block_group": "44a2d99417164834903d736c3f52ae52"
    },
    {
      "cell_type": "markdown",
      "source": "- They are a v1 org id",
      "metadata": {
        "formattedRanges": [],
        "cell_id": "1f355973944e4d5ebb557bc1c85f01e8",
        "deepnote_cell_type": "text-cell-bullet"
      },
      "block_group": "3e1707bf515d4f4283b2220eb1b97a12"
    },
    {
      "cell_type": "code",
      "metadata": {
        "source_hash": "22fee8d9",
        "execution_start": 1734955431194,
        "execution_millis": 73,
        "execution_context_id": "910e4391-39fb-47a2-acb8-37d541ff960b",
        "deepnote_app_block_visible": false,
        "deepnote_app_is_code_hidden": true,
        "deepnote_app_is_output_hidden": true,
        "cell_id": "1d05c9f881ef4d0b81c425a04102e177",
        "deepnote_cell_type": "code"
      },
      "source": "%%nql SHOW CREATE filtered_orgs output=DF\nSELECT\n    *\nFROM joined_part_orgs \nWHERE NOT reg_agency_narrative = 'None'\n    OR NOT registry_narrative = 'None'\n    OR NOT v1_orgid = 'None'\nORDER BY prefix",
      "outputs": [],
      "outputs_reference": null,
      "execution_count": 32,
      "block_group": "5ed7569afb5b44b497cd67dc05fa7d60",
      "content_dependencies": null
    },
    {
      "cell_type": "code",
      "metadata": {
        "source_hash": "a024fbb9",
        "execution_start": 1734955431318,
        "execution_millis": 1367,
        "execution_context_id": "ed73e792-2777-466b-b5a9-dcd3258f88ac",
        "deepnote_app_block_visible": false,
        "deepnote_app_is_code_hidden": true,
        "deepnote_app_is_output_hidden": true,
        "cell_id": "e05f9b6188514585aafde3ee4afa8d1b",
        "deepnote_cell_type": "code"
      },
      "source": "!rm -rf output.xlsx\noutput.to_excel(\"output.xlsx\",sheet_name=\"output\", index=False)\n\noutput_file_url = f\"https://deepnote.com/publish/{os.environ['DEEPNOTE_PROJECT_ID']}/file?path=output.xlsx\"\nprint(output_file_url)",
      "outputs": [],
      "outputs_reference": null,
      "execution_count": 33,
      "block_group": "f2a135173adb405681cf0b618af2151d",
      "content_dependencies": null
    },
    {
      "cell_type": "markdown",
      "source": "# Summarise",
      "metadata": {
        "formattedRanges": [],
        "deepnote_app_block_visible": false,
        "cell_id": "e0ada1ca088f41dc94d73b5307da5c44",
        "deepnote_cell_type": "text-cell-h1"
      },
      "block_group": "932610304fb04941a7299154b50e423b"
    },
    {
      "cell_type": "markdown",
      "source": "<hr>",
      "metadata": {
        "deepnote_app_block_visible": true,
        "cell_id": "4b389a39f65d4be0a62f83223cc45ec5",
        "deepnote_cell_type": "separator"
      },
      "block_group": "6fa57958f01544a18ca7536aadba5cb4"
    },
    {
      "cell_type": "markdown",
      "source": "## Chord counts - to download",
      "metadata": {
        "formattedRanges": [],
        "deepnote_app_block_visible": false,
        "cell_id": "4a867c59f4cb4c769f852d93be271761",
        "deepnote_cell_type": "text-cell-h2"
      },
      "block_group": "52cab53ef2f046bcabba6282fec5c927"
    },
    {
      "cell_type": "markdown",
      "source": "Code source: https://stackoverflow.com/questions/64689296/counting-shared-elements-within-groups-with-condition?rq=3 ",
      "metadata": {
        "formattedRanges": [
          {
            "url": "https://stackoverflow.com/questions/64689296/counting-shared-elements-within-groups-with-condition?rq=3",
            "type": "link",
            "ranges": [],
            "toCodePoint": 116,
            "fromCodePoint": 13
          }
        ],
        "deepnote_app_block_visible": false,
        "cell_id": "079416b9cd2d487ca659469659853283",
        "deepnote_cell_type": "text-cell-p"
      },
      "block_group": "1ee66018371a4b4e86d535eb7ccf22b3"
    },
    {
      "cell_type": "markdown",
      "source": "Chord output for use with bokeh:",
      "metadata": {
        "formattedRanges": [],
        "deepnote_app_block_visible": false,
        "cell_id": "069d7893c8f54c308f91ba4f06f7de4d",
        "deepnote_cell_type": "text-cell-p"
      },
      "block_group": "38ef5be2ada84495b6dcb1b0ef0f8980"
    },
    {
      "cell_type": "code",
      "metadata": {
        "source_hash": "12999737",
        "execution_start": 1734955432742,
        "execution_millis": 1,
        "execution_context_id": "64c0a9d9-f93e-4df5-9f02-d81e8a3039ed",
        "cell_id": "0a6ff4d434b74b929deeb3d7797e1220",
        "deepnote_cell_type": "code"
      },
      "source": "#Get unique reporting org name and participating org reference combinations\ndf = output[[\"reportingorg_name\",\"ref\"]].drop_duplicates()\n\nresult = df.merge(df, on='ref').groupby(['reportingorg_name_x','reportingorg_name_y']).count().reset_index()\nresult.columns = ['source', 'target', 'value']\nmask = result.source!=result.target\n\n#output df that can be used for chord diagrams\nchord_df = result[mask].reset_index(drop='True')\nchord_df = chord_df.sort_values(by=\"value\", ascending=False)\nchord_df",
      "outputs": [],
      "outputs_reference": null,
      "execution_count": 34,
      "block_group": "de6fcda18b55449b8a2a0d50b96a2038",
      "content_dependencies": null
    },
    {
      "cell_type": "markdown",
      "source": "## Networking Visualisation",
      "metadata": {
        "formattedRanges": [],
        "deepnote_app_block_visible": true,
        "cell_id": "0604cec544514dd18cb9f220ada68f20",
        "deepnote_cell_type": "text-cell-h2"
      },
      "block_group": "8cd985237ffc444f82f97a1103d5aef2"
    },
    {
      "cell_type": "markdown",
      "source": "Use Bokeh to create a chord diagram",
      "metadata": {
        "formattedRanges": [],
        "deepnote_app_block_visible": false,
        "cell_id": "0ff778cfe9784ae28f3735f2412e265d",
        "deepnote_cell_type": "text-cell-p"
      },
      "block_group": "1c890aeaae024e47b577a4d486890f6e"
    },
    {
      "cell_type": "code",
      "metadata": {
        "source_hash": "af2f20e",
        "execution_start": 1734955432802,
        "execution_millis": 2233,
        "execution_context_id": "ed73e792-2777-466b-b5a9-dcd3258f88ac",
        "deepnote_app_block_visible": false,
        "deepnote_app_is_code_hidden": true,
        "deepnote_app_is_output_hidden": true,
        "cell_id": "d79c2e05753e4408b33e5dfc37d30e9f",
        "deepnote_cell_type": "code"
      },
      "source": "import holoviews as hv\nimport numpy as np\nfrom holoviews import opts, dim\nfrom bokeh.plotting import figure, output_file, save, show\nfrom IPython.display import IFrame\nfrom IPython.core.display import display, HTML\nimport tempfile",
      "outputs": [],
      "outputs_reference": null,
      "execution_count": 35,
      "block_group": "bc4f185cdb8249229b2e842e146e7dde",
      "content_dependencies": null
    },
    {
      "cell_type": "markdown",
      "source": "Workaround to use Bokeh in Deepnote",
      "metadata": {
        "formattedRanges": [],
        "deepnote_app_block_visible": false,
        "cell_id": "5cf3f69c32d742c8a6bb33e51138774b",
        "deepnote_cell_type": "text-cell-p"
      },
      "block_group": "8ab7fcc1128a4e6eb6069c38adc70016"
    },
    {
      "cell_type": "code",
      "metadata": {
        "source_hash": "e5ba3dbb",
        "execution_start": 1734955435086,
        "execution_millis": 1,
        "execution_context_id": "64c0a9d9-f93e-4df5-9f02-d81e8a3039ed",
        "cell_id": "1584d3407c8b4e66b7e110852bcef0e8",
        "deepnote_cell_type": "code"
      },
      "source": "def bokeh_deepnote_show(plot):\n    tmp_output_filename = tempfile.NamedTemporaryFile(suffix='.html').name\n    output_file(tmp_output_filename)\n    save(plot)\n    f = open(tmp_output_filename, \"r\")\n    display(HTML(f.read()))",
      "outputs": [],
      "outputs_reference": null,
      "execution_count": 36,
      "block_group": "fb1d8f6f6ead4f5991e19d9688c015e1",
      "content_dependencies": null
    },
    {
      "cell_type": "code",
      "metadata": {
        "source_hash": "66e697e8",
        "execution_start": 1734955435138,
        "execution_millis": 0,
        "execution_context_id": "64c0a9d9-f93e-4df5-9f02-d81e8a3039ed",
        "cell_id": "b3610df251564cf2a9d63e2924686314",
        "deepnote_cell_type": "code"
      },
      "source": "#set first variable to true for first run through\nfirst = True",
      "outputs": [],
      "outputs_reference": null,
      "execution_count": 37,
      "block_group": "6288cbac0b9944bf8d1f8276d7811219",
      "content_dependencies": null
    },
    {
      "cell_type": "markdown",
      "source": "Adjust the minimum number of shared participating organisation references by using the slider. Use the \"visualise\" button to refresh the diagram.",
      "metadata": {
        "formattedRanges": [
          {
            "type": "marks",
            "marks": {
              "bold": true
            },
            "toCodePoint": 114,
            "fromCodePoint": 102
          }
        ],
        "deepnote_app_block_visible": true,
        "cell_id": "625f206b317e4e77836dc801467feff3",
        "deepnote_cell_type": "text-cell-p"
      },
      "block_group": "d1bfca971d7e4ecdb4cc24723c04a0d9"
    },
    {
      "cell_type": "code",
      "metadata": {
        "source_hash": "1ca7f3e1",
        "execution_start": 1734955435186,
        "execution_millis": 1,
        "deepnote_input_label": "Minimum Shared References",
        "deepnote_slider_step": 1,
        "execution_context_id": "64c0a9d9-f93e-4df5-9f02-d81e8a3039ed",
        "deepnote_variable_name": "filter",
        "deepnote_variable_value": "0",
        "deepnote_slider_max_value": 50,
        "deepnote_slider_min_value": 0,
        "deepnote_app_block_visible": true,
        "cell_id": "20d8f0a4fcb24902824a9563cb1d4e6f",
        "deepnote_cell_type": "input-slider"
      },
      "source": "filter = 0",
      "outputs": [],
      "outputs_reference": null,
      "execution_count": 38,
      "block_group": "4da03b6876954a4e950c9de57d68a633"
    },
    {
      "cell_type": "markdown",
      "source": "chord = False",
      "metadata": {
        "source_hash": "c59e189f",
        "execution_start": 1734955435234,
        "execution_millis": 1,
        "execution_context_id": "64c0a9d9-f93e-4df5-9f02-d81e8a3039ed",
        "deepnote_button_title": "Visualise",
        "deepnote_variable_name": "chord",
        "deepnote_button_behavior": "set_variable",
        "deepnote_app_block_visible": true,
        "deepnote_button_color_scheme": "blue",
        "cell_id": "3e555b9f6edd45ed913fd3d0e097190b",
        "deepnote_cell_type": "button"
      },
      "outputs": [],
      "outputs_reference": null,
      "execution_count": 39,
      "block_group": "4da03b6876954a4e950c9de57d68a633"
    },
    {
      "cell_type": "code",
      "metadata": {
        "source_hash": "f98c43ec",
        "execution_start": 1734955435286,
        "execution_millis": 1,
        "execution_context_id": "ce9d9233-d91e-4f42-9d3b-dcbf79e83162",
        "cell_id": "2a8a62283af14d348c7219dbbece1ae0",
        "deepnote_cell_type": "code"
      },
      "source": "if first or chord:\n    mask = np.logical_and(result.source<result.target, result.value>0)\n    bokeh_df = result[mask].reset_index(drop='True')\n    bokeh_df = bokeh_df.sort_values(by=\"source\")\n\nbokeh_df",
      "outputs": [],
      "outputs_reference": null,
      "execution_count": 40,
      "block_group": "a45217c7162a4d8dbf7a2c4318158a55",
      "content_dependencies": null
    },
    {
      "cell_type": "code",
      "metadata": {
        "source_hash": "54861449",
        "execution_start": 1734955435338,
        "execution_millis": 0,
        "execution_context_id": "64c0a9d9-f93e-4df5-9f02-d81e8a3039ed",
        "deepnote_app_block_visible": true,
        "deepnote_app_is_code_hidden": true,
        "cell_id": "ab5589e23bb84b2ca5b860aaf6b57581",
        "deepnote_cell_type": "code"
      },
      "source": "def create_chord_visualisation(bokeh_df, filter_value):\n    try:\n        hv.extension('bokeh')\n        \n        # Filtering data\n        filtered_data = bokeh_df[bokeh_df['value'] >= filter_value]\n        \n        # Creating organisation list for labels\n        orgs = list(set(filtered_data[\"source\"].unique().tolist() + \n                       filtered_data[\"target\"].unique().tolist()))\n        orgs_dataset = hv.Dataset(pd.DataFrame(orgs, columns=[\"Organisation\"]))\n        \n        # Creating chord diagram\n        chord = hv.Chord((filtered_data, orgs_dataset))\n        \n        # Setting visualisation options\n        chord.opts(\n            cmap='Category20',\n            edge_cmap='Category20',\n            labels='Organisation',\n            node_color=hv.dim('Organisation').str(),\n            title='Shared Participating Organisation References',\n            width=900,\n            height=900\n        )\n        \n        # Displaying using Bokeh workaround\n        bokeh_deepnote_show(hv.render(chord))\n        print(f\"Visualising {len(filtered_data)} connections\")\n        return chord\n        \n    except Exception as e:\n        print(f\"Error creating visualisation: {e}\")\n        return None",
      "outputs": [],
      "outputs_reference": null,
      "execution_count": 41,
      "block_group": "525bb8ea97db44829842447aabc3423e",
      "content_dependencies": null
    },
    {
      "cell_type": "code",
      "metadata": {
        "source_hash": "89a98776",
        "execution_start": 1734955435386,
        "execution_millis": 1029,
        "execution_context_id": "ed73e792-2777-466b-b5a9-dcd3258f88ac",
        "deepnote_app_block_visible": true,
        "deepnote_app_is_code_hidden": true,
        "cell_id": "2d0e2624a514454a906d41580b90378a",
        "deepnote_cell_type": "code"
      },
      "source": "if first or chord:\n    chord = create_chord_visualisation(bokeh_df, filter)",
      "outputs": [],
      "outputs_reference": null,
      "execution_count": 42,
      "block_group": "6f9bc9b678384e9d91778d63a5513867",
      "content_dependencies": null
    },
    {
      "cell_type": "markdown",
      "source": "# Output",
      "metadata": {
        "formattedRanges": [],
        "deepnote_app_block_visible": false,
        "cell_id": "5c77a8822fa64207b1cec74d4417e2c4",
        "deepnote_cell_type": "text-cell-h1"
      },
      "block_group": "d1536c0910024dd6b27fcee05db98d37"
    },
    {
      "cell_type": "code",
      "metadata": {
        "source_hash": "9dc24fd5",
        "execution_start": 1734955436466,
        "execution_millis": 580,
        "execution_context_id": "ed73e792-2777-466b-b5a9-dcd3258f88ac",
        "deepnote_app_block_visible": false,
        "deepnote_app_is_code_hidden": true,
        "deepnote_app_is_output_hidden": true,
        "cell_id": "53f92dabeec94f6ab8e0232804aca998",
        "deepnote_cell_type": "code"
      },
      "source": "if first or chord:\n    !rm -rf chord_df.xlsx\nchord_df.to_excel(\"chord_df.xlsx\",sheet_name=\"chord_df\", index=False)\n\nchord_file_url = f\"https://deepnote.com/publish/{os.environ['DEEPNOTE_PROJECT_ID']}/file?path=chord_df.xlsx\"\nprint(chord_file_url)",
      "outputs": [],
      "outputs_reference": null,
      "execution_count": 43,
      "block_group": "cf6f5902157543448aa745cb92505314",
      "content_dependencies": null
    },
    {
      "cell_type": "markdown",
      "source": "<hr>",
      "metadata": {
        "deepnote_app_block_visible": true,
        "cell_id": "59af3b93884b45a59a1aca48de60b8f2",
        "deepnote_cell_type": "separator"
      },
      "block_group": "243f711d1d374410bc70c377852b00c0"
    },
    {
      "cell_type": "markdown",
      "source": "# Further visualisation",
      "metadata": {
        "formattedRanges": [],
        "deepnote_app_block_visible": true,
        "cell_id": "ce6d1550a93144d19d4385b15e0b2802",
        "deepnote_cell_type": "text-cell-h1"
      },
      "block_group": "819b5defb1a44ec5beabb962ea568fef"
    },
    {
      "cell_type": "markdown",
      "source": "To create and edit your own diagram, you may wish to use the data visualisation tool \"Flourish\". ",
      "metadata": {
        "formattedRanges": [
          {
            "url": "https://flourish.studio/",
            "type": "link",
            "ranges": [],
            "toCodePoint": 94,
            "fromCodePoint": 86
          }
        ],
        "deepnote_app_block_visible": true,
        "cell_id": "70c42c39365c4cd3b21643bc0b65af93",
        "deepnote_cell_type": "text-cell-p"
      },
      "block_group": "61c006b6117a430a9a538e6aa86127d6"
    },
    {
      "cell_type": "markdown",
      "source": "You can download the chord data produced by this application here: Download.",
      "metadata": {
        "formattedRanges": [
          {
            "url": "https://deepnote.com/publish/240fcfd1-8557-41e6-8271-b13ecef554c3/file?path=chord_df.xlsx",
            "type": "link",
            "ranges": [],
            "toCodePoint": 75,
            "fromCodePoint": 67
          }
        ],
        "deepnote_app_block_visible": true,
        "cell_id": "ea943754069f40829716b09ef5b75573",
        "deepnote_cell_type": "text-cell-p"
      },
      "block_group": "926a5d61be20400d9418d72a2ad11c8e"
    },
    {
      "cell_type": "markdown",
      "source": "Example flourish chord diagram:",
      "metadata": {
        "formattedRanges": [
          {
            "type": "marks",
            "marks": {
              "bold": true
            },
            "toCodePoint": 31,
            "fromCodePoint": 0
          }
        ],
        "deepnote_app_block_visible": true,
        "cell_id": "564aad89ebc8473b9295f7eb2932e0b9",
        "deepnote_cell_type": "text-cell-p"
      },
      "block_group": "69753277af414436af5a057140b53325"
    },
    {
      "cell_type": "code",
      "metadata": {
        "source_hash": "3bfc7695",
        "execution_start": 1734955437102,
        "execution_millis": 1,
        "execution_context_id": "6a60becd-7c67-490e-b94f-d835b2cff921",
        "deepnote_app_block_visible": true,
        "deepnote_app_is_code_hidden": true,
        "deepnote_app_is_output_hidden": false,
        "cell_id": "9bd57f46ca8f49e3a3518a6e08ecd664",
        "deepnote_cell_type": "code"
      },
      "source": "# function to add flexibility to change width and viz_id and also error handling\n\ndef show_flourish(viz_id=\"17570004\", width=\"28%\"): # defult values \n    try:\n        html = f'<div class=\"flourish-embed flourish-chord\" data-src=\"visualisation/{viz_id}\" data-width=\"{width}\"><script src=\"https://public.flourish.studio/resources/embed.js\"></script></div>'\n        return HTML(html)\n    except Exception as e:\n        print(f\"Failed to load visualization: {e}\")\n        return None\n\n\nshow_flourish()  # Uses defaults (17570004, 28%)\n",
      "outputs": [],
      "outputs_reference": null,
      "execution_count": 44,
      "block_group": "a8c89feb0e9d4bb8a9a79459dc902103",
      "content_dependencies": null
    },
    {
      "cell_type": "markdown",
      "source": "<hr>",
      "metadata": {
        "deepnote_app_block_visible": true,
        "cell_id": "e036e1c1fb684e7d9ad935001c70adf5",
        "deepnote_cell_type": "separator"
      },
      "block_group": "7e3af52d56ad49e08ad466c9a389706a"
    },
    {
      "cell_type": "markdown",
      "source": "## How is the data cleaned?",
      "metadata": {
        "formattedRanges": [],
        "deepnote_app_block_visible": true,
        "cell_id": "0ffd85d7a7dd4316800605c6350d9383",
        "deepnote_cell_type": "text-cell-h2"
      },
      "block_group": "8a5751925f0042148f1bc047b1972b86"
    },
    {
      "cell_type": "markdown",
      "source": "Organisation identifiers with known issues are removed - these include redacted or blank narratives, and internal or generic references, as they cannot be used for the networking of IATI data. This is not an exhaustive list and is subject to change.  ",
      "metadata": {
        "formattedRanges": [],
        "deepnote_app_block_visible": true,
        "cell_id": "e44097dc62d44c689af2172ec458d4cc",
        "deepnote_cell_type": "text-cell-p"
      },
      "block_group": "6cfda6a37220405ca42a1307c0cf16a5"
    },
    {
      "cell_type": "markdown",
      "source": " Blank/redacted narratives",
      "metadata": {
        "formattedRanges": [
          {
            "type": "marks",
            "marks": {
              "bold": true
            },
            "toCodePoint": 26,
            "fromCodePoint": 0
          }
        ],
        "deepnote_app_block_visible": true,
        "cell_id": "44e81433c44744d2a53c2207f162ced7",
        "deepnote_cell_type": "text-cell-p"
      },
      "block_group": "2bdb6888585f4f88aae9b2449b0029c8"
    },
    {
      "cell_type": "markdown",
      "source": "Blank/internal/generic references",
      "metadata": {
        "formattedRanges": [
          {
            "type": "marks",
            "marks": {
              "bold": true
            },
            "toCodePoint": 33,
            "fromCodePoint": 0
          }
        ],
        "deepnote_app_block_visible": true,
        "cell_id": "1431f663a5d84b2092b20a9d7438bdf1",
        "deepnote_cell_type": "text-cell-p"
      },
      "block_group": "6e66478a96dc46c9af33b00ade08d42d"
    },
    {
      "cell_type": "markdown",
      "source": "| **Organisation** | **Redaction message/Issue**     |\n|---------|---------------------------------|\n| iom     | Confidential                    |\n| sida | Övriga/Övrigt ... (Other) |\n| unicef  | EN: IP not published            |\n| unhcr   | Private donors in...             |\n|usaid | USAID redacted this field in accordance with the exceptions outlined in the Foreign Aid Transparency and Accountability Act of 2016.|",
      "metadata": {
        "deepnote_app_block_visible": true,
        "cell_id": "6da40862be19400184ec903301d67eca",
        "deepnote_cell_type": "markdown"
      },
      "block_group": "5a0f98187df64f07aba4c88e01a1e38b"
    },
    {
      "cell_type": "markdown",
      "source": "| **Organisation** | **Redaction message/Issue**     |\n|------------------|---------------------------------|\n| unicef            | Internal ID eg XM-DAC-41122-VN-242363 |\n| Multiple orgs | Generic XM-DAC- codes used |",
      "metadata": {
        "deepnote_app_block_visible": true,
        "cell_id": "2b1ff549ae2f4f848595865ac68e81ca",
        "deepnote_cell_type": "markdown"
      },
      "block_group": "5a0f98187df64f07aba4c88e01a1e38b"
    },
    {
      "cell_type": "markdown",
      "source": "TO DO - compare DAC codes to https://github.com/pwyf/aid-transparency-tracker/blob/main/beta/excluded_xm_dac.py",
      "metadata": {
        "formattedRanges": [
          {
            "type": "marks",
            "marks": {
              "bold": true
            },
            "toCodePoint": 5,
            "fromCodePoint": 0
          },
          {
            "url": "https://github.com/pwyf/aid-transparency-tracker/blob/main/beta/excluded_xm_dac.py",
            "type": "link",
            "ranges": [],
            "toCodePoint": 111,
            "fromCodePoint": 29
          }
        ],
        "deepnote_app_block_visible": false,
        "cell_id": "085b0de6938e4d869b909e6439e20b7b",
        "deepnote_cell_type": "text-cell-p"
      },
      "block_group": "7819abf494484e3eb7ac98cbdde8d598"
    },
    {
      "cell_type": "markdown",
      "source": "Participating organisation identifiers must have a valid format of {RegistrationAgency}-{RegistrationNumber}, or match a known organisation-identifier as recorded in the registry.",
      "metadata": {
        "formattedRanges": [
          {
            "type": "marks",
            "marks": {
              "bold": true
            },
            "toCodePoint": 108,
            "fromCodePoint": 66
          }
        ],
        "deepnote_app_block_visible": true,
        "cell_id": "fe96f0681b1742848e93aea71fda210d",
        "deepnote_cell_type": "text-cell-p"
      },
      "block_group": "c9e0c16e35874fa2b8168b489d62522d"
    },
    {
      "cell_type": "markdown",
      "source": "You can download the cleaned data here: Download",
      "metadata": {
        "formattedRanges": [
          {
            "url": "https://deepnote.com/publish/240fcfd1-8557-41e6-8271-b13ecef554c3/file?path=output.xlsx",
            "type": "link",
            "ranges": [],
            "toCodePoint": 48,
            "fromCodePoint": 40
          }
        ],
        "deepnote_app_block_visible": true,
        "cell_id": "cdc235ddde83410faa0f0f451f51b9ba",
        "deepnote_cell_type": "text-cell-p"
      },
      "block_group": "d0b5f0137ab64602b89983545c863cb2"
    },
    {
      "cell_type": "markdown",
      "source": "<hr>",
      "metadata": {
        "deepnote_app_block_visible": true,
        "cell_id": "a8261d813b1b4b9f9eec4d695f1f4cfe",
        "deepnote_cell_type": "separator"
      },
      "block_group": "7f84b205c8cc4c5f8d565018eb21f687"
    },
    {
      "cell_type": "markdown",
      "source": "## Data Snapshots",
      "metadata": {
        "formattedRanges": [],
        "deepnote_app_block_visible": true,
        "cell_id": "9e6572d8b3a8434bb72de8212747816c",
        "deepnote_cell_type": "text-cell-h2"
      },
      "block_group": "190e29a505dc4d5d8e04e8f413ea4f86"
    },
    {
      "cell_type": "markdown",
      "source": "Number of reporting organisations referencing each participating organisation identifier :",
      "metadata": {
        "formattedRanges": [
          {
            "type": "marks",
            "marks": {
              "bold": true
            },
            "toCodePoint": 90,
            "fromCodePoint": 0
          }
        ],
        "deepnote_app_block_visible": true,
        "cell_id": "b08234b3fd7943e1b55d4148fe44a283",
        "deepnote_cell_type": "text-cell-p"
      },
      "block_group": "d7e851c6a48b4a6bab937516f057a017"
    },
    {
      "cell_type": "code",
      "metadata": {
        "source_hash": "3e54afdf",
        "execution_start": 1734955437187,
        "execution_millis": 0,
        "execution_context_id": "8a9cc1cf-1fa0-41c3-a29a-11798cb167a2",
        "deepnote_app_block_visible": true,
        "deepnote_app_is_code_hidden": true,
        "cell_id": "00d3d9badf784836a37ca89fe993481e",
        "deepnote_cell_type": "code"
      },
      "source": "%%nql SHOW CREATE ref_count ref_count=DF\n\nSELECT \n    ref as \"Participating Organisation Identifier\",\n    COUNT(DISTINCT(reportingorg_ref)) as \"Count\" \nFROM filtered_orgs \nGROUP BY ref\nORDER BY \"Count\" DESC",
      "outputs": [],
      "outputs_reference": null,
      "execution_count": 45,
      "block_group": "68c2f96e1bde4126ab590fddea0e99df",
      "content_dependencies": null
    },
    {
      "cell_type": "code",
      "metadata": {
        "source_hash": "384fb03",
        "execution_start": 1734955437242,
        "execution_millis": 0,
        "execution_context_id": "8a9cc1cf-1fa0-41c3-a29a-11798cb167a2",
        "deepnote_app_block_visible": true,
        "deepnote_app_is_code_hidden": true,
        "deepnote_app_is_output_hidden": true,
        "cell_id": "56a6d7a57f564ab1bf0627d43b4161de",
        "deepnote_cell_type": "code"
      },
      "source": "def create_styled_visualization(data, x_column, y_column, title, xlabel, ylabel, n=25):\n   try:\n       # Setting style\n       plt.style.use('seaborn')\n       \n       # Creating figure\n       fig, ax = plt.subplots(figsize=(14, 9))\n       \n        # Creating horizontal bar chart\n       bars = ax.barh(y_column, x_column, \n                     data=data.loc[0:n-1],\n                     color='#008080',  # teal colour\n                     alpha=0.8)\n       \n       # Adding value labels on bars\n       for bar in bars:\n           width = bar.get_width()\n           ax.text(width, bar.get_y() + bar.get_height()/2,\n                  f'{int(width):,}',\n                  ha='left', va='center', fontsize=10)\n\n       # Customising appearance\n       ax.set_title(title, pad=20, fontsize=16, fontweight='bold')\n       ax.set_xlabel(xlabel, fontsize=16)\n       ax.set_ylabel(ylabel, fontsize=16)\n\n       # Removing top and right spines\n       ax.spines['top'].set_visible(False)\n       ax.spines['right'].set_visible(False)\n\n       # Adding grid\n       ax.grid(axis='x', linestyle='--', alpha=0.7)\n\n       # Adjusting layout\n       plt.tight_layout()\n       plt.show()\n       \n   except Exception as e:\n       print(f\"Error creating visualization: {e}\")",
      "outputs": [],
      "outputs_reference": null,
      "execution_count": 46,
      "block_group": "f775141f5b8a41dbac11ac1544bbce56",
      "content_dependencies": null
    },
    {
      "cell_type": "markdown",
      "source": "Most commonly referenced participating organisation identifiers",
      "metadata": {
        "formattedRanges": [
          {
            "type": "marks",
            "marks": {
              "bold": true
            },
            "toCodePoint": 63,
            "fromCodePoint": 0
          }
        ],
        "deepnote_app_block_visible": true,
        "cell_id": "389d43b2a2ac40c2a1d3823ab344114a",
        "deepnote_cell_type": "text-cell-p"
      },
      "block_group": "859a214ab37c4ce6920826ccf934a731"
    },
    {
      "cell_type": "code",
      "metadata": {
        "source_hash": "85b84e8",
        "execution_start": 1734955437290,
        "execution_millis": 657,
        "execution_context_id": "ed73e792-2777-466b-b5a9-dcd3258f88ac",
        "deepnote_app_block_visible": true,
        "deepnote_app_is_code_hidden": true,
        "cell_id": "21b9b2930be541d197ffe2d8f00470f1",
        "deepnote_cell_type": "code"
      },
      "source": "# reference counts\ncreate_styled_visualization(\n   ref_count,\n   \"Count\",\n   \"Participating Organisation Identifier\",\n   \"Most Commonly Referenced Participating Organisations\",\n   \"Count of Reporting Organisations\",\n   \"Participating Organisation Identifier\"\n)\n",
      "outputs": [],
      "outputs_reference": null,
      "execution_count": 47,
      "block_group": "40e9ddd66a3247608b5c7528f0f04bf4",
      "content_dependencies": null
    },
    {
      "cell_type": "markdown",
      "source": "Count of unique valid participating organisation identifiers referenced by each reporting organisation:",
      "metadata": {
        "formattedRanges": [
          {
            "type": "marks",
            "marks": {
              "bold": true
            },
            "toCodePoint": 103,
            "fromCodePoint": 0
          }
        ],
        "deepnote_app_block_visible": true,
        "cell_id": "ce925bfa9d2a4f3ba8675d92d1548d7f",
        "deepnote_cell_type": "text-cell-p"
      },
      "block_group": "4d752efffb244db0b1e258ed6f673c71"
    },
    {
      "cell_type": "code",
      "metadata": {
        "source_hash": "fa6eee9f",
        "execution_start": 1734955438014,
        "execution_millis": 1,
        "execution_context_id": "8a9cc1cf-1fa0-41c3-a29a-11798cb167a2",
        "deepnote_app_block_visible": true,
        "deepnote_app_is_code_hidden": true,
        "deepnote_app_is_output_hidden": false,
        "cell_id": "9f6d1abf52f04e40b2f6c4c7c8654f04",
        "deepnote_cell_type": "code"
      },
      "source": "%%nql SHOW CREATE reporg_count reporg_count=DF\n\nSELECT\n    reportingorg_name as \"Reporting Organisation\",\n    COUNT(DISTINCT(ref)) as \"Count of Participating Organisation Identifiers\"\nFROM filtered_orgs \nGROUP BY reportingorg_name\nORDER BY \"Count of Participating Organisation Identifiers\" DESC",
      "outputs": [],
      "outputs_reference": null,
      "execution_count": 48,
      "block_group": "fbb5c6850e154111b1246ad7ab2c832a",
      "content_dependencies": null
    },
    {
      "cell_type": "code",
      "metadata": {
        "source_hash": "461b2065",
        "execution_start": 1734955438074,
        "execution_millis": 489,
        "execution_context_id": "ed73e792-2777-466b-b5a9-dcd3258f88ac",
        "deepnote_app_block_visible": true,
        "deepnote_app_is_code_hidden": true,
        "cell_id": "de26871dccb4437e9947dd14f9551661",
        "deepnote_cell_type": "code"
      },
      "source": "# reporting org counts\ncreate_styled_visualization(\n   reporg_count,\n   \"Count of Participating Organisation Identifiers\",\n   \"Reporting Organisation\",\n   \"Top Reporting Organisations by Reference Count\",\n   \"Count of Participating Organisation Identifiers\",\n   \"Reporting Organisation\"\n)",
      "outputs": [],
      "outputs_reference": null,
      "execution_count": 49,
      "block_group": "35f368b48fb34121ac3417e26c7c04cb",
      "content_dependencies": null
    },
    {
      "cell_type": "markdown",
      "source": "### Footnote",
      "metadata": {
        "formattedRanges": [],
        "deepnote_app_block_visible": true,
        "cell_id": "b1a62ceaa01344528d6bd894c3009c65",
        "deepnote_cell_type": "text-cell-h3"
      },
      "block_group": "e9acbf2635054d6cb69da41ee08447b0"
    },
    {
      "cell_type": "markdown",
      "source": "The code behind this application is hidden to improve usability. You are welcome to view this code at: Notebook.",
      "metadata": {
        "formattedRanges": [
          {
            "url": "https://deepnote.com/workspace/Open-Data-Services-Cooperative-46a54078-1c9e-4c25-b08c-69c3957de83a/project/Org-ID-networking-240fcfd1-8557-41e6-8271-b13ecef554c3/notebook/1.%20Org-ID%20Networking-e87d041ca45a4b1e9103bd497dcaea5d",
            "type": "link",
            "ranges": [],
            "toCodePoint": 112,
            "fromCodePoint": 103
          }
        ],
        "deepnote_app_block_visible": true,
        "cell_id": "049a045dc6e7428e8b9c75809d2a0c6f",
        "deepnote_cell_type": "text-cell-p"
      },
      "block_group": "8b26377c5bf645149c4d2edda3d6da42"
    },
    {
      "cell_type": "markdown",
      "source": "<a style='text-decoration:none;line-height:16px;display:flex;color:#5B5B62;padding:10px;justify-content:end;' href='https://deepnote.com?utm_source=created-in-deepnote-cell&projectId=240fcfd1-8557-41e6-8271-b13ecef554c3' target=\"_blank\">\n<img alt='Created in deepnote.com' style='display:inline;max-height:16px;margin:0px;margin-right:7.5px;' src='data:image/svg+xml;base64,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' > </img>\nCreated in <span style='font-weight:600;margin-left:4px;'>Deepnote</span></a>",
      "metadata": {
        "created_in_deepnote_cell": true,
        "deepnote_cell_type": "markdown"
      }
    }
  ],
  "nbformat": 4,
  "nbformat_minor": 0,
  "metadata": {
    "deepnote_app_clear_outputs": false,
    "deepnote_app_layout": "powerful-article",
    "deepnote_app_hide_all_code_blocks_enabled": false,
    "deepnote_app_width": "full-width",
    "deepnote_app_run_on_input_enabled": false,
    "deepnote_app_reactivity_enabled": false,
    "deepnote_notebook_id": "e87d041ca45a4b1e9103bd497dcaea5d"
  }
}