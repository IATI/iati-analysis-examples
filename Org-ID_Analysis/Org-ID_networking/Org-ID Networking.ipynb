{
  "cells": [
    {
      "cell_type": "code",
      "source": "#Set up\nimport seaborn as sns\nimport pandas as pd\nfrom datetime import datetime\nimport ast\nimport os\nimport noteql\nimport matplotlib.pyplot as plt\nfrom time import sleep",
      "metadata": {
        "source_hash": "17606ae0",
        "execution_start": 1731944915099,
        "execution_millis": 924,
        "execution_context_id": "f283c47f-2f62-4e5b-93f8-d21a41e3002e",
        "deepnote_to_be_reexecuted": false,
        "deepnote_app_block_visible": false,
        "deepnote_app_is_code_hidden": true,
        "deepnote_app_is_output_hidden": true,
        "cell_id": "8f4992a7d4e1442684b43d7c9099c9c0",
        "deepnote_cell_type": "code"
      },
      "outputs": [],
      "outputs_reference": null,
      "execution_count": 1,
      "block_group": "129576965a4e41368890f6968143cd96",
      "content_dependencies": null
    },
    {
      "cell_type": "markdown",
      "source": "# Organisation-Identifier Networking",
      "metadata": {
        "formattedRanges": [],
        "deepnote_app_block_visible": true,
        "cell_id": "b548477ee1414dafacec3ed1f1b9751a",
        "deepnote_cell_type": "text-cell-h1"
      },
      "block_group": "d738a9de9257435f9004220b01c2ece3"
    },
    {
      "cell_type": "markdown",
      "source": "> Organisations publishing IATI data declare participating organisations, which have various roles in their activities. By using Organisation-Identifiers, participating organisations can be uniquely identified, allowing us to create a network.",
      "metadata": {
        "formattedRanges": [
          {
            "url": "https://iatistandard.org/en/iati-standard/203/activity-standard/iati-activities/iati-activity/participating-org/",
            "type": "link",
            "ranges": [],
            "toCodePoint": 70,
            "fromCodePoint": 43
          },
          {
            "url": "https://iatistandard.org/en/iati-standard/203/codelists/organisationrole/",
            "type": "link",
            "ranges": [],
            "toCodePoint": 96,
            "fromCodePoint": 91
          }
        ],
        "deepnote_app_block_visible": true,
        "cell_id": "d27fc6e350de415cb462f43b69671f95",
        "deepnote_cell_type": "text-cell-callout"
      },
      "block_group": "c817c5d4b0dc40978dcac2b2fffa28d5"
    },
    {
      "cell_type": "markdown",
      "source": "> This application visualises the network of shared organisation references in IATI data, based on the participating-org/@ref element. You can create your own visualisation based on type of reporting organisation, specific countries, or using a list of specific organisations. ",
      "metadata": {
        "formattedRanges": [],
        "deepnote_app_block_visible": true,
        "cell_id": "8d013457fe564fc9b3c409764576ed65",
        "deepnote_cell_type": "text-cell-callout"
      },
      "block_group": "9ca0c3baff8f4b8dbfbac2c49fca56d9"
    },
    {
      "cell_type": "markdown",
      "source": "Example network:",
      "metadata": {
        "formattedRanges": [
          {
            "type": "marks",
            "marks": {
              "bold": true
            },
            "toCodePoint": 16,
            "fromCodePoint": 0
          }
        ],
        "deepnote_app_block_visible": true,
        "cell_id": "2fcd3604a6dc4b1d8255fc44333c12fe",
        "deepnote_cell_type": "text-cell-p"
      },
      "block_group": "d8096e53e82a42dd8bdccb3f061f32d7"
    },
    {
      "cell_type": "code",
      "source": "from IPython.core.display import HTML\nHTML('<div class=\"flourish-embed flourish-chord\" data-src=\"visualisation/17570004\" data-width=\"28%\"><script src=\"https://public.flourish.studio/resources/embed.js\"></script></div>')",
      "metadata": {
        "source_hash": "64a5b805",
        "execution_start": 1731944916066,
        "execution_millis": 1,
        "execution_context_id": "dc416845-bee7-4ebc-9cac-3930926e1a1e",
        "deepnote_app_block_visible": true,
        "deepnote_app_is_code_hidden": true,
        "deepnote_app_is_output_hidden": false,
        "cell_id": "93cc45b96e8943dd9b542b43edddaad2",
        "deepnote_cell_type": "code"
      },
      "outputs": [],
      "outputs_reference": null,
      "execution_count": 2,
      "block_group": "a364483cdfca4501972b27da0f14289c",
      "content_dependencies": null
    },
    {
      "cell_type": "markdown",
      "source": "<hr>",
      "metadata": {
        "deepnote_app_block_visible": true,
        "cell_id": "e5d933a5f7404866be045f71e820abde",
        "deepnote_cell_type": "separator"
      },
      "block_group": "72f5e8e4e52848ef9e88eb5d9ca314ca"
    },
    {
      "cell_type": "code",
      "source": "# function to add flexibility to change width and viz_id and also error handling\n\nfrom IPython.core.display import HTML\n\ndef show_flourish(viz_id=\"17570004\", width=\"28%\"): # defult values \n    try:\n        html = f'<div class=\"flourish-embed flourish-chord\" data-src=\"visualisation/{viz_id}\" data-width=\"{width}\"><script src=\"https://public.flourish.studio/resources/embed.js\"></script></div>'\n        return HTML(html)\n    except Exception as e:\n        print(f\"Failed to load visualization: {e}\")\n        return None\n\n\nshow_flourish()  # Uses defaults (17570004, 28%)\n",
      "metadata": {
        "source_hash": "15558db4",
        "execution_start": 1731944916111,
        "execution_millis": 0,
        "execution_context_id": "dc416845-bee7-4ebc-9cac-3930926e1a1e",
        "deepnote_app_block_visible": true,
        "cell_id": "05f01abf574f422d85670ef8a0cfa06e",
        "deepnote_cell_type": "code"
      },
      "outputs": [],
      "outputs_reference": null,
      "execution_count": 3,
      "block_group": "93afd1f483e14c6ba5e02310bb25e9fc",
      "content_dependencies": null
    },
    {
      "cell_type": "markdown",
      "source": "## Running the application:",
      "metadata": {
        "formattedRanges": [],
        "deepnote_app_block_visible": true,
        "cell_id": "0a6e60c3366d4ff09bb804143922c412",
        "deepnote_cell_type": "text-cell-h2"
      },
      "block_group": "9572c98d3b3e47efbb33ca55c5050d19"
    },
    {
      "cell_type": "markdown",
      "source": "1. Select the type of visualisation you want to create from the dropdown menu: A. Reporting organisation type, B. Country, or C. A list of reporting organisations.",
      "metadata": {
        "formattedRanges": [
          {
            "type": "marks",
            "marks": {
              "bold": true
            },
            "toCodePoint": 2,
            "fromCodePoint": 0
          },
          {
            "type": "marks",
            "marks": {
              "bold": true
            },
            "toCodePoint": 81,
            "fromCodePoint": 79
          },
          {
            "type": "marks",
            "marks": {
              "bold": true
            },
            "toCodePoint": 109,
            "fromCodePoint": 82
          },
          {
            "type": "marks",
            "marks": {
              "bold": true
            },
            "toCodePoint": 121,
            "fromCodePoint": 111
          },
          {
            "type": "marks",
            "marks": {
              "bold": true
            },
            "toCodePoint": 162,
            "fromCodePoint": 126
          }
        ],
        "deepnote_app_block_visible": true,
        "cell_id": "eb810b0bc5564f8daefdd825d315dc22",
        "deepnote_cell_type": "text-cell-p"
      },
      "block_group": "7c34471488a2411086bb7525de0f247e"
    },
    {
      "cell_type": "code",
      "source": "vis_type = 'Organisations by Type'",
      "metadata": {
        "source_hash": "dc79fda3",
        "execution_start": 1731944916163,
        "execution_millis": 0,
        "deepnote_input_label": "Visualisation Type",
        "execution_context_id": "dc416845-bee7-4ebc-9cac-3930926e1a1e",
        "deepnote_variable_name": "vis_type",
        "deepnote_variable_value": "Organisations by Type",
        "deepnote_to_be_reexecuted": false,
        "deepnote_variable_options": [
          "Organisations by Type",
          "Country",
          "Specific Organisations"
        ],
        "deepnote_app_block_visible": true,
        "deepnote_variable_select_type": "from-options",
        "deepnote_variable_custom_options": [
          "Organisations by Type",
          "Country",
          "Specific Organisations"
        ],
        "deepnote_variable_selected_variable": "",
        "cell_id": "ef3d05e63fd140969f22494ebea8de42",
        "deepnote_cell_type": "input-select"
      },
      "outputs": [],
      "outputs_reference": null,
      "execution_count": 4,
      "block_group": "7c34471488a2411086bb7525de0f247e"
    },
    {
      "cell_type": "markdown",
      "source": "",
      "metadata": {
        "formattedRanges": [],
        "deepnote_app_block_visible": true,
        "cell_id": "72baf18221ff4a4a9d4af6beb2f913b9",
        "deepnote_cell_type": "text-cell-p"
      },
      "block_group": "b3a82e237d62484caaa2d0467de10c4a"
    },
    {
      "cell_type": "markdown",
      "source": "2A. If you are interested in specific organisation types, select them using the dropdown menu. Selecting a large amount of organisation types may cause this application to run slowly or fail.",
      "metadata": {
        "formattedRanges": [
          {
            "type": "marks",
            "marks": {
              "bold": true
            },
            "toCodePoint": 3,
            "fromCodePoint": 0
          },
          {
            "url": "https://iatistandard.org/en/iati-standard/203/codelists/organisationtype/ ",
            "type": "link",
            "ranges": [
              {
                "type": "marks",
                "marks": {
                  "bold": true
                },
                "toCodePoint": 18,
                "fromCodePoint": 0
              }
            ],
            "toCodePoint": 56,
            "fromCodePoint": 38
          }
        ],
        "deepnote_app_block_visible": true,
        "cell_id": "99f77422f2a54e7c83568a455db5af00",
        "deepnote_cell_type": "text-cell-p"
      },
      "block_group": "0e03582dbbfd4d6395f90248f9502ef5"
    },
    {
      "cell_type": "code",
      "source": "rep_org_type = ['10']",
      "metadata": {
        "source_hash": "ea41e493",
        "execution_start": 1731944916211,
        "execution_millis": 0,
        "deepnote_input_label": "Reporting Organisation Type",
        "execution_context_id": "dc416845-bee7-4ebc-9cac-3930926e1a1e",
        "deepnote_variable_name": "rep_org_type",
        "deepnote_variable_value": "10",
        "deepnote_to_be_reexecuted": false,
        "deepnote_variable_options": [
          "10",
          "11",
          "15",
          "21",
          "22",
          "23",
          "24",
          "30",
          "40",
          "60",
          "70",
          "71",
          "73",
          "80",
          "90"
        ],
        "deepnote_app_block_visible": true,
        "deepnote_variable_select_type": "from-options",
        "deepnote_allow_multiple_values": true,
        "deepnote_variable_custom_options": [
          "10",
          "11",
          "15",
          "21",
          "22",
          "23",
          "24",
          "30",
          "40",
          "60",
          "70",
          "71",
          "73",
          "80",
          "90"
        ],
        "deepnote_variable_selected_variable": "",
        "cell_id": "98c5e3f4e3454079bbf5c8ae10accd38",
        "deepnote_cell_type": "input-select"
      },
      "outputs": [],
      "outputs_reference": null,
      "execution_count": 5,
      "block_group": "0e03582dbbfd4d6395f90248f9502ef5"
    },
    {
      "cell_type": "markdown",
      "source": "**Organisation Types:**\n\n**Code** | **Name**     |\n|---------|---------------------------------|\n| 10 | Government |\n| 11 | Local Government |\n| 15 | Other Public Sector |\n| 21 | International NGO |\n| 22 | National NGO |\n| 23 | Regional NGO |\n| 24 | Partner Country based NGO | \n| 30 | Public Private Partnership |\t\n| 40 | Multilateral |\n| 60 | Foundation |\n| 70 | Private Sector |\n| 71 | Private Sector in Provider Country |\n| 72 | Private Sector in Aid Recipient Country |\n| 73 | Private Sector in Third Country |\n| 80 | Academic, Training and Research | \t\n| 90 | Other \n",
      "metadata": {
        "deepnote_app_block_visible": true,
        "cell_id": "abbc94802b35433990c7c5adc4d3d9b9",
        "deepnote_cell_type": "markdown"
      },
      "block_group": "9539aa1b578e4d8abef520bdb458b222"
    },
    {
      "cell_type": "markdown",
      "source": "Get info country selector dropdown.",
      "metadata": {
        "formattedRanges": [],
        "deepnote_app_block_visible": false,
        "cell_id": "af2b9cfa52f84407a9572a41ddc96b0c",
        "deepnote_cell_type": "text-cell-p"
      },
      "block_group": "4a1e9da4340d4781b7ab79ff884fae99"
    },
    {
      "cell_type": "code",
      "source": "#download latest registry info\n!wget https://iatiregistry.org/publisher/download/csv\nregistry = pd.read_csv(\"csv\")\n!rm -rf \"csv\" \n\ncountries = sorted(registry['HQ Country or Region'].unique())",
      "metadata": {
        "source_hash": "3032c19b",
        "execution_start": 1731944916254,
        "execution_millis": 4571,
        "execution_context_id": "f283c47f-2f62-4e5b-93f8-d21a41e3002e",
        "deepnote_to_be_reexecuted": false,
        "deepnote_app_block_visible": false,
        "deepnote_app_is_code_hidden": true,
        "deepnote_app_is_output_hidden": true,
        "cell_id": "211b2a269df74411ad7a6affbf49682c",
        "deepnote_cell_type": "code"
      },
      "outputs": [],
      "outputs_reference": null,
      "execution_count": 6,
      "block_group": "426c6e1f56264ee58159573a49c458dc",
      "content_dependencies": null
    },
    {
      "cell_type": "code",
      "source": "try:\n    !wget https://iatiregistry.org/publisher/download/csv\n    registry = pd.read_csv(\"csv\")\n    countries = sorted(registry['HQ Country or Region'].unique())\nexcept Exception as e:\n    print(f\"Error downloading or processing registry: {e}\")\nfinally:\n    !rm -rf \"csv\"  # Clean up regardless of success/failure",
      "metadata": {
        "source_hash": "37b14a2c",
        "execution_start": 1731944920878,
        "execution_millis": 4447,
        "execution_context_id": "f283c47f-2f62-4e5b-93f8-d21a41e3002e",
        "deepnote_app_block_visible": true,
        "cell_id": "235776ffda0845309a306deff98c66bf",
        "deepnote_cell_type": "code"
      },
      "outputs": [],
      "outputs_reference": null,
      "execution_count": 7,
      "block_group": "6f317fb5025e49479983a1a2f99b30d0",
      "content_dependencies": null
    },
    {
      "cell_type": "markdown",
      "source": " ",
      "metadata": {
        "formattedRanges": [],
        "deepnote_app_block_visible": true,
        "cell_id": "6df85d5ef1f24510802116c83ea7099f",
        "deepnote_cell_type": "text-cell-p"
      },
      "block_group": "3731f30355a748b38c21c8e9fe734867"
    },
    {
      "cell_type": "markdown",
      "source": "2B.  If you are interested in reporting organisations based in a specific country or countries, select them using the dropdown menu. You can find out where an organisation is based using the registry. Selecting a large number of countries may cause this application to run slowly or fail.",
      "metadata": {
        "formattedRanges": [
          {
            "type": "marks",
            "marks": {
              "bold": true
            },
            "toCodePoint": 4,
            "fromCodePoint": 0
          },
          {
            "url": "https://iatiregistry.org/publisher/. ",
            "type": "link",
            "ranges": [],
            "toCodePoint": 199,
            "fromCodePoint": 191
          }
        ],
        "deepnote_app_block_visible": true,
        "cell_id": "5619699951eb401384083346b36d86a5",
        "deepnote_cell_type": "text-cell-p"
      },
      "block_group": "026fd0a504cd4f22a2e70fb840b52868"
    },
    {
      "cell_type": "code",
      "source": "country_query = ['(No country assigned)']",
      "metadata": {
        "source_hash": "a600038a",
        "execution_start": 1731944925370,
        "execution_millis": 1,
        "deepnote_input_label": "Country",
        "execution_context_id": "dc416845-bee7-4ebc-9cac-3930926e1a1e",
        "deepnote_variable_name": "country_query",
        "deepnote_variable_value": "(No country assigned)",
        "deepnote_to_be_reexecuted": false,
        "deepnote_variable_options": [
          "(No country assigned)",
          "Afghanistan",
          "Argentina",
          "Armenia",
          "Australia",
          "Austria",
          "Bangladesh",
          "Belgium",
          "Benin",
          "Bilateral, unspecified",
          "Bolivia",
          "Botswana",
          "Brazil",
          "Burkina Faso",
          "Burundi",
          "Cambodia",
          "Canada",
          "Central African Republic",
          "China",
          "Colombia",
          "Congo (Democratic Republic of the)",
          "Costa Rica",
          "Czechia",
          "Côte D'Ivoire",
          "Denmark",
          "Egypt",
          "Ethiopia",
          "Europe, regional",
          "Finland",
          "France",
          "Georgia",
          "Germany",
          "Ghana",
          "Greece",
          "Hong Kong",
          "India",
          "Indonesia",
          "Iraq",
          "Ireland",
          "Isle of Man",
          "Israel",
          "Italy",
          "Japan",
          "Jordan",
          "Kenya",
          "Korea (Republic of)",
          "Lebanon",
          "Liberia",
          "Lithuania",
          "Madagascar",
          "Malawi",
          "Malaysia",
          "Mali",
          "Mauritius",
          "Mexico",
          "Mozambique",
          "Myanmar",
          "Namibia",
          "Nepal",
          "Netherlands",
          "New Zealand",
          "Nicaragua",
          "Niger",
          "Nigeria",
          "Norway",
          "Pakistan",
          "Palestine, State of",
          "Panama",
          "Paraguay",
          "Peru",
          "Philippines",
          "Romania",
          "Rwanda",
          "Saudi Arabia",
          "Senegal",
          "Sierra Leone",
          "Singapore",
          "Slovakia",
          "Slovenia",
          "Somalia",
          "South Africa",
          "South Sudan",
          "Spain",
          "Sri Lanka",
          "Sudan",
          "Sweden",
          "Switzerland",
          "Taiwan (Province of China)",
          "Tanzania, United Republic of",
          "Thailand",
          "Togo",
          "Tunisia",
          "Turkey",
          "Uganda",
          "Ukraine",
          "United Arab Emirates",
          "United Kingdom",
          "United States",
          "Venezuela (Bolivarian Republic of)",
          "Viet Nam",
          "Yemen",
          "Zambia",
          "Zimbabwe",
          "eSwatini"
        ],
        "deepnote_app_block_visible": true,
        "deepnote_variable_select_type": "from-variable",
        "deepnote_allow_multiple_values": true,
        "deepnote_variable_custom_options": [
          "Option 1",
          "Option 2"
        ],
        "deepnote_variable_selected_variable": "countries",
        "cell_id": "a6ee3f3f636945e59edf24a36c981c6a",
        "deepnote_cell_type": "input-select"
      },
      "outputs": [],
      "outputs_reference": null,
      "execution_count": 8,
      "block_group": "026fd0a504cd4f22a2e70fb840b52868"
    },
    {
      "cell_type": "markdown",
      "source": " ",
      "metadata": {
        "formattedRanges": [],
        "deepnote_app_block_visible": true,
        "cell_id": "51ab7f1674c84995962f173cd4c16dd1",
        "deepnote_cell_type": "text-cell-p"
      },
      "block_group": "da9e366074a7479d9bffd760126569d8"
    },
    {
      "cell_type": "markdown",
      "source": "2C.  If you are interested in a list of specific reporting organisations, enter the Organisation Identifiers of the IATI Publishers you want to select into the text box, copying this formatting exactly: 'AU-5', '44000'.  You can find these identifiers using the registry.",
      "metadata": {
        "formattedRanges": [
          {
            "type": "marks",
            "marks": {
              "bold": true
            },
            "toCodePoint": 4,
            "fromCodePoint": 0
          },
          {
            "type": "marks",
            "marks": {
              "bold": true
            },
            "toCodePoint": 72,
            "fromCodePoint": 32
          },
          {
            "type": "marks",
            "marks": {
              "bold": true
            },
            "toCodePoint": 218,
            "fromCodePoint": 170
          },
          {
            "url": "https://iatiregistry.org/publisher/. ",
            "type": "link",
            "ranges": [],
            "toCodePoint": 270,
            "fromCodePoint": 262
          }
        ],
        "deepnote_app_block_visible": true,
        "cell_id": "3845d68fd7ec4f0c818f9e2bd4fc65bc",
        "deepnote_cell_type": "text-cell-p"
      },
      "block_group": "0c6fc6e90f5a4bd3912ba0b05d2933bf"
    },
    {
      "cell_type": "code",
      "source": "pub_org_id = ''",
      "metadata": {
        "source_hash": "7de31db",
        "execution_start": 1731944925418,
        "execution_millis": 1,
        "deepnote_input_label": "Organisation Identifiers",
        "execution_context_id": "dc416845-bee7-4ebc-9cac-3930926e1a1e",
        "deepnote_variable_name": "pub_org_id",
        "deepnote_variable_value": "",
        "deepnote_to_be_reexecuted": false,
        "deepnote_app_block_visible": true,
        "cell_id": "97a1ff1d6fb846518a423418e85dea0b",
        "deepnote_cell_type": "input-text"
      },
      "outputs": [],
      "outputs_reference": null,
      "execution_count": 9,
      "block_group": "0c6fc6e90f5a4bd3912ba0b05d2933bf"
    },
    {
      "cell_type": "markdown",
      "source": "Reporting organisation identifiers:",
      "metadata": {
        "formattedRanges": [
          {
            "type": "marks",
            "marks": {
              "bold": true
            },
            "toCodePoint": 35,
            "fromCodePoint": 0
          }
        ],
        "deepnote_app_block_visible": true,
        "cell_id": "8b46a0846c0647eba3eb54e12b846e5d",
        "deepnote_cell_type": "text-cell-p"
      },
      "block_group": "2b7b10eeb4fd4b07ac8a9e8eaaf690bf"
    },
    {
      "cell_type": "code",
      "source": "registry[['Publisher', 'IATI Organisation Identifier','HQ Country or Region']]",
      "metadata": {
        "source_hash": "31cd5d0",
        "execution_start": 1731944925463,
        "execution_millis": 0,
        "execution_context_id": "9c8ebc62-d190-41c3-8ab4-0b1c184c9b1c",
        "deepnote_to_be_reexecuted": false,
        "deepnote_app_block_visible": true,
        "deepnote_app_is_code_hidden": true,
        "cell_id": "3a5c0091dbe447c2ab56c32401f51325",
        "deepnote_cell_type": "code"
      },
      "outputs": [],
      "outputs_reference": null,
      "execution_count": 10,
      "block_group": "860d8f993d8b4980af2607f7b3faf6a2",
      "content_dependencies": null
    },
    {
      "cell_type": "markdown",
      "source": " ",
      "metadata": {
        "formattedRanges": [],
        "deepnote_app_block_visible": true,
        "cell_id": "1e3c989c3b2a4e7f8b2c42dd6e0201f2",
        "deepnote_cell_type": "text-cell-p"
      },
      "block_group": "106f06055319475fbf14f081ea77ffa7"
    },
    {
      "cell_type": "markdown",
      "source": "3. Click the \"Run\" button.",
      "metadata": {
        "formattedRanges": [
          {
            "type": "marks",
            "marks": {
              "bold": true
            },
            "toCodePoint": 3,
            "fromCodePoint": 0
          },
          {
            "type": "marks",
            "marks": {
              "bold": true
            },
            "toCodePoint": 17,
            "fromCodePoint": 14
          }
        ],
        "deepnote_app_block_visible": true,
        "cell_id": "df765779ea334a6b9b56c5fe49da59aa",
        "deepnote_cell_type": "text-cell-p"
      },
      "block_group": "aeb856ba56ae493d8059003c7e9c4f6e"
    },
    {
      "cell_type": "markdown",
      "source": "",
      "metadata": {
        "source_hash": "b623e53d",
        "execution_start": 1731944925511,
        "execution_millis": 0,
        "execution_context_id": "9c8ebc62-d190-41c3-8ab4-0b1c184c9b1c",
        "deepnote_button_title": "Run",
        "deepnote_button_behavior": "run",
        "deepnote_app_block_visible": true,
        "deepnote_button_color_scheme": "blue",
        "cell_id": "f54dba5c77c343fa828d0bf01a70e7e3",
        "deepnote_cell_type": "button"
      },
      "block_group": "aeb856ba56ae493d8059003c7e9c4f6e",
      "outputs": [],
      "outputs_reference": null,
      "execution_count": 10
    },
    {
      "cell_type": "code",
      "source": "if vis_type in ['Organisations by Type']:\n    print(f\"Last run on organisation types:\",*rep_org_type)\nelif vis_type in ['Country']:\n    print(f\"Last run on organisations with headquarters in:\",*country_query)\nelif vis_type in ['Specific Organisations']:\n    print(f\"Last run on reporting organisations:\",*pub_org_id)",
      "metadata": {
        "source_hash": "b40d4ca7",
        "execution_start": 1731944925559,
        "execution_millis": 0,
        "execution_context_id": "dc416845-bee7-4ebc-9cac-3930926e1a1e",
        "deepnote_to_be_reexecuted": false,
        "deepnote_app_block_visible": true,
        "deepnote_app_is_code_hidden": true,
        "cell_id": "533c19326b464796a71bd472efc60ed2",
        "deepnote_cell_type": "code"
      },
      "outputs": [],
      "outputs_reference": null,
      "execution_count": 11,
      "block_group": "d411ea0a743640ff92fd031955217da4",
      "content_dependencies": null
    },
    {
      "cell_type": "code",
      "source": "def print_status(vis_type, data):\n    if vis_type in ['Organisations by Type']:\n        print(f\"Last run on organisation types:\", *data)\n    elif vis_type in ['Country']:\n        print(f\"Last run on organisations with headquarters in:\", *data)\n    elif vis_type in ['Specific Organisations']:\n        print(f\"Last run on reporting organisations:\", *data)\n    else:\n        print(\"Invalid visualization type selected\")\n\n\n# print_status(vis_type, rep_org_type)  # for organization types\n# print_status(vis_type, country_query)  # for countries\n# print_status(vis_type, pub_org_id)     # for specific organizations",
      "metadata": {
        "source_hash": "2e829cae",
        "execution_start": 1731944925611,
        "execution_millis": 0,
        "execution_context_id": "dc416845-bee7-4ebc-9cac-3930926e1a1e",
        "deepnote_app_block_visible": true,
        "cell_id": "94355df1f8bd47079a32ba2fdc5fe1a9",
        "deepnote_cell_type": "code"
      },
      "outputs": [],
      "outputs_reference": null,
      "execution_count": 12,
      "block_group": "885a6ac8d79e401891acb136d3d0003f",
      "content_dependencies": null
    },
    {
      "cell_type": "code",
      "source": "print_status(vis_type, rep_org_type)",
      "metadata": {
        "source_hash": "38300d3c",
        "execution_start": 1731944925658,
        "execution_millis": 1,
        "execution_context_id": "dc416845-bee7-4ebc-9cac-3930926e1a1e",
        "deepnote_app_block_visible": true,
        "cell_id": "b2456b9bb5eb4183af3d1d2a526c3494",
        "deepnote_cell_type": "code"
      },
      "outputs": [],
      "outputs_reference": null,
      "execution_count": 13,
      "block_group": "b7b05db8de7f44209345701325ecb1da",
      "content_dependencies": null
    },
    {
      "cell_type": "markdown",
      "source": "# Download data",
      "metadata": {
        "formattedRanges": [],
        "deepnote_app_block_visible": false,
        "cell_id": "b3fb15811d284e9885fb4fa6e42af144",
        "deepnote_cell_type": "text-cell-h1"
      },
      "block_group": "0a33704390ba45418df2b9048c98154d"
    },
    {
      "cell_type": "markdown",
      "source": "## Setup",
      "metadata": {
        "formattedRanges": [],
        "deepnote_app_block_visible": false,
        "cell_id": "5d3b360ce07c4a43a7787ee29a83440c",
        "deepnote_cell_type": "text-cell-h2"
      },
      "block_group": "7eeb4012776b439b8ae68e447401e054"
    },
    {
      "cell_type": "markdown",
      "source": "Using https://iati-tables.opendata.coop/. The following cell sets up the basic libraries needed for analysis and makes a connection to the database. ",
      "metadata": {
        "formattedRanges": [],
        "deepnote_app_block_visible": false,
        "cell_id": "0a226c5e2bae4ce1a6a01ea586e0f32b",
        "deepnote_cell_type": "text-cell-p"
      },
      "block_group": "bb39d93e6d47480eaf0092cee05acc0a"
    },
    {
      "cell_type": "code",
      "source": "sns.set_context('notebook')\n\n#start noteql session\nsession = noteql.local_db_session()\n# Restart postgres to make sure any existing connections get dropped\n!sudo service postgresql restart\nsession = noteql.Session(datasette_url='https://datasette.codeforiati.org/iati.json', connect_args={'connect_timeout': 1000})",
      "metadata": {
        "source_hash": "a73d9cc9",
        "execution_start": 1731944925710,
        "execution_millis": 7756,
        "execution_context_id": "f283c47f-2f62-4e5b-93f8-d21a41e3002e",
        "deepnote_app_block_visible": true,
        "deepnote_app_is_code_hidden": true,
        "deepnote_app_is_output_hidden": true,
        "cell_id": "8e70a19c2a3447c8bce8b0150c4fd348",
        "deepnote_cell_type": "code"
      },
      "outputs": [],
      "outputs_reference": null,
      "execution_count": 14,
      "block_group": "2571d7cc97124c3cb85c5c529a5868f0",
      "content_dependencies": null
    },
    {
      "cell_type": "code",
      "source": "def setup_database_connection(timeout=1000):\n    try:\n        sns.set_context('notebook')\n        \n        print(\"Initializing database connection...\")\n        \n        # Restarting PostgreSQL safely\n        try:\n            !sudo service postgresql restart\n            sleep(2)  # Giving PostgreSQL time to restart\n            print(\"PostgreSQL restarted successfully\")\n        except Exception as e:\n            print(f\"Warning: PostgreSQL restart failed: {e}\")\n        \n        # Creating new session\n        session = noteql.Session(\n            datasette_url='https://datasette.codeforiati.org/iati.json',\n            connect_args={'connect_timeout': timeout}\n        )\n        \n        print(\"Database connection established successfully\")\n        return session\n        \n    except Exception as e:\n        print(f\"Error setting up database connection: {e}\")\n        return None",
      "metadata": {
        "source_hash": "9b2ec20",
        "execution_start": 1731944933510,
        "execution_millis": 1,
        "execution_context_id": "dc416845-bee7-4ebc-9cac-3930926e1a1e",
        "deepnote_app_block_visible": true,
        "cell_id": "d523657b6ff1414bb47c665f85573b60",
        "deepnote_cell_type": "code"
      },
      "outputs": [],
      "outputs_reference": null,
      "execution_count": 15,
      "block_group": "713b7062041942ccb21203222a16b09f",
      "content_dependencies": null
    },
    {
      "cell_type": "code",
      "source": "session = setup_database_connection()",
      "metadata": {
        "source_hash": "2c89a74d",
        "execution_start": 1731944933555,
        "execution_millis": 4479,
        "execution_context_id": "f283c47f-2f62-4e5b-93f8-d21a41e3002e",
        "deepnote_app_block_visible": true,
        "cell_id": "6c96ede767f647dbac9886de5f4b6ccc",
        "deepnote_cell_type": "code"
      },
      "outputs": [],
      "outputs_reference": null,
      "execution_count": 16,
      "block_group": "2ec307cdff37464db409318b29c35c44",
      "content_dependencies": null
    },
    {
      "cell_type": "markdown",
      "source": "## IATI-tables Queries",
      "metadata": {
        "formattedRanges": [],
        "deepnote_app_block_visible": false,
        "cell_id": "825c77f981aa4f26814ff00356b7e243",
        "deepnote_cell_type": "text-cell-h2"
      },
      "block_group": "a1183a0c39854b5d95d19254c131c716"
    },
    {
      "cell_type": "markdown",
      "source": "Downloading all participating organisations reported by selected reporting org type, countries, or ids.",
      "metadata": {
        "formattedRanges": [],
        "deepnote_app_block_visible": false,
        "cell_id": "c2f0d0f4863f4879b1713321e6ba5c39",
        "deepnote_cell_type": "text-cell-p"
      },
      "block_group": "68d2fced3a20499488906ecc4e06a291"
    },
    {
      "cell_type": "markdown",
      "source": "Prepare country filter - based on ISO code as much as possible.",
      "metadata": {
        "formattedRanges": [],
        "deepnote_app_block_visible": false,
        "cell_id": "ae95a32064bc4e0d8ccb9b6d0f441ff6",
        "deepnote_cell_type": "text-cell-p"
      },
      "block_group": "7b0f8fce7c1745ca86cf1efdc03ff848"
    },
    {
      "cell_type": "code",
      "source": "#find country iso codes\niso_codes = pd.read_csv(\"Country.csv\")\niso_codes = iso_codes[iso_codes['name'].isin(country_query)]\niso_codes['code']",
      "metadata": {
        "source_hash": "43695b03",
        "execution_start": 1731944938078,
        "execution_millis": 87,
        "execution_context_id": "dc416845-bee7-4ebc-9cac-3930926e1a1e",
        "deepnote_app_block_visible": false,
        "deepnote_app_is_code_hidden": true,
        "deepnote_app_is_output_hidden": true,
        "cell_id": "8adc53da107f4057b79f974531215374",
        "deepnote_cell_type": "code"
      },
      "outputs": [],
      "outputs_reference": null,
      "execution_count": 17,
      "block_group": "ef3b9a24428a4bd384161f428230e7a8",
      "content_dependencies": null
    },
    {
      "cell_type": "code",
      "source": "def get_country_iso_codes(country_query, csv_path=\"Country.csv\"):\n    try:\n        # Reading country codes\n        print(f\"Loading country codes from {csv_path}...\")\n        iso_codes = pd.read_csv(csv_path)\n        \n        # Filtering based on country query\n        filtered_codes = iso_codes[iso_codes['name'].isin(country_query)]\n        \n        if filtered_codes.empty:\n            print(f\"Warning: No ISO codes found for countries: {', '.join(country_query)}\")\n            return None\n            \n        print(f\"Found ISO codes for {len(filtered_codes)} countries\")\n        return filtered_codes['code']\n        \n    except FileNotFoundError:\n        print(f\"Error: Country code file '{csv_path}' not found\")\n        return None\n    except Exception as e:\n        print(f\"Error processing country codes: {e}\")\n        return None",
      "metadata": {
        "source_hash": "408a757e",
        "execution_start": 1731944938207,
        "execution_millis": 0,
        "execution_context_id": "dc416845-bee7-4ebc-9cac-3930926e1a1e",
        "deepnote_app_block_visible": true,
        "cell_id": "b1b774255e7a4c889afb86e0e8fe17b8",
        "deepnote_cell_type": "code"
      },
      "outputs": [],
      "outputs_reference": null,
      "execution_count": 18,
      "block_group": "cdd460e2368a41758c56e410f0bf6888",
      "content_dependencies": null
    },
    {
      "cell_type": "code",
      "source": "iso_codes = get_country_iso_codes(country_query)",
      "metadata": {
        "source_hash": "c57d11b4",
        "execution_start": 1731944938250,
        "execution_millis": 22,
        "execution_context_id": "a129fe6a-ba39-409d-b374-81e0bbc9821e",
        "deepnote_app_block_visible": true,
        "cell_id": "ba2deec244614b008fba038cda0e09c5",
        "deepnote_cell_type": "code"
      },
      "outputs": [],
      "outputs_reference": null,
      "execution_count": 19,
      "block_group": "72eb81b22e114728aa7ad5146cd2e9e9",
      "content_dependencies": null
    },
    {
      "cell_type": "code",
      "source": "iso_codes",
      "metadata": {
        "source_hash": "3135a9ec",
        "execution_start": 1731944938323,
        "execution_millis": 0,
        "execution_context_id": "dc416845-bee7-4ebc-9cac-3930926e1a1e",
        "deepnote_app_block_visible": true,
        "cell_id": "1c7c93923bd642a1a3d994e641cd5ca0",
        "deepnote_cell_type": "code"
      },
      "outputs": [],
      "outputs_reference": null,
      "execution_count": 20,
      "block_group": "64dae8ad8a904b08878face8cc5c8757",
      "content_dependencies": null
    },
    {
      "cell_type": "code",
      "source": "#filter reporting orgs to countries of interest\n#should I include filtering to org-id with prefix too??\nfilt_reg = registry[registry['HQ Country or Region'].isin(country_query)]\n#split iso codes from IDs\nsplit_id = filt_reg['IATI Organisation Identifier'].str.split('-',n=1, expand=True)\ncountry_orgs = pd.concat([filt_reg , split_id], axis=1)\ncountry_orgs",
      "metadata": {
        "source_hash": "97feaeec",
        "execution_start": 1731944938375,
        "execution_millis": 0,
        "execution_context_id": "dc416845-bee7-4ebc-9cac-3930926e1a1e",
        "deepnote_app_block_visible": false,
        "deepnote_app_is_code_hidden": true,
        "deepnote_app_is_output_hidden": true,
        "cell_id": "0dcd10c3ec0e4b1abdd273423616520f",
        "deepnote_cell_type": "code"
      },
      "outputs": [],
      "outputs_reference": null,
      "execution_count": 21,
      "block_group": "b44929328854454f8aeb9de571cca05b",
      "content_dependencies": null
    },
    {
      "cell_type": "code",
      "source": "def process_country_organizations(registry, country_query):\n    try:\n        # Filtering organizations by country\n        print(f\"Filtering organizations for countries: {', '.join(country_query)}\")\n        filtered_orgs = registry[registry['HQ Country or Region'].isin(country_query)]\n        \n        if filtered_orgs.empty:\n            print(\"No organizations found for specified countries\")\n            return None\n            \n        # Spliting IATI identifiers into prefix and ID\n        split_identifiers = filtered_orgs['IATI Organisation Identifier'].str.split('-', n=1, expand=True)\n        \n        # Combining original data with split identifiers\n        result = pd.concat([filtered_orgs, split_identifiers], axis=1)\n        \n        print(f\"Found {len(result)} organizations\")\n        return result\n        \n    except Exception as e:\n        print(f\"Error processing organizations: {e}\")\n        return None",
      "metadata": {
        "source_hash": "9c49637e",
        "execution_start": 1731944938419,
        "execution_millis": 0,
        "execution_context_id": "dc416845-bee7-4ebc-9cac-3930926e1a1e",
        "deepnote_app_block_visible": true,
        "cell_id": "441f049b7d094ac4a1cab4e3809e3ced",
        "deepnote_cell_type": "code"
      },
      "outputs": [],
      "outputs_reference": null,
      "execution_count": 22,
      "block_group": "b626ef31ad2048cca4cd6d6e8781b54b",
      "content_dependencies": null
    },
    {
      "cell_type": "code",
      "source": "country_orgs = process_country_organizations(registry, country_query)",
      "metadata": {
        "source_hash": "a5ef07bd",
        "execution_start": 1731944938466,
        "execution_millis": 1,
        "execution_context_id": "dc416845-bee7-4ebc-9cac-3930926e1a1e",
        "deepnote_app_block_visible": true,
        "cell_id": "8c1dfb449a864a27a79d812473c60f52",
        "deepnote_cell_type": "code"
      },
      "outputs": [],
      "outputs_reference": null,
      "execution_count": 23,
      "block_group": "d46ad3bb4e2a4c578c9f930b86e9b933",
      "content_dependencies": null
    },
    {
      "cell_type": "code",
      "source": "country_orgs",
      "metadata": {
        "source_hash": "1c854382",
        "execution_start": 1731944938511,
        "execution_millis": 0,
        "execution_context_id": "dc416845-bee7-4ebc-9cac-3930926e1a1e",
        "deepnote_app_block_visible": true,
        "cell_id": "eaf579bcdb7b4f4e9b2677d67c897161",
        "deepnote_cell_type": "code"
      },
      "outputs": [],
      "outputs_reference": null,
      "execution_count": 24,
      "block_group": "fccda5595f604f7e908067227f710d70",
      "content_dependencies": null
    },
    {
      "cell_type": "markdown",
      "source": "Format input text",
      "metadata": {
        "formattedRanges": [],
        "deepnote_app_block_visible": false,
        "cell_id": "a659bb34dd404076869c2dc49951592e",
        "deepnote_cell_type": "text-cell-p"
      },
      "block_group": "a6bd46f6d4d84b38b05f1f240795912f"
    },
    {
      "cell_type": "code",
      "source": "pub_orgs = ast.literal_eval(pub_org_id)\npub_orgs = [n.strip() for n in pub_orgs] \npub_orgs",
      "metadata": {
        "source_hash": "855699a4",
        "execution_start": 1731944938559,
        "execution_millis": 0,
        "execution_context_id": "dc416845-bee7-4ebc-9cac-3930926e1a1e",
        "deepnote_app_block_visible": false,
        "deepnote_app_is_code_hidden": true,
        "deepnote_app_is_output_hidden": true,
        "cell_id": "9b9a1c33f8544b269b7a5bc965fef57c",
        "deepnote_cell_type": "code"
      },
      "outputs": [],
      "outputs_reference": null,
      "execution_count": 25,
      "block_group": "2930940cc15c41739579d30fbdca1078",
      "content_dependencies": null
    },
    {
      "cell_type": "code",
      "source": "def process_org_ids(pub_org_id):\n    try:\n        org_list = ast.literal_eval(pub_org_id)\n        \n        cleaned_orgs = [org.strip() for org in org_list]\n        \n        print(f\"Processed {len(cleaned_orgs)} organization IDs\")\n        return cleaned_orgs\n        \n    except ValueError as ve:\n        print(f\"Invalid format for organization IDs: {ve}\")\n        return None\n    except SyntaxError as se:\n        print(\"Invalid syntax in organization IDs string\")\n        return None\n    except Exception as e:\n        print(f\"Error processing organization IDs: {e}\")\n        return None",
      "metadata": {
        "source_hash": "c96189a6",
        "execution_start": 1731944938611,
        "execution_millis": 0,
        "execution_context_id": "dc416845-bee7-4ebc-9cac-3930926e1a1e",
        "deepnote_app_block_visible": true,
        "cell_id": "56c11f4815174900867be04f4f92b938",
        "deepnote_cell_type": "code"
      },
      "outputs": [],
      "outputs_reference": null,
      "execution_count": 26,
      "block_group": "997467142bd54fef9669f9d8c21f6379",
      "content_dependencies": null
    },
    {
      "cell_type": "code",
      "source": "pub_orgs = process_org_ids(pub_org_id)",
      "metadata": {
        "source_hash": "7b851865",
        "execution_start": 1731944938662,
        "execution_millis": 1,
        "execution_context_id": "dc416845-bee7-4ebc-9cac-3930926e1a1e",
        "deepnote_app_block_visible": true,
        "cell_id": "1d01805a818c41b481a32e3dbc4bc1d8",
        "deepnote_cell_type": "code"
      },
      "outputs": [],
      "outputs_reference": null,
      "execution_count": 27,
      "block_group": "9392603485f744b98ce75620abec5e1a",
      "content_dependencies": null
    },
    {
      "cell_type": "code",
      "source": "pub_orgs ",
      "metadata": {
        "source_hash": "d1a24329",
        "execution_start": 1731944938710,
        "execution_millis": 1,
        "execution_context_id": "dc416845-bee7-4ebc-9cac-3930926e1a1e",
        "deepnote_app_block_visible": true,
        "cell_id": "a94291dd83954026967693dcc5932c5b",
        "deepnote_cell_type": "code"
      },
      "outputs": [],
      "outputs_reference": null,
      "execution_count": 28,
      "block_group": "688e53daa5ef4d0580c7bd9a0b3f157b",
      "content_dependencies": null
    },
    {
      "cell_type": "code",
      "source": "outputs = {}\n\nif vis_type in ['Organisations by Type']:\n    for i in rep_org_type:\n        #tables query \n        df = %nql SELECT DISTINCT a.prefix, a.reportingorg_ref, b.reportingorg_type, b.reportingorg_typename, a.ref, a.type, a.typename, a.narrative FROM participatingorg as a LEFT JOIN activity as b on (b._link = a._link_activity) WHERE (b.reportingorg_type = {{i}}) ORDER BY a.narrative\n        outputs[i] = df\nelif vis_type in ['Country']:\n    for i in country_orgs['IATI Organisation Identifier']:\n        #tables query \n        df = %nql SELECT DISTINCT a.prefix, a.reportingorg_ref, a.ref, a.type, a.typename, a.narrative FROM participatingorg as a WHERE (a.reportingorg_ref = {{i}}) \n        outputs[i] = df\nelif vis_type in ['Specific Organisations']:\n    for i in pub_org_id :\n        #tables query \n        df = %nql SELECT DISTINCT a.prefix, a.reportingorg_ref, a.ref, a.type, a.typename, a.narrative FROM participatingorg as a WHERE (a.reportingorg_ref = {{i}})\n        outputs[i] = df",
      "metadata": {
        "source_hash": "a1215073",
        "execution_start": 1731944938762,
        "execution_millis": 10277,
        "execution_context_id": "f283c47f-2f62-4e5b-93f8-d21a41e3002e",
        "deepnote_app_block_visible": false,
        "deepnote_app_is_code_hidden": true,
        "deepnote_app_is_output_hidden": true,
        "cell_id": "54e8e73d4946423c83adea62aa40adaf",
        "deepnote_cell_type": "code"
      },
      "outputs": [],
      "outputs_reference": null,
      "execution_count": 29,
      "block_group": "0eb40d6f72234ebab414a27de09af861",
      "content_dependencies": null
    },
    {
      "cell_type": "code",
      "source": "part_orgs =  pd.concat(outputs.values(), ignore_index=True)\npart_orgs",
      "metadata": {
        "source_hash": "15bf1c94",
        "execution_start": 1731944949091,
        "execution_millis": 3,
        "deepnote_table_state": {
          "sortBy": [],
          "filters": [],
          "pageSize": 10,
          "pageIndex": 0,
          "conditionalFilters": [],
          "wrappedTextColumnIds": []
        },
        "execution_context_id": "dc416845-bee7-4ebc-9cac-3930926e1a1e",
        "deepnote_table_loading": false,
        "deepnote_app_block_visible": false,
        "deepnote_app_is_code_hidden": true,
        "deepnote_app_is_output_hidden": true,
        "cell_id": "20ab121fc10c46d4b464eef08ca954f1",
        "deepnote_cell_type": "code"
      },
      "outputs": [],
      "outputs_reference": null,
      "execution_count": 30,
      "block_group": "347d71eb50dc4096b85810fc59a5f20c",
      "content_dependencies": null
    },
    {
      "cell_type": "code",
      "source": "def run_iati_queries(vis_type, rep_org_type=None, country_orgs=None, pub_org_id=None):\n    try:\n        outputs = {}\n        \n        if vis_type in ['Organisations by Type']:\n            print(f\"Querying data for {len(rep_org_type)} organization types...\")\n            for i in rep_org_type:\n                try:\n                    df = %nql SELECT DISTINCT a.prefix, a.reportingorg_ref, b.reportingorg_type, b.reportingorg_typename, a.ref, a.type, a.typename, a.narrative FROM participatingorg as a LEFT JOIN activity as b on (b._link = a._link_activity) WHERE (b.reportingorg_type = {{i}}) ORDER BY a.narrative\n                    outputs[i] = df\n                    print(f\"Processed organization type: {i}\")\n                except Exception as e:\n                    print(f\"Error processing org type {i}: {e}\")\n                    \n        elif vis_type in ['Country']:\n            print(f\"Querying data for {len(country_orgs)} country organizations...\")\n            for i in country_orgs['IATI Organisation Identifier']:\n                try:\n                    df = %nql SELECT DISTINCT a.prefix, a.reportingorg_ref, a.ref, a.type, a.typename, a.narrative FROM participatingorg as a WHERE (a.reportingorg_ref = {{i}})\n                    outputs[i] = df\n                    print(f\"Processed organization: {i}\")\n                except Exception as e:\n                    print(f\"Error processing org {i}: {e}\")\n                    \n        elif vis_type in ['Specific Organisations']:\n            print(f\"Querying data for {len(pub_org_id)} specific organizations...\")\n            for i in pub_org_id:\n                try:\n                    df = %nql SELECT DISTINCT a.prefix, a.reportingorg_ref, a.ref, a.type, a.typename, a.narrative FROM participatingorg as a WHERE (a.reportingorg_ref = {{i}})\n                    outputs[i] = df\n                    print(f\"Processed organization: {i}\")\n                except Exception as e:\n                    print(f\"Error processing org {i}: {e}\")\n        \n        print(f\"Successfully processed {len(outputs)} queries\")\n        return outputs\n        \n    except Exception as e:\n        print(f\"Error in query execution: {e}\")\n        return None",
      "metadata": {
        "source_hash": "3c98107b",
        "execution_start": 1731944949139,
        "execution_millis": 0,
        "execution_context_id": "dc416845-bee7-4ebc-9cac-3930926e1a1e",
        "deepnote_app_block_visible": true,
        "cell_id": "d4a7ac9946d742b487065be3c2754349",
        "deepnote_cell_type": "code"
      },
      "outputs": [],
      "outputs_reference": null,
      "execution_count": 31,
      "block_group": "688622cc66ac4ad789ce897d5cfc9169",
      "content_dependencies": null
    },
    {
      "cell_type": "code",
      "source": "part_orgs =  pd.concat(outputs.values(), ignore_index=True)\npart_orgs",
      "metadata": {
        "source_hash": "95463db6",
        "execution_start": 1731944949183,
        "execution_millis": 10,
        "execution_context_id": "dc416845-bee7-4ebc-9cac-3930926e1a1e",
        "deepnote_app_block_visible": true,
        "cell_id": "0d36c2f41692480eab4944a541554231",
        "deepnote_cell_type": "code"
      },
      "outputs": [],
      "outputs_reference": null,
      "execution_count": 32,
      "block_group": "9ddc972167cf468f860080f91f7759cd",
      "content_dependencies": null
    },
    {
      "cell_type": "code",
      "source": "!rm -rf part_orgs.xlsx\npart_orgs.to_excel(\"part_orgs.xlsx\",sheet_name=\"part_orgs\", index=False)",
      "metadata": {
        "source_hash": "5d396695",
        "execution_start": 1731944949235,
        "execution_millis": 8000,
        "deepnote_table_state": {
          "sortBy": [],
          "filters": [],
          "pageSize": 10,
          "pageIndex": 0
        },
        "execution_context_id": "f283c47f-2f62-4e5b-93f8-d21a41e3002e",
        "deepnote_table_loading": false,
        "deepnote_app_block_visible": true,
        "deepnote_app_is_code_hidden": true,
        "deepnote_app_is_output_hidden": true,
        "cell_id": "c52cb2395c284b33b26f94053ad18b3d",
        "deepnote_cell_type": "code"
      },
      "outputs": [],
      "outputs_reference": null,
      "execution_count": 33,
      "block_group": "90f30358abc1411585d4639bbd9cbc39",
      "content_dependencies": null
    },
    {
      "cell_type": "markdown",
      "source": "# Clean data",
      "metadata": {
        "formattedRanges": [],
        "deepnote_app_block_visible": false,
        "cell_id": "5fca6e346add4685a01bf9171f60d165",
        "deepnote_cell_type": "text-cell-h1"
      },
      "block_group": "6fe86cebb63d46f591a468efc6b7de49"
    },
    {
      "cell_type": "markdown",
      "source": "## Setup",
      "metadata": {
        "formattedRanges": [],
        "deepnote_app_block_visible": false,
        "cell_id": "1db470b213a24c89b33aa5e42cfe66c5",
        "deepnote_cell_type": "text-cell-h2"
      },
      "block_group": "0432e97a3f5143dfbb5e52d611fe3490"
    },
    {
      "cell_type": "code",
      "source": "session2 = noteql.local_db_session()\n# Restart postgres to make sure any existing connections get dropped\n!sudo service postgresql restart\n# We can't get the noteql session to do these, because it wraps sql in a transaction, which isn't allowed for DROP/CREATE\n!sudo -u postgres psql -c \"DROP DATABASE IF EXISTS pa\"\n!sudo -u postgres psql -c \"CREATE DATABASE pa\"\nsession2 = noteql.Session(\"postgresql+psycopg2://root@/pa\", \"public\")",
      "metadata": {
        "source_hash": "53a1547c",
        "execution_start": 1731944957290,
        "execution_millis": 9130,
        "execution_context_id": "f283c47f-2f62-4e5b-93f8-d21a41e3002e",
        "deepnote_app_block_visible": true,
        "deepnote_app_is_code_hidden": true,
        "deepnote_app_is_output_hidden": true,
        "cell_id": "72dadb0325dc4b969f0160281016479f",
        "deepnote_cell_type": "code"
      },
      "outputs": [],
      "outputs_reference": null,
      "execution_count": 34,
      "block_group": "25c78c0868824a91896154ccf1004813",
      "content_dependencies": null
    },
    {
      "cell_type": "code",
      "source": "def setup_clean_database(db_name=\"iati_clean\"):\n    try:\n        # Restarting PostgreSQL to ensure clean connections\n        print(\"Restarting PostgreSQL service...\")\n        !sudo service postgresql restart\n    \n        print(f\"Dropping database '{db_name}' if it exists...\")\n        !sudo -u postgres psql -c \"DROP DATABASE IF EXISTS {db_name}\"\n        \n        print(f\"Creating new database '{db_name}'...\")\n        !sudo -u postgres psql -c \"CREATE DATABASE {db_name}\"\n        \n        # Creating new session with the new database\n        session2 = noteql.Session(f\"postgresql+psycopg2://root@/{db_name}\", \"public\")\n        print(\"Clean database setup completed successfully.\")\n        return session2\n        \n    except Exception as e:\n        print(f\"Error setting up clean database: {e}\")\n        return None",
      "metadata": {
        "source_hash": "9c7e3b10",
        "execution_start": 1731944966467,
        "execution_millis": 0,
        "execution_context_id": "9c8ebc62-d190-41c3-8ab4-0b1c184c9b1c",
        "deepnote_app_block_visible": true,
        "cell_id": "e900898832924879bc859acd64b9513e",
        "deepnote_cell_type": "code"
      },
      "outputs": [],
      "outputs_reference": null,
      "execution_count": 35,
      "block_group": "8efb12b5ad85448196307009d229bc20",
      "content_dependencies": null
    },
    {
      "cell_type": "code",
      "source": "session2 = setup_clean_database()",
      "metadata": {
        "source_hash": "78b97c04",
        "execution_start": 1731944966515,
        "execution_millis": 3626,
        "execution_context_id": "f283c47f-2f62-4e5b-93f8-d21a41e3002e",
        "deepnote_app_block_visible": true,
        "cell_id": "938d1b17d120439da382f61e475e010a",
        "deepnote_cell_type": "code"
      },
      "outputs": [],
      "outputs_reference": null,
      "execution_count": 36,
      "block_group": "c7a81be1db56486d963d437c28070fad",
      "content_dependencies": null
    },
    {
      "cell_type": "markdown",
      "source": "## Load data",
      "metadata": {
        "formattedRanges": [],
        "deepnote_app_block_visible": false,
        "cell_id": "ae2680a223974d10a22b5cdd4c5ac536",
        "deepnote_cell_type": "text-cell-h2"
      },
      "block_group": "94d6625089854aad9b30a9361ba05ccd"
    },
    {
      "cell_type": "code",
      "source": "part_orgs = pd.read_excel('part_orgs.xlsx',sheet_name=None)\n\nfor key in part_orgs.keys():\n    table_name = key.replace(' ','')\n    table_name = table_name.lower()\n    print(table_name)\n    %nql DROP TABLE IF EXISTS {{table_name | ident}}; SELECT ''\n    # Convert to a DataFrame and render\n    df = pd.DataFrame.from_dict(part_orgs[key])\n    session2.load_dataframe(df, table_name, index=False)",
      "metadata": {
        "source_hash": "c63b4ee7",
        "execution_start": 1731944970191,
        "execution_millis": 8648,
        "execution_context_id": "f283c47f-2f62-4e5b-93f8-d21a41e3002e",
        "deepnote_app_block_visible": false,
        "deepnote_app_is_code_hidden": true,
        "deepnote_app_is_output_hidden": true,
        "cell_id": "5963b26a9fca47edaed05b89e18c10d9",
        "deepnote_cell_type": "code"
      },
      "outputs": [],
      "outputs_reference": null,
      "execution_count": 37,
      "block_group": "96b1b1ea7d2d421489fbcb122b6b1c7d",
      "content_dependencies": null
    },
    {
      "cell_type": "code",
      "source": "def load_excel_data(excel_file='part_orgs.xlsx'):\n    try:\n        print(f\"Reading Excel file: {excel_file}\")\n        part_orgs = pd.read_excel(excel_file, sheet_name=None)\n        \n        for key in part_orgs.keys():\n            try:\n                # Creating table name\n                table_name = key.replace(' ','').lower()\n                print(f\"Processing sheet: {key} as table: {table_name}\")\n                \n                # Dropping existing table and create new one\n                %nql DROP TABLE IF EXISTS {{table_name | ident}}; SELECT ''\n                \n                # Converting to DataFrame and loading\n                df = pd.DataFrame.from_dict(part_orgs[key])\n                session2.load_dataframe(df, table_name, index=False)\n                print(f\"Loaded {len(df)} rows into {table_name}\")\n                \n            except Exception as e:\n                print(f\"Error processing sheet {key}: {e}\")\n                \n    except Exception as e:\n        print(f\"Error reading Excel file: {e}\")",
      "metadata": {
        "source_hash": "3440c0b3",
        "execution_start": 1731944978887,
        "execution_millis": 0,
        "execution_context_id": "a129fe6a-ba39-409d-b374-81e0bbc9821e",
        "deepnote_app_block_visible": true,
        "cell_id": "299440d51f8447e2afc7d7993a54d6ea",
        "deepnote_cell_type": "code"
      },
      "outputs": [],
      "outputs_reference": null,
      "execution_count": 38,
      "block_group": "35d69a83cd9f4db5a9548a3793d4ee30",
      "content_dependencies": null
    },
    {
      "cell_type": "code",
      "source": "!wget https://iatistandard.org/reference_downloads/203/codelists/downloads/clv3/csv/en/OrganisationRegistrationAgency.csv\n!wget https://iatistandard.org/reference_downloads/203/codelists/downloads/clv3/csv/en/OrganisationIdentifier.csv \n\nreg_agency = pd.read_csv(\"OrganisationRegistrationAgency.csv\")\nold_orgid = pd.read_csv(\"OrganisationIdentifier.csv\")\nrefs = pd.read_csv(\"Generic_XM-DACs_Jul24.csv\")\n\nsession2.load_dataframe(registry, \"registry\", index=False)\nsession2.load_dataframe(reg_agency, \"reg_agency\", index=False)\nsession2.load_dataframe(old_orgid, \"old_orgid\", index=False)\nsession2.load_dataframe(refs,\"refs\",index=False)\n\n!rm -rf \"OrganisationRegistrationAgency.csv\" \"OrganisationIdentifier.csv\" ",
      "metadata": {
        "source_hash": "58160d0f",
        "execution_start": 1731944978943,
        "execution_millis": 3746,
        "execution_context_id": "f283c47f-2f62-4e5b-93f8-d21a41e3002e",
        "deepnote_app_block_visible": false,
        "deepnote_app_is_code_hidden": true,
        "deepnote_app_is_output_hidden": true,
        "cell_id": "c451b997a112481799a9ce27b5822558",
        "deepnote_cell_type": "code"
      },
      "outputs": [],
      "outputs_reference": null,
      "execution_count": 39,
      "block_group": "b331e5f9303e498d9bc5c2424b7e3b7b",
      "content_dependencies": null
    },
    {
      "cell_type": "code",
      "source": "def load_reference_data():\n    try:\n        # Downloading files\n        print(\"Downloading reference files...\")\n        !wget https://iatistandard.org/reference_downloads/203/codelists/downloads/clv3/csv/en/OrganisationRegistrationAgency.csv\n        !wget https://iatistandard.org/reference_downloads/203/codelists/downloads/clv3/csv/en/OrganisationIdentifier.csv\n        \n        # Reading CSV files\n        print(\"Reading CSV files...\")\n        reg_agency = pd.read_csv(\"OrganisationRegistrationAgency.csv\")\n        old_orgid = pd.read_csv(\"OrganisationIdentifier.csv\")\n        refs = pd.read_csv(\"Generic_XM-DACs_Jul24.csv\")\n        \n        # Loading DataFrames to database\n        print(\"Loading data to database...\")\n        data_frames = {\n            \"registry\": registry,\n            \"reg_agency\": reg_agency,\n            \"old_orgid\": old_orgid,\n            \"refs\": refs\n        }\n        \n        for table_name, df in data_frames.items():\n            try:\n                session2.load_dataframe(df, table_name, index=False)\n                print(f\"Loaded {len(df)} rows into {table_name}\")\n            except Exception as e:\n                print(f\"Error loading {table_name}: {e}\")\n        \n        # Cleaning up\n        print(\"Cleaning up downloaded files...\")\n        !rm -rf \"OrganisationRegistrationAgency.csv\" \"OrganisationIdentifier.csv\"\n        \n        print(\"Reference data loading completed\")\n        \n    except Exception as e:\n        print(f\"Error in reference data loading: {e}\")\n",
      "metadata": {
        "source_hash": "c1be025f",
        "execution_start": 1731944982742,
        "execution_millis": 1,
        "execution_context_id": "a129fe6a-ba39-409d-b374-81e0bbc9821e",
        "deepnote_app_block_visible": true,
        "cell_id": "8e897e9196cc4c55946bcb51a28c74fc",
        "deepnote_cell_type": "code"
      },
      "outputs": [],
      "outputs_reference": null,
      "execution_count": 40,
      "block_group": "0dcca27a2a374810bdafd676ee1fc14a",
      "content_dependencies": null
    },
    {
      "cell_type": "code",
      "source": "load_excel_data()\nload_reference_data()",
      "metadata": {
        "source_hash": "218886e2",
        "execution_start": 1731944982786,
        "execution_millis": 11421,
        "execution_context_id": "f283c47f-2f62-4e5b-93f8-d21a41e3002e",
        "deepnote_app_block_visible": true,
        "cell_id": "a28d6ae61a6646fe8784d11fb813c258",
        "deepnote_cell_type": "code"
      },
      "outputs": [],
      "outputs_reference": null,
      "execution_count": 41,
      "block_group": "ee552f5196b94f60af360e1bf6856417",
      "content_dependencies": null
    },
    {
      "cell_type": "markdown",
      "source": "- Remove obvious issues such as blank references ",
      "metadata": {
        "formattedRanges": [],
        "cell_id": "05c87dd6cc8b43a4b983efa7efd78397",
        "deepnote_cell_type": "text-cell-bullet"
      },
      "block_group": "9503d1b982c94f2f835740eeafd61eb8"
    },
    {
      "cell_type": "markdown",
      "source": "- Remove all/part of the data from reporting orgs with known issues which mean a participating organisation could not be identified. ",
      "metadata": {
        "formattedRanges": [],
        "cell_id": "9401b6f456434d54b8aa9d6b5fcfcd5d",
        "deepnote_cell_type": "text-cell-bullet"
      },
      "block_group": "ae9b732397e24bb492df86fc0e8a8d05"
    },
    {
      "cell_type": "markdown",
      "source": "- Trim leading/trailing whitespace from narratives.",
      "metadata": {
        "formattedRanges": [],
        "cell_id": "b2e2aa04455c4b728cfcd09aee2cf718",
        "deepnote_cell_type": "text-cell-bullet"
      },
      "block_group": "12e2487f1ea941cdba52f3f9064bb659"
    },
    {
      "cell_type": "markdown",
      "source": "- Remove generic XM-DAC codes.",
      "metadata": {
        "formattedRanges": [],
        "cell_id": "74b69e1454bc42b08fa03d2a56946fe5",
        "deepnote_cell_type": "text-cell-bullet"
      },
      "block_group": "c57405fac80f475c9547cc818eae0fe9"
    },
    {
      "cell_type": "markdown",
      "source": "Other issues will be caught by the filter data section, which checks for valid organisation-ids with a format of {RegistrationAgency}-{RegistrationNumber}.",
      "metadata": {
        "formattedRanges": [
          {
            "url": "https://github.com/pwyf/aid-transparency-tracker/blob/main/beta/excluded_xm_dac.py",
            "type": "link",
            "ranges": [],
            "toCodePoint": 155,
            "fromCodePoint": 155
          }
        ],
        "cell_id": "2fe5f016267a4d11be7e3e6e3c0ba4fc",
        "deepnote_cell_type": "text-cell-p"
      },
      "block_group": "3d0717d213fa4272b2bead11ca9c6875"
    },
    {
      "cell_type": "code",
      "source": "refs['code'] = refs['code'].astype(str) \nrefs['XMDAC'] = \"XM-DAC-\"+refs['code']\nrefs",
      "metadata": {
        "source_hash": "3658bb81",
        "execution_start": 1731944994263,
        "execution_millis": 1,
        "execution_context_id": "a129fe6a-ba39-409d-b374-81e0bbc9821e",
        "deepnote_app_block_visible": false,
        "deepnote_app_is_code_hidden": true,
        "deepnote_app_is_output_hidden": true,
        "cell_id": "2f33b782f50e40ea8074d56eb9019f69",
        "deepnote_cell_type": "code"
      },
      "outputs": [],
      "outputs_reference": null,
      "execution_count": 42,
      "block_group": "ede7557be6c44e98b68793f650494aa1",
      "content_dependencies": null
    },
    {
      "cell_type": "code",
      "source": "def clean_organization_data(refs_df):\n    try:\n        print(\"Starting data cleaning process...\")\n        \n        # Converting codes to string and create XMDAC format\n        refs_df['code'] = refs_df['code'].astype(str)\n        refs_df['XMDAC'] = \"XM-DAC-\" + refs_df['code']\n        \n        # Removing blank references\n        refs_df = refs_df.dropna(subset=['code'])\n        \n        # Triming whitespace from narratives if they exist\n        narrative_columns = [col for col in refs_df.columns if 'narrative' in col.lower()]\n        for col in narrative_columns:\n            refs_df[col] = refs_df[col].astype(str).str.strip()\n            \n        print(f\"Cleaned {len(refs_df)} organization references\")\n        return refs_df\n        \n    except Exception as e:\n        print(f\"Error during data cleaning: {e}\")\n        return None",
      "metadata": {
        "source_hash": "906292ed",
        "execution_start": 1731944994310,
        "execution_millis": 1,
        "execution_context_id": "a129fe6a-ba39-409d-b374-81e0bbc9821e",
        "deepnote_app_block_visible": true,
        "cell_id": "209e626873bd485fad585f74eccabcda",
        "deepnote_cell_type": "code"
      },
      "outputs": [],
      "outputs_reference": null,
      "execution_count": 43,
      "block_group": "8eda3f47f6464b78a595ad589a1988e9",
      "content_dependencies": null
    },
    {
      "cell_type": "code",
      "source": "refs = clean_organization_data(refs)",
      "metadata": {
        "source_hash": "104787d0",
        "execution_start": 1731944994359,
        "execution_millis": 0,
        "execution_context_id": "a129fe6a-ba39-409d-b374-81e0bbc9821e",
        "deepnote_app_block_visible": true,
        "cell_id": "09aac2735ec342da96a01fddd13119fb",
        "deepnote_cell_type": "code"
      },
      "outputs": [],
      "outputs_reference": null,
      "execution_count": 44,
      "block_group": "d47d0c6f4e1c4562bdd486f99c713ddf",
      "content_dependencies": null
    },
    {
      "cell_type": "code",
      "source": "refs",
      "metadata": {
        "source_hash": "fb1133f9",
        "execution_start": 1731944994415,
        "execution_millis": 0,
        "execution_context_id": "d2168091-f42c-4382-b539-a2acd26b1512",
        "deepnote_app_block_visible": true,
        "cell_id": "11c99633826f4111a6fc18c183b6b7db",
        "deepnote_cell_type": "code"
      },
      "outputs": [],
      "outputs_reference": null,
      "execution_count": 45,
      "block_group": "9815887ec71e45e3bade7f30c3e28ae5",
      "content_dependencies": null
    },
    {
      "cell_type": "code",
      "source": "%%nql SHOW CREATE cleaned_part_orgs\n\nSELECT DISTINCT\n    prefix,\n    reportingorg_ref,\n    ref,\n    type,\n    typename,\n    CASE\n        WHEN\n            SPLIT_PART(ref,'-',2) = '' THEN ''\n            ELSE CONCAT(SPLIT_PART(ref,'-',1),'-',SPLIT_PART(ref,'-',2))\n    END as \"reg_agency\",\n    TRIM(REGEXP_REPLACE(narrative, E'\\n', '')) as \"narrative\"\nFROM part_orgs\nWHERE NOT narrative in ('',' ','EN: ','Odefinierat','EN: IP not published','Not applicable',\n                        'Confidential',\n                        'USAID redacted this field in accordance with the exceptions outlined in the Foreign Aid Transparency and Accountability Act of 2016.')\n    AND NOT POSITION('Private donors' IN narrative) > 0\n    AND NOT POSITION('Övrigt' IN narrative) > 0\n    AND NOT POSITION('Övriga' IN narrative) > 0\n    AND CASE\n        WHEN prefix='unicef' THEN NOT POSITION('XM-DAC-41122-VN-' IN ref) > 0 \n        ELSE true\n    END\n    AND NOT ref in (' ','Not registered in IATI','0')\n    AND NOT ref in {{ refs['code'] | inclause }}\n    AND NOT ref in {{ refs['XMDAC'] | inclause }}",
      "metadata": {
        "source_hash": "3c479736",
        "execution_start": 1731944994459,
        "execution_millis": 306,
        "execution_context_id": "e9c95a1b-b436-4488-973c-dce4a6801ce4",
        "deepnote_app_block_visible": false,
        "deepnote_app_is_code_hidden": true,
        "deepnote_app_is_output_hidden": true,
        "cell_id": "c54ac1d25a9d49d8804ea56dd181d3c2",
        "deepnote_cell_type": "code"
      },
      "outputs": [],
      "outputs_reference": null,
      "execution_count": 46,
      "block_group": "1b5f42ab526e452691cda3cca6ce01e2",
      "content_dependencies": null
    },
    {
      "cell_type": "markdown",
      "source": "## Add other data sources",
      "metadata": {
        "formattedRanges": [],
        "deepnote_app_block_visible": false,
        "cell_id": "b1d541f2f8534ce39df0e6411dd06768",
        "deepnote_cell_type": "text-cell-h2"
      },
      "block_group": "08aaf67e59db44b6b211f44e4b6cd8b2"
    },
    {
      "cell_type": "markdown",
      "source": "- Join to registry IDs, registration agency, and old IATI codelist. ",
      "metadata": {
        "formattedRanges": [],
        "deepnote_app_block_visible": false,
        "cell_id": "e5559fc8acc24e67a300ac4d64f4f60a",
        "deepnote_cell_type": "text-cell-bullet"
      },
      "block_group": "658cb0d71a00407394a492f0de4137f7"
    },
    {
      "cell_type": "markdown",
      "source": "- Add name of reporting-org from registry. If the reporting org reference does not match the registry, it will be removed. ",
      "metadata": {
        "formattedRanges": [],
        "deepnote_app_block_visible": false,
        "cell_id": "99543de6ebcf4fb5a8b26583d4f58989",
        "deepnote_cell_type": "text-cell-bullet"
      },
      "block_group": "e3eb92c7601d42f5a4738ec028eda6d7"
    },
    {
      "cell_type": "code",
      "source": "%%nql SHOW CREATE joined_part_orgs \nSELECT \n    e.\"Publisher\" as \"reportingorg_name\",\n    a.*,\n    b.\"Publisher\" as \"registry_narrative\",\n    c.name as \"reg_agency_narrative\",\n    d.name as \"v1_orgid\"\nFROM cleaned_part_orgs as a\n    LEFT JOIN registry as b ON a.ref = b.\"IATI Organisation Identifier\"\n    LEFT JOIN reg_agency as c ON a.reg_agency = c.code\n    LEFT JOIN old_orgid as d ON a.ref = d.code\n    LEFT JOIN registry as e ON a.reportingorg_ref = e.\"IATI Organisation Identifier\"\nWHERE NOT e.\"Publisher\" = 'None'\nORDER BY a.prefix",
      "metadata": {
        "source_hash": "97b05a27",
        "execution_start": 1731944994814,
        "execution_millis": 760,
        "execution_context_id": "f283c47f-2f62-4e5b-93f8-d21a41e3002e",
        "deepnote_app_block_visible": false,
        "deepnote_app_is_code_hidden": true,
        "deepnote_app_is_output_hidden": true,
        "cell_id": "8d7da9cc0ebc44ecad4e40cb8e85d759",
        "deepnote_cell_type": "code"
      },
      "outputs": [],
      "outputs_reference": null,
      "execution_count": 47,
      "block_group": "832d31497f3c415ba48424f915bcaaa1",
      "content_dependencies": null
    },
    {
      "cell_type": "markdown",
      "source": "## Filter data",
      "metadata": {
        "formattedRanges": [],
        "deepnote_app_block_visible": false,
        "cell_id": "a6ac1efeb0de4d4dabc6f07ccfe8ea59",
        "deepnote_cell_type": "text-cell-h2"
      },
      "block_group": "aa28f921f57c43bdb8b76d9a3bf8d56d"
    },
    {
      "cell_type": "markdown",
      "source": "Check that the participating organisation references:",
      "metadata": {
        "formattedRanges": [],
        "cell_id": "818c67bd11a647f59c2979fde00f25a3",
        "deepnote_cell_type": "text-cell-p"
      },
      "block_group": "dc1cb1f3605343208a7a1325ff55ccb6"
    },
    {
      "cell_type": "markdown",
      "source": "- Are a valid reporting org ID from the registry OR",
      "metadata": {
        "formattedRanges": [
          {
            "type": "marks",
            "marks": {
              "bold": true
            },
            "toCodePoint": 49,
            "fromCodePoint": 47
          }
        ],
        "cell_id": "aa151fbc4d8449288d8e7ec961c130a5",
        "deepnote_cell_type": "text-cell-bullet"
      },
      "block_group": "80bd5592106645ed966c04f9a74f2cf1"
    },
    {
      "cell_type": "markdown",
      "source": "- Have a valid prefix from org-id UNLESS",
      "metadata": {
        "formattedRanges": [
          {
            "type": "marks",
            "marks": {
              "bold": true
            },
            "toCodePoint": 38,
            "fromCodePoint": 32
          }
        ],
        "cell_id": "f492fa52e7d94bb995ea5f00da773046",
        "deepnote_cell_type": "text-cell-bullet"
      },
      "block_group": "5611956a0b81466d8b10c59cbf1d8352"
    },
    {
      "cell_type": "markdown",
      "source": "- They are a v1 org id",
      "metadata": {
        "formattedRanges": [],
        "cell_id": "1f355973944e4d5ebb557bc1c85f01e8",
        "deepnote_cell_type": "text-cell-bullet"
      },
      "block_group": "43949e0ed1794d68b5ced5e32a766b48"
    },
    {
      "cell_type": "code",
      "source": "%%nql SHOW CREATE filtered_orgs output=DF\nSELECT\n    *\nFROM joined_part_orgs \nWHERE NOT reg_agency_narrative = 'None'\n    OR NOT registry_narrative = 'None'\n    OR NOT v1_orgid = 'None'\nORDER BY prefix",
      "metadata": {
        "source_hash": "22fee8d9",
        "execution_start": 1731944995635,
        "execution_millis": 69,
        "execution_context_id": "b2452a66-6c01-44c5-ba62-334c16ae40c0",
        "deepnote_app_block_visible": false,
        "deepnote_app_is_code_hidden": true,
        "deepnote_app_is_output_hidden": true,
        "cell_id": "1d05c9f881ef4d0b81c425a04102e177",
        "deepnote_cell_type": "code"
      },
      "outputs": [],
      "outputs_reference": null,
      "execution_count": 48,
      "block_group": "5ed7569afb5b44b497cd67dc05fa7d60",
      "content_dependencies": null
    },
    {
      "cell_type": "code",
      "source": "!rm -rf output.xlsx\noutput.to_excel(\"output.xlsx\",sheet_name=\"output\", index=False)\n\noutput_file_url = f\"https://deepnote.com/publish/{os.environ['DEEPNOTE_PROJECT_ID']}/file?path=output.xlsx\"\nprint(output_file_url)",
      "metadata": {
        "source_hash": "a024fbb9",
        "execution_start": 1731944995750,
        "execution_millis": 2563,
        "execution_context_id": "f283c47f-2f62-4e5b-93f8-d21a41e3002e",
        "deepnote_app_block_visible": false,
        "deepnote_app_is_code_hidden": true,
        "deepnote_app_is_output_hidden": true,
        "cell_id": "e05f9b6188514585aafde3ee4afa8d1b",
        "deepnote_cell_type": "code"
      },
      "outputs": [],
      "outputs_reference": null,
      "execution_count": 49,
      "block_group": "f2a135173adb405681cf0b618af2151d",
      "content_dependencies": null
    },
    {
      "cell_type": "markdown",
      "source": "# Summarise",
      "metadata": {
        "formattedRanges": [],
        "deepnote_app_block_visible": false,
        "cell_id": "e0ada1ca088f41dc94d73b5307da5c44",
        "deepnote_cell_type": "text-cell-h1"
      },
      "block_group": "b26281b1431c4f8c8d3b25e03eced39c"
    },
    {
      "cell_type": "markdown",
      "source": "<hr>",
      "metadata": {
        "deepnote_app_block_visible": true,
        "cell_id": "4b389a39f65d4be0a62f83223cc45ec5",
        "deepnote_cell_type": "separator"
      },
      "block_group": "6fa57958f01544a18ca7536aadba5cb4"
    },
    {
      "cell_type": "markdown",
      "source": "## Chord counts - to download",
      "metadata": {
        "formattedRanges": [],
        "deepnote_app_block_visible": false,
        "cell_id": "4a867c59f4cb4c769f852d93be271761",
        "deepnote_cell_type": "text-cell-h2"
      },
      "block_group": "c257e29f39314f3183f77903d019b328"
    },
    {
      "cell_type": "markdown",
      "source": "Code source: https://stackoverflow.com/questions/64689296/counting-shared-elements-within-groups-with-condition?rq=3 ",
      "metadata": {
        "formattedRanges": [
          {
            "url": "https://stackoverflow.com/questions/64689296/counting-shared-elements-within-groups-with-condition?rq=3",
            "type": "link",
            "ranges": [],
            "toCodePoint": 116,
            "fromCodePoint": 13
          }
        ],
        "deepnote_app_block_visible": false,
        "cell_id": "079416b9cd2d487ca659469659853283",
        "deepnote_cell_type": "text-cell-p"
      },
      "block_group": "4f620ffe13b447da93c6505c978eb163"
    },
    {
      "cell_type": "markdown",
      "source": "Chord output for use with bokeh:",
      "metadata": {
        "formattedRanges": [],
        "deepnote_app_block_visible": false,
        "cell_id": "069d7893c8f54c308f91ba4f06f7de4d",
        "deepnote_cell_type": "text-cell-p"
      },
      "block_group": "2a397bd9733d4be29176bf97f150a1b6"
    },
    {
      "cell_type": "code",
      "source": "#Get unique reporting org name and participating org reference combinations\ndf = output[[\"reportingorg_name\",\"ref\"]].drop_duplicates()\n\nresult = df.merge(df, on='ref').groupby(['reportingorg_name_x','reportingorg_name_y']).count().reset_index()\nresult.columns = ['source', 'target', 'value']\nmask = result.source!=result.target\n\nchord_df = result[mask].reset_index(drop='True')\nchord_df  = chord_df.sort_values(by=\"value\", ascending=False)\nchord_df",
      "metadata": {
        "source_hash": "14f3d866",
        "execution_start": 1731944998359,
        "execution_millis": 0,
        "execution_context_id": "b2452a66-6c01-44c5-ba62-334c16ae40c0",
        "deepnote_app_block_visible": false,
        "deepnote_app_is_code_hidden": true,
        "deepnote_app_is_output_hidden": true,
        "cell_id": "f9f6b0e0a7de451287909ef922cd0713",
        "deepnote_cell_type": "code"
      },
      "outputs": [],
      "outputs_reference": null,
      "execution_count": 50,
      "block_group": "edd2dedddb9941f186bf0291603e9dd7",
      "content_dependencies": null
    },
    {
      "cell_type": "code",
      "source": "def create_chord_data(output_df):\n    try:\n        # Getting unique combinations\n        df = output_df[[\"reportingorg_name\", \"ref\"]].drop_duplicates()\n        \n        # Creating connections matrix\n        result = df.merge(df, on='ref').groupby(['reportingorg_name_x', 'reportingorg_name_y']).count().reset_index()\n        result.columns = ['source', 'target', 'value']\n        \n        # Filtering self-connections and sorting\n        chord_df = result[result.source != result.target].reset_index(drop=True)\n        chord_df = chord_df.sort_values(by=\"value\", ascending=False)\n        \n        print(f\"Created chord diagram data with {len(chord_df)} connections\")\n        return chord_df\n        \n    except Exception as e:\n        print(f\"Error creating chord data: {e}\")\n        return None",
      "metadata": {
        "source_hash": "2e4ef410",
        "execution_start": 1731944998402,
        "execution_millis": 1,
        "execution_context_id": "e9c95a1b-b436-4488-973c-dce4a6801ce4",
        "deepnote_app_block_visible": true,
        "cell_id": "08ce7ccfb2d6481fbb057c14fc2e2034",
        "deepnote_cell_type": "code"
      },
      "outputs": [],
      "outputs_reference": null,
      "execution_count": 51,
      "block_group": "e447856422104c909358f97465c29326",
      "content_dependencies": null
    },
    {
      "cell_type": "code",
      "source": "chord_df = create_chord_data(output)\nchord_df",
      "metadata": {
        "source_hash": "79d57209",
        "execution_start": 1731944998451,
        "execution_millis": 0,
        "execution_context_id": "e9c95a1b-b436-4488-973c-dce4a6801ce4",
        "deepnote_app_block_visible": true,
        "cell_id": "ac259dfb8fcb4ab89572a4dad420237c",
        "deepnote_cell_type": "code"
      },
      "outputs": [],
      "outputs_reference": null,
      "execution_count": 52,
      "block_group": "7f8ff2eb31354b73b2bfbe6df2d076d3",
      "content_dependencies": null
    },
    {
      "cell_type": "markdown",
      "source": "## Networking Visualisation",
      "metadata": {
        "formattedRanges": [],
        "deepnote_app_block_visible": true,
        "cell_id": "0604cec544514dd18cb9f220ada68f20",
        "deepnote_cell_type": "text-cell-h2"
      },
      "block_group": "a51fcb3ebecb400baa0bd8964fa1c117"
    },
    {
      "cell_type": "markdown",
      "source": "Use Bokeh to create a chord diagram",
      "metadata": {
        "formattedRanges": [],
        "deepnote_app_block_visible": false,
        "cell_id": "0ff778cfe9784ae28f3735f2412e265d",
        "deepnote_cell_type": "text-cell-p"
      },
      "block_group": "0f3037d85ab745fa8b41ef85151a8fad"
    },
    {
      "cell_type": "code",
      "source": "import holoviews as hv\nimport numpy as np\nfrom holoviews import opts, dim\nfrom bokeh.plotting import figure, output_file, save, show\nfrom IPython.display import IFrame\nfrom IPython.core.display import display, HTML\nimport tempfile",
      "metadata": {
        "source_hash": "af2f20e",
        "execution_start": 1731944998494,
        "execution_millis": 1462,
        "execution_context_id": "f283c47f-2f62-4e5b-93f8-d21a41e3002e",
        "deepnote_app_block_visible": false,
        "deepnote_app_is_code_hidden": true,
        "deepnote_app_is_output_hidden": true,
        "cell_id": "d79c2e05753e4408b33e5dfc37d30e9f",
        "deepnote_cell_type": "code"
      },
      "outputs": [],
      "outputs_reference": null,
      "execution_count": 53,
      "block_group": "bc4f185cdb8249229b2e842e146e7dde",
      "content_dependencies": null
    },
    {
      "cell_type": "markdown",
      "source": "Workaround to use Bokeh in Deepnote",
      "metadata": {
        "formattedRanges": [],
        "deepnote_app_block_visible": false,
        "cell_id": "5cf3f69c32d742c8a6bb33e51138774b",
        "deepnote_cell_type": "text-cell-p"
      },
      "block_group": "44a441ae28c04c88992269b25cd9db54"
    },
    {
      "cell_type": "code",
      "source": "def bokeh_deepnote_show(plot):\n    tmp_output_filename = tempfile.NamedTemporaryFile(suffix='.html').name\n    output_file(tmp_output_filename)\n    save(plot)\n\n    f = open(tmp_output_filename, \"r\")\n    display(HTML(f.read()))",
      "metadata": {
        "source_hash": "521d2b1a",
        "execution_start": 1731945000006,
        "execution_millis": 1,
        "execution_context_id": "e9c95a1b-b436-4488-973c-dce4a6801ce4",
        "deepnote_app_block_visible": false,
        "deepnote_app_is_code_hidden": true,
        "deepnote_app_is_output_hidden": true,
        "cell_id": "083a81d40e1640f9999191b5717c5e11",
        "deepnote_cell_type": "code"
      },
      "outputs": [],
      "outputs_reference": null,
      "execution_count": 54,
      "block_group": "06b7ccb4df3943d2ba87ddb7740304c1",
      "content_dependencies": null
    },
    {
      "cell_type": "code",
      "source": "def bokeh_deepnote_show(plot):\n    try:\n        # Creating temporary file with HTML extension\n        tmp_file = tempfile.NamedTemporaryFile(suffix='.html', delete=False)\n        \n        # Saving plot to temporary file\n        output_file(tmp_file.name)\n        save(plot)\n        \n        # Reading and display the plot\n        with open(tmp_file.name, \"r\") as f:\n            display(HTML(f.read()))\n            \n        # Cleaning up\n        os.unlink(tmp_file.name)\n        \n    except Exception as e:\n        print(f\"Error displaying plot: {e}\")",
      "metadata": {
        "source_hash": "be78638f",
        "execution_start": 1731945000054,
        "execution_millis": 1,
        "execution_context_id": "e9c95a1b-b436-4488-973c-dce4a6801ce4",
        "deepnote_app_block_visible": true,
        "cell_id": "51e03659280a429db1a4633159a97713",
        "deepnote_cell_type": "code"
      },
      "outputs": [],
      "outputs_reference": null,
      "execution_count": 55,
      "block_group": "3afa330a8edf4a81a188757ec60f68fd",
      "content_dependencies": null
    },
    {
      "cell_type": "code",
      "source": "#set first variable to true for first run through\nfirst = True",
      "metadata": {
        "source_hash": "66e697e8",
        "execution_start": 1731945000098,
        "execution_millis": 1,
        "execution_context_id": "e9c95a1b-b436-4488-973c-dce4a6801ce4",
        "deepnote_app_block_visible": false,
        "deepnote_app_is_code_hidden": true,
        "deepnote_app_is_output_hidden": true,
        "cell_id": "d5eb3bf817d144fd8440a66488cc126d",
        "deepnote_cell_type": "code"
      },
      "outputs": [],
      "outputs_reference": null,
      "execution_count": 56,
      "block_group": "d2b911294d204b42b26c1cf9b42d37ac",
      "content_dependencies": null
    },
    {
      "cell_type": "code",
      "source": "#set first variable to true for first run through\nfirst = True\n\ndef initialize_visualization():\n    try:\n        global first\n        first = True\n        print(\"Visualization initialized. Use slider to adjust minimum shared references.\")\n        return True\n    except Exception as e:\n        print(f\"Error initializing: {e}\")\n        return False",
      "metadata": {
        "source_hash": "66d9c7cc",
        "execution_start": 1731945122571,
        "execution_millis": 0,
        "execution_context_id": "f283c47f-2f62-4e5b-93f8-d21a41e3002e",
        "deepnote_app_block_visible": true,
        "cell_id": "e438040168ab44d0b60b2c31be958895",
        "deepnote_cell_type": "code"
      },
      "outputs": [],
      "outputs_reference": null,
      "execution_count": 68,
      "block_group": "cac91e77aa174574be1e4721d70dbe60",
      "content_dependencies": null
    },
    {
      "cell_type": "code",
      "source": "initialize_visualization()",
      "metadata": {
        "source_hash": "db5fc497",
        "execution_start": 1731945129275,
        "execution_millis": 0,
        "execution_context_id": "f283c47f-2f62-4e5b-93f8-d21a41e3002e",
        "deepnote_app_block_visible": true,
        "cell_id": "5b02ff809df344809a9f4097200b8c6f",
        "deepnote_cell_type": "code"
      },
      "outputs": [],
      "outputs_reference": null,
      "execution_count": 69,
      "block_group": "fa22f17df8f84630b08448349707b8eb",
      "content_dependencies": null
    },
    {
      "cell_type": "markdown",
      "source": "Adjust the minimum number of shared participating organisation references by using the slider. Use the \"visualise\" button to refresh the diagram.",
      "metadata": {
        "formattedRanges": [
          {
            "type": "marks",
            "marks": {
              "bold": true
            },
            "toCodePoint": 114,
            "fromCodePoint": 102
          }
        ],
        "deepnote_app_block_visible": true,
        "cell_id": "625f206b317e4e77836dc801467feff3",
        "deepnote_cell_type": "text-cell-p"
      },
      "block_group": "4da03b6876954a4e950c9de57d68a633"
    },
    {
      "cell_type": "code",
      "source": "filter = 0",
      "metadata": {
        "source_hash": "7210a14b",
        "execution_start": 1731945000194,
        "execution_millis": 1,
        "deepnote_input_label": "Minimum Shared References",
        "deepnote_slider_step": 1,
        "execution_context_id": "e9c95a1b-b436-4488-973c-dce4a6801ce4",
        "deepnote_variable_name": "filter",
        "deepnote_variable_value": "0",
        "deepnote_slider_max_value": 50,
        "deepnote_slider_min_value": 0,
        "deepnote_app_block_visible": true,
        "cell_id": "20d8f0a4fcb24902824a9563cb1d4e6f",
        "deepnote_cell_type": "input-slider"
      },
      "outputs": [],
      "outputs_reference": null,
      "execution_count": 58,
      "block_group": "4da03b6876954a4e950c9de57d68a633"
    },
    {
      "cell_type": "markdown",
      "source": "chord = False",
      "metadata": {
        "source_hash": "c59e189f",
        "execution_start": 1731945000238,
        "execution_millis": 1,
        "execution_context_id": "e9c95a1b-b436-4488-973c-dce4a6801ce4",
        "deepnote_button_title": "Visualise",
        "deepnote_variable_name": "chord",
        "deepnote_button_behavior": "set_variable",
        "deepnote_app_block_visible": true,
        "deepnote_button_color_scheme": "blue",
        "cell_id": "3e555b9f6edd45ed913fd3d0e097190b",
        "deepnote_cell_type": "button"
      },
      "block_group": "4da03b6876954a4e950c9de57d68a633",
      "outputs": [],
      "outputs_reference": null,
      "execution_count": 59
    },
    {
      "cell_type": "code",
      "source": "if first or chord:\n    mask = np.logical_and(result.source<result.target, result.value>0)\n    bokeh_df = result[mask].reset_index(drop='True')\n    bokeh_df  = bokeh_df.sort_values(by=\"source\")\n    \nbokeh_df",
      "metadata": {
        "source_hash": "c735e1d3",
        "execution_start": 1731945000287,
        "execution_millis": 0,
        "execution_context_id": "e9c95a1b-b436-4488-973c-dce4a6801ce4",
        "deepnote_app_block_visible": false,
        "deepnote_app_is_code_hidden": true,
        "deepnote_app_is_output_hidden": true,
        "cell_id": "3e86006643084b1f8432c7d42ce7f23f",
        "deepnote_cell_type": "code"
      },
      "outputs": [],
      "outputs_reference": null,
      "execution_count": 60,
      "block_group": "8336071746794d49b6e17d8db08d561a",
      "content_dependencies": null
    },
    {
      "cell_type": "code",
      "source": "if first or chord:\n    hv.extension('bokeh')\n\n#filter out orgs with few in common\nfiltered_data = bokeh_df[bokeh_df['value'] >= filter]\n    \n#Create chord labels\norgs = list(set(filtered_data [\"source\"].unique().tolist() + filtered_data [\"target\"].unique().tolist()))\norgs_dataset = hv.Dataset(pd.DataFrame(orgs, columns=[\"Organisation\"]))\nchord = hv.Chord((filtered_data,orgs_dataset))\n\nchord.opts(cmap = 'Category20',  \n         edge_cmap = 'Category20',  \n         labels = 'Organisation',\n         node_color = hv.dim('Organisation').str(),\n         #edge_color = hv.dim('source').str(), \n          title = 'Shared Participating Organisation References',\n         width = 900,\n         height = 900)\n\nbokeh_deepnote_show(hv.render(chord))",
      "metadata": {
        "source_hash": "8448199",
        "execution_start": 1731945000339,
        "execution_millis": 610,
        "execution_context_id": "f283c47f-2f62-4e5b-93f8-d21a41e3002e",
        "deepnote_app_block_visible": true,
        "deepnote_app_is_code_hidden": true,
        "deepnote_app_is_output_hidden": false,
        "cell_id": "48989340b460460baacc13645af4b4a8",
        "deepnote_cell_type": "code"
      },
      "outputs": [],
      "outputs_reference": null,
      "execution_count": 61,
      "block_group": "9081c4a9216842698e17e0e5c2d25b90",
      "content_dependencies": null
    },
    {
      "cell_type": "markdown",
      "source": "# Output",
      "metadata": {
        "formattedRanges": [],
        "deepnote_app_block_visible": false,
        "cell_id": "5c77a8822fa64207b1cec74d4417e2c4",
        "deepnote_cell_type": "text-cell-h1"
      },
      "block_group": "7959daf1293b42f2adc7c5e7b9a19e86"
    },
    {
      "cell_type": "code",
      "source": "if first or chord:\n    !rm -rf chord_df.xlsx\nchord_df.to_excel(\"chord_df.xlsx\",sheet_name=\"chord_df\", index=False)\n\nchord_file_url = f\"https://deepnote.com/publish/{os.environ['DEEPNOTE_PROJECT_ID']}/file?path=chord_df.xlsx\"\nprint(chord_file_url)",
      "metadata": {
        "source_hash": "9dc24fd5",
        "execution_start": 1731945001123,
        "execution_millis": 385,
        "execution_context_id": "f283c47f-2f62-4e5b-93f8-d21a41e3002e",
        "deepnote_app_block_visible": false,
        "deepnote_app_is_code_hidden": true,
        "deepnote_app_is_output_hidden": true,
        "cell_id": "53f92dabeec94f6ab8e0232804aca998",
        "deepnote_cell_type": "code"
      },
      "outputs": [],
      "outputs_reference": null,
      "execution_count": 62,
      "block_group": "cf6f5902157543448aa745cb92505314",
      "content_dependencies": null
    },
    {
      "cell_type": "markdown",
      "source": "<hr>",
      "metadata": {
        "deepnote_app_block_visible": true,
        "cell_id": "59af3b93884b45a59a1aca48de60b8f2",
        "deepnote_cell_type": "separator"
      },
      "block_group": "243f711d1d374410bc70c377852b00c0"
    },
    {
      "cell_type": "markdown",
      "source": "# Further visualisation",
      "metadata": {
        "formattedRanges": [],
        "deepnote_app_block_visible": true,
        "cell_id": "ce6d1550a93144d19d4385b15e0b2802",
        "deepnote_cell_type": "text-cell-h1"
      },
      "block_group": "56000165eb2248e9b7771f22b33ce955"
    },
    {
      "cell_type": "markdown",
      "source": "To create and edit your own diagram, you may wish to use the data visualisation tool \"Flourish\". ",
      "metadata": {
        "formattedRanges": [
          {
            "url": "https://flourish.studio/",
            "type": "link",
            "ranges": [],
            "toCodePoint": 94,
            "fromCodePoint": 86
          }
        ],
        "deepnote_app_block_visible": true,
        "cell_id": "70c42c39365c4cd3b21643bc0b65af93",
        "deepnote_cell_type": "text-cell-p"
      },
      "block_group": "819522b63e0048acb7989618c4567f55"
    },
    {
      "cell_type": "markdown",
      "source": "You can download the chord data produced by this application here: Download.",
      "metadata": {
        "formattedRanges": [
          {
            "url": "https://deepnote.com/publish/240fcfd1-8557-41e6-8271-b13ecef554c3/file?path=chord_df.xlsx",
            "type": "link",
            "ranges": [],
            "toCodePoint": 75,
            "fromCodePoint": 67
          }
        ],
        "deepnote_app_block_visible": true,
        "cell_id": "ea943754069f40829716b09ef5b75573",
        "deepnote_cell_type": "text-cell-p"
      },
      "block_group": "3cb2bef00c7b43b29c76ee418458bb62"
    },
    {
      "cell_type": "markdown",
      "source": "Example flourish chord diagram:",
      "metadata": {
        "formattedRanges": [
          {
            "type": "marks",
            "marks": {
              "bold": true
            },
            "toCodePoint": 31,
            "fromCodePoint": 0
          }
        ],
        "deepnote_app_block_visible": true,
        "cell_id": "564aad89ebc8473b9295f7eb2932e0b9",
        "deepnote_cell_type": "text-cell-p"
      },
      "block_group": "16206ab3d2d24b5cbd3f5c81c433883d"
    },
    {
      "cell_type": "code",
      "source": "from IPython.core.display import HTML\nHTML('<div class=\"flourish-embed flourish-chord\" data-src=\"visualisation/17570004\" data-width=\"29%\"><script src=\"https://public.flourish.studio/resources/embed.js\"></script></div>')",
      "metadata": {
        "source_hash": "86cfbf11",
        "execution_start": 1731945001559,
        "execution_millis": 0,
        "execution_context_id": "e9c95a1b-b436-4488-973c-dce4a6801ce4",
        "deepnote_app_block_visible": true,
        "deepnote_app_is_code_hidden": true,
        "deepnote_app_is_output_hidden": false,
        "cell_id": "9bd57f46ca8f49e3a3518a6e08ecd664",
        "deepnote_cell_type": "code"
      },
      "outputs": [],
      "outputs_reference": null,
      "execution_count": 63,
      "block_group": "a8c89feb0e9d4bb8a9a79459dc902103",
      "content_dependencies": null
    },
    {
      "cell_type": "markdown",
      "source": "<hr>",
      "metadata": {
        "deepnote_app_block_visible": true,
        "cell_id": "e036e1c1fb684e7d9ad935001c70adf5",
        "deepnote_cell_type": "separator"
      },
      "block_group": "7e3af52d56ad49e08ad466c9a389706a"
    },
    {
      "cell_type": "markdown",
      "source": "## How is the data cleaned?",
      "metadata": {
        "formattedRanges": [],
        "deepnote_app_block_visible": true,
        "cell_id": "0ffd85d7a7dd4316800605c6350d9383",
        "deepnote_cell_type": "text-cell-h2"
      },
      "block_group": "bd4a167a0c234143aeefce0a09f462fd"
    },
    {
      "cell_type": "markdown",
      "source": "Organisation identifiers with known issues are removed - these include redacted or blank narratives, and internal or generic references, as they cannot be used for the networking of IATI data. This is not an exhaustive list and is subject to change.  ",
      "metadata": {
        "formattedRanges": [],
        "deepnote_app_block_visible": true,
        "cell_id": "e44097dc62d44c689af2172ec458d4cc",
        "deepnote_cell_type": "text-cell-p"
      },
      "block_group": "c5b5182986ff43dfbd62aed2aeba5a39"
    },
    {
      "cell_type": "markdown",
      "source": "Blank/internal/generic references",
      "metadata": {
        "formattedRanges": [
          {
            "type": "marks",
            "marks": {
              "bold": true
            },
            "toCodePoint": 33,
            "fromCodePoint": 0
          }
        ],
        "deepnote_app_block_visible": true,
        "cell_id": "1431f663a5d84b2092b20a9d7438bdf1",
        "deepnote_cell_type": "text-cell-p"
      },
      "block_group": "0b7367c9d0a3482cab47256c6b14eb8d"
    },
    {
      "cell_type": "markdown",
      "source": " Blank/redacted narratives",
      "metadata": {
        "formattedRanges": [
          {
            "type": "marks",
            "marks": {
              "bold": true
            },
            "toCodePoint": 26,
            "fromCodePoint": 0
          }
        ],
        "deepnote_app_block_visible": true,
        "cell_id": "44e81433c44744d2a53c2207f162ced7",
        "deepnote_cell_type": "text-cell-p"
      },
      "block_group": "0b7367c9d0a3482cab47256c6b14eb8d"
    },
    {
      "cell_type": "markdown",
      "source": "| **Organisation** | **Redaction message/Issue**     |\n|---------|---------------------------------|\n| iom     | Confidential                    |\n| sida | Övriga/Övrigt ... (Other) |\n| unicef  | EN: IP not published            |\n| unhcr   | Private donors in...             |\n|usaid | USAID redacted this field in accordance with the exceptions outlined in the Foreign Aid Transparency and Accountability Act of 2016.|",
      "metadata": {
        "deepnote_app_block_visible": true,
        "cell_id": "6da40862be19400184ec903301d67eca",
        "deepnote_cell_type": "markdown"
      },
      "block_group": "5a0f98187df64f07aba4c88e01a1e38b"
    },
    {
      "cell_type": "markdown",
      "source": "| **Organisation** | **Redaction message/Issue**     |\n|------------------|---------------------------------|\n| unicef            | Internal ID eg XM-DAC-41122-VN-242363 |\n| Multiple orgs | Generic XM-DAC- codes used |",
      "metadata": {
        "deepnote_app_block_visible": true,
        "cell_id": "2b1ff549ae2f4f848595865ac68e81ca",
        "deepnote_cell_type": "markdown"
      },
      "block_group": "5a0f98187df64f07aba4c88e01a1e38b"
    },
    {
      "cell_type": "markdown",
      "source": "TO DO - compare DAC codes to https://github.com/pwyf/aid-transparency-tracker/blob/main/beta/excluded_xm_dac.py",
      "metadata": {
        "formattedRanges": [
          {
            "type": "marks",
            "marks": {
              "bold": true
            },
            "toCodePoint": 5,
            "fromCodePoint": 0
          },
          {
            "url": "https://github.com/pwyf/aid-transparency-tracker/blob/main/beta/excluded_xm_dac.py",
            "type": "link",
            "ranges": [],
            "toCodePoint": 111,
            "fromCodePoint": 29
          }
        ],
        "deepnote_app_block_visible": false,
        "cell_id": "085b0de6938e4d869b909e6439e20b7b",
        "deepnote_cell_type": "text-cell-p"
      },
      "block_group": "9f92b7c9d9734e458b5540e9d3a43a40"
    },
    {
      "cell_type": "markdown",
      "source": "Participating organisation identifiers must have a valid format of {RegistrationAgency}-{RegistrationNumber}, or match a known organisation-identifier as recorded in the registry.",
      "metadata": {
        "formattedRanges": [
          {
            "type": "marks",
            "marks": {
              "bold": true
            },
            "toCodePoint": 108,
            "fromCodePoint": 66
          }
        ],
        "deepnote_app_block_visible": true,
        "cell_id": "fe96f0681b1742848e93aea71fda210d",
        "deepnote_cell_type": "text-cell-p"
      },
      "block_group": "86ad658f3baf4fb98fb1d80fff4d58da"
    },
    {
      "cell_type": "markdown",
      "source": "You can download the cleaned data here: Download",
      "metadata": {
        "formattedRanges": [
          {
            "url": "https://deepnote.com/publish/240fcfd1-8557-41e6-8271-b13ecef554c3/file?path=output.xlsx",
            "type": "link",
            "ranges": [],
            "toCodePoint": 48,
            "fromCodePoint": 40
          }
        ],
        "deepnote_app_block_visible": true,
        "cell_id": "cdc235ddde83410faa0f0f451f51b9ba",
        "deepnote_cell_type": "text-cell-p"
      },
      "block_group": "370f2722d68d4e7ca88859384bb6b470"
    },
    {
      "cell_type": "markdown",
      "source": "<hr>",
      "metadata": {
        "deepnote_app_block_visible": true,
        "cell_id": "a8261d813b1b4b9f9eec4d695f1f4cfe",
        "deepnote_cell_type": "separator"
      },
      "block_group": "7f84b205c8cc4c5f8d565018eb21f687"
    },
    {
      "cell_type": "markdown",
      "source": "## Data Snapshots",
      "metadata": {
        "formattedRanges": [],
        "deepnote_app_block_visible": true,
        "cell_id": "9e6572d8b3a8434bb72de8212747816c",
        "deepnote_cell_type": "text-cell-h2"
      },
      "block_group": "9184dd5e93874db2bdc1a15cb55feb86"
    },
    {
      "cell_type": "markdown",
      "source": "Number of reporting organisations referencing each participating organisation identifier :",
      "metadata": {
        "formattedRanges": [
          {
            "type": "marks",
            "marks": {
              "bold": true
            },
            "toCodePoint": 90,
            "fromCodePoint": 0
          }
        ],
        "deepnote_app_block_visible": true,
        "cell_id": "b08234b3fd7943e1b55d4148fe44a283",
        "deepnote_cell_type": "text-cell-p"
      },
      "block_group": "5698b30549f741458f5b43344337f8fb"
    },
    {
      "cell_type": "code",
      "source": "%%nql SHOW CREATE ref_count ref_count=DF\n\nSELECT \n    ref as \"Participating Organisation Identifier\",\n    COUNT(DISTINCT(reportingorg_ref)) as \"Count\" \nFROM filtered_orgs \nGROUP BY ref\nORDER BY \"Count\" DESC",
      "metadata": {
        "source_hash": "3e54afdf",
        "execution_start": 1731945001623,
        "execution_millis": 44,
        "execution_context_id": "e9c95a1b-b436-4488-973c-dce4a6801ce4",
        "deepnote_app_block_visible": true,
        "deepnote_app_is_code_hidden": true,
        "cell_id": "00d3d9badf784836a37ca89fe993481e",
        "deepnote_cell_type": "code"
      },
      "outputs": [],
      "outputs_reference": null,
      "execution_count": 64,
      "block_group": "68c2f96e1bde4126ab590fddea0e99df",
      "content_dependencies": null
    },
    {
      "cell_type": "markdown",
      "source": "Most commonly referenced participating organisation identifiers - Top 25",
      "metadata": {
        "formattedRanges": [
          {
            "type": "marks",
            "marks": {
              "bold": true
            },
            "toCodePoint": 72,
            "fromCodePoint": 0
          }
        ],
        "deepnote_app_block_visible": true,
        "cell_id": "380042ba5fbb4527bbb3b98ebc41b445",
        "deepnote_cell_type": "text-cell-p"
      },
      "block_group": "1c07710365564742b7d7311a68205f0f"
    },
    {
      "cell_type": "code",
      "source": "plt.barh(\"Participating Organisation Identifier\", \"Count\", data = ref_count.loc[0:24])\nplt.xlabel('Count of reporting organisations')\nplt.ylabel('Participating Organistion Reference')\nplt.show()",
      "metadata": {
        "source_hash": "e0f4dc0a",
        "execution_start": 1731945001719,
        "execution_millis": 265,
        "execution_context_id": "f283c47f-2f62-4e5b-93f8-d21a41e3002e",
        "deepnote_app_block_visible": true,
        "deepnote_app_is_code_hidden": true,
        "cell_id": "d90d5267cb7346b79b998894bf3f618b",
        "deepnote_cell_type": "code"
      },
      "outputs": [],
      "outputs_reference": null,
      "execution_count": 65,
      "block_group": "3060238e5213462980d5c03f1522b853",
      "content_dependencies": null
    },
    {
      "cell_type": "markdown",
      "source": "Count of unique valid participating organisation identifiers referenced by each reporting organisation:",
      "metadata": {
        "formattedRanges": [
          {
            "type": "marks",
            "marks": {
              "bold": true
            },
            "toCodePoint": 103,
            "fromCodePoint": 0
          }
        ],
        "deepnote_app_block_visible": true,
        "cell_id": "ce925bfa9d2a4f3ba8675d92d1548d7f",
        "deepnote_cell_type": "text-cell-p"
      },
      "block_group": "440571b9409f4807ab37024ad3d25513"
    },
    {
      "cell_type": "code",
      "source": "%%nql SHOW CREATE reporg_count reporg_count=DF\n\nSELECT\n    reportingorg_name as \"Reporting Organisation\",\n    COUNT(DISTINCT(ref)) as \"Count of Participating Organisation Identifiers\"\nFROM filtered_orgs \nGROUP BY reportingorg_name\nORDER BY \"Count of Participating Organisation Identifiers\" DESC",
      "metadata": {
        "source_hash": "fa6eee9f",
        "execution_start": 1731945002043,
        "execution_millis": 11,
        "execution_context_id": "e9c95a1b-b436-4488-973c-dce4a6801ce4",
        "deepnote_app_block_visible": true,
        "deepnote_app_is_code_hidden": true,
        "cell_id": "4b767cc3e1a240d785f7979850307212",
        "deepnote_cell_type": "code"
      },
      "outputs": [],
      "outputs_reference": null,
      "execution_count": 66,
      "block_group": "231e447fde0a4e148562422da5f704d8",
      "content_dependencies": null
    },
    {
      "cell_type": "markdown",
      "source": "Reporting organisations with most valid participating organisation identifiers - Top 25",
      "metadata": {
        "formattedRanges": [
          {
            "type": "marks",
            "marks": {
              "bold": true
            },
            "toCodePoint": 87,
            "fromCodePoint": 0
          }
        ],
        "deepnote_app_block_visible": true,
        "cell_id": "b4565be917aa48b3a28513222e193a64",
        "deepnote_cell_type": "text-cell-p"
      },
      "block_group": "2fb67da2a61548409c7e5070dbeb9a41"
    },
    {
      "cell_type": "code",
      "source": "plt.barh('Reporting Organisation', 'Count of Participating Organisation Identifiers', \n            data = reporg_count.loc[0:24])\nplt.xlabel('Count of Participating Organisation References')\nplt.ylabel('Reporting Organistion')\nplt.show()",
      "metadata": {
        "source_hash": "81150aba",
        "execution_start": 1731945002103,
        "execution_millis": 244,
        "execution_context_id": "f283c47f-2f62-4e5b-93f8-d21a41e3002e",
        "deepnote_app_block_visible": true,
        "deepnote_app_is_code_hidden": true,
        "cell_id": "7ca55603082b4438b91c85537aea1021",
        "deepnote_cell_type": "code"
      },
      "outputs": [],
      "outputs_reference": null,
      "execution_count": 67,
      "block_group": "0155f0d533d84e5ebf82f812b86dd275",
      "content_dependencies": null
    },
    {
      "cell_type": "markdown",
      "source": "<hr>",
      "metadata": {
        "deepnote_app_block_visible": true,
        "cell_id": "b791f564f67444ce99eb1c9c8b12ac37",
        "deepnote_cell_type": "separator"
      },
      "block_group": "1ac3c75c7fc4487fb7e34feb387d9f60"
    },
    {
      "cell_type": "markdown",
      "source": "### Footnote",
      "metadata": {
        "formattedRanges": [],
        "deepnote_app_block_visible": true,
        "cell_id": "b1a62ceaa01344528d6bd894c3009c65",
        "deepnote_cell_type": "text-cell-h3"
      },
      "block_group": "86c339c4dcde4fa88d9c4a106c17fb3d"
    },
    {
      "cell_type": "markdown",
      "source": "The code behind this application is hidden to improve usability. You are welcome to view this code at: Notebook.",
      "metadata": {
        "formattedRanges": [
          {
            "url": "https://deepnote.com/workspace/Open-Data-Services-Cooperative-46a54078-1c9e-4c25-b08c-69c3957de83a/project/Org-ID-networking-240fcfd1-8557-41e6-8271-b13ecef554c3/notebook/1.%20Org-ID%20Networking-e87d041ca45a4b1e9103bd497dcaea5d",
            "type": "link",
            "ranges": [],
            "toCodePoint": 112,
            "fromCodePoint": 103
          }
        ],
        "deepnote_app_block_visible": true,
        "cell_id": "049a045dc6e7428e8b9c75809d2a0c6f",
        "deepnote_cell_type": "text-cell-p"
      },
      "block_group": "f285875532b442688205999fad9054dc"
    },
    {
      "cell_type": "markdown",
      "source": "<a style='text-decoration:none;line-height:16px;display:flex;color:#5B5B62;padding:10px;justify-content:end;' href='https://deepnote.com?utm_source=created-in-deepnote-cell&projectId=240fcfd1-8557-41e6-8271-b13ecef554c3' target=\"_blank\">\n<img alt='Created in deepnote.com' style='display:inline;max-height:16px;margin:0px;margin-right:7.5px;' src='data:image/svg+xml;base64,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' > </img>\nCreated in <span style='font-weight:600;margin-left:4px;'>Deepnote</span></a>",
      "metadata": {
        "created_in_deepnote_cell": true,
        "deepnote_cell_type": "markdown"
      }
    }
  ],
  "nbformat": 4,
  "nbformat_minor": 0,
  "metadata": {
    "deepnote_app_clear_outputs": false,
    "deepnote_app_layout": "powerful-article",
    "deepnote_app_hide_all_code_blocks_enabled": false,
    "deepnote_app_width": "full-width",
    "deepnote_app_run_on_input_enabled": false,
    "deepnote_app_reactivity_enabled": false,
    "deepnote_notebook_id": "e87d041ca45a4b1e9103bd497dcaea5d"
  }
}